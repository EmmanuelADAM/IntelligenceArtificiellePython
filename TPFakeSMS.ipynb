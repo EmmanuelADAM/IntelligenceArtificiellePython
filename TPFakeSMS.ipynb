{
 "cells": [
  {
   "cell_type": "markdown",
   "metadata": {
    "colab_type": "text",
    "id": "fVNE4BGIsOlY"
   },
   "source": [
    "# Classement automatique de sms par réseau de neurones\n",
    "\n",
    "L’objectif de ce TP est de développer un modèle de prédiction de spam sms à partir d’un apprentissage automatique par réseau de neurones et d'une représentation en sac de mots (bag of words)."
   ]
  },
  {
   "cell_type": "markdown",
   "metadata": {},
   "source": [
    "<a href=\"https://colab.research.google.com/github/EmmanuelADAM/IntelligenceArtificiellePython/blob/master/TPFakeSMS.ipynb\" target=\"_parent\"><img src=\"https://colab.research.google.com/assets/colab-badge.svg\" alt=\"Pour ouvrir sous Open In Colab\"/></a>"
   ]
  },
  {
   "cell_type": "markdown",
   "metadata": {
    "colab_type": "text",
    "id": "QQ5vas82illV"
   },
   "source": [
    "## Ensemble de données \n",
    "Le TP utilisera un ensemble de données issues du site de dépôt de *dataset* [Kaggle](https://www.kaggle.com/datasets).\n",
    "\n",
    "Plus précisément, vous utiliserez le *dataset* [\"SMS SPAM Detection Dataset\"](https://www.kaggle.com/datasets/sanutribedi/sms-spam-detection-dataset/download?datasetVersionNumber=1).\n",
    "\n",
    "Ce *dataset* contient des exemples de sms classées en tant que désirés (0)  et spams (1).\n"
   ]
  },
  {
   "cell_type": "markdown",
   "metadata": {
    "colab_type": "text",
    "id": "AWFXrAtkvcg_"
   },
   "source": [
    "---\n",
    "Si vous utilisez Colab, vous devrez charger vos fichiers de données dans votre 'Drive' Google.\n",
    "\n",
    "Pour pouvoir les utiliser, il vous faut monter le répertoire 'drive' pour qu'il soit accessible par Colab.\n",
    "Exécutez le code suivant,  une clé vous sera demandée. Il vous suffit de suivre le lien, de sélectionner votre profile pour obtenir votre clé que vous copierez dans le champs prévu."
   ]
  },
  {
   "cell_type": "code",
   "execution_count": null,
   "metadata": {
    "colab": {
     "base_uri": "https://localhost:8080/",
     "height": 74
    },
    "colab_type": "code",
    "id": "4TodTL602bBv",
    "outputId": "cbc50963-1484-4189-b87b-b0d7d60af79c"
   },
   "outputs": [],
   "source": [
    "#bloc à exécuter si vous utilisez colab\n",
    "from google.colab import drive, files\n",
    "\n",
    "drive.mount('/content/drive')"
   ]
  },
  {
   "cell_type": "markdown",
   "metadata": {
    "colab_type": "text",
    "id": "3IlL2ANmisdv"
   },
   "source": [
    "---\n",
    "## Préparation des données\n"
   ]
  },
  {
   "cell_type": "markdown",
   "metadata": {},
   "source": [
    "### Creations des fichiers de données\n",
    "\n",
    "Les données utilisés des exemples d'entraînements sont les colonnes 'text' et 'target'.\n",
    "Le but est de créer et d'entraîner un réseau à faire correspondre un texte anglais à une classe 'normal (0)' ou 'spam (1)'.\n",
    "\n",
    "Il s'agit de créer, à partir du fichier , deux ensembles : l'un contenant les texte liés aux sms 'désirés' et l'autre lié aux sms 'spam'.\n",
    "\n",
    "Il existe plusieurs manière de faire : en passant par la librairie Panda, très performante; ou manuellement.\n",
    "\n",
    "Si vous ne connaissez pas la suite Panda, procédez manuellement : à partir du fichier contenant les tables, triez les lignes par ordre de 'target'; puis créez 2 fichiers textes à partir de la colonne 'text'. \n",
    "L'un contenant les sms classées désirés (`goodsms.txt` par exemple) et l'autre les sms classés smap (`spamsms.txt` par exemple).\n",
    "\n"
   ]
  },
  {
   "cell_type": "markdown",
   "metadata": {},
   "source": [
    "### Réduction des exemples\n",
    "Le nombre de mots utilisés le vocabulaire, étant assez vaste; on le réduit dans un premier temps"
   ]
  },
  {
   "cell_type": "markdown",
   "metadata": {
    "colab_type": "text",
    "id": "oiHdx0y1i8Bi"
   },
   "source": [
    "### Création du vocabulaire utile\n",
    "\n",
    "En chargeant l'ensemble des lignes contenues dans les fichers texte, on crée un vocabulaire des mots utiles en :   \n",
    "  - identifiant les termes (**tokens**) entre espaces,\n",
    "  - supprimant toute ponctuation,\n",
    "  - supprimant tous les mots qui ne sont pas uniquement composés de caractères alphabétiques,\n",
    "  - supprimant tous les mots reconnus en tant que mots vides (stop words) (mots de liaison) français & anglais\n",
    "  - supprimant tous les mots dont la longueur est <= 2 caractères (par exemple)"
   ]
  },
  {
   "cell_type": "markdown",
   "metadata": {},
   "source": [
    "### Chargement et nettoyage des données\n",
    "\n",
    "Il convient pour chaque fichier texte de créer le  \n",
    "  - identifier les termes (**tokens**) entre espaces,\n",
    "  - supprimer toute ponctuation,\n",
    "  - supprimer tous les mots qui ne sont pas uniquement composés de caractères alphabétiques,\n",
    "  - supprimer tous les mots reconnus en tant que mots vides (stop words) (mots de liaison) français & anglais\n",
    "  - supprimer tous les mots dont la longueur est <= 2 caractères (sauf IA, AI)\n",
    "\n"
   ]
  },
  {
   "cell_type": "markdown",
   "metadata": {
    "colab_type": "text",
    "id": "SLWxuYAjxPlo"
   },
   "source": [
    "### Les bibliothèques\n",
    "La préparation des données implique de pouvoir accéder au système de fichier, ainsi qu'à la bibliothèque nltk et aux bibliothèques spécialisées dans le traitement de texte.. : "
   ]
  },
  {
   "cell_type": "code",
   "execution_count": null,
   "metadata": {
    "colab": {},
    "colab_type": "code",
    "id": "tSqBXmHvxnhF"
   },
   "outputs": [],
   "source": [
    "##import pour les fichiers et le traitement de données : \n",
    "from os import listdir\n",
    "import nltk\n",
    "from nltk.corpus import stopwords\n",
    "from string import punctuation\n",
    "from collections import Counter\n",
    "##import pour les réseaux de neurones : \n",
    "import tensorflow.keras as keras\n",
    "from tensorflow.keras.models import Sequential\n",
    "from tensorflow.keras.layers import Dense\n",
    "from tensorflow.keras import preprocessing\n",
    "from numpy import array, zeros\n"
   ]
  },
  {
   "cell_type": "code",
   "execution_count": 2,
   "metadata": {},
   "outputs": [],
   "source": [
    "stop_words = set(stopwords.words('french'))"
   ]
  },
  {
   "cell_type": "code",
   "execution_count": null,
   "metadata": {
    "colab": {
     "base_uri": "https://localhost:8080/",
     "height": 68
    },
    "colab_type": "code",
    "id": "n6qZZ-VJw8Wy",
    "outputId": "1c8e7c95-f0ba-4f69-9914-c034c7f534cc"
   },
   "outputs": [],
   "source": [
    "#rep = '/Users/...../' ## ICI VOTRE REPERTOIRE DE TRAVAIL LOCAL \n",
    "rep = '/content/drive/My Drive/Colab Notebooks/'  ICI SUR LE DRIVE\n",
    "\n",
    "# le code suivant charge l'ensemble des mots non importants \n",
    "nltk.download(\"stopwords\")\n"
   ]
  },
  {
   "cell_type": "markdown",
   "metadata": {},
   "source": [
    "### Fonctions de lectures et d'\"épurage\" de fichier texte"
   ]
  },
  {
   "cell_type": "code",
   "execution_count": 8,
   "metadata": {
    "colab": {},
    "colab_type": "code",
    "id": "by0--ITCi-xa"
   },
   "outputs": [],
   "source": [
    "def load_doc(filename:str)->list:\n",
    "    \"\"\"retourne les lignes de texte du fichier filename\"\"\"\n",
    "    # open the file as read only\n",
    "    with open(filename) as file:\n",
    "        text = file.read().splitlines() \n",
    "    return text\n",
    "\n",
    " \n",
    "def clean_doc(doc)->list:\n",
    "    \"\"\"retourne la liste de mots clés inclus dans le texte doc \n",
    "    qui ne font pas parti des stop_words anglais et francais\n",
    "    retire d autres mots cles comme 'vers', 'lors' , ..\"\"\"\n",
    "    tokens = doc.lower()\n",
    "    tokens = tokens.split()\n",
    "    # retrait des signes de ponctuation\n",
    "    table = str.maketrans('', '', punctuation)\n",
    "    tokens = [w.translate(table) for w in tokens]\n",
    "    # retrait des termes qui ne contiennent pas que des lettres\n",
    "    tokens = [word for word in tokens if word.isalpha()]\n",
    "    # retrait des mots de liaisons et juges non signifiants (appeles stopwords)\n",
    "    stop_words = set(stopwords.words('english'))\n",
    "    tokens = [w for w in tokens if not w in stop_words]\n",
    "    # retrait des mots de moins de deux caractères\n",
    "    tokens = [word for word in tokens if len(word) > 1]\n",
    "    # TODO:COMPLETEZ A VOTRE CONVENANCE LA SELECTION DE TOKENS UTILES OU LEURS MODIFICATIONS\n",
    "    return tokens\n"
   ]
  },
  {
   "cell_type": "markdown",
   "metadata": {
    "colab_type": "text",
    "id": "UgALvdrLKOD3"
   },
   "source": [
    "### Tests de la récupération de mots clés d'un fichier"
   ]
  },
  {
   "cell_type": "code",
   "execution_count": 9,
   "metadata": {
    "colab": {
     "base_uri": "https://localhost:8080/",
     "height": 125
    },
    "colab_type": "code",
    "id": "0CpapoCR0Hzs",
    "outputId": "23a01def-2b8c-4fef-e689-1289a90d2d61"
   },
   "outputs": [],
   "source": [
    "def test_recup():\n",
    "    # mots clés du fichier des bons sms\n",
    "    filename = rep + 'goodsms.txt'\n",
    "    lines = load_doc(filename)\n",
    "    text = ' '.join(lines)\n",
    "    tokens = clean_doc(text)\n",
    "    print('les 10 premiers mots cles de ', filename)\n",
    "    print(tokens[:10])\n",
    "    # mots clés du fichier des sms spams\n",
    "    filename = rep + 'spamsms.txt'\n",
    "    lines = load_doc(filename)\n",
    "    text = ' '.join(lines)\n",
    "    tokens = clean_doc(text)\n",
    "    print('les 10 premiers mots cles de ', filename)\n",
    "    print(tokens[:10])    "
   ]
  },
  {
   "cell_type": "code",
   "execution_count": 10,
   "metadata": {},
   "outputs": [
    {
     "name": "stdout",
     "output_type": "stream",
     "text": [
      "les 10 premiers mots cles de  /Users/emmanueladam/Documents/GitHub/IntelligenceArtificiellePython/goodsms.txt\n",
      "['go', 'jurong', 'point', 'crazy', 'available', 'bugis', 'great', 'world', 'la', 'buffet']\n",
      "les 10 premiers mots cles de  /Users/emmanueladam/Documents/GitHub/IntelligenceArtificiellePython/spamsms.txt\n",
      "['free', 'entry', 'wkly', 'comp', 'win', 'fa', 'cup', 'final', 'tkts', 'may']\n"
     ]
    }
   ],
   "source": [
    "test_recup()"
   ]
  },
  {
   "cell_type": "markdown",
   "metadata": {
    "colab_type": "text",
    "id": "1yo75YEIjWIT"
   },
   "source": [
    "### Construire le vocabulaire global"
   ]
  },
  {
   "cell_type": "code",
   "execution_count": 17,
   "metadata": {
    "colab": {},
    "colab_type": "code",
    "id": "Axlsvtg8jhAr"
   },
   "outputs": [],
   "source": [
    "def add_doc_to_vocab(filename, vocab):\n",
    "    \"\"\"cumule dans la liste vocab les mots du fichier filename \n",
    "    (1 seule occurence par mot dans vocab)\"\"\"\n",
    "    # load doc\n",
    "    lines = load_doc(filename)\n",
    "    doc = ' '.join(lines)\n",
    "    # clean doc\n",
    "    tokens = clean_doc(doc)\n",
    "    # update counts\n",
    "    vocab.update(tokens)\n",
    "\n",
    "def create_global_vocabulary():\n",
    "    \"\"\"creer un vocabulaire (liste de mots clés associés à leurs occurences)\n",
    "    par la suite, un mot d'un texte ne faisant pas partie du vocabulaire ne sera\n",
    "    pas compte\"\"\"\n",
    "    vocab = Counter()\n",
    "    # ajouter les mots cles des fichiers\n",
    "    add_doc_to_vocab(rep+'/reellesnews.txt', vocab)\n",
    "    add_doc_to_vocab(rep+'/fakenews.txt', vocab)\n",
    "\n",
    "    # afficher le nb de mots cles trouves\n",
    "    print(\"nb de mots cles trouves dans les repertoires : \", len(vocab))\n",
    "    print(\"les 10 premiers mots cles du vocabulaire \\\n",
    "    (et leur nb d\\'apparition dans les exemples)  : \\n\", end='')\n",
    "    i=0\n",
    "    for (mot,count) in vocab.items(): \n",
    "        print(mot,':',count,end=\", \")\n",
    "        i = i+1\n",
    "        if i>10:break\n",
    "    # afficher les 10 mots cles les plus utilises\n",
    "    print(\"\\nles 10 mots cles les plus utilises : \", vocab.most_common(10))\n",
    "\n",
    "    # ne garder que les mots clés apparaissant au moins 4 fois\n",
    "    min_occurrence = 4\n",
    "    tokens = [token for (token,count) in vocab.items() if count >= min_occurrence]\n",
    "    print('en otant les mots utilise moins de ', min_occurrence, ' fois,', \n",
    "          ' nb de mots cles = ',len(tokens))\n",
    "    return tokens"
   ]
  },
  {
   "cell_type": "code",
   "execution_count": 18,
   "metadata": {},
   "outputs": [],
   "source": [
    "## Sauvegarde du vocabulaire\n",
    "def save_list(lines, filename):\n",
    "    \"\"\"sauve les mots de la liste lines dans le fichier filename\"\"\"\n",
    "    # open file\n",
    "    file = open(filename, 'w')\n",
    "    data = '\\n'.join(lines)\n",
    "    # write text\n",
    "    file.writelines(data)\n",
    "    # close file\n",
    "    file.close()"
   ]
  },
  {
   "cell_type": "code",
   "execution_count": 19,
   "metadata": {
    "colab": {},
    "colab_type": "code",
    "id": "EDFdsl97jq0t"
   },
   "outputs": [
    {
     "name": "stdout",
     "output_type": "stream",
     "text": [
      "nb de mots cles trouves dans les repertoires :  190268\n",
      "les 10 premiers mots cles du vocabulaire     (et leur nb d'apparition dans les exemples)  : \n",
      "russia : 11992, revels : 6, trump : 113072, victory : 2357, looks : 1552, sanctions : 4681, relief : 942, moscow : 2968, reuters : 25689, mutual : 337, praise : 491, \n",
      "les 10 mots cles les plus utilises :  [('said', 115928), ('trump', 113072), ('us', 60558), ('would', 49269), ('president', 46418), ('people', 36471), ('one', 31733), ('new', 28988), ('state', 28540), ('news', 27958)]\n",
      "en otant les mots utilise moins de  4  fois,  nb de mots cles =  55223\n"
     ]
    }
   ],
   "source": [
    "## A la 1ere utilisation, et a chaque modification des fichiers de données\n",
    "tokens = create_global_vocabulary()\n",
    "save_list(tokens, 'vocabSMS.txt')"
   ]
  },
  {
   "cell_type": "markdown",
   "metadata": {},
   "source": [
    "### Réduction des entrées\n",
    "Chaque entrée texte peut être maintenant simplifiée.\n",
    "Ce n'est pas nécessaire car l'outil de NLP le fera, par la suite.\n",
    "\n",
    "Pour épurer : pour chaque entrée, on extrait les tokens qui ne sont pas présents dans le vocabulaire utile."
   ]
  },
  {
   "cell_type": "code",
   "execution_count": 20,
   "metadata": {},
   "outputs": [],
   "source": [
    "def filter_line(line, vocab)->list:\n",
    "    \"\"\"retourne la liste des mots cles de la ligne appartenant au vocabulaire vocab\"\"\"\n",
    "    # clean line\n",
    "    tokens = clean_doc(line)    \n",
    "    # filter by vocab\n",
    "    tokens = [token for token in tokens if token in vocab]\n",
    "    return ' '.join(tokens)"
   ]
  },
  {
   "cell_type": "markdown",
   "metadata": {},
   "source": [
    "Pour chaque fichier d'exemples, on en retire deux ensembles de lignes (positive_lines pour les bons sms, negative_lines pour les spams)."
   ]
  },
  {
   "cell_type": "code",
   "execution_count": 25,
   "metadata": {},
   "outputs": [],
   "source": [
    "def process_train_file(filenametrain, vocab)->list:\n",
    "    \"\"\"retourne la listes des lignes epurees a partir du fichier 'filenametrain' \"\"\"\n",
    "    lines_train = list()\n",
    "    i=1\n",
    "    lines = list()\n",
    "    # load and clean the file\n",
    "    with open(filenametrain) as file:\n",
    "        lines = file.read().splitlines()\n",
    "    filtered_lines = [filter_line(line, vocab) for line in lines]\n",
    "    return filtered_lines"
   ]
  },
  {
   "cell_type": "code",
   "execution_count": 28,
   "metadata": {},
   "outputs": [
    {
     "name": "stdout",
     "output_type": "stream",
     "text": [
      "nb exemples d'entrainement positifs :  4518\n",
      "nb exemples d'entrainement negatifs :  653\n"
     ]
    }
   ],
   "source": [
    "# SI le vocabulaire n'a ete cree dans cette session mais avant ALORS le charger\n",
    "vocab_filename = 'vocabSMS.txt'\n",
    "vocab = load_doc(vocab_filename)\n",
    "vocab = set(vocab)\n",
    "# creer les lignes epurees\n",
    "positive_lines = process_train_file(rep+'goodsms.txt', vocab)\n",
    "negative_lines = process_train_file(rep+'spamsms.txt', vocab)\n",
    "# summarize what we have\n",
    "print(\"nb exemples d'entrainement positifs : \", len(positive_lines))\n",
    "print(\"nb exemples d'entrainement negatifs : \", len(negative_lines))"
   ]
  },
  {
   "cell_type": "markdown",
   "metadata": {
    "colab_type": "text",
    "id": "v2oK8x7bj5CU"
   },
   "source": [
    "---\n",
    "## Représentation en sac de mots\n",
    "\n"
   ]
  },
  {
   "cell_type": "markdown",
   "metadata": {
    "colab_type": "text",
    "id": "wdd9RpBskGUy"
   },
   "source": [
    "### Convertir les exemples en vecteurs\n",
    "Chaque exemple doit être transformé dans un vecteur de même format.\n",
    "On recrée un vocabulaire des mots présents dans les exemples; puis pour chaque exemple, on crée un vecteur de 0, 1 (1 si le ie mot du vocabulaire existe dans l'exemple).\n",
    "\n",
    "Ainsi tous les exemples de ligne sont transformés en vecteurs de même dimension.\n",
    "\n",
    "On utilise pour cela un \"Tokenizer\"\n"
   ]
  },
  {
   "cell_type": "code",
   "execution_count": 50,
   "metadata": {},
   "outputs": [],
   "source": [
    "# create the tokenizer\n",
    "tokenizer = keras.preprocessing.text.Tokenizer()\n",
    "# build the training doc based on training data\n",
    "training_doc = list()\n",
    "training_doc.extend(positive_lines)\n",
    "training_doc.extend(negative_lines)\n",
    "# ask to the tokenizer to build the bag of words : a set of (word, use)*\n",
    "tokenizer.fit_on_texts(training_doc)"
   ]
  },
  {
   "cell_type": "markdown",
   "metadata": {},
   "source": [
    "\"Il ne reste plus qu'à\" demander au 'Tokenizer' de réaliser la transformation des exemples d'entraînement en vecteurs d'entraînement."
   ]
  },
  {
   "cell_type": "code",
   "execution_count": 30,
   "metadata": {},
   "outputs": [
    {
     "name": "stdout",
     "output_type": "stream",
     "text": [
      "Xtrain contient  5171  exemples de  4907  valeurs\n",
      "une valeur = fréquence d'apparition des mots dans le vocabulaire global.\n",
      "Ainsi, premier exemple d'entrainement = \n",
      " [0. 0. 0. ... 0. 0. 0.]\n"
     ]
    }
   ],
   "source": [
    "xTrain = tokenizer.texts_to_matrix(training_doc, mode='freq')\n",
    "##TODO: regarder les autres modes que freq; par exemple 'bin', qu'apportent-ils ?\n",
    "print('Xtrain contient ', xTrain.shape[0], ' exemples de ', xTrain.shape[1], ' valeurs')\n",
    "print('une valeur = fréquence d\\'apparition des mots dans le vocabulaire global.')\n",
    "print('Ainsi, premier exemple d\\'entrainement = \\n', xTrain[0])"
   ]
  },
  {
   "cell_type": "markdown",
   "metadata": {},
   "source": [
    "#### Création des sorties\n",
    "Les premiers vecteurs représente des exemples positifs. On crée une sortie constituée d'autant de valeurs [1] suivie de valeurs [0]. "
   ]
  },
  {
   "cell_type": "code",
   "execution_count": 34,
   "metadata": {},
   "outputs": [],
   "source": [
    "#ytrain = suite de (0 (classement pour eval positive),  1 (classements pour éval négative))\n",
    "yTrain = zeros(len(positive_lines)+len(negative_lines))\n",
    "yTrain[:len(positive_lines)] = 1"
   ]
  },
  {
   "cell_type": "markdown",
   "metadata": {
    "colab_type": "text",
    "id": "mCJRY1mTlnls"
   },
   "source": [
    "---\n",
    "## Modèle de réseau pour l'analyse des sms\n",
    "Le réseau contient en couche d'entrée autant de neurones que de tokens retenus. \n",
    "Chaque exemple est codé sous forme d'une suite de 0 ou 1, d'une dimension égale au vocabulaire retenu.\n",
    "\n",
    "xTrain est donc une matrice de n exemples x m colonnes. m étant la dimension des vecteurs d'entrée, c-a-d le nombre de mots finalement pris en comptes, et donc le nombre de neurones de la 1er couche du réseau"
   ]
  },
  {
   "cell_type": "code",
   "execution_count": 35,
   "metadata": {
    "colab": {},
    "colab_type": "code",
    "id": "uruPxsQil-gZ"
   },
   "outputs": [],
   "source": [
    "# nb de neurones en entrée (= nb de tokens retenus)\n",
    "## shape[0] est la 1ere dimension d'un tableau (ici le nb d'exemples)\n",
    "## shape[1] est la 1ere dimension d'un tableau (ici le nb de tokens)\n",
    "n_words = xTrain.shape[1] "
   ]
  },
  {
   "cell_type": "code",
   "execution_count": 47,
   "metadata": {
    "colab": {},
    "colab_type": "code",
    "id": "67M4JqX2lNeu"
   },
   "outputs": [],
   "source": [
    "# TODO: définir la structure du réseau\n",
    "model = Sequential()\n",
    "model.add(....\n",
    "\n",
    "# compile network \n",
    "model.compile(...."
   ]
  },
  {
   "cell_type": "code",
   "execution_count": 48,
   "metadata": {
    "colab": {},
    "colab_type": "code",
    "id": "rlYk8aKemF9b"
   },
   "outputs": [
    {
     "name": "stdout",
     "output_type": "stream",
     "text": [
      "Epoch 1/10\n",
      "10/10 - 3s - loss: 0.3495 - accuracy: 0.8400 - val_loss: 1.9928 - val_accuracy: 0.0000e+00 - 3s/epoch - 329ms/step\n",
      "Epoch 2/10\n",
      "10/10 - 2s - loss: 0.2373 - accuracy: 0.8814 - val_loss: 1.9916 - val_accuracy: 0.0000e+00 - 2s/epoch - 233ms/step\n",
      "Epoch 3/10\n",
      "10/10 - 2s - loss: 0.2244 - accuracy: 0.8920 - val_loss: 1.8198 - val_accuracy: 0.1731 - 2s/epoch - 231ms/step\n",
      "Epoch 4/10\n",
      "10/10 - 2s - loss: 0.2085 - accuracy: 0.9106 - val_loss: 1.5109 - val_accuracy: 0.4808 - 2s/epoch - 235ms/step\n",
      "Epoch 5/10\n",
      "10/10 - 2s - loss: 0.1601 - accuracy: 0.9491 - val_loss: 1.1572 - val_accuracy: 0.8462 - 2s/epoch - 238ms/step\n",
      "Epoch 6/10\n",
      "10/10 - 2s - loss: 0.1613 - accuracy: 0.9625 - val_loss: 1.1163 - val_accuracy: 0.8846 - 2s/epoch - 238ms/step\n",
      "Epoch 7/10\n",
      "10/10 - 2s - loss: 0.1396 - accuracy: 0.9762 - val_loss: 1.1243 - val_accuracy: 0.8846 - 2s/epoch - 237ms/step\n",
      "Epoch 8/10\n",
      "10/10 - 2s - loss: 0.1375 - accuracy: 0.9809 - val_loss: 1.1452 - val_accuracy: 0.8654 - 2s/epoch - 240ms/step\n",
      "Epoch 9/10\n",
      "10/10 - 2s - loss: 0.1367 - accuracy: 0.9803 - val_loss: 1.1226 - val_accuracy: 0.8846 - 2s/epoch - 235ms/step\n",
      "Epoch 10/10\n",
      "10/10 - 2s - loss: 0.1329 - accuracy: 0.9864 - val_loss: 1.1136 - val_accuracy: 0.8846 - 2s/epoch - 238ms/step\n"
     ]
    }
   ],
   "source": [
    "#TODO: tester differents nb de tests (epochs), steps_per_epoch, batch_size, .....\n",
    "#TODO: expliquer ce que sont les paramètres steps_per_epoch, batch_size, validation_split\n",
    "history = model.fit(....."
   ]
  },
  {
   "cell_type": "markdown",
   "metadata": {},
   "source": [
    "### Dessiner l'évolution de l'erreur et de la pertinence"
   ]
  },
  {
   "cell_type": "code",
   "execution_count": 38,
   "metadata": {},
   "outputs": [
    {
     "data": {
      "text/plain": [
       "dict_keys(['loss', 'accuracy', 'val_loss', 'val_accuracy'])"
      ]
     },
     "execution_count": 38,
     "metadata": {},
     "output_type": "execute_result"
    }
   ],
   "source": [
    "history_dict = history.history\n",
    "history_dict.keys()"
   ]
  },
  {
   "cell_type": "markdown",
   "metadata": {},
   "source": [
    "#### Tracer l'erreur d'entrainement / l'erreur de validation\n",
    "- L'erreur d'entrainement et l'erreur de validation doivent suivre des courbes quasi parallèle.\n",
    "- L'erreur d'entrainement doit être plus faible que l'erreur de validation\n",
    "    - si les courbes divergent, si la courbe de validation s'éloigne de la courbe d'entrainement, il y a alors un sur-apprentissage (overfitting) trop adapté aux données d'entrainement, sans doute trop poussé (diminuer les epochs?).\n",
    "    - s'il y a une erreur d'entrainement trop grande, il y a sous-apprentissage"
   ]
  },
  {
   "cell_type": "code",
   "execution_count": 39,
   "metadata": {},
   "outputs": [
    {
     "data": {
      "image/png": "[encoded data removed]",
      "text/plain": [
       "<Figure size 640x480 with 1 Axes>"
      ]
     },
     "metadata": {},
     "output_type": "display_data"
    }
   ],
   "source": [
    "import matplotlib.pyplot as plt\n",
    "\n",
    "loss = history_dict['loss']\n",
    "val_loss = history_dict['val_loss']\n",
    "\n",
    "epochs = range(1, len(loss) + 1)\n",
    "\n",
    "# draw the loss evolution in blue\n",
    "plt.plot(epochs, loss, 'b-*', label='erreur sur exemples d\\'apprentissage')\n",
    "# draw the accuracy evolution in blue\n",
    "plt.plot(epochs, val_loss, 'r-*', label='erreur sur exemples de validation')\n",
    "plt.title('Erreur')\n",
    "plt.xlabel('Epochs')\n",
    "plt.ylabel('Erreur')\n",
    "plt.legend()\n",
    "\n",
    "plt.show()"
   ]
  },
  {
   "cell_type": "code",
   "execution_count": 40,
   "metadata": {},
   "outputs": [
    {
     "data": {
      "image/png": "[encoded data removed]",
      "text/plain": [
       "<Figure size 640x480 with 1 Axes>"
      ]
     },
     "metadata": {},
     "output_type": "display_data"
    }
   ],
   "source": [
    "acc = history_dict['accuracy']\n",
    "val_acc = history_dict['val_accuracy']\n",
    "\n",
    "epochs = range(1, len(loss) + 1)\n",
    "\n",
    "# draw the loss evolution in blue\n",
    "plt.plot(epochs, acc, 'b-*', label='précision sur exemples d\\'apprentissage')\n",
    "# draw the accuracy evolution in blue\n",
    "plt.plot(epochs, val_acc, 'r-*', label='précision sur exemples de validation')\n",
    "plt.title('précision')\n",
    "plt.xlabel('Epochs')\n",
    "plt.ylabel('précision')\n",
    "plt.legend()\n",
    "\n",
    "plt.show()"
   ]
  },
  {
   "cell_type": "markdown",
   "metadata": {},
   "source": [
    "----\n",
    "#### Tests\n",
    "Prenons des sms au hasard et demandons quelle confiance on peut avoir en eux : "
   ]
  },
  {
   "cell_type": "code",
   "execution_count": 51,
   "metadata": {},
   "outputs": [
    {
     "name": "stdout",
     "output_type": "stream",
     "text": [
      "1/1 [==============================] - 0s 61ms/step\n"
     ]
    }
   ],
   "source": [
    "des_sms = ['Did you catch the bus ? If yes, we can lunch together ! see you !!']\n",
    "des_sms.append('Congrats! 1 year of magnificient diner at the RU1 MontHouy !!! call now!')\n",
    "## transformation des textes en vecteurs \n",
    "des_sms_tokenises = tokenizer.texts_to_matrix(des_sms, mode='freq')\n",
    "## demande de prédiction\n",
    "predictions = model.predict(des_sms_tokenises)"
   ]
  },
  {
   "cell_type": "code",
   "execution_count": null,
   "metadata": {},
   "outputs": [],
   "source": [
    "for i in range(0, len(des_sms)):\n",
    "    print(f'\\\"{des_sms[i]}\\\" -- confiance = {predictions[i][0]*100:.2f}%')"
   ]
  },
  {
   "cell_type": "markdown",
   "metadata": {},
   "source": [
    "---\n",
    "### TensorBoard\n",
    "\n",
    "Maintenant,  <span style=\"background-color:yellow\">utilisez un \"TensorBoard\"</span> pour représenter les courbes d'apprentissage..\n",
    "(cf. exemple [Detection d'Alertes avec TensorBoard](https://github.com/EmmanuelADAM/IntelligenceArtificiellePython/blob/master/SolutionDetectionAlertesTensorBoard.ipynb) )\n",
    "\n",
    "(dupliquez votre fichier notebook pour en créer un nouveau)"
   ]
  },
  {
   "cell_type": "markdown",
   "metadata": {},
   "source": [
    "\n",
    "---\n",
    "## <span style=\"color:red;background-color:yellow\">TRAVAIL A RENDRE</span>\n",
    "\n",
    "* Vous expliquerez le fonctionnement des paramètres  epochs, steps_per_epoch, batch_size, et leur impact sur la qualité de l'apprentissage\n",
    "* Vous devrez tester 5 différentes architectures de réseau (nb de couches), ainsi que différentes configurations (fonctions d'activation, méthodes d'optimisation, méthode de calcul de l'erreur, bach_size, ......), ainsi qu'au moins deux méthodes de création de sacs de mots (texts_to_matrix) en expliquant leurs fonctionnement\n",
    "* Tentez d'expliquer les différences de résultat\n",
    "* Vous enverrez un fichier pdf avec pour chaque configuration  :\n",
    "    * l'architecture du réseau (un copier coller du bloc 'TODO: définir la structure du réseau')\n",
    "    * le déroulé de l'apprentissage (un copier coller du graphique sur la précision)"
   ]
  },
  {
   "cell_type": "code",
   "execution_count": null,
   "metadata": {},
   "outputs": [],
   "source": []
  }
 ],
 "metadata": {
  "colab": {
   "collapsed_sections": [],
   "name": "Copie de TP_DeepLearningM1TNSI.ipynb",
   "provenance": [],
   "toc_visible": true,
   "version": "0.3.2"
  },
  "kernelspec": {
   "display_name": "Python 3 (ipykernel)",
   "language": "python",
   "name": "python3"
  },
  "language_info": {
   "codemirror_mode": {
    "name": "ipython",
    "version": 3
   },
   "file_extension": ".py",
   "mimetype": "text/x-python",
   "name": "python",
   "nbconvert_exporter": "python",
   "pygments_lexer": "ipython3",
   "version": "3.10.11"
  }
 },
 "nbformat": 4,
 "nbformat_minor": 4
}
