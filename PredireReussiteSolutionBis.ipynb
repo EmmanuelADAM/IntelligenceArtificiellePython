{
 "cells": [
  {
   "cell_type": "markdown",
   "metadata": {
    "colab_type": "text",
    "id": "view-in-github"
   },
   "source": [
    "<a href=\"https://colab.research.google.com/github/EmmanuelADAM/IntelligenceArtificiellePython/blob/master/PredireReussiteSolutionBis.ipynb\" target=\"_parent\"><img src=\"https://colab.research.google.com/assets/colab-badge.svg\" alt=\"Open In Colab\"/></a>"
   ]
  },
  {
   "cell_type": "markdown",
   "metadata": {
    "colab_type": "text",
    "id": "3qF8xmpAdACr"
   },
   "source": [
    "# Prédire la réussite des études\n",
    "\n",
    "Dans cet exercice, il s'agit d'étudier un ensemble de données sur la performance d'étudiantes et d'étudiants aux hautes études en fonction du contexte local, familliale et personnel.\n",
    "\n",
    "Le but est de créer un réseau de neurones capable de prédire la réussite d'une personne en fonction de ces données.\n",
    "\n",
    "Le jeux de données (dataset) est issu du site [kaggle](https://www.kaggle.com/); il comporte 145 exemples, composés de 20 critères, et d'une sortie (le niveau de réussite).\n",
    "\n",
    "Voici le fichier à télécharger : [student_prediction_td.csv](https://github.com/EmmanuelADAM/IntelligenceArtificiellePython/blob/master/student_prediction_td.csv)"
   ]
  },
  {
   "cell_type": "markdown",
   "metadata": {},
   "source": [
    "---\n",
    "Les données représentant les personnes sont les suivantes : \n",
    " - **Student Age** (1: 18-21, 2: 22-25, 3: above 26)\n",
    " - **Sex** (1: female, 2: male)\n",
    " - **Graduated high-school type:** (1: private, 2: state, 3: other)\n",
    " - **Scholarship type:** (1: None, 2: 25%, 3: 50%, 4: 75%, 5: Full)\n",
    " - **Additional work:** (1: Yes, 2: No)\n",
    " - **Regular artistic or sports activity:** (1: Yes, 2: No)\n",
    " - **Do you have a partner:** (1: Yes, 2: No)\n",
    " - **Transportation to the university:** (1: Bus, 2: Private car/taxi, 3: bicycle, 4: Other)\n",
    " - **Accommodation type in Cyprus:** (1: rental, 2: dormitory, 3: with family, 4: Other)\n",
    " - **Mother's education:** (1: primary school, 2: secondary school, 3: high school, 4: university, 5: MSc., 6: Ph.D.)\n",
    " - **Father's education:** (1: primary school, 2: secondary school, 3: high school, 4: university, 5: MSc., 6: Ph.D.)\n",
    " - **Number of sisters/brothers (if available):** (1: 1, 2:, 2, 3: 3, 4: 4, 5: 5 or above)\n",
    " - **Parental status:** (1: married, 2: divorced, 3: died - one of them or both)\n",
    " - **Weekly study hours:** (1: None, 2: <5 hours, 3: 6-10 hours, 4: 11-20 hours, 5: more than 20 hours)\n",
    " - **Reading frequency (non-scientific books/journals):** (1: None, 2: Sometimes, 3: Often)\n",
    " - **Attendance to classes** (1: always, 2: sometimes, 3: never)\n",
    " - **Preparation to midterm exams 1:** (1: alone, 2: with friends, 3: not applicable)\n",
    " - **Preparation to midterm exams 2:** (1: closest date to the exam, 2: regularly during the semester, 3: never)\n",
    " - **Taking notes in classes:** (1: never, 2: sometimes, 3: always)\n",
    " - **Listening in classes:** (1: never, 2: sometimes, 3: always)\n",
    "\n",
    "La sortie est codée ainsi : \n",
    " - **OUTPUT Grade** (0: Fail, 1: DD, 2: DC, 3: CC, 4: CB, 5: BB, 6: BA, 7: AA)"
   ]
  },
  {
   "cell_type": "markdown",
   "metadata": {
    "colab_type": "text",
    "id": "JZpJB9iOdRS3"
   },
   "source": [
    "---\n",
    "## Importer les librairies\n"
   ]
  },
  {
   "cell_type": "code",
   "execution_count": 1,
   "metadata": {},
   "outputs": [],
   "source": [
    "import tensorflow.keras as keras\n",
    "from tensorflow.keras.models import Sequential\n",
    "from tensorflow.keras.layers import Dense\n",
    "import numpy as np\n",
    "#pour les graphiques\n",
    "import matplotlib.pyplot as plt\n",
    "#SI bug plus loin lors du dessin des graphiques, ajouter ces 2 lignes\n",
    "import os\n",
    "os.environ['KMP_DUPLICATE_LIB_OK']='True'"
   ]
  },
  {
   "cell_type": "markdown",
   "metadata": {
    "colab_type": "text",
    "id": "XN8WXXdTdXx0"
   },
   "source": [
    "---\n",
    "\n",
    "### Définir les entrées et sorties attendues\n",
    "\n",
    "Les entrées et sorties correspondent valeurs du tableau csv, normalisées sur [0,1].\n",
    "\n",
    "Ici, les entrées d'apprentissage sont consituées de 70% des exemples. \n",
    "\n",
    "Les entrées et sorties de validations sont donc constitués des 30% restants\n"
   ]
  },
  {
   "cell_type": "code",
   "execution_count": 2,
   "metadata": {
    "colab": {},
    "colab_type": "code",
    "id": "A1mjGN2Bb5Ki",
    "tags": []
   },
   "outputs": [],
   "source": [
    "#transformer les données en entrées et sorties\n",
    "# attention, il vaut mieux rester entre 0 & 1, surtout pour la sortie !\n",
    "\n",
    "original = np.array([\n",
    "[2, 2, 3, 3, 1, 2, 2, 1, 1, 1, 2, 3, 1, 3, 2, 1, 1, 1, 3, 2, 1], \n",
    "[2, 2, 3, 3, 1, 2, 2, 1, 1, 2, 3, 2, 1, 2, 2, 1, 1, 1, 3, 2, 1], \n",
    "[2, 2, 2, 3, 2, 2, 2, 4, 2, 2, 2, 2, 1, 2, 1, 1, 1, 1, 2, 2, 1], \n",
    "[1, 1, 1, 3, 1, 2, 1, 1, 2, 1, 2, 5, 1, 3, 1, 1, 1, 2, 3, 2, 1], \n",
    "[2, 2, 1, 3, 2, 2, 1, 1, 4, 3, 3, 2, 1, 2, 1, 1, 2, 1, 2, 2, 1], \n",
    "[2, 2, 2, 3, 2, 2, 2, 1, 1, 3, 3, 2, 1, 1, 1, 1, 1, 1, 1, 2, 2], \n",
    "[1, 2, 2, 4, 2, 2, 2, 1, 3, 1, 3, 1, 1, 2, 2, 2, 1, 1, 3, 3, 5], \n",
    "[1, 1, 2, 3, 1, 1, 1, 2, 3, 4, 3, 1, 1, 1, 2, 1, 3, 1, 3, 2, 2], \n",
    "[2, 1, 3, 3, 2, 1, 1, 1, 3, 2, 4, 2, 1, 1, 2, 1, 1, 1, 3, 2, 5], \n",
    "[2, 1, 2, 3, 2, 2, 1, 4, 2, 1, 2, 3, 1, 2, 2, 2, 1, 1, 2, 2, 0], \n",
    "[1, 1, 1, 3, 2, 2, 2, 2, 3, 3, 4, 2, 1, 1, 1, 2, 1, 1, 2, 2, 2], \n",
    "[1, 1, 1, 4, 1, 1, 2, 2, 3, 5, 5, 1, 1, 3, 3, 1, 3, 2, 3, 1, 0], \n",
    "[1, 1, 1, 4, 2, 2, 2, 1, 1, 3, 5, 4, 2, 3, 2, 1, 1, 1, 2, 2, 0], \n",
    "[2, 1, 2, 5, 2, 2, 2, 1, 1, 2, 2, 2, 1, 1, 2, 2, 1, 1, 3, 2, 1], \n",
    "[3, 2, 2, 4, 1, 1, 2, 4, 2, 3, 1, 2, 1, 2, 2, 1, 1, 1, 2, 3, 2], \n",
    "[2, 2, 2, 3, 2, 2, 2, 1, 2, 4, 4, 2, 1, 2, 2, 2, 1, 1, 3, 2, 2], \n",
    "[1, 1, 2, 5, 2, 1, 2, 1, 1, 2, 2, 4, 1, 2, 2, 2, 1, 1, 3, 2, 1], \n",
    "[2, 2, 2, 3, 2, 2, 2, 1, 1, 2, 2, 2, 1, 2, 2, 2, 1, 1, 2, 2, 2], \n",
    "[1, 1, 2, 4, 2, 2, 2, 1, 1, 2, 2, 5, 1, 5, 3, 2, 1, 1, 3, 1, 2], \n",
    "[1, 2, 1, 3, 2, 2, 1, 2, 2, 3, 3, 3, 1, 4, 2, 1, 1, 1, 3, 2, 3], \n",
    "[1, 2, 2, 5, 1, 2, 1, 4, 2, 3, 3, 3, 2, 4, 2, 1, 1, 2, 3, 1, 1], \n",
    "[1, 2, 2, 5, 2, 2, 1, 4, 2, 2, 2, 4, 1, 3, 2, 1, 1, 1, 3, 1, 1], \n",
    "[2, 2, 2, 3, 1, 2, 1, 1, 1, 1, 1, 4, 2, 3, 3, 1, 1, 2, 3, 1, 3], \n",
    "[3, 2, 2, 2, 1, 1, 2, 1, 1, 1, 4, 3, 1, 3, 2, 2, 1, 1, 3, 2, 1], \n",
    "[2, 2, 2, 3, 2, 2, 2, 1, 1, 3, 1, 3, 1, 1, 2, 1, 1, 1, 2, 1, 2], \n",
    "[2, 2, 2, 3, 2, 2, 1, 1, 2, 1, 4, 3, 1, 2, 2, 1, 1, 1, 2, 1, 3], \n",
    "[2, 2, 2, 3, 2, 1, 1, 1, 1, 4, 4, 4, 1, 2, 3, 1, 1, 1, 3, 3, 1], \n",
    "[1, 2, 1, 3, 1, 2, 2, 1, 1, 1, 1, 4, 1, 3, 2, 2, 1, 1, 3, 1, 1], \n",
    "[3, 2, 2, 3, 2, 2, 1, 4, 2, 2, 2, 4, 1, 2, 2, 1, 1, 1, 3, 2, 3], \n",
    "[2, 2, 3, 4, 2, 2, 2, 4, 2, 3, 3, 2, 1, 2, 2, 1, 1, 1, 3, 2, 5], \n",
    "[2, 2, 2, 5, 1, 1, 1, 1, 2, 1, 1, 5, 1, 2, 2, 1, 2, 1, 2, 3, 5], \n",
    "[3, 2, 2, 3, 1, 2, 2, 1, 2, 1, 2, 4, 1, 2, 2, 1, 1, 1, 3, 3, 3], \n",
    "[2, 1, 2, 3, 2, 2, 2, 1, 1, 2, 2, 2, 1, 2, 2, 2, 1, 1, 2, 2, 1], \n",
    "[2, 1, 2, 3, 1, 2, 1, 1, 1, 1, 2, 5, 1, 2, 1, 1, 1, 1, 1, 3, 2], \n",
    "[1, 2, 1, 3, 2, 2, 1, 1, 1, 3, 3, 3, 1, 2, 1, 2, 1, 1, 2, 2, 2], \n",
    "[1, 2, 1, 4, 2, 2, 2, 1, 1, 1, 2, 5, 1, 2, 2, 2, 1, 1, 2, 1, 1], \n",
    "[2, 2, 3, 4, 1, 2, 1, 1, 1, 1, 1, 2, 2, 1, 1, 2, 2, 1, 2, 1, 2], \n",
    "[2, 2, 2, 3, 1, 1, 1, 2, 3, 3, 3, 1, 1, 2, 2, 1, 1, 1, 3, 2, 1], \n",
    "[2, 2, 2, 5, 2, 2, 2, 1, 1, 3, 3, 1, 1, 3, 2, 1, 2, 1, 2, 2, 2], \n",
    "[2, 1, 2, 3, 2, 2, 1, 1, 2, 1, 3, 1, 1, 1, 2, 1, 1, 1, 2, 2, 1], \n",
    "[1, 2, 1, 3, 2, 2, 2, 1, 1, 2, 3, 1, 1, 1, 2, 1, 1, 1, 3, 1, 1], \n",
    "[3, 2, 2, 3, 1, 2, 2, 1, 2, 1, 4, 2, 1, 3, 2, 2, 1, 1, 3, 2, 1], \n",
    "[2, 2, 2, 3, 2, 1, 2, 4, 2, 4, 4, 2, 1, 2, 2, 1, 1, 1, 2, 1, 1], \n",
    "[1, 2, 2, 3, 2, 2, 1, 1, 1, 2, 3, 3, 1, 2, 2, 2, 1, 1, 3, 1, 4], \n",
    "[2, 2, 3, 3, 2, 2, 1, 1, 1, 1, 3, 2, 1, 2, 2, 1, 2, 1, 3, 2, 1], \n",
    "[1, 2, 2, 3, 2, 2, 1, 1, 1, 2, 3, 5, 1, 3, 2, 1, 1, 1, 2, 2, 3], \n",
    "[2, 2, 2, 3, 2, 2, 1, 1, 1, 1, 2, 3, 1, 2, 2, 1, 1, 1, 2, 2, 5], \n",
    "[2, 2, 2, 3, 2, 2, 1, 1, 2, 4, 3, 1, 1, 2, 2, 2, 1, 1, 2, 1, 3], \n",
    "[1, 2, 2, 3, 2, 1, 1, 1, 2, 3, 3, 3, 1, 1, 1, 1, 1, 1, 3, 2, 1], \n",
    "[1, 2, 1, 4, 2, 2, 2, 4, 1, 2, 3, 2, 1, 2, 2, 1, 2, 1, 2, 2, 2], \n",
    "[2, 2, 2, 3, 2, 2, 1, 2, 1, 1, 1, 2, 1, 2, 2, 2, 1, 1, 2, 2, 1], \n",
    "[2, 1, 3, 3, 1, 1, 2, 1, 1, 1, 2, 5, 1, 1, 2, 2, 1, 1, 2, 3, 4], \n",
    "[2, 1, 2, 3, 1, 2, 2, 1, 1, 1, 3, 4, 1, 3, 1, 1, 1, 2, 2, 2, 1], \n",
    "[2, 1, 2, 3, 2, 1, 2, 1, 1, 1, 1, 5, 1, 1, 2, 2, 1, 1, 2, 2, 5], \n",
    "[2, 2, 2, 3, 2, 2, 2, 4, 2, 1, 4, 2, 1, 2, 1, 1, 1, 2, 3, 1, 3], \n",
    "[3, 2, 2, 3, 1, 2, 1, 1, 2, 1, 1, 5, 3, 1, 2, 1, 3, 3, 1, 3, 3], \n",
    "[2, 2, 2, 3, 2, 1, 2, 1, 1, 1, 3, 5, 1, 4, 2, 1, 1, 2, 3, 2, 5], \n",
    "[2, 2, 2, 3, 1, 1, 2, 1, 1, 4, 2, 3, 1, 2, 3, 1, 1, 1, 3, 2, 4], \n",
    "[3, 2, 2, 3, 2, 2, 1, 1, 1, 1, 3, 5, 2, 3, 2, 1, 1, 1, 3, 2, 3], \n",
    "[2, 2, 2, 3, 2, 1, 1, 1, 1, 4, 4, 3, 1, 3, 2, 1, 1, 1, 3, 3, 5], \n",
    "[2, 1, 2, 3, 2, 2, 2, 2, 1, 6, 1, 3, 1, 1, 2, 1, 1, 1, 1, 3, 2], \n",
    "[1, 2, 3, 3, 2, 1, 2, 1, 2, 1, 3, 4, 1, 3, 1, 2, 1, 1, 3, 2, 5], \n",
    "[2, 2, 2, 3, 2, 2, 2, 4, 2, 2, 3, 2, 1, 3, 2, 1, 1, 1, 2, 3, 3], \n",
    "[2, 2, 2, 4, 2, 2, 1, 1, 1, 1, 3, 3, 1, 1, 1, 1, 3, 1, 2, 2, 5], \n",
    "[2, 2, 3, 5, 2, 2, 2, 1, 1, 2, 2, 2, 1, 1, 2, 1, 2, 1, 3, 2, 3], \n",
    "[1, 2, 2, 3, 2, 2, 1, 1, 1, 2, 4, 3, 1, 1, 1, 2, 2, 1, 2, 1, 2], \n",
    "[2, 2, 2, 3, 2, 2, 1, 1, 1, 3, 2, 5, 1, 2, 2, 1, 1, 1, 3, 2, 5], \n",
    "[2, 2, 3, 3, 1, 1, 2, 1, 2, 3, 4, 4, 2, 2, 2, 2, 1, 1, 2, 2, 1], \n",
    "[2, 1, 2, 4, 1, 2, 2, 1, 1, 2, 3, 5, 3, 1, 2, 2, 1, 1, 2, 2, 5], \n",
    "[2, 1, 2, 4, 2, 2, 1, 1, 1, 2, 2, 2, 1, 1, 1, 1, 2, 1, 3, 2, 5], \n",
    "[1, 2, 2, 4, 2, 1, 1, 1, 1, 4, 3, 1, 2, 2, 2, 1, 1, 1, 2, 2, 7], \n",
    "[1, 1, 3, 4, 2, 2, 2, 1, 3, 1, 3, 5, 1, 2, 2, 1, 1, 1, 2, 3, 6], \n",
    "[1, 2, 2, 3, 2, 1, 1, 1, 2, 1, 1, 2, 1, 2, 3, 1, 1, 1, 2, 2, 6], \n",
    "[2, 2, 2, 4, 2, 2, 2, 1, 2, 1, 3, 4, 1, 3, 1, 1, 1, 2, 3, 2, 6], \n",
    "[1, 2, 2, 4, 2, 2, 2, 1, 1, 2, 2, 3, 1, 2, 2, 1, 2, 1, 3, 2, 7], \n",
    "[1, 2, 2, 4, 2, 1, 2, 1, 3, 1, 5, 4, 1, 3, 3, 1, 1, 1, 2, 2, 7], \n",
    "[2, 2, 1, 2, 2, 1, 2, 1, 1, 5, 4, 3, 1, 2, 3, 1, 3, 2, 2, 1, 4], \n",
    "[1, 2, 1, 2, 2, 2, 1, 2, 2, 6, 5, 2, 1, 2, 2, 2, 3, 1, 2, 2, 7], \n",
    "[2, 1, 2, 4, 1, 1, 2, 1, 1, 1, 3, 4, 1, 2, 3, 2, 1, 1, 3, 3, 4], \n",
    "[2, 2, 2, 4, 2, 2, 2, 1, 1, 1, 3, 4, 1, 1, 2, 1, 1, 1, 3, 3, 3], \n",
    "[2, 1, 2, 3, 1, 2, 1, 2, 1, 1, 1, 2, 1, 1, 1, 1, 1, 1, 2, 3, 4], \n",
    "[3, 2, 2, 3, 1, 2, 2, 1, 2, 1, 2, 4, 1, 2, 2, 1, 1, 1, 3, 3, 3], \n",
    "[2, 2, 2, 4, 1, 2, 1, 1, 1, 3, 1, 3, 1, 2, 2, 1, 1, 1, 3, 3, 7], \n",
    "[2, 2, 3, 3, 2, 2, 2, 1, 1, 4, 4, 2, 1, 1, 2, 1, 3, 1, 3, 2, 7], \n",
    "[3, 2, 3, 3, 1, 2, 1, 1, 2, 4, 2, 5, 3, 1, 2, 1, 3, 3, 3, 3, 7], \n",
    "[1, 2, 2, 5, 2, 2, 2, 1, 1, 1, 1, 5, 1, 1, 1, 1, 1, 1, 3, 2, 4], \n",
    "[2, 2, 2, 4, 2, 2, 2, 4, 2, 3, 3, 2, 1, 2, 2, 1, 1, 1, 3, 2, 5], \n",
    "[2, 2, 2, 3, 2, 1, 2, 1, 1, 3, 4, 2, 1, 2, 2, 1, 2, 1, 2, 2, 6], \n",
    "[1, 2, 2, 4, 2, 1, 1, 1, 1, 4, 4, 1, 1, 2, 2, 1, 1, 2, 3, 1, 6], \n",
    "[2, 2, 2, 3, 2, 2, 2, 1, 1, 3, 5, 3, 1, 2, 2, 2, 1, 1, 3, 1, 6], \n",
    "[2, 1, 2, 3, 2, 1, 1, 2, 3, 3, 3, 1, 1, 2, 2, 1, 1, 1, 2, 3, 6], \n",
    "[2, 2, 2, 5, 1, 1, 1, 1, 2, 4, 1, 5, 1, 2, 2, 1, 1, 1, 2, 3, 6], \n",
    "[1, 2, 2, 3, 2, 2, 2, 1, 1, 3, 4, 4, 1, 3, 2, 1, 1, 1, 3, 2, 7], \n",
    "[1, 2, 2, 1, 1, 2, 1, 1, 2, 1, 2, 4, 1, 5, 2, 1, 1, 1, 3, 3, 4], \n",
    "[2, 2, 2, 3, 2, 2, 1, 1, 1, 3, 2, 5, 1, 2, 2, 1, 1, 1, 3, 2, 6], \n",
    "[1, 2, 3, 5, 1, 1, 1, 2, 3, 3, 4, 1, 1, 2, 2, 1, 1, 1, 3, 2, 5], \n",
    "[1, 2, 2, 4, 2, 1, 1, 2, 3, 2, 2, 3, 1, 2, 3, 1, 1, 1, 3, 2, 7], \n",
    "[1, 2, 2, 4, 1, 2, 2, 1, 3, 3, 3, 4, 1, 2, 2, 1, 1, 1, 3, 2, 6], \n",
    "[1, 2, 2, 4, 2, 1, 2, 4, 2, 2, 4, 2, 1, 2, 3, 1, 1, 1, 3, 1, 7], \n",
    "[2, 2, 2, 3, 2, 2, 2, 4, 2, 3, 4, 2, 1, 3, 2, 1, 1, 1, 3, 2, 7], \n",
    "[1, 2, 2, 4, 2, 2, 2, 2, 3, 4, 1, 2, 1, 2, 2, 1, 1, 1, 2, 2, 6], \n",
    "[1, 2, 2, 4, 2, 2, 1, 1, 3, 2, 3, 1, 1, 2, 2, 1, 1, 1, 3, 3, 7], \n",
    "[1, 2, 2, 3, 2, 2, 1, 1, 2, 3, 1, 1, 2, 2, 2, 1, 1, 1, 3, 1, 7], \n",
    "[1, 2, 1, 4, 2, 2, 1, 1, 2, 1, 3, 4, 1, 2, 3, 1, 1, 1, 2, 2, 7], \n",
    "[1, 1, 2, 3, 2, 2, 2, 2, 2, 4, 4, 1, 1, 2, 2, 1, 1, 1, 2, 3, 3], \n",
    "[1, 2, 2, 4, 1, 1, 2, 1, 1, 2, 2, 4, 1, 2, 3, 2, 1, 2, 2, 1, 7], \n",
    "[1, 2, 2, 4, 2, 1, 2, 1, 2, 2, 2, 1, 1, 3, 2, 1, 3, 2, 2, 2, 7], \n",
    "[1, 1, 2, 4, 1, 1, 2, 1, 3, 1, 3, 5, 1, 2, 2, 1, 2, 1, 2, 3, 6], \n",
    "[2, 1, 1, 5, 2, 1, 2, 2, 1, 1, 2, 1, 3, 3, 3, 2, 1, 1, 2, 3, 6], \n",
    "[1, 2, 1, 3, 2, 1, 1, 2, 2, 4, 4, 2, 3, 3, 2, 1, 2, 2, 3, 2, 7], \n",
    "[2, 2, 2, 3, 2, 2, 2, 4, 2, 4, 4, 2, 2, 2, 2, 2, 1, 1, 2, 2, 2], \n",
    "[1, 1, 1, 5, 2, 1, 2, 1, 2, 3, 3, 1, 1, 1, 2, 1, 1, 1, 3, 1, 2], \n",
    "[2, 1, 3, 3, 1, 2, 2, 3, 3, 1, 1, 2, 1, 1, 1, 1, 2, 1, 3, 3, 2], \n",
    "[2, 1, 3, 3, 2, 2, 2, 4, 2, 4, 4, 1, 1, 2, 2, 2, 2, 1, 2, 2, 1], \n",
    "[2, 1, 2, 5, 1, 1, 2, 1, 1, 1, 1, 1, 1, 2, 2, 1, 1, 1, 2, 2, 2], \n",
    "[2, 1, 2, 5, 1, 2, 1, 1, 1, 1, 1, 2, 1, 3, 3, 1, 2, 2, 3, 2, 1], \n",
    "[2, 1, 2, 5, 2, 2, 2, 1, 1, 1, 1, 5, 1, 3, 3, 1, 1, 1, 3, 3, 1], \n",
    "[3, 1, 1, 3, 2, 1, 2, 1, 2, 4, 4, 1, 1, 2, 2, 2, 1, 1, 2, 3, 1], \n",
    "[1, 2, 2, 5, 2, 1, 1, 4, 2, 1, 2, 3, 1, 1, 2, 1, 3, 1, 3, 3, 1], \n",
    "[2, 1, 2, 4, 2, 1, 2, 1, 2, 3, 3, 2, 3, 5, 2, 1, 1, 2, 2, 2, 2], \n",
    "[2, 1, 1, 3, 1, 1, 1, 2, 3, 3, 3, 2, 1, 1, 1, 2, 2, 1, 3, 3, 1], \n",
    "[2, 1, 2, 3, 1, 1, 1, 2, 1, 1, 1, 5, 3, 5, 3, 1, 2, 1, 1, 1, 0], \n",
    "[1, 2, 2, 5, 2, 1, 2, 1, 1, 3, 3, 2, 1, 2, 1, 1, 2, 1, 3, 2, 2], \n",
    "[2, 1, 3, 3, 2, 2, 2, 1, 1, 3, 2, 4, 1, 2, 2, 1, 1, 1, 3, 3, 1], \n",
    "[1, 1, 2, 4, 1, 1, 1, 1, 3, 2, 3, 2, 1, 4, 2, 1, 2, 2, 3, 3, 3], \n",
    "[1, 1, 2, 5, 1, 1, 2, 1, 3, 1, 1, 5, 1, 3, 2, 1, 1, 2, 3, 2, 2], \n",
    "[1, 1, 1, 4, 1, 1, 1, 2, 3, 4, 6, 2, 1, 4, 2, 1, 2, 1, 3, 3, 3], \n",
    "[1, 1, 2, 4, 2, 2, 2, 4, 3, 3, 2, 2, 1, 2, 1, 1, 1, 1, 3, 2, 1], \n",
    "[1, 1, 2, 4, 2, 1, 1, 4, 3, 3, 4, 2, 1, 2, 1, 1, 1, 1, 3, 2, 0], \n",
    "[1, 1, 2, 3, 1, 1, 2, 1, 1, 1, 1, 3, 1, 4, 2, 1, 2, 2, 3, 2, 3], \n",
    "[1, 1, 2, 3, 1, 1, 2, 1, 1, 1, 2, 3, 1, 4, 2, 1, 1, 2, 3, 1, 1], \n",
    "[1, 1, 1, 5, 2, 1, 2, 2, 2, 4, 3, 1, 1, 4, 1, 1, 1, 2, 3, 2, 4], \n",
    "[1, 1, 1, 5, 2, 1, 2, 1, 2, 1, 2, 3, 1, 2, 2, 1, 2, 1, 3, 2, 3], \n",
    "[1, 1, 2, 5, 2, 2, 1, 1, 1, 1, 1, 1, 1, 3, 1, 1, 1, 1, 3, 3, 3], \n",
    "[1, 1, 2, 4, 2, 1, 2, 2, 3, 1, 1, 2, 1, 2, 2, 1, 1, 1, 2, 1, 1], \n",
    "[2, 1, 2, 3, 1, 1, 2, 4, 2, 3, 3, 1, 1, 2, 3, 1, 1, 1, 3, 3, 2], \n",
    "[1, 1, 2, 3, 1, 1, 1, 2, 3, 3, 3, 3, 1, 2, 2, 1, 3, 1, 3, 2, 0], \n",
    "[1, 1, 1, 5, 2, 1, 2, 1, 1, 2, 2, 2, 1, 2, 2, 1, 1, 1, 3, 1, 2], \n",
    "[1, 1, 2, 4, 1, 1, 1, 2, 3, 3, 1, 1, 2, 2, 2, 1, 2, 1, 3, 2, 0], \n",
    "[1, 1, 2, 4, 1, 2, 1, 2, 3, 3, 3, 1, 1, 1, 1, 2, 2, 1, 2, 3, 0], \n",
    "[2, 1, 2, 3, 1, 1, 2, 1, 2, 1, 2, 2, 2, 3, 3, 1, 1, 1, 2, 1, 5], \n",
    "[1, 1, 2, 4, 2, 2, 2, 4, 2, 1, 1, 5, 1, 3, 2, 2, 1, 1, 3, 2, 5], \n",
    "[1, 1, 1, 4, 2, 2, 2, 1, 1, 3, 4, 4, 1, 2, 2, 1, 1, 1, 3, 3, 1], \n",
    "[2, 1, 2, 4, 1, 1, 1, 2, 3, 4, 4, 1, 1, 2, 2, 1, 2, 1, 2, 1, 4], \n",
    "[1, 1, 1, 5, 2, 2, 2, 1, 1, 3, 1, 5, 1, 3, 1, 1, 2, 1, 3, 2, 3]]\n",
    "                   , float)\n",
    "nb_lignes = original.shape[0]\n",
    "nb_val = original.shape[1]-1\n",
    "\n",
    "maxis = np.max(original, axis=0)\n",
    "maxis[nb_val] = 1\n",
    "\n",
    "tableau = original/maxis"
   ]
  },
  {
   "cell_type": "code",
   "execution_count": 3,
   "metadata": {},
   "outputs": [],
   "source": [
    "#on prend un pourcentage de lignes pour apprendre, le reste pour valider\n",
    "#il faut mélanger les lignes pour pouvoir avoir des exemples d'apprentissage\n",
    "# et de validation homogènes (autrement, les exemples de tests seraient tous des exemples négatifs (non dangereux))\n",
    "#np.random.shuffle(tableau)\n",
    "\n",
    "#on décide que 70% des lignes sont des lignes d'apprentissage\n",
    "nb_lignes_app = nb_lignes * 80 // 100\n",
    "nb_lignes_val = nb_lignes - nb_lignes_app\n",
    "\n",
    "# les premieres colonnes sont les entrees \n",
    "# la derniere colonne est la sortie\n",
    "\n",
    "#on remplit les entrees et sorties d'apprentissage\n",
    "entrees_app = tableau[0:nb_lignes_app, 0:nb_val]\n",
    "sorties_app = tableau[0:nb_lignes_app, nb_val:nb_val+1]\n",
    "\n",
    "#on remplit les entrees et sorties de validation\n",
    "entrees_val = tableau[nb_lignes_app:nb_lignes, 0:nb_val]\n",
    "sorties_val = tableau[nb_lignes_app:nb_lignes, nb_val:nb_val+1]"
   ]
  },
  {
   "cell_type": "code",
   "execution_count": 4,
   "metadata": {},
   "outputs": [],
   "source": [
    "#take a array of values in [0,7] and return an array of size 8 arrays. \n",
    "# 0->[1,0,0,0,0,0,0,0], ..., 7->[0,0,0,0,0,0,0,1]\n",
    "def multiplexeur(tab):\n",
    "    nb_lignes = len(tab)\n",
    "    tabmulti = np.zeros((nb_lignes, 8), float)\n",
    "    for i in range(0, nb_lignes):\n",
    "        j = round(tab[i][0])\n",
    "        tabmulti[i][j] = 1\n",
    "    return tabmulti"
   ]
  },
  {
   "cell_type": "code",
   "execution_count": 5,
   "metadata": {},
   "outputs": [],
   "source": [
    "sorties_app = multiplexeur(sorties_app)\n",
    "sorties_val = multiplexeur(sorties_val)"
   ]
  },
  {
   "cell_type": "markdown",
   "metadata": {
    "colab_type": "text",
    "id": "SC-1MnShdwe0",
    "tags": []
   },
   "source": [
    "---\n",
    "\n",
    "## Choisir le modèle de réseau\n",
    "- ici les couches sont séquentielles"
   ]
  },
  {
   "cell_type": "code",
   "execution_count": 6,
   "metadata": {},
   "outputs": [
    {
     "name": "stderr",
     "output_type": "stream",
     "text": [
      "2022-02-03 12:15:12.742040: I tensorflow/core/platform/cpu_feature_guard.cc:142] This TensorFlow binary is optimized with oneAPI Deep Neural Network Library (oneDNN) to use the following CPU instructions in performance-critical operations:  SSE4.1 SSE4.2 AVX AVX2 FMA\n",
      "To enable them in other operations, rebuild TensorFlow with the appropriate compiler flags.\n"
     ]
    }
   ],
   "source": [
    "model = Sequential()"
   ]
  },
  {
   "cell_type": "markdown",
   "metadata": {
    "colab_type": "text",
    "id": "Jo5Ej8kkd8nh",
    "tags": []
   },
   "source": [
    "---\n",
    "\n",
    "### Définir l'architecture du réseau\n",
    "Choisissez la struture du réseau, le nb de couches cachées, etc.\n",
    "- une première couche composée de \n",
    "  - autant de neurones en entrée que de valeurs, plus le neurone BIAS (ou non)\n",
    "  - x neurones en sortie \n",
    "- une dernirèe couche composée de\n",
    "  - y neurones en entrée (ceux de la couche précédente) et \n",
    "  - de 1 neurone en sortie (niveau / 7)\n"
   ]
  },
  {
   "cell_type": "code",
   "execution_count": 7,
   "metadata": {},
   "outputs": [],
   "source": [
    "#une premiere couche constituée d'autant de neurones en entrée que de mots clés, 6 en sortie...\n",
    "model.add(Dense(15, use_bias=True, input_shape=(nb_val,), activation='sigmoid'))\n",
    "#une seconde couche constituée de 4 neurones en sortie (donc 8 en entree)\n",
    "\n",
    "model.add(Dense(12, use_bias=True, activation='sigmoid'))\n",
    "model.add(Dense(10, use_bias=True, activation='sigmoid'))\n",
    "#model.add(Dense(8,  use_bias=True, activation='sigmoid'))\n",
    "#model.add(Dense(5,  use_bias=True, activation='sigmoid'))\n",
    "#model.add(Dense(3,  use_bias=True, activation='sigmoid'))\n",
    "\n",
    "#une derniere couche constituée de 1 neurone en sortie, \n",
    "# nb neurones de la couche précédente en entrée et activation sigmoide\n",
    "model.add(Dense(8, activation='sigmoid'))"
   ]
  },
  {
   "cell_type": "markdown",
   "metadata": {
    "colab_type": "text",
    "id": "8L4LxSBWeaF1",
    "tags": []
   },
   "source": [
    "---\n",
    "\n",
    "### Compiler le  réseau\n",
    "- ici, on précise que l'algo de correction d'erreur est *'adam'*, et que l'erreur calculée est la moyenne des valeurs absolues des erreurs commises. On indique également que l'on veut voir apparaître en plus la précision de l'apprentissage (accuracy).\n",
    "\n",
    "(vous pouvez chosir un autre optimizer et un autre calcul de loss)"
   ]
  },
  {
   "cell_type": "code",
   "execution_count": 8,
   "metadata": {},
   "outputs": [],
   "source": [
    "model.compile(optimizer='Nadam', loss='categorical_crossentropy', metrics=['accuracy'])"
   ]
  },
  {
   "cell_type": "markdown",
   "metadata": {
    "colab_type": "text",
    "id": "rZ4IQ-bIdtN1"
   },
   "source": [
    "---\n",
    "\n",
    "### Entraîner le réseau \n",
    "- ici on peut le faire  'parler' (verbose=1 ou 2) si le nb de cycles d'apprentissage (epochs) est court\n"
   ]
  },
  {
   "cell_type": "code",
   "execution_count": 9,
   "metadata": {
    "colab": {
     "base_uri": "https://localhost:8080/",
     "height": 148
    },
    "colab_type": "code",
    "id": "ddTla-J_cfz8",
    "outputId": "0fd3cade-cd59-41db-c5f6-0ea22e48cac0"
   },
   "outputs": [
    {
     "name": "stderr",
     "output_type": "stream",
     "text": [
      "2022-02-03 12:15:12.833658: I tensorflow/compiler/mlir/mlir_graph_optimization_pass.cc:116] None of the MLIR optimization passes are enabled (registered 2)\n"
     ]
    }
   ],
   "source": [
    "tests = model.fit(entrees_app, sorties_app, \n",
    "                    validation_data=(entrees_val, sorties_val),\n",
    "                    epochs=500, verbose=0)"
   ]
  },
  {
   "cell_type": "markdown",
   "metadata": {
    "colab_type": "text",
    "id": "I0zBYIALlDYp",
    "tags": []
   },
   "source": [
    "---\n",
    "\n",
    "## Dessiner l'évolution de l'erreur et de la pertinence\n"
   ]
  },
  {
   "cell_type": "code",
   "execution_count": 10,
   "metadata": {
    "colab": {},
    "colab_type": "code",
    "id": "Z89vptAXcuDM"
   },
   "outputs": [
    {
     "name": "stdout",
     "output_type": "stream",
     "text": [
      "les ensembles de valeurs récupérées lors des tests sont \n",
      "['loss', 'accuracy', 'val_loss', 'val_accuracy']\n",
      "-> [perte sur exemple d'entrainement, qualité sur exemples d'entrainement,perte sur exemple de validation, qualité sur exemples de validation]\n"
     ]
    }
   ],
   "source": [
    "history_dict = tests.history\n",
    "eval_tests = list(history_dict.keys())\n",
    "print(\"les ensembles de valeurs récupérées lors des tests sont \")\n",
    "print(eval_tests)\n",
    "print(\"-> [perte sur exemple d'entrainement, qualité sur exemples d'entrainement,perte sur exemple de validation, qualité sur exemples de validation]\")\n"
   ]
  },
  {
   "cell_type": "markdown",
   "metadata": {},
   "source": [
    "#### Tracer l'erreur d'entrainement / l'erreur de validation\n",
    "- L'erreur d'entrainement et l'erreur de validation doivent suivre des courbes quasi parallèle.\n",
    "- L'erreur d'entrainement doit être plus faible que l'erreur de validation\n",
    "    - si les courbes divergent, si la courbe de validation s'éloigne de la courbe d'entrainement, il y a alors un sur-apprentissage (overfitting) trop adapté aux données d'entrainement, sans doute trop poussé (diminuer les epochs?).\n",
    "    - s'il y a une erreur d'entrainement trop grande, il y a sous-apprentissage"
   ]
  },
  {
   "cell_type": "code",
   "execution_count": 11,
   "metadata": {},
   "outputs": [
    {
     "data": {
      "image/png": "[encoded data removed]",
      "text/plain": [
       "<Figure size 432x288 with 1 Axes>"
      ]
     },
     "metadata": {
      "needs_background": "light"
     },
     "output_type": "display_data"
    }
   ],
   "source": [
    "import matplotlib.pyplot as plt\n",
    "\n",
    "loss = history_dict[eval_tests[0]]\n",
    "val_loss = history_dict[eval_tests[2]]\n",
    "\n",
    "epochs = range(1, len(loss) + 1)\n",
    "\n",
    "# draw the loss evolution in blue\n",
    "plt.plot(epochs, loss, 'b--', label='erreur sur exemples d\\'apprentissage')\n",
    "# draw the accuracy evolution in blue\n",
    "plt.plot(epochs, val_loss, 'r--', label='erreur sur exemples de validation')\n",
    "plt.title('Erreur')\n",
    "plt.xlabel('Epochs')\n",
    "plt.ylabel('Erreur')\n",
    "plt.legend()\n",
    "\n",
    "plt.show()"
   ]
  },
  {
   "cell_type": "code",
   "execution_count": 12,
   "metadata": {
    "tags": []
   },
   "outputs": [
    {
     "data": {
      "image/png": "[encoded data removed]",
      "text/plain": [
       "<Figure size 432x288 with 1 Axes>"
      ]
     },
     "metadata": {
      "needs_background": "light"
     },
     "output_type": "display_data"
    }
   ],
   "source": [
    "acc = history_dict[eval_tests[1]]\n",
    "val_acc = history_dict[eval_tests[3]]\n",
    "\n",
    "epochs = range(1, len(loss) + 1)\n",
    "\n",
    "# draw the loss evolution in blue\n",
    "plt.plot(epochs, acc, 'b--', label='précision sur exemples d\\'apprentissage')\n",
    "# draw the accuracy evolution in blue\n",
    "plt.plot(epochs, val_acc, 'r--', label='précision sur exemples de validation')\n",
    "plt.title('précision')\n",
    "plt.xlabel('Epochs')\n",
    "plt.ylabel('précision')\n",
    "plt.legend()\n",
    "\n",
    "plt.show()"
   ]
  },
  {
   "cell_type": "markdown",
   "metadata": {
    "colab_type": "text",
    "id": "N38spzckmMMJ",
    "tags": []
   },
   "source": [
    "---\n",
    "## Utilisation du réseau\n",
    "Déterminez la probabilité de réussite :\n",
    " 1. d'une femme de 25 ans, étudiant à plein temps dans une université, n'ayant pas d'emploi, et membre d'un groupe de musique, en couple dans une location, se rendant aux cours en bus, dont les parents se sont arrêtés au lycée, ayant 1 frère, qui assiste aux 20h de cours hebdomadaires, qui révise seule et à la dernière minute, mais qui prend des notes et écoute en classe ?\n",
    " 2. de votre cas personnel ?\n",
    " \n",
    "- Quel est l'impact du niveau d'étude des parents sur la réussite d'une personne ?\n",
    "\n",
    "- Quel est l'impact de l'écoute et de la prise de notes ?"
   ]
  },
  {
   "cell_type": "code",
   "execution_count": 13,
   "metadata": {},
   "outputs": [],
   "source": [
    "#girl = np.array([2, 2, 2, 5, 2, 1, 1, 1, 1, 3, 3, 1, 1, 5, 3, 1, 2, 2, 3, 3], float)\n",
    "girl = np.array([1, 2, 2, 4, 2, 1, 1, 1, 1, 4, 3, 1, 2, 2, 2, 1, 1, 1, 2, 2], float)\n",
    "girl_normalisee = girl/maxis[:nb_val]"
   ]
  },
  {
   "cell_type": "code",
   "execution_count": 14,
   "metadata": {},
   "outputs": [],
   "source": [
    "girl_prediction = model.predict(np.array([girl_normalisee]))"
   ]
  },
  {
   "cell_type": "code",
   "execution_count": 15,
   "metadata": {},
   "outputs": [
    {
     "name": "stdout",
     "output_type": "stream",
     "text": [
      "[[0.30757582 0.46907312 0.42700544 0.35384417 0.27828628 0.42280766\n",
      "  0.51303464 0.7976618 ]]\n"
     ]
    }
   ],
   "source": [
    "print(girl_prediction)"
   ]
  },
  {
   "cell_type": "code",
   "execution_count": null,
   "metadata": {},
   "outputs": [],
   "source": []
  }
 ],
 "metadata": {
  "colab": {
   "collapsed_sections": [],
   "name": "TestOUX.ipynb",
   "provenance": [],
   "version": "0.3.2"
  },
  "kernelspec": {
   "display_name": "Python 3 (ipykernel)",
   "language": "python",
   "name": "python3"
  },
  "language_info": {
   "codemirror_mode": {
    "name": "ipython",
    "version": 3
   },
   "file_extension": ".py",
   "mimetype": "text/x-python",
   "name": "python",
   "nbconvert_exporter": "python",
   "pygments_lexer": "ipython3",
   "version": "3.9.7"
  }
 },
 "nbformat": 4,
 "nbformat_minor": 4
}
