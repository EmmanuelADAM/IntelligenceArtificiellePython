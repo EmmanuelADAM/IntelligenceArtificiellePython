{
 "cells": [
  {
   "cell_type": "markdown",
   "metadata": {
    "id": "zECWXF0kTYy4"
   },
   "source": [
    "# Résumé automatique\n",
    "Il existe deux façon de créer un résmué de texte : \n",
    "  - le résumé par extraction, qui recherche et extrait les phrases les plus importantes\n",
    "  - le résumé par abstraction qui ré-écrit les phrases les plus importabtes du texte.\n",
    "\n",
    "Ici, on s'intéresse au résumé par extraction."
   ]
  },
  {
   "cell_type": "markdown",
   "metadata": {},
   "source": [
    "<a href=\"https://colab.research.google.com/github/EmmanuelADAM/IntelligenceArtificiellePython/blob/master/resume.ipynb\" target=\"_parent\"><img src=\"https://colab.research.google.com/assets/colab-badge.svg\" alt=\"Pour ouvrir sous Colab\"/></a>"
   ]
  },
  {
   "cell_type": "markdown",
   "metadata": {
    "id": "W7Z74SEPXpm0"
   },
   "source": [
    "---\n",
    "Prenons un texte, un extrait des Misérables (chapitre 1 - Fontine) de V. Hugo :"
   ]
  },
  {
   "cell_type": "code",
   "execution_count": 1,
   "metadata": {
    "executionInfo": {
     "elapsed": 313,
     "status": "ok",
     "timestamp": 1681726431630,
     "user": {
      "displayName": "Emmanuel Adam",
      "userId": "15242581799155232689"
     },
     "user_tz": -120
    },
    "id": "xmyjMmYTKYwI"
   },
   "outputs": [],
   "source": [
    "text=\"\"\"En 1815, M. Charles-François-Bienvenu Myriel était évêque de Digne.\n",
    "C'était un vieillard d'environ soixante-quinze ans; il occupait le siège de Digne depuis 1806.\n",
    "Quoique ce détail ne touche en aucune manière au fond même de ce que nous avons à raconter, il n'est peut-être pas inutile, ne fût-ce que pour être exact en tout, d'indiquer ici les bruits et les propos qui avaient couru sur son compte au moment où il était arrivé dans le diocèse.\n",
    "Vrai ou faux ce qu'on dit des hommes tient souvent autant de place dans leur vie et surtout dans leur destinée que ce qu'ils font.\n",
    "M.Myriel était fils d'un conseiller au parlement d'Aix; noblesse de robe.\n",
    "On contait de lui que son père, le réservant pour hériter de sa charge, l'avait marié de fort bonne heure, à dix-huit ou vingt ans, suivant un usage assez répandu dans les familles parlementaires.\n",
    "Charles Myriel, nonobstant ce mariage, avait, disaiton, beaucoup fait parler de lui.\n",
    "Il était bien fait de sa personne, quoique d'assez petite taille, élégant, gracieux, spirituel; toute la première partie de sa vie avait été donnée au monde et aux galanteries.\n",
    "La révolution survint, les événements se précipitèrent, les familles parlementaires décimées, chassées, traquées, se dispersèrent.\n",
    "M. Charles Myriel, dès les premiers jours de la révolution, émigra en Italie.\n",
    "Sa femme y mourut d'une maladie de poitrine dont elle était atteinte depuis longtemps.\n",
    "Ils n'avaient point d'enfants.\n",
    "Que se passa-t-il ensuite dans la destinée de M. Myriel ?  \n",
    "L'écroulement de l'ancienne société française, la chute de sa propre famille, les tragiques spectacles de 93, plus effrayants encore peut-être pour les émigrés qui les voyaient de loin avec le grossissement de l'épouvante, firent-ils germer en lui des idées de renoncement et de solitude ?  \n",
    "Fut-il, au milieu d'une de ces distractions et de ces affections qui occupaient sa vie, subitement atteint d'un de ces coups mystérieux et terribles qui viennent quelquefois renverser, en le frappant au coeur, l'homme que les catastrophes publiques n'ébranleraient pas en le frappant dans son existence et dans sa fortune ?\n",
    "Nul n'aurait pu le dire; tout ce qu'on savait, c'est que, lorsqu'il revint d'Italie, il était prêtre.\n",
    "En 1804 M. Myriel était curé de Brignolles.\n",
    "Il était déjà vieux, et vivait dans une retraite profonde.\"\"\""
   ]
  },
  {
   "cell_type": "markdown",
   "metadata": {
    "id": "b2cnLCBme322"
   },
   "source": [
    "---\n",
    "### on souhaite ***résumer ce texte !*** \n",
    "\n",
    "On utilise un bibliothèque dédié au traitement de texte."
   ]
  },
  {
   "cell_type": "markdown",
   "metadata": {
    "id": "nZbdRXE4UjSp"
   },
   "source": [
    "---\n",
    "## Spacy : un outil de traitement de langage naturel\n",
    "Spacy est une bibliothèque assez complète de NLP (Natural Language Processing).\n",
    "\n",
    "Elle est déjà installée dans l'environnement Colab. On peut ainsi l'importer :  "
   ]
  },
  {
   "cell_type": "code",
   "execution_count": 2,
   "metadata": {
    "executionInfo": {
     "elapsed": 238,
     "status": "ok",
     "timestamp": 1681720162068,
     "user": {
      "displayName": "Emmanuel Adam",
      "userId": "15242581799155232689"
     },
     "user_tz": -120
    },
    "id": "wzbOz8UT-5Ud"
   },
   "outputs": [
    {
     "name": "stderr",
     "output_type": "stream",
     "text": [
      "2023-04-17 16:04:05.208504: I tensorflow/core/platform/cpu_feature_guard.cc:193] This TensorFlow binary is optimized with oneAPI Deep Neural Network Library (oneDNN) to use the following CPU instructions in performance-critical operations:  SSE4.1 SSE4.2 AVX AVX2 AVX512F AVX512_VNNI FMA\n",
      "To enable them in other operations, rebuild TensorFlow with the appropriate compiler flags.\n"
     ]
    }
   ],
   "source": [
    "import spacy"
   ]
  },
  {
   "cell_type": "markdown",
   "metadata": {
    "id": "PaglKIJWVWK1"
   },
   "source": [
    "## 1. Le corpus\n",
    "Il existe des corpus pour de nombreuses langues, la langue anglaise étant traitée de façon plus complète.\n",
    "\n",
    "Pour chaque langue, il existe en général 3 versions de corpus long, médium et petit.\n",
    " - Par exemple, en anglais, on chargera les corpus en_core_web_lg, en_core_web_md ou en_core_web_sm.\n",
    "\n",
    "\n",
    "Ici, on s'intéresse à la langue français et si le corpus long français n'a pas été installé, on le télécharge avec la commande suivante :  "
   ]
  },
  {
   "cell_type": "code",
   "execution_count": 3,
   "metadata": {
    "id": "jLK7arTETrca"
   },
   "outputs": [],
   "source": [
    "#!python -m spacy download fr_core_news_lg "
   ]
  },
  {
   "cell_type": "code",
   "execution_count": 4,
   "metadata": {
    "executionInfo": {
     "elapsed": 218,
     "status": "ok",
     "timestamp": 1681720430189,
     "user": {
      "displayName": "Emmanuel Adam",
      "userId": "15242581799155232689"
     },
     "user_tz": -120
    },
    "id": "HZgJ2h6oPsNV"
   },
   "outputs": [
    {
     "name": "stderr",
     "output_type": "stream",
     "text": [
      "/Users/emmanueladam/opt/anaconda3/lib/python3.9/site-packages/spacy/util.py:887: UserWarning: [W095] Model 'fr_core_news_lg' (3.4.0) was trained with spaCy v3.4 and may not be 100% compatible with the current version (3.5.1). If you see errors or degraded performance, download a newer compatible model or retrain your custom model with the current spaCy version. For more details and available updates, run: python -m spacy validate\n",
      "  warnings.warn(warn_msg)\n"
     ]
    }
   ],
   "source": [
    "import fr_core_news_lg"
   ]
  },
  {
   "cell_type": "markdown",
   "metadata": {
    "id": "fStstCZhWPq5"
   },
   "source": [
    "On peut alors charger le corpus en mémoire : "
   ]
  },
  {
   "cell_type": "code",
   "execution_count": 5,
   "metadata": {
    "executionInfo": {
     "elapsed": 4601,
     "status": "ok",
     "timestamp": 1681724175027,
     "user": {
      "displayName": "Emmanuel Adam",
      "userId": "15242581799155232689"
     },
     "user_tz": -120
    },
    "id": "NVyVrvC7C9AO"
   },
   "outputs": [],
   "source": [
    "nlp = fr_core_news_lg.load()"
   ]
  },
  {
   "cell_type": "markdown",
   "metadata": {
    "id": "od7BFHWyfB_c"
   },
   "source": [
    "---\n",
    "## 2. Les mots \"inutiles\"\n",
    "Pour traiter le texte, on peut choisir de ne pas considérer les mots des liaisons (qui n'apportent pas au sens d'une phrase), ce sont les stop_words.\n",
    "\n",
    "Spacy, comme d'autres nlp, dispose de listes de stopwords que l'on peut augmenter manuellement."
   ]
  },
  {
   "cell_type": "code",
   "execution_count": 41,
   "metadata": {
    "executionInfo": {
     "elapsed": 426,
     "status": "ok",
     "timestamp": 1681724179713,
     "user": {
      "displayName": "Emmanuel Adam",
      "userId": "15242581799155232689"
     },
     "user_tz": -120
    },
    "id": "0LUYEKrjC1mq"
   },
   "outputs": [],
   "source": [
    "#récupérer une liste de mots \"inutiles\" dans le corpus français : \n",
    "from spacy.lang.fr.stop_words import STOP_WORDS\n",
    "stopwords=list(STOP_WORDS)"
   ]
  },
  {
   "cell_type": "markdown",
   "metadata": {
    "id": "Um8Bs5BzhbRD"
   },
   "source": [
    "---\n",
    "## 3. Ponctuation\n",
    "Pour traiter le texte, on peut choisir de ne pas considérer  les signes de ponctuation.\n",
    "\n",
    "Python fournit une liste de ces signes que l'on peut augmenter avec d'autres signes : "
   ]
  },
  {
   "cell_type": "code",
   "execution_count": 42,
   "metadata": {
    "executionInfo": {
     "elapsed": 2,
     "status": "ok",
     "timestamp": 1681724180780,
     "user": {
      "displayName": "Emmanuel Adam",
      "userId": "15242581799155232689"
     },
     "user_tz": -120
    },
    "id": "ys-_n9lwC6YK"
   },
   "outputs": [],
   "source": [
    "from string import punctuation\n",
    "punctuation = punctuation+ '\\n'"
   ]
  },
  {
   "cell_type": "markdown",
   "metadata": {
    "id": "_NwG8Puji3we"
   },
   "source": [
    "## 4. Chargement du texte\n",
    "La commande `nlp`de Spacy charge un texte et l'analyse. \n",
    "Un *document* résulte de cette analyse : "
   ]
  },
  {
   "cell_type": "code",
   "execution_count": 43,
   "metadata": {
    "executionInfo": {
     "elapsed": 281,
     "status": "ok",
     "timestamp": 1681726407666,
     "user": {
      "displayName": "Emmanuel Adam",
      "userId": "15242581799155232689"
     },
     "user_tz": -120
    },
    "id": "wua23oVtKgT4"
   },
   "outputs": [],
   "source": [
    "def tokenize(text:str)->spacy.tokens.doc.Doc:\n",
    "    doc = nlp(text)\n",
    "    return doc"
   ]
  },
  {
   "cell_type": "code",
   "execution_count": 44,
   "metadata": {
    "executionInfo": {
     "elapsed": 3,
     "status": "ok",
     "timestamp": 1681726408720,
     "user": {
      "displayName": "Emmanuel Adam",
      "userId": "15242581799155232689"
     },
     "user_tz": -120
    },
    "id": "Y_jRXfNsKq4W"
   },
   "outputs": [],
   "source": [
    "doc = tokenize(text)"
   ]
  },
  {
   "cell_type": "markdown",
   "metadata": {
    "id": "7R3iU_7ykxsn"
   },
   "source": [
    "## 5. Construction du résumé par extraction\n",
    "\n",
    "  - Pour construire un résumé par extraction, on ne garde que les phrases les plus importantes.\n",
    "\n",
    "  - Une phrase est importante si elle contient des mots importants.\n",
    "\n",
    "  - Un mot est d'autant plus important s'il apparait plusieurs fois dans le texte."
   ]
  },
  {
   "cell_type": "markdown",
   "metadata": {
    "id": "gYc9okudlQv-"
   },
   "source": [
    "### 5.1. Créaction d'un sac de mots\n",
    "On souhaite créer une map, un dictionnaire python contenant en clé un mot, et en valeur son nombre d'apparartions dans le texte.\n",
    "\n"
   ]
  },
  {
   "cell_type": "markdown",
   "metadata": {
    "id": "YC7qRUe2mWRW"
   },
   "source": [
    "### Notes sur les dictionnaires pythons \n",
    "Ce sont des tables (clé:valeur) : "
   ]
  },
  {
   "cell_type": "code",
   "execution_count": 45,
   "metadata": {
    "executionInfo": {
     "elapsed": 6,
     "status": "ok",
     "timestamp": 1681724536278,
     "user": {
      "displayName": "Emmanuel Adam",
      "userId": "15242581799155232689"
     },
     "user_tz": -120
    },
    "id": "wf2Js3cClkqi"
   },
   "outputs": [],
   "source": [
    "## exemple de dictionnaire : \n",
    "eurovision = {}\n",
    "eurovision['italie'] = 250\n",
    "eurovision['estonie'] = 220\n",
    "eurovision['france'] = 2\n"
   ]
  },
  {
   "cell_type": "code",
   "execution_count": 46,
   "metadata": {
    "colab": {
     "base_uri": "https://localhost:8080/"
    },
    "executionInfo": {
     "elapsed": 326,
     "status": "ok",
     "timestamp": 1681724552149,
     "user": {
      "displayName": "Emmanuel Adam",
      "userId": "15242581799155232689"
     },
     "user_tz": -120
    },
    "id": "8eBW_pp7mB6C",
    "outputId": "2d91b0e5-9e57-4ba8-a231-9eb49e16eadb"
   },
   "outputs": [
    {
     "data": {
      "text/plain": [
       "{'italie': 250, 'estonie': 220, 'france': 2}"
      ]
     },
     "execution_count": 46,
     "metadata": {},
     "output_type": "execute_result"
    }
   ],
   "source": [
    "eurovision"
   ]
  },
  {
   "cell_type": "code",
   "execution_count": 47,
   "metadata": {
    "colab": {
     "base_uri": "https://localhost:8080/"
    },
    "executionInfo": {
     "elapsed": 193,
     "status": "ok",
     "timestamp": 1681724588770,
     "user": {
      "displayName": "Emmanuel Adam",
      "userId": "15242581799155232689"
     },
     "user_tz": -120
    },
    "id": "DV3-T0wkmFUg",
    "outputId": "c60f20f5-9ee1-4888-ce5d-a52f6d25469c"
   },
   "outputs": [
    {
     "data": {
      "text/plain": [
       "{'italie': 250, 'estonie': 220, 'france': 3}"
      ]
     },
     "execution_count": 47,
     "metadata": {},
     "output_type": "execute_result"
    }
   ],
   "source": [
    "eurovision['france'] += 1\n",
    "eurovision"
   ]
  },
  {
   "cell_type": "code",
   "execution_count": 48,
   "metadata": {
    "colab": {
     "base_uri": "https://localhost:8080/"
    },
    "executionInfo": {
     "elapsed": 6,
     "status": "ok",
     "timestamp": 1681724620250,
     "user": {
      "displayName": "Emmanuel Adam",
      "userId": "15242581799155232689"
     },
     "user_tz": -120
    },
    "id": "KZWbZ5X9mNRh",
    "outputId": "65682f1e-8708-4c74-ba4f-2bfa1b6fb9d4"
   },
   "outputs": [
    {
     "data": {
      "text/plain": [
       "dict_keys(['italie', 'estonie', 'france'])"
      ]
     },
     "execution_count": 48,
     "metadata": {},
     "output_type": "execute_result"
    }
   ],
   "source": [
    "eurovision.keys()"
   ]
  },
  {
   "cell_type": "markdown",
   "metadata": {
    "id": "ys4RfDmhHIYG"
   },
   "source": []
  },
  {
   "cell_type": "markdown",
   "metadata": {
    "id": "F8QnEIsMm1cj"
   },
   "source": [
    "---\n",
    "### Note sur les documents de spacy\n",
    "\n",
    "Un `doc` Spacy est un itérable qui peut se parcourir comme une liste : \n"
   ]
  },
  {
   "cell_type": "code",
   "execution_count": 49,
   "metadata": {
    "colab": {
     "base_uri": "https://localhost:8080/"
    },
    "executionInfo": {
     "elapsed": 208,
     "status": "ok",
     "timestamp": 1681726168365,
     "user": {
      "displayName": "Emmanuel Adam",
      "userId": "15242581799155232689"
     },
     "user_tz": -120
    },
    "id": "DCGVOjmfoH2y",
    "outputId": "26ff1906-0798-4344-9e26-a1f2f661629b"
   },
   "outputs": [
    {
     "name": "stdout",
     "output_type": "stream",
     "text": [
      "En 1815 , M. Charles - François - Bienvenu Myriel était évêque de Digne . \n",
      " C' était un vieillard d' environ soixante-quinze ans ; il occupait le siège de Digne depuis 1806 . \n",
      " Quoique ce détail ne touche en aucune manière au fond même de ce que nous avons à raconter , il n' est peut-être pas inutile , ne fût -ce que pour être exact en tout , d' indiquer ici les bruits et les propos qui avaient couru sur son compte au moment où il était arrivé dans le diocèse . \n",
      " Vrai ou faux ce qu' on dit des hommes tient souvent autant de place dans leur vie et surtout dans leur destinée que ce qu' ils font . \n",
      " M.Myriel était fils d' un conseiller au parlement d' Aix ; noblesse de robe . \n",
      " On contait de lui que son père , le réservant pour hériter de sa charge , l' avait marié de fort bonne heure , à dix-huit ou vingt ans , suivant un usage assez répandu dans les familles parlementaires . \n",
      " Charles Myriel , nonobstant ce mariage , avait , disaiton , beaucoup fait parler de lui . \n",
      " Il était bien fait de sa personne , quoique d' assez petite taille , élégant , gracieux , spirituel ; toute la première partie de sa vie avait été donnée au monde et aux galanteries . \n",
      " La révolution survint , les événements se précipitèrent , les familles parlementaires décimées , chassées , traquées , se dispersèrent . \n",
      " M. Charles Myriel , dès les premiers jours de la révolution , émigra en Italie . \n",
      " Sa femme y mourut d' une maladie de poitrine dont elle était atteinte depuis longtemps . \n",
      " Ils n' avaient point d' enfants . \n",
      " Que se passa -t -il ensuite dans la destinée de M. Myriel ?  \n",
      " L' écroulement de l' ancienne société française , la chute de sa propre famille , les tragiques spectacles de 93 , plus effrayants encore peut-être pour les émigrés qui les voyaient de loin avec le grossissement de l' épouvante , firent -ils germer en lui des idées de renoncement et de solitude ?  \n",
      " Fut -il , au milieu d' une de ces distractions et de ces affections qui occupaient sa vie , subitement atteint d' un de ces coups mystérieux et terribles qui viennent quelquefois renverser , en le frappant au coeur , l' homme que les catastrophes publiques n' ébranleraient pas en le frappant dans son existence et dans sa fortune ? \n",
      " Nul n' aurait pu le dire ; tout ce qu' on savait , c' est que , lorsqu' il revint d' Italie , il était prêtre . \n",
      " En 1804 M. Myriel était curé de Brignolles . \n",
      " Il était déjà vieux , et vivait dans une retraite profonde . "
     ]
    }
   ],
   "source": [
    "for w in doc: print(w.text, end=' ')"
   ]
  },
  {
   "cell_type": "markdown",
   "metadata": {
    "id": "pgO1laMSoiSz"
   },
   "source": [
    "Les mots (`Token') de spacy disposent de champs : \n",
    "  - text (le texte du token)\n",
    "  - lemma_ (le terme initial (ex. infinitif du verbe, ....)\n",
    "  - et d'autres permettant de qualifier le mot (sujet, personne, style de conjugaison, suffixe, prefixe, .....)\n",
    "\n",
    "Les textes de python peuvent être convertis en minuscule par la fonction `lower()` (`\"BONJOUR\".lower()` donne `\"bonjour\"`).\n",
    "\n",
    "**QUESTION 1. Créer la fonction `calcul_de_frequences(doc:spacy.tokens.doc.Doc)->dict`** qui prend un document Spacy en entrée et donne en retour un dictionnaire contenant les mots utiles et leurs fréquences d'apparition (nombres d'apparition/le plus haut score d'apparition d'un mot) dans le texte."
   ]
  },
  {
   "cell_type": "code",
   "execution_count": 50,
   "metadata": {
    "executionInfo": {
     "elapsed": 803,
     "status": "ok",
     "timestamp": 1681727310527,
     "user": {
      "displayName": "Emmanuel Adam",
      "userId": "15242581799155232689"
     },
     "user_tz": -120
    },
    "id": "ZkyZE0AzLyYU"
   },
   "outputs": [],
   "source": [
    "### compute  the frequence of use of significant words\n",
    "### @return a dictionary (word, nb of use/max nb of use )\n",
    "def calcul_de_frequences(doc:spacy.tokens.doc.Doc)->dict:\n",
    "#TODO\n",
    "    return mots_frequences"
   ]
  },
  {
   "cell_type": "code",
   "execution_count": 51,
   "metadata": {},
   "outputs": [],
   "source": [
    "mots_frequences = calcul_de_frequences(doc)"
   ]
  },
  {
   "cell_type": "markdown",
   "metadata": {
    "id": "nZV4YqqUql9Z"
   },
   "source": [
    "---\n",
    "Spacy dispose d'une fonction permettant de récupérer les phrases d'un texte.\n",
    "Cette fonction n'est pas parfaite, le fait de couper à chaque signe '.' n'est pas réaliste. \n",
    "Par exemple \"M. Dupont enquête.\" n'est d'une phrase et non 2...\n",
    "\n",
    "Spacy prend en compte ce cas et d'autres.. Cependant des tournures de phrase peuvent parfois être mal détecter..  \n",
    "*Vous vérifierez, seulement par la suite pour affiner le TP, si Spacy a bien détecter les phrases du texte. \n",
    "Si ce n'est pas le cas, corriger en modifiant légèrement le texte...*\n",
    "\n",
    "Voici la commande pour récupérer les phrases : `doc.sents`"
   ]
  },
  {
   "cell_type": "code",
   "execution_count": 52,
   "metadata": {
    "colab": {
     "base_uri": "https://localhost:8080/"
    },
    "executionInfo": {
     "elapsed": 228,
     "status": "ok",
     "timestamp": 1681726617858,
     "user": {
      "displayName": "Emmanuel Adam",
      "userId": "15242581799155232689"
     },
     "user_tz": -120
    },
    "id": "uQrqH6xmrsrx",
    "outputId": "62efc88f-ac5d-4f0e-c5ab-63b2bccbf6d5"
   },
   "outputs": [
    {
     "name": "stdout",
     "output_type": "stream",
     "text": [
      "phrase 1 : En 1815, M. Charles-François-Bienvenu Myriel était évêque de Digne.\n",
      "\n",
      "phrase 2 : C'était un vieillard d'environ soixante-quinze ans;\n",
      "phrase 3 : il occupait le siège de Digne depuis 1806.\n",
      "Quoique ce détail ne touche en aucune manière au fond même de ce que nous avons à raconter, il n'est peut-être pas inutile, ne fût-ce que pour être exact en tout, d'indiquer ici les bruits et les propos qui avaient couru sur son compte au moment où il était arrivé dans le diocèse.\n",
      "\n",
      "phrase 4 : Vrai ou faux ce qu'on dit des hommes\n",
      "phrase 5 : tient souvent autant de place dans leur vie et surtout dans leur destinée que ce qu'ils font.\n",
      "\n",
      "phrase 6 : M.Myriel était fils d'un conseiller au parlement d'Aix;\n",
      "phrase 7 : noblesse de robe.\n",
      "\n",
      "phrase 8 : On contait de lui que son père, le réservant pour hériter de sa charge, l'avait marié de fort bonne heure, à dix-huit ou vingt ans, suivant un usage assez répandu dans les familles parlementaires.\n",
      "Charles Myriel, nonobstant ce mariage, avait, disaiton, beaucoup fait parler de lui.\n",
      "\n",
      "phrase 9 : Il était bien fait de sa personne, quoique d'assez petite taille, élégant, gracieux, spirituel;\n",
      "phrase 10 : toute la première partie de sa vie avait été donnée au monde et aux galanteries.\n",
      "\n",
      "phrase 11 : La révolution survint, les événements se précipitèrent, les familles parlementaires décimées, chassées, traquées, se dispersèrent.\n",
      "M. Charles Myriel, dès les premiers jours de la révolution, émigra en Italie.\n",
      "Sa femme y mourut d'une maladie de poitrine dont elle était atteinte depuis longtemps.\n",
      "\n",
      "phrase 12 : Ils n'avaient point d'enfants.\n",
      "\n",
      "phrase 13 : Que se passa-t-il ensuite dans la destinée de M. Myriel ?\n",
      "phrase 14 :  \n",
      "L'écroulement de l'ancienne société française, la chute de sa propre famille, les tragiques spectacles de 93, plus effrayants encore peut-être pour les émigrés qui les voyaient de loin avec le grossissement de l'épouvante, firent-ils germer en lui des idées de renoncement et de solitude ?\n",
      "phrase 15 :  \n",
      "Fut-il, au milieu d'une de ces distractions et de ces affections qui occupaient sa vie, subitement atteint d'un de ces coups mystérieux et terribles qui viennent quelquefois renverser, en le frappant au coeur, l'homme que les catastrophes publiques n'ébranleraient pas en le frappant dans son existence et dans sa fortune ?\n",
      "\n",
      "phrase 16 : Nul n'aurait pu le dire;\n",
      "phrase 17 : tout ce qu'on savait, c'est que, lorsqu'il revint d'Italie, il était prêtre.\n",
      "\n",
      "phrase 18 : En 1804 M. Myriel était curé de Brignolles.\n",
      "\n",
      "phrase 19 : Il était déjà vieux, et vivait dans une retraite profonde.\n"
     ]
    }
   ],
   "source": [
    "i=0\n",
    "for phrase in doc.sents:\n",
    "  i+=1\n",
    "  print(f'phrase {i} : {phrase}')"
   ]
  },
  {
   "cell_type": "markdown",
   "metadata": {
    "id": "JIFKgL-rt866"
   },
   "source": [
    "---\n",
    "**QUESTION 2. Créer la fonction `calculer_scores_phrases(doc:spacy.tokens.doc.Doc, frequences_de_mots:dict)->dict`** qui prend en entrée : \n",
    "  - un document Spacy \n",
    "  - un dictionnaires des mots utiles et de leurs nombre d'apparition\n",
    "et donne en sortie un dictionnaire avec comme clé : le no de la phrase dans le doc, et en valeur : la somme des valeurs des mots importants qui la compose.[texte du lien](https://)"
   ]
  },
  {
   "cell_type": "code",
   "execution_count": 53,
   "metadata": {
    "executionInfo": {
     "elapsed": 221,
     "status": "ok",
     "timestamp": 1681727496882,
     "user": {
      "displayName": "Emmanuel Adam",
      "userId": "15242581799155232689"
     },
     "user_tz": -120
    },
    "id": "QHanI7A-L3lg"
   },
   "outputs": [],
   "source": [
    "### compute  the score of each sentence\n",
    "### @return a dictionary (sentence, sum of word values)\n",
    "def compute_sentence_scores(doc:spacy.tokens.doc.Doc, frequences_de_mots:dict)->dict:\n",
    "#TODO\n",
    "    return phrases_scores"
   ]
  },
  {
   "cell_type": "markdown",
   "metadata": {
    "id": "1NMzC9qDviys"
   },
   "source": [
    "---\n",
    "*Il ne reste plus qu'à* créer le résumé.. \n",
    "\n",
    "**QUESTION 3. Créer la fonction `calculer_résumé(texte:str, ratio:float)->str`** qui prend en entrée : \n",
    "  - un long `texte`\n",
    "  - un `ratio` entre 0 et 1\n",
    "et retourne le texte initiale résumé à `ratio`%.\n",
    "\n",
    "Pour créer le résumé, on trie les phrases par ordre de valeur, on en récupère `ratio`% du total des phrases, et on les affiches dans l'ordre de leur no."
   ]
  },
  {
   "cell_type": "code",
   "execution_count": 54,
   "metadata": {
    "executionInfo": {
     "elapsed": 232,
     "status": "ok",
     "timestamp": 1681728019967,
     "user": {
      "displayName": "Emmanuel Adam",
      "userId": "15242581799155232689"
     },
     "user_tz": -120
    },
    "id": "MOLs3cqeTVSa"
   },
   "outputs": [],
   "source": [
    "from heapq import nlargest\n",
    "\n",
    "def calculer_resume(texte:str, ratio:float)->str:\n",
    "#TODO\n",
    "    return resume"
   ]
  },
  {
   "cell_type": "code",
   "execution_count": 56,
   "metadata": {
    "colab": {
     "base_uri": "https://localhost:8080/"
    },
    "executionInfo": {
     "elapsed": 224,
     "status": "ok",
     "timestamp": 1681728021420,
     "user": {
      "displayName": "Emmanuel Adam",
      "userId": "15242581799155232689"
     },
     "user_tz": -120
    },
    "id": "TYkAhaJ0RrVB",
    "outputId": "b99155d3-2190-45e0-ad39-6f2572925405"
   },
   "outputs": [
    {
     "name": "stdout",
     "output_type": "stream",
     "text": [
      "nb de phrases detectee = 19\n",
      "nb de phrases vise = 7\n",
      "summary=En 1815, M. Charles-François-Bienvenu Myriel était évêque de Digne.\n",
      "C'était un vieillard d'environ soixante-quinze ans;il occupait le siège de Digne depuis 1806.\n",
      "Quoique ce détail ne touche en aucune manière au fond même de ce que nous avons à raconter, il n'est peut-être pas inutile, ne fût-ce que pour être exact en tout, d'indiquer ici les bruits et les propos qui avaient couru sur son compte au moment où il était arrivé dans le diocèse.\n",
      "Vrai ou faux ce qu'on dit des hommestient souvent autant de place dans leur vie et surtout dans leur destinée que ce qu'ils font.\n",
      "M.Myriel était fils d'un conseiller au parlement d'Aix;Que se passa-t-il ensuite dans la destinée de M. Myriel ?\n"
     ]
    }
   ],
   "source": [
    "summary = calculer_resume(text, 0.4)\n",
    "print(f'summary={summary}')"
   ]
  },
  {
   "cell_type": "markdown",
   "metadata": {},
   "source": [
    "---\n",
    "A partir de ce texte complet du chapitre I, 1, 1 « M. Myriel » des «Les Misérables » de V. Hugo :   "
   ]
  },
  {
   "cell_type": "code",
   "execution_count": null,
   "metadata": {},
   "outputs": [],
   "source": [
    "texte_long = \"\"\"En 1815, M. Charles-François-Bienvenu Myriel était évêque de Digne.\n",
    "C'était un vieillard d'environ soixante-quinze ans; il occupait le siège de Digne depuis 1806.\n",
    "Quoique ce détail ne touche en aucune manière au fond même de ce que nous avons à raconter, il n'est peut-être pas inutile, ne fût-ce que pour être exact en tout, d'indiquer ici les bruits et les propos qui avaient couru sur son compte au moment où il était arrivé dans le diocèse.\n",
    "Vrai ou faux ce qu'on dit des hommes tient souvent autant de place dans leur vie et surtout dans leur destinée que ce qu'ils font.\n",
    "M.Myriel était fils d'un conseiller au parlement d'Aix; noblesse de robe.\n",
    "On contait de lui que son père, le réservant pour hériter de sa charge, l'avait marié de fort bonne heure, à dix-huit ou vingt ans, suivant un usage assez répandu dans les familles parlementaires.\n",
    "Charles Myriel, nonobstant ce mariage, avait, disaiton, beaucoup fait parler de lui.\n",
    "Il était bien fait de sa personne, quoique d'assez petite taille, élégant, gracieux, spirituel; toute la première partie de sa vie avait été donnée au monde et aux galanteries.\n",
    "La révolution survint, les événements se précipitèrent, les familles parlementaires décimées, chassées, traquées, se dispersèrent.\n",
    "M. Charles Myriel, dès les premiers jours de la révolution, émigra en Italie.\n",
    "Sa femme y mourut d'une maladie de poitrine dont elle était atteinte depuis longtemps.\n",
    "Ils n'avaient point d'enfants.\n",
    "Que se passa-t-il ensuite dans la destinée de M. Myriel ?  \n",
    "L'écroulement de l'ancienne société française, la chute de sa propre famille, les tragiques spectacles de 93, plus effrayants encore peut-être pour les émigrés qui les voyaient de loin avec le grossissement de l'épouvante, firent-ils germer en lui des idées de renoncement et de solitude ?  \n",
    "Fut-il, au milieu d'une de ces distractions et de ces affections qui occupaient sa vie, subitement atteint d'un de ces coups mystérieux et terribles qui viennent quelquefois renverser, en le frappant au coeur, l'homme que les catastrophes publiques n'ébranleraient pas en le frappant dans son existence et dans sa fortune ?\n",
    "Nul n'aurait pu le dire; tout ce qu'on savait, c'est que, lorsqu'il revint d'Italie, il était prêtre.\n",
    "En 1804 M. Myriel était curé de Brignolles.\n",
    "Il était déjà vieux, et vivait dans une retraite profonde.\n",
    "Vers l'époque du couronnement, une petite affaire de sa cure, on ne sait plus trop quoi, l'amena à Paris.\n",
    "Entre autres personnes puissantes, il alla solliciter pour ses paroissiens M. le cardinal Fesch.\n",
    "Un jour que l'empereur était venu faire visite à son oncle, le digne curé qui attendait dans l'antichambre, se trouva sur le passage de sa majesté.\n",
    "Napoléon, se voyant regarder avec une certaine curiosité par ce vieillard, se retourna et dit brusquement :\n",
    "« – Quel est ce bonhomme qui me regarde? »\n",
    "« – Sire, dit M. Myriel, vous regardez un bonhomme et moi je regarde un grand homme.\n",
    "Chacun de nous peut profiter. »\n",
    "L'empereur, le soir même, demanda au cardinal le nom de ce curé, et quelque temps \n",
    "après M. Myriel fut tout surpris d'apprendre qu'il était nommé évêque de Digne.\n",
    "\n",
    "Qu'y avait-il de vrai du reste dans les récits qu'on faisait sur la première partie de la vie de M. Myriel? Personne ne le savait.\n",
    "Peu de familles avaient connu la famille Myriel avant la révolution.\n",
    "M. Myriel devait subir le sort de tout nouveau venu dans une petite ville où il y a beaucoup de bouches qui parlent et fort peu de têtes qui pensent.\n",
    "Il devait le subir, quoiqu'il fût évêque et parce qu'il était évêque.\n",
    "Mais, après tout, les propos auxquels on mêlait son nom n'étaient peut-être que des propos; du bruit, des mots, des paroles; moins que des paroles, des palabres, comme dit l'énergique langue du midi.\n",
    "Quoi qu'il en fût, après neuf ans d'épiscopat et de résidence à Digne, tous ces racontages, sujets de conversation qui occupent dans le premier moment les petites villes et les petites gens, étaient tombés dans un oubli profond.\n",
    "Personne n'eût osé en parler, personne n'eût même osé s'en souvenir.\n",
    "M. Myriel était arrivé à Digne accompagné d'une vieille fille, mademoiselle Baptistine, qui était sa soeur et qui avait dix ans de moins que lui.\n",
    "Ils avaient pour tout domestique une servante du même âge que mademoiselle Baptistine, et appelée madame Magloire, laquelle, après avoir été la servante de M. le Curé, prenait maintenant le double titre de femme de chambre de mademoiselle et femme de charge de monseigneur.\n",
    "Mademoiselle Baptistine était une personne longue, pâle, mince, douce.\n",
    "Elle réalisait l'idéal de ce qu'exprime le mot «respectable» car il semble qu'il soit nécessaire qu'une femme soit mère pour être vénérable.\n",
    "Elle n'avait jamais été jolie.\n",
    "Toute sa vie, qui n'avait été qu'une suite de saintes oeuvres, avait fini par mettre sur elle une sorte de blancheur et de clarté; et, en vieillissant, elle avait gagné ce qu'on pourrait appeler la beauté de la bonté.\n",
    "Ce qui avait été de la maigreur dans sa jeunesse était devenu, dans sa maturité, de la transparence; et cette diaphanéité laissait voir l'ange.\n",
    "C'était une âme plus encore que ce n'était une vierge.\n",
    "Sa personne semblait faite d'ombre, à peine assez de corps pour qu'il y eût là un\n",
    "sexe, un peu de matière contenant une lueur, de grands yeux toujours baissés, un prétexte pour qu'une âme reste sur la terre.\n",
    "Madame Magloire était une petite vieille, blanche, grasse, replète, affairée, toujours haletante, à cause de son activité d'abord, ensuite à cause d'un asthme.\n",
    "A son arrivée, on installa M. Myriel en son palais épiscopal avec les honneurs voulus par les décrets impériaux qui classent l'évêque immédiatement après le maréchal de camp.\n",
    "Le maire et le président lui firent la première visite et lui de son côté fit la première visite au général et au préfet.\n",
    "L'installation terminée, la ville attendit son évêque à l’oeuvre.\"\"\""
   ]
  },
  {
   "cell_type": "markdown",
   "metadata": {},
   "source": [
    "---\n",
    "**Q4.** **Donnez un résumé sur 1/3 de la longueur...**"
   ]
  },
  {
   "cell_type": "markdown",
   "metadata": {},
   "source": [
    "---\n",
    "**Q5. Listez les noms, les noms propres et les verbes**\n"
   ]
  },
  {
   "cell_type": "code",
   "execution_count": null,
   "metadata": {},
   "outputs": [],
   "source": [
    "#la liste des noms propres détectés par Spacy est la suivante : \n",
    "print(\"Noms propres:\", [token.lemma_ for token in doc if token.pos_ == \"PROPN\"])"
   ]
  },
  {
   "cell_type": "markdown",
   "metadata": {},
   "source": [
    "**Définir la fonction extraction(doc)** qui affiche la liste des noms propres (sans redondance), des verbes (sans redondance), des noms communs (sans noms propres et sans redondance).\n",
    "  - \"PROPN\" est le tag pour ls verbes\n",
    "  - \"NOUN\" est le tag pour les noms communs"
   ]
  },
  {
   "cell_type": "markdown",
   "metadata": {},
   "source": [
    "Peut être que les noms propres ont plus d'importance que les noms communs. On pourrait augmenter le score des fréquence des noms propres de 10% pour voir ce qu'il se passe...."
   ]
  },
  {
   "cell_type": "code",
   "execution_count": null,
   "metadata": {},
   "outputs": [],
   "source": []
  }
 ],
 "metadata": {
  "colab": {
   "authorship_tag": "ABX9TyNo+MLodmjsx5jHsnS2uxMg",
   "collapsed_sections": [
    "b2cnLCBme322",
    "gYc9okudlQv-"
   ],
   "provenance": []
  },
  "kernelspec": {
   "display_name": "Python 3 (ipykernel)",
   "language": "python",
   "name": "python3"
  },
  "language_info": {
   "codemirror_mode": {
    "name": "ipython",
    "version": 3
   },
   "file_extension": ".py",
   "mimetype": "text/x-python",
   "name": "python",
   "nbconvert_exporter": "python",
   "pygments_lexer": "ipython3",
   "version": "3.9.16"
  }
 },
 "nbformat": 4,
 "nbformat_minor": 4
}
