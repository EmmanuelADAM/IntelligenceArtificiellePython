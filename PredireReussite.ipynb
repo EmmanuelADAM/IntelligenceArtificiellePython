{
 "cells": [
  {
   "cell_type": "markdown",
   "metadata": {
    "colab_type": "text",
    "id": "view-in-github"
   },
   "source": [
    "<a href=\"https://colab.research.google.com/github/EmmanuelADAM/IntelligenceArtificiellePython/blob/master/PredireReussite.ipynb\" target=\"_parent\"><img src=\"https://colab.research.google.com/assets/colab-badge.svg\" alt=\"Open In Colab\"/></a>"
   ]
  },
  {
   "cell_type": "markdown",
   "metadata": {
    "colab_type": "text",
    "id": "3qF8xmpAdACr"
   },
   "source": [
    "# Prédire la réussite des études\n",
    "\n",
    "Dans cet exercice, il s'agit d'étudier un ensemble de données sur la performance d'étudiantes et d'étudiants aux hautes études en fonction du contexte local, familliale et personnel.\n",
    "\n",
    "Le but est de créer un réseau de neurones capable de prédire la réussite d'une personne en fonction de ces données.\n",
    "\n",
    "Le jeux de données (dataset) est issu du site [kaggle](https://www.kaggle.com/); il comporte 145 exemples, composés de 20 critères, et d'une sortie (le niveau de réussite).\n",
    "\n",
    "Voici le fichier à télécharger : [student_prediction_td.csv](https://github.com/EmmanuelADAM/IntelligenceArtificiellePython/blob/master/student_prediction_td.csv)"
   ]
  },
  {
   "cell_type": "markdown",
   "metadata": {},
   "source": [
    "---\n",
    "Les données représentant les personnes sont les suivantes : \n",
    " - **Student Age** (1: 18-21, 2: 22-25, 3: above 26)\n",
    " - **Sex** (1: female, 2: male)\n",
    " - **Graduated high-school type:** (1: private, 2: state, 3: other)\n",
    " - **Scholarship type:** (1: None, 2: 25%, 3: 50%, 4: 75%, 5: Full)\n",
    " - **Additional work:** (1: Yes, 2: No)\n",
    " - **Regular artistic or sports activity:** (1: Yes, 2: No)\n",
    " - **Do you have a partner:** (1: Yes, 2: No)\n",
    " - **Transportation to the university:** (1: Bus, 2: Private car/taxi, 3: bicycle, 4: Other)\n",
    " - **Accommodation type in Cyprus:** (1: rental, 2: dormitory, 3: with family, 4: Other)\n",
    " - **Mother's education:** (1: primary school, 2: secondary school, 3: high school, 4: university, 5: MSc., 6: Ph.D.)\n",
    " - **Father's education:** (1: primary school, 2: secondary school, 3: high school, 4: university, 5: MSc., 6: Ph.D.)\n",
    " - **Number of sisters/brothers (if available):** (1: 1, 2:, 2, 3: 3, 4: 4, 5: 5 or above)\n",
    " - **Parental status:** (1: married, 2: divorced, 3: died - one of them or both)\n",
    " - **Weekly study hours:** (1: None, 2: <5 hours, 3: 6-10 hours, 4: 11-20 hours, 5: more than 20 hours)\n",
    " - **Reading frequency (non-scientific books/journals):** (1: None, 2: Sometimes, 3: Often)\n",
    " - **Attendance to classes** (1: always, 2: sometimes, 3: never)\n",
    " - **Preparation to midterm exams 1:** (1: alone, 2: with friends, 3: not applicable)\n",
    " - **Preparation to midterm exams 2:** (1: closest date to the exam, 2: regularly during the semester, 3: never)\n",
    " - **Taking notes in classes:** (1: never, 2: sometimes, 3: always)\n",
    " - **Listening in classes:** (1: never, 2: sometimes, 3: always)\n",
    " - **Discussion improves my interest and success in the course:** (1: never, 2: sometimes, 3: always)\n",
    "\n",
    "La sortie est codée ainsi : \n",
    " - **OUTPUT Grade** (0: Fail, 1: DD, 2: DC, 3: CC, 4: CB, 5: BB, 6: BA, 7: AA)"
   ]
  },
  {
   "cell_type": "markdown",
   "metadata": {
    "colab_type": "text",
    "id": "JZpJB9iOdRS3"
   },
   "source": [
    "---\n",
    "## Apprentissage par l'exemple\n",
    "\n",
    "Basez vous sur l'exercice/l'exemple de détection d'alertes, ou de classification de mail pour coder par vous même le réseau."
   ]
  },
  {
   "cell_type": "markdown",
   "metadata": {
    "colab_type": "text",
    "id": "N38spzckmMMJ"
   },
   "source": [
    "---\n",
    "## Utilisation du réseau\n",
    "Déterminez la probabilité de réussite :\n",
    " 1. d'une femme de 25 ans, étudiant à plein temps dans une université, n'ayant pas d'emploi, et membre d'un groupe de musique, en couple dans une location, se rendant aux cours en bus, dont les parents se sont arrêtés au lycée, ayant 1 frère, qui assiste aux 20h de cours hebdomadaires, qui révise seule et à la dernière minute, mais qui prend des notes et écoute en classe ?\n",
    " 2. de votre cas personnel ?\n",
    " \n",
    "- Quel est l'impact du niveau d'étude des parents sur la réussite d'une personne ?\n",
    "\n",
    "- Quel est l'impact de l'écoute et de la prise de notes ?"
   ]
  },
  {
   "cell_type": "code",
   "execution_count": null,
   "metadata": {},
   "outputs": [],
   "source": []
  }
 ],
 "metadata": {
  "colab": {
   "collapsed_sections": [],
   "name": "TestOUX.ipynb",
   "provenance": [],
   "version": "0.3.2"
  },
  "kernelspec": {
   "display_name": "Python 3 (ipykernel)",
   "language": "python",
   "name": "python3"
  },
  "language_info": {
   "codemirror_mode": {
    "name": "ipython",
    "version": 3
   },
   "file_extension": ".py",
   "mimetype": "text/x-python",
   "name": "python",
   "nbconvert_exporter": "python",
   "pygments_lexer": "ipython3",
   "version": "3.9.7"
  }
 },
 "nbformat": 4,
 "nbformat_minor": 4
}
