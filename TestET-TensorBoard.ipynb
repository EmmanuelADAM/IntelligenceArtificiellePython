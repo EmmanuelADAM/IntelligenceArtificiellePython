{
 "cells": [
  {
   "cell_type": "markdown",
   "metadata": {
    "colab_type": "text",
    "id": "view-in-github"
   },
   "source": [
    "<a href=\"https://colab.research.google.com/github/EmmanuelADAM/IntelligenceArtificiellePython/blob/master/TestET-TensorBoard.ipynb\" target=\"_parent\"><img src=\"https://colab.research.google.com/assets/colab-badge.svg\" alt=\"Open In Colab\"/></a>"
   ]
  },
  {
   "cell_type": "markdown",
   "metadata": {
    "colab_type": "text",
    "id": "3qF8xmpAdACr"
   },
   "source": [
    "# Exemple d'apprentissage du ET avec TensorFlow\n",
    "## Illustration de l'importance du Bias\n",
    "\n",
    "|a|b|a et b|\n",
    "|:-:|:-:|:-:|\n",
    "|0|0|0|\n",
    "|0|1|0|\n",
    "|1|0|0|\n",
    "|1|1|1|\n",
    "\n",
    "\n",
    "*Théoriquement, en 1 couche, l'apprentissage du ET par réseau de neurones n'est pas possible.*\n",
    "\n",
    "En effet, la couche n'est consituée que de 1 neurone (1 sortie), ses entrées sont les valeurs `a` et `b`.\n",
    "`wa` et `wb` étant les poids affectés à ces valeurs, il faut vérifier : \n",
    " - `f(0)` tend vers 0 --> ok\n",
    " - `f(wb)` tend vers 0\n",
    " - `f(wa)` tend vers 0\n",
    " - `f(wa + wb)` tend vers 1 --> conflit avec les lignes précédentes\n",
    " \n",
    "*Vérifions le...*\n"
   ]
  },
  {
   "cell_type": "markdown",
   "metadata": {
    "colab_type": "text",
    "id": "JZpJB9iOdRS3"
   },
   "source": [
    "---\n",
    "**Importer les librairies**"
   ]
  },
  {
   "cell_type": "code",
   "execution_count": 1,
   "metadata": {
    "colab": {},
    "colab_type": "code",
    "id": "odDg9S7xdFsv"
   },
   "outputs": [],
   "source": [
    "#keras : Python Deep Learning library\n",
    "import tensorflow.keras as keras\n",
    "#prevision d'utiliser un réseau en couches séquentielles\n",
    "from tensorflow.keras.models import Sequential\n",
    "#prevision d'utiliser des couches totalement connectées la précédente\n",
    "from tensorflow.keras.layers import Dense\n",
    "#utilisation de la classique librairie pour tableaux, ...\n",
    "import numpy as np"
   ]
  },
  {
   "cell_type": "markdown",
   "metadata": {
    "tags": []
   },
   "source": [
    "---\n",
    "#### Installation du tableau de bord tensorflow pour étudier l'apprentissage\n",
    "Enregistre des données sur l'évolution des performances dans un fichier log qui sera visualisé par des outils graphiques"
   ]
  },
  {
   "cell_type": "code",
   "execution_count": 2,
   "metadata": {},
   "outputs": [],
   "source": [
    "##Chargement du tableau de bord tensorflow\n",
    "%load_ext tensorboard"
   ]
  },
  {
   "cell_type": "code",
   "execution_count": 3,
   "metadata": {
    "tags": []
   },
   "outputs": [],
   "source": [
    "#besoin du package sur les dates\n",
    "import datetime"
   ]
  },
  {
   "cell_type": "code",
   "execution_count": 4,
   "metadata": {},
   "outputs": [],
   "source": [
    "# Efface tous les anciens logs (attention au repertoire)\n",
    "%rm -rf ./etLogs/"
   ]
  },
  {
   "cell_type": "markdown",
   "metadata": {
    "colab_type": "text",
    "id": "XN8WXXdTdXx0",
    "tags": []
   },
   "source": [
    "---\n",
    "\n",
    "## Définir les entrées et sorties attendues\n"
   ]
  },
  {
   "cell_type": "code",
   "execution_count": 5,
   "metadata": {
    "colab": {},
    "colab_type": "code",
    "id": "A1mjGN2Bb5Ki"
   },
   "outputs": [],
   "source": [
    "# a et b sont les seules entrées\n",
    "entrees = np.array([[0,0],\n",
    "                    [0,1],\n",
    "                    [1,0],\n",
    "                    [1,1]], float)\n",
    "\n",
    "# une seule sortie\n",
    "sorties = np.array([[0],\n",
    "                    [0],\n",
    "                    [0],\n",
    "                    [1]], float)"
   ]
  },
  {
   "cell_type": "markdown",
   "metadata": {
    "colab_type": "text",
    "id": "SC-1MnShdwe0"
   },
   "source": [
    "---\n",
    "## 1. Version sans BIAS"
   ]
  },
  {
   "cell_type": "markdown",
   "metadata": {},
   "source": [
    "### 1.1. Choisir le modèle de réseau \n",
    "***ici les couches sont séquentielles***"
   ]
  },
  {
   "cell_type": "code",
   "execution_count": 6,
   "metadata": {
    "colab": {},
    "colab_type": "code",
    "id": "WbST4EmqcCdJ"
   },
   "outputs": [
    {
     "name": "stderr",
     "output_type": "stream",
     "text": [
      "2022-04-25 11:35:08.176177: I tensorflow/core/platform/cpu_feature_guard.cc:142] This TensorFlow binary is optimized with oneAPI Deep Neural Network Library (oneDNN) to use the following CPU instructions in performance-critical operations:  SSE4.1 SSE4.2 AVX AVX2 FMA\n",
      "To enable them in other operations, rebuild TensorFlow with the appropriate compiler flags.\n"
     ]
    }
   ],
   "source": [
    "model = Sequential()"
   ]
  },
  {
   "cell_type": "markdown",
   "metadata": {
    "colab_type": "text",
    "id": "Jo5Ej8kkd8nh"
   },
   "source": [
    "### 1.2. Définir l'architecture du réseau\n",
    "- ici une seule couche constituée de 1 neurone en sortie, \n",
    "- de 2 neurones en entrée (pour chaque valeur), \n",
    "- utilisation de la sigmoïde comme fonction d'activation"
   ]
  },
  {
   "cell_type": "code",
   "execution_count": 7,
   "metadata": {
    "colab": {},
    "colab_type": "code",
    "id": "Vr6dcOJicGYM"
   },
   "outputs": [],
   "source": [
    "model.add(Dense(1, input_dim=2, use_bias=False, activation='sigmoid'))"
   ]
  },
  {
   "cell_type": "markdown",
   "metadata": {
    "colab_type": "text",
    "id": "8L4LxSBWeaF1"
   },
   "source": [
    "---\n",
    "\n",
    "### 1.3. Compiler le  réseau\n",
    "Ici, on précise que \n",
    "  - l'algo de correction d'erreur est 'Adamax', \n",
    "  - l'erreur calculée est la moyenne des valeurs absolues des erreurs commises"
   ]
  },
  {
   "cell_type": "code",
   "execution_count": 8,
   "metadata": {
    "colab": {},
    "colab_type": "code",
    "id": "HlnG97g7cQKW"
   },
   "outputs": [],
   "source": [
    "model.compile(optimizer='adamax', loss='MSE')"
   ]
  },
  {
   "cell_type": "markdown",
   "metadata": {},
   "source": [
    "----\n",
    "#### <font color=\"red\">Ajout de la volonté d'enregistrer dans un log les etapes d'apprentissage</code>\n"
   ]
  },
  {
   "cell_type": "code",
   "execution_count": 9,
   "metadata": {
    "tags": []
   },
   "outputs": [
    {
     "name": "stderr",
     "output_type": "stream",
     "text": [
      "2022-04-25 11:35:08.310318: I tensorflow/core/profiler/lib/profiler_session.cc:136] Profiler session initializing.\n",
      "2022-04-25 11:35:08.310334: I tensorflow/core/profiler/lib/profiler_session.cc:155] Profiler session started.\n",
      "2022-04-25 11:35:08.310403: I tensorflow/core/profiler/lib/profiler_session.cc:172] Profiler session tear down.\n"
     ]
    }
   ],
   "source": [
    "log_dir = \"etLogs/fit/\" + datetime.datetime.now().strftime(\"%Y%m%d-%H%M%S\")\n",
    "tensorboard_callback = keras.callbacks.TensorBoard(log_dir=log_dir, histogram_freq=1)"
   ]
  },
  {
   "cell_type": "markdown",
   "metadata": {
    "colab_type": "text",
    "id": "rZ4IQ-bIdtN1"
   },
   "source": [
    "---\n",
    "\n",
    "### 1.4. Entraîner le réseau \n",
    "- ici on ne le fait pas parler (verbose = 0), \n",
    "- et on lance 10000 cycles d'apprentissage\n",
    "- <font color=\"red\">*Et on indique l'enregistreur de logs (callbacs)*</code>"
   ]
  },
  {
   "cell_type": "code",
   "execution_count": 10,
   "metadata": {
    "colab": {
     "base_uri": "https://localhost:8080/",
     "height": 34
    },
    "colab_type": "code",
    "id": "ddTla-J_cfz8",
    "outputId": "3f251574-0acf-4b59-e480-3e736b427625"
   },
   "outputs": [
    {
     "name": "stderr",
     "output_type": "stream",
     "text": [
      "2022-04-25 11:35:08.374999: I tensorflow/compiler/mlir/mlir_graph_optimization_pass.cc:116] None of the MLIR optimization passes are enabled (registered 2)\n",
      "2022-04-25 11:35:08.625762: I tensorflow/core/profiler/lib/profiler_session.cc:136] Profiler session initializing.\n",
      "2022-04-25 11:35:08.625783: I tensorflow/core/profiler/lib/profiler_session.cc:155] Profiler session started.\n",
      "2022-04-25 11:35:08.629043: I tensorflow/core/profiler/lib/profiler_session.cc:71] Profiler session collecting data.\n",
      "2022-04-25 11:35:08.638678: I tensorflow/core/profiler/lib/profiler_session.cc:172] Profiler session tear down.\n",
      "2022-04-25 11:35:08.653787: I tensorflow/core/profiler/rpc/client/save_profile.cc:137] Creating directory: etLogs/fit/20220425-113508/train/plugins/profile/2022_04_25_11_35_08\n",
      "2022-04-25 11:35:08.656101: I tensorflow/core/profiler/rpc/client/save_profile.cc:143] Dumped gzipped tool data for trace.json.gz to etLogs/fit/20220425-113508/train/plugins/profile/2022_04_25_11_35_08/MacBook-Pro-de-Emmanuel-2.local.trace.json.gz\n",
      "2022-04-25 11:35:08.665227: I tensorflow/core/profiler/rpc/client/save_profile.cc:137] Creating directory: etLogs/fit/20220425-113508/train/plugins/profile/2022_04_25_11_35_08\n",
      "2022-04-25 11:35:08.665505: I tensorflow/core/profiler/rpc/client/save_profile.cc:143] Dumped gzipped tool data for memory_profile.json.gz to etLogs/fit/20220425-113508/train/plugins/profile/2022_04_25_11_35_08/MacBook-Pro-de-Emmanuel-2.local.memory_profile.json.gz\n",
      "2022-04-25 11:35:08.666218: I tensorflow/core/profiler/rpc/client/capture_profile.cc:251] Creating directory: etLogs/fit/20220425-113508/train/plugins/profile/2022_04_25_11_35_08Dumped tool data for xplane.pb to etLogs/fit/20220425-113508/train/plugins/profile/2022_04_25_11_35_08/MacBook-Pro-de-Emmanuel-2.local.xplane.pb\n",
      "Dumped tool data for overview_page.pb to etLogs/fit/20220425-113508/train/plugins/profile/2022_04_25_11_35_08/MacBook-Pro-de-Emmanuel-2.local.overview_page.pb\n",
      "Dumped tool data for input_pipeline.pb to etLogs/fit/20220425-113508/train/plugins/profile/2022_04_25_11_35_08/MacBook-Pro-de-Emmanuel-2.local.input_pipeline.pb\n",
      "Dumped tool data for tensorflow_stats.pb to etLogs/fit/20220425-113508/train/plugins/profile/2022_04_25_11_35_08/MacBook-Pro-de-Emmanuel-2.local.tensorflow_stats.pb\n",
      "Dumped tool data for kernel_stats.pb to etLogs/fit/20220425-113508/train/plugins/profile/2022_04_25_11_35_08/MacBook-Pro-de-Emmanuel-2.local.kernel_stats.pb\n",
      "\n"
     ]
    },
    {
     "data": {
      "text/plain": [
       "<tensorflow.python.keras.callbacks.History at 0x128e9e310>"
      ]
     },
     "execution_count": 10,
     "metadata": {},
     "output_type": "execute_result"
    }
   ],
   "source": [
    "model.fit(entrees, sorties, verbose=0, epochs=1000, callbacks=[tensorboard_callback])"
   ]
  },
  {
   "cell_type": "markdown",
   "metadata": {
    "colab_type": "text",
    "id": "I0zBYIALlDYp"
   },
   "source": [
    "---\n",
    "\n",
    "### 1.5. Vérifier le réseau\n",
    "Etape facultative, en général ***on teste le réseau sur d'autres exemples***. \n",
    "- Ici, on n'en a pas. Alors on lui demande de calculer la sortie pour chaque exemple de l'ensemble d'entraînement"
   ]
  },
  {
   "cell_type": "code",
   "execution_count": 11,
   "metadata": {},
   "outputs": [
    {
     "data": {
      "text/plain": [
       "array([[0., 0.],\n",
       "       [0., 1.],\n",
       "       [1., 0.],\n",
       "       [1., 1.]])"
      ]
     },
     "execution_count": 11,
     "metadata": {},
     "output_type": "execute_result"
    }
   ],
   "source": [
    "entrees"
   ]
  },
  {
   "cell_type": "code",
   "execution_count": 12,
   "metadata": {
    "colab": {},
    "colab_type": "code",
    "id": "Z89vptAXcuDM"
   },
   "outputs": [],
   "source": [
    "predictions = model.predict(entrees)"
   ]
  },
  {
   "cell_type": "code",
   "execution_count": 13,
   "metadata": {},
   "outputs": [
    {
     "data": {
      "text/plain": [
       "array([[0.5       ],\n",
       "       [0.4572034 ],\n",
       "       [0.52889764],\n",
       "       [0.48603192]], dtype=float32)"
      ]
     },
     "execution_count": 13,
     "metadata": {},
     "output_type": "execute_result"
    }
   ],
   "source": [
    "predictions"
   ]
  },
  {
   "cell_type": "code",
   "execution_count": 14,
   "metadata": {
    "colab": {
     "base_uri": "https://localhost:8080/",
     "height": 153
    },
    "colab_type": "code",
    "id": "E7Lluiifcx0b",
    "outputId": "a68a8d3f-24f5-4f70-95fc-a215b158ee09"
   },
   "outputs": [],
   "source": [
    "## petite fonction pour afficher ce qui était attendu et ce qui a ete calculé\n",
    "def verification(model, entrees, sorties, predictions, bias=False):\n",
    "    print(\"verification\")\n",
    "    for i in range(0, len(entrees)):\n",
    "        print(entrees[i][0], \" - \", entrees[i][1], \" attendu \", sorties[i], \" trouvé \",  predictions[i])\n",
    "\n",
    "    ws = model.get_weights()\n",
    "    print(\"poids pour entree x = \" + str(ws[0][0][0]))\n",
    "    print(\"poids pour entree y = \" + str(ws[0][1][0]))\n",
    "    if(bias):print(\"poids pour bias = \" + str(ws[1][0]))\n"
   ]
  },
  {
   "cell_type": "code",
   "execution_count": 15,
   "metadata": {},
   "outputs": [
    {
     "name": "stdout",
     "output_type": "stream",
     "text": [
      "verification\n",
      "0.0  -  0.0  attendu  [0.]  trouvé  [0.5]\n",
      "0.0  -  1.0  attendu  [0.]  trouvé  [0.4572034]\n",
      "1.0  -  0.0  attendu  [0.]  trouvé  [0.52889764]\n",
      "1.0  -  1.0  attendu  [1.]  trouvé  [0.48603192]\n",
      "poids pour entree x = 0.11571951\n",
      "poids pour entree y = -0.17160642\n"
     ]
    }
   ],
   "source": [
    "verification(model, entrees, sorties, predictions)"
   ]
  },
  {
   "cell_type": "markdown",
   "metadata": {
    "colab_type": "text",
    "id": "N38spzckmMMJ"
   },
   "source": [
    "---\n",
    "### 1.6. Affichage des résultats\n",
    "Ici pas de nécessité de graphique d'évolution de l'erreur.\n",
    "On affiche les entrées, la sortie attendue, la sortie calculée ainsi que les poids appliquées aux entrées et au signal bias.."
   ]
  },
  {
   "cell_type": "code",
   "execution_count": 16,
   "metadata": {},
   "outputs": [
    {
     "name": "stdout",
     "output_type": "stream",
     "text": [
      "perte= 0.2507327198982239\n"
     ]
    }
   ],
   "source": [
    "loss = model.evaluate(entrees, sorties,verbose=0)\n",
    "print(\"perte=\",loss)"
   ]
  },
  {
   "cell_type": "markdown",
   "metadata": {},
   "source": [
    "**Des erreurs importantes donc**, comme prévu...."
   ]
  },
  {
   "cell_type": "markdown",
   "metadata": {
    "colab_type": "text",
    "id": "I0zBYIALlDYp",
    "tags": []
   },
   "source": [
    "---\n",
    "\n",
    "#### Utilisation du tableau de bord\n"
   ]
  },
  {
   "cell_type": "code",
   "execution_count": 17,
   "metadata": {
    "tags": []
   },
   "outputs": [
    {
     "data": {
      "text/html": [
       "\n",
       "      <iframe id=\"tensorboard-frame-4204c28371cc17c1\" width=\"100%\" height=\"800\" frameborder=\"0\">\n",
       "      </iframe>\n",
       "      <script>\n",
       "        (function() {\n",
       "          const frame = document.getElementById(\"tensorboard-frame-4204c28371cc17c1\");\n",
       "          const url = new URL(\"/\", window.location);\n",
       "          const port = 6006;\n",
       "          if (port) {\n",
       "            url.port = port;\n",
       "          }\n",
       "          frame.src = url;\n",
       "        })();\n",
       "      </script>\n",
       "    "
      ],
      "text/plain": [
       "<IPython.core.display.HTML object>"
      ]
     },
     "metadata": {},
     "output_type": "display_data"
    }
   ],
   "source": [
    "%tensorboard --logdir etLogs/fit"
   ]
  },
  {
   "cell_type": "markdown",
   "metadata": {},
   "source": [
    "---\n",
    "## 2. Version AVEC BIAS\n",
    "\n",
    "Le tableau est alors\n",
    "\n",
    "|bias|a|b|a et b|\n",
    "|:-:|:-:|:-:|:-:|\n",
    "|1|0|0|0|\n",
    "|1|0|1|0|\n",
    "|1|1|0|0|\n",
    "|1|1|1|1|\n",
    "\n",
    "\n",
    "*Théoriquement, en 1 couche, l'apprentissage du ET par réseau de neurones est alors possible.*\n",
    "\n",
    "En effet, la couche n'est consituée que de 1 neurone (1 sortie), ses entrées sont les valeurs `bias`, `a` et `b`.\n",
    "`wbias`, `wa` et `wb` étant les poids affectés à ces valeurs, il faut vérifier : \n",
    " - `f(bias)` tend vers 0\n",
    " - `f(bias + wb)` tend vers 0\n",
    " - `f(bias + wa)` tend vers 0\n",
    " - `f(bias + wa + wb)` tend vers 1 \n",
    " \n",
    "*Vérifions le...*\n",
    "\n"
   ]
  },
  {
   "cell_type": "markdown",
   "metadata": {
    "tags": []
   },
   "source": [
    "----\n",
    "#### On prépare les fichiers pour le tensorboard (tableau de bord)"
   ]
  },
  {
   "cell_type": "code",
   "execution_count": 18,
   "metadata": {},
   "outputs": [],
   "source": [
    "# Efface tous les anciens logs (attention au repertoire)\n",
    "%rm -rf ./etBiasLogs/"
   ]
  },
  {
   "cell_type": "markdown",
   "metadata": {},
   "source": [
    "---\n",
    "\n",
    "### 2.1. Définir l'architecture du réseau\n",
    "- ici une seule couche constituée de 1 neurone en sortie, \n",
    "- de 3 neurones en entrée (2 contenant les valeurs + **un Bias** (émettant toujours le signal 1)), \n",
    "- utilisation de la sigmoide comme fonction d'activation"
   ]
  },
  {
   "cell_type": "code",
   "execution_count": 19,
   "metadata": {},
   "outputs": [],
   "source": [
    "model = Sequential()\n",
    "model.add(Dense(1, input_dim=2, use_bias=True, activation='sigmoid'))"
   ]
  },
  {
   "cell_type": "markdown",
   "metadata": {},
   "source": [
    "----\n",
    "#### <font color=\"red\">Ajout de la volonté d'enregistrer dans un log les etapes d'apprentissage</code>\n"
   ]
  },
  {
   "cell_type": "code",
   "execution_count": 20,
   "metadata": {},
   "outputs": [
    {
     "name": "stderr",
     "output_type": "stream",
     "text": [
      "2022-04-25 11:35:14.776930: I tensorflow/core/profiler/lib/profiler_session.cc:136] Profiler session initializing.\n",
      "2022-04-25 11:35:14.776944: I tensorflow/core/profiler/lib/profiler_session.cc:155] Profiler session started.\n",
      "2022-04-25 11:35:14.777005: I tensorflow/core/profiler/lib/profiler_session.cc:172] Profiler session tear down.\n"
     ]
    }
   ],
   "source": [
    "log_dir = \"etBiasLogs/fit/\" + datetime.datetime.now().strftime(\"%Y%m%d-%H%M%S\")\n",
    "tensorboard_callback = keras.callbacks.TensorBoard(log_dir=log_dir, histogram_freq=1)"
   ]
  },
  {
   "cell_type": "markdown",
   "metadata": {},
   "source": [
    "---\n",
    "\n",
    "### 2.2 Compiler et entrainer le  réseau \n",
    "Ici, on précise que \n",
    "  - l'algo de correction d'erreur est 'Adamax', \n",
    "  - l'erreur calculée est la moyenne des valeurs absolues des erreurs commises\n",
    "  - 10000 cycles d'apprentissage demandés\n",
    "  - <font color=\"red\">*Et on indique l'enregistreur de logs (callbacs)*</code>"
   ]
  },
  {
   "cell_type": "code",
   "execution_count": 21,
   "metadata": {},
   "outputs": [
    {
     "name": "stderr",
     "output_type": "stream",
     "text": [
      "2022-04-25 11:35:15.035928: I tensorflow/core/profiler/lib/profiler_session.cc:136] Profiler session initializing.\n",
      "2022-04-25 11:35:15.035948: I tensorflow/core/profiler/lib/profiler_session.cc:155] Profiler session started.\n",
      "2022-04-25 11:35:15.041975: I tensorflow/core/profiler/lib/profiler_session.cc:71] Profiler session collecting data.\n",
      "2022-04-25 11:35:15.042731: I tensorflow/core/profiler/lib/profiler_session.cc:172] Profiler session tear down.\n",
      "2022-04-25 11:35:15.043967: I tensorflow/core/profiler/rpc/client/save_profile.cc:137] Creating directory: etBiasLogs/fit/20220425-113514/train/plugins/profile/2022_04_25_11_35_15\n",
      "2022-04-25 11:35:15.044658: I tensorflow/core/profiler/rpc/client/save_profile.cc:143] Dumped gzipped tool data for trace.json.gz to etBiasLogs/fit/20220425-113514/train/plugins/profile/2022_04_25_11_35_15/MacBook-Pro-de-Emmanuel-2.local.trace.json.gz\n",
      "2022-04-25 11:35:15.045635: I tensorflow/core/profiler/rpc/client/save_profile.cc:137] Creating directory: etBiasLogs/fit/20220425-113514/train/plugins/profile/2022_04_25_11_35_15\n",
      "2022-04-25 11:35:15.045837: I tensorflow/core/profiler/rpc/client/save_profile.cc:143] Dumped gzipped tool data for memory_profile.json.gz to etBiasLogs/fit/20220425-113514/train/plugins/profile/2022_04_25_11_35_15/MacBook-Pro-de-Emmanuel-2.local.memory_profile.json.gz\n",
      "2022-04-25 11:35:15.046810: I tensorflow/core/profiler/rpc/client/capture_profile.cc:251] Creating directory: etBiasLogs/fit/20220425-113514/train/plugins/profile/2022_04_25_11_35_15Dumped tool data for xplane.pb to etBiasLogs/fit/20220425-113514/train/plugins/profile/2022_04_25_11_35_15/MacBook-Pro-de-Emmanuel-2.local.xplane.pb\n",
      "Dumped tool data for overview_page.pb to etBiasLogs/fit/20220425-113514/train/plugins/profile/2022_04_25_11_35_15/MacBook-Pro-de-Emmanuel-2.local.overview_page.pb\n",
      "Dumped tool data for input_pipeline.pb to etBiasLogs/fit/20220425-113514/train/plugins/profile/2022_04_25_11_35_15/MacBook-Pro-de-Emmanuel-2.local.input_pipeline.pb\n",
      "Dumped tool data for tensorflow_stats.pb to etBiasLogs/fit/20220425-113514/train/plugins/profile/2022_04_25_11_35_15/MacBook-Pro-de-Emmanuel-2.local.tensorflow_stats.pb\n",
      "Dumped tool data for kernel_stats.pb to etBiasLogs/fit/20220425-113514/train/plugins/profile/2022_04_25_11_35_15/MacBook-Pro-de-Emmanuel-2.local.kernel_stats.pb\n",
      "\n"
     ]
    },
    {
     "data": {
      "text/plain": [
       "<tensorflow.python.keras.callbacks.History at 0x129184a00>"
      ]
     },
     "execution_count": 21,
     "metadata": {},
     "output_type": "execute_result"
    }
   ],
   "source": [
    "model.compile(optimizer='adamax', loss='MSE')\n",
    "\n",
    "model.fit(entrees, sorties, verbose=0, epochs=10000, callbacks=[tensorboard_callback])"
   ]
  },
  {
   "cell_type": "markdown",
   "metadata": {},
   "source": [
    "---\n",
    "\n",
    "### 2.2. Vérifier le réseau\n",
    "Pas d'exemples de validation, on vérifie simplement la correspondance entre sortie attendue et la sortie réelle."
   ]
  },
  {
   "cell_type": "code",
   "execution_count": 22,
   "metadata": {},
   "outputs": [
    {
     "name": "stdout",
     "output_type": "stream",
     "text": [
      "verification\n",
      "0.0  -  0.0  attendu  [0.]  trouvé  [4.3278298e-05]\n",
      "0.0  -  1.0  attendu  [0.]  trouvé  [0.03388986]\n",
      "1.0  -  0.0  attendu  [0.]  trouvé  [0.03392008]\n",
      "1.0  -  1.0  attendu  [1.]  trouvé  [0.9660543]\n",
      "poids pour entree x = 6.6986203\n",
      "poids pour entree y = 6.6976967\n"
     ]
    }
   ],
   "source": [
    "predictions = model.predict(entrees)\n",
    "verification(model, entrees, sorties, predictions)"
   ]
  },
  {
   "cell_type": "code",
   "execution_count": 23,
   "metadata": {},
   "outputs": [
    {
     "name": "stdout",
     "output_type": "stream",
     "text": [
      "perte= 0.0008628513314761221\n"
     ]
    }
   ],
   "source": [
    "loss = model.evaluate(entrees, sorties, verbose=0)\n",
    "print(\"perte=\",loss)"
   ]
  },
  {
   "cell_type": "markdown",
   "metadata": {},
   "source": [
    "**Apprentissage quasi parfait !!!** \n",
    "- -> démonstration concrère de l'effet du `Bias` !!"
   ]
  },
  {
   "cell_type": "markdown",
   "metadata": {
    "colab_type": "text",
    "id": "I0zBYIALlDYp",
    "tags": []
   },
   "source": [
    "---\n",
    "\n",
    "## Utilisation du tableau de bord\n"
   ]
  },
  {
   "cell_type": "code",
   "execution_count": 24,
   "metadata": {},
   "outputs": [
    {
     "data": {
      "text/html": [
       "\n",
       "      <iframe id=\"tensorboard-frame-673a223b3477353d\" width=\"100%\" height=\"800\" frameborder=\"0\">\n",
       "      </iframe>\n",
       "      <script>\n",
       "        (function() {\n",
       "          const frame = document.getElementById(\"tensorboard-frame-673a223b3477353d\");\n",
       "          const url = new URL(\"/\", window.location);\n",
       "          const port = 6007;\n",
       "          if (port) {\n",
       "            url.port = port;\n",
       "          }\n",
       "          frame.src = url;\n",
       "        })();\n",
       "      </script>\n",
       "    "
      ],
      "text/plain": [
       "<IPython.core.display.HTML object>"
      ]
     },
     "metadata": {},
     "output_type": "display_data"
    }
   ],
   "source": [
    "%tensorboard --logdir etBiasLogs/fit"
   ]
  },
  {
   "cell_type": "markdown",
   "metadata": {},
   "source": [
    "---\n",
    "## Test d'entrées non apprises\n",
    "Le ET conçu par réseau de neurones se comporte maintenant comme un ET en logique floue et est capable d'estimer la valeur de x ET y pour tout x,y dans [0,1].\n",
    "Exemple pour le test de ET entre deux valeurs *quasi* fausses, une *quasi* vraie ET une *quasi* fausse, et deux valeurs *quasi* vraies : "
   ]
  },
  {
   "cell_type": "code",
   "execution_count": 25,
   "metadata": {},
   "outputs": [
    {
     "name": "stdout",
     "output_type": "stream",
     "text": [
      "0.0\n",
      "0.06\n",
      "0.79\n"
     ]
    }
   ],
   "source": [
    "# test de 0.2 ET 0.8, 0.1 ET 0.1, 0.8 ET 0.9\n",
    "tests = np.array([[0.2, 0.3], [0.2, 0.9], [0.8, 0.9]])\n",
    "\n",
    "predictions = model.predict(tests)\n",
    "for v in predictions: print(round(v[0],2))"
   ]
  },
  {
   "cell_type": "code",
   "execution_count": null,
   "metadata": {},
   "outputs": [],
   "source": []
  },
  {
   "cell_type": "code",
   "execution_count": null,
   "metadata": {},
   "outputs": [],
   "source": []
  }
 ],
 "metadata": {
  "colab": {
   "collapsed_sections": [],
   "name": "TestET.ipynb",
   "provenance": [],
   "version": "0.3.2"
  },
  "kernelspec": {
   "display_name": "Python 3 (ipykernel)",
   "language": "python",
   "name": "python3"
  },
  "language_info": {
   "codemirror_mode": {
    "name": "ipython",
    "version": 3
   },
   "file_extension": ".py",
   "mimetype": "text/x-python",
   "name": "python",
   "nbconvert_exporter": "python",
   "pygments_lexer": "ipython3",
   "version": "3.9.10"
  }
 },
 "nbformat": 4,
 "nbformat_minor": 4
}
