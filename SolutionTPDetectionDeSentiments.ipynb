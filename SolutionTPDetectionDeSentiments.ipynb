{
 "cells": [
  {
   "cell_type": "markdown",
   "metadata": {
    "colab_type": "text",
    "id": "QQ5vas82illV"
   },
   "source": [
    "<a href=\"https://colab.research.google.com/github/EmmanuelADAM/IntelligenceArtificiellePython/blob/master/SolutionTPDetectionDeSentiments.ipynb\" target=\"_parent\"><img src=\"https://colab.research.google.com/assets/colab-badge.svg\" alt=\"Open In Colab\"/></a>\n",
    "---\n",
    "# Détection de \"sentiments\" (ex. classique tensorflow)\n",
    "\n",
    "## Collection de données de critiques de films \n",
    "Le tp utilisera l'ensemble de données issues de \n",
    "[IMDB Dataset of 50K Movie Reviews](https://www.kaggle.com/datasets/lakshmi25npathi/imdb-dataset-of-50k-movie-reviews) que vous devez télécharger.\n",
    "\n",
    "Ce fichier CSV contient 50000 revues de films, considérées comme positives ou négatives.\n",
    "\n",
    "Ces textes sont composés de mots importants (tokens), d'espaces, de signes de ponctuations et de mots de liaisons."
   ]
  },
  {
   "cell_type": "markdown",
   "metadata": {
    "colab_type": "text",
    "id": "AWFXrAtkvcg_"
   },
   "source": [
    "---\n",
    "Si vous utilisez Colab, vous devez placer le fichier dans votre Drive Google.\n",
    "\n",
    "Puis il vous faut monter le répertoire drive pour qu'il soit accessible par Colab.\n",
    "Exécutez le code suivant,  une clé vous sera demandée. Il vous suffit de suivre le lien, de sélectionner votre profile pour obtenir votre clé que vous copierez dans le champs prévu."
   ]
  },
  {
   "cell_type": "code",
   "execution_count": null,
   "metadata": {
    "colab": {
     "base_uri": "https://localhost:8080/",
     "height": 74
    },
    "colab_type": "code",
    "id": "4TodTL602bBv",
    "outputId": "cbc50963-1484-4189-b87b-b0d7d60af79c"
   },
   "outputs": [],
   "source": [
    "#bloc à exécuter si vous utilisez colab\n",
    "from google.colab import drive, files\n",
    "\n",
    "drive.mount('/content/drive')"
   ]
  },
  {
   "cell_type": "markdown",
   "metadata": {
    "colab_type": "text",
    "id": "3IlL2ANmisdv"
   },
   "source": [
    "---\n",
    "## Préparation des données\n"
   ]
  },
  {
   "cell_type": "markdown",
   "metadata": {
    "colab_type": "text",
    "id": "oiHdx0y1i8Bi"
   },
   "source": [
    "### Chargement et nettoyage des données\n",
    "\n",
    "Pour traiter des textes, le plus souvent il faut :  \n",
    "  - identifier les termes (**tokens**) entre espaces,\n",
    "  - supprimer toute ponctuation,\n",
    "  - supprimer tous les mots qui ne sont pas uniquement composés de caractères alphabétiques,\n",
    "  - supprimer tous les mots reconnus en tant que mots vides (stop words) (mots de liaison)\n",
    "  - supprimer tous les mots dont la longueur est < à x caractères."
   ]
  },
  {
   "cell_type": "markdown",
   "metadata": {
    "colab_type": "text",
    "id": "SLWxuYAjxPlo"
   },
   "source": [
    "### Les bibliothèques\n",
    "La préparation des données implique de pouvoir accéder au système de fichiers, ainsi qu'à une bibliothèque de traitement du langage naturel (ici nltk) et aux bibliothèques spécialisées dans le traitement de texte : "
   ]
  },
  {
   "cell_type": "code",
   "execution_count": 4,
   "metadata": {
    "colab": {},
    "colab_type": "code",
    "id": "tSqBXmHvxnhF"
   },
   "outputs": [],
   "source": [
    "##import pour les fichiers et le traitement de données : \n",
    "from os import listdir\n",
    "import pandas as pd\n",
    "from tqdm import tqdm\n",
    "\n",
    "##import pour la creation de tokens\n",
    "import nltk\n",
    "from nltk.corpus import stopwords\n",
    "from nltk.tokenize import wordpunct_tokenize\n",
    "\n",
    "##import pour la gestion de ponctuation\n",
    "from string import punctuation\n",
    "\n",
    "##import pour une collection spécifique : counter\n",
    "from collections import Counter\n",
    "\n",
    "##import pour les réseaux de neurones : \n",
    "import tensorflow.keras as keras\n",
    "from tensorflow.keras.models import Sequential\n",
    "from tensorflow.keras.layers import Dense\n",
    "\n",
    "##import classique pour les tableaux efficaces\n",
    "import numpy as np\n"
   ]
  },
  {
   "cell_type": "code",
   "execution_count": 5,
   "metadata": {
    "colab": {
     "base_uri": "https://localhost:8080/",
     "height": 68
    },
    "colab_type": "code",
    "id": "n6qZZ-VJw8Wy",
    "outputId": "1c8e7c95-f0ba-4f69-9914-c034c7f534cc"
   },
   "outputs": [
    {
     "name": "stdout",
     "output_type": "stream",
     "text": [
      "{\"won't\", 'mustn', 'you', 'y', 'its', 'of', 'own', 'just', 'his', 'if', 'to', 'him', 'won', 'but', 'wouldn', 'theirs', 'was', 'both', 'my', \"mightn't\", 'too', 'all', 'been', 'when', \"weren't\", 'where', 'or', \"that'll\", 'd', \"aren't\", 'against', 'very', 'during', 'will', 'yourselves', 'further', 'itself', 'than', 'at', 'again', 'so', 'over', 'below', 'she', 'can', 'as', 'we', 'out', 'no', 'ain', 'the', 'up', \"couldn't\", 'does', 'll', 'it', 'be', 'most', 'off', 'had', 'were', 'there', \"shan't\", 'them', 'down', 'while', 'doesn', \"you'll\", 'being', 'how', 'ourselves', 'ours', 'now', \"hadn't\", 'their', 'did', 'am', 'are', 'because', 'between', 'don', 'that', \"hasn't\", \"you'd\", \"you're\", 'hasn', 'here', 'your', 'has', 'is', 'into', 'this', 'having', 'before', 'in', \"haven't\", 'needn', 'from', 'herself', 'have', 'haven', 'after', 'weren', 'under', 's', 'hers', 'whom', 'only', \"isn't\", \"didn't\", 'mightn', 'yourself', 'with', 'himself', \"she's\", 'her', 'doing', 'on', \"don't\", 've', 'shan', 'then', 'ma', 'for', 'few', 'm', \"wouldn't\", 'our', 'more', 'other', 'should', 'they', 'do', 'an', 'by', 'not', 'o', 'i', 'yours', 'and', \"doesn't\", 'he', 'what', 'aren', \"needn't\", 'through', 're', 'about', 'couldn', \"mustn't\", 'these', 'once', 'each', 'me', 'isn', 'myself', 'nor', 'those', 'such', \"shouldn't\", 'wasn', \"it's\", 'until', \"you've\", 'which', 'same', 'hadn', 'why', \"wasn't\", 'shouldn', 'didn', 'who', 't', \"should've\", 'above', 'any', 'some', 'a', 'themselves'}\n"
     ]
    },
    {
     "name": "stderr",
     "output_type": "stream",
     "text": [
      "[nltk_data] Downloading package stopwords to C:\\Users\\emmanuel\n",
      "[nltk_data]     adam\\AppData\\Roaming\\nltk_data...\n",
      "[nltk_data]   Package stopwords is already up-to-date!\n"
     ]
    }
   ],
   "source": [
    "# le code suivant charge l'ensemble des mots non importants (en anglais)\n",
    "nltk.download(\"stopwords\")\n",
    "stop_words = set(stopwords.words('english'))\n",
    "print(stop_words)"
   ]
  },
  {
   "cell_type": "markdown",
   "metadata": {},
   "source": [
    "### Fonctions de lectures et d'\"épurage\" de fichier texte\n",
    "\n",
    "Les critiques de films sont dans la colonne 'review' du fichier CSV.\n",
    "\n",
    "Il faut pour chaque review récupérer les mots importants (d'une longueur suffisante, sans ponctuation, sans 'stopword' (a, the, ...)."
   ]
  },
  {
   "cell_type": "code",
   "execution_count": 9,
   "metadata": {
    "colab": {},
    "colab_type": "code",
    "id": "by0--ITCi-xa"
   },
   "outputs": [],
   "source": [
    "# get the text at the line num_line of the column column and return the text expured (without stopwords, words < 2 letters, ...) \n",
    "def clean_doc(doc:str)->list:\n",
    "    \"\"\"retourne la liste de mots clés inclus dans le texte doc \n",
    "    qui ne font pas parti des stop_words\"\"\"\n",
    "    # split into tokens by white space\n",
    "    tokens = wordpunct_tokenize(doc) \n",
    "    # remove remaining tokens that are not alphabetic\n",
    "    tokens = [word.lower() for word in tokens if word.isalpha()]\n",
    "    # filter out stop words\n",
    "    tokens = [w for w in tokens if not w in stop_words]\n",
    "    # filter out short tokens\n",
    "    tokens = [word for word in tokens if len(word) > 2]\n",
    "    return tokens\n",
    " "
   ]
  },
  {
   "cell_type": "code",
   "execution_count": 3,
   "metadata": {},
   "outputs": [],
   "source": [
    "#quelques types, optionnels, juste pour un beau code\n",
    "Series = pd.core.series.Series\n",
    "DataFrame = pd.core.frame.DataFrame"
   ]
  },
  {
   "cell_type": "markdown",
   "metadata": {
    "colab_type": "text",
    "id": "UgALvdrLKOD3"
   },
   "source": [
    "### Tests de la récupération de mots clés d'un fichier"
   ]
  },
  {
   "cell_type": "code",
   "execution_count": 10,
   "metadata": {
    "colab": {
     "base_uri": "https://localhost:8080/",
     "height": 125
    },
    "colab_type": "code",
    "id": "0CpapoCR0Hzs",
    "outputId": "23a01def-2b8c-4fef-e689-1289a90d2d61"
   },
   "outputs": [],
   "source": [
    "#ex de repertoire sous colab\n",
    "#rep = '/content/drive/My Drive/txt_sentoken'\n",
    "#ex de repertoire sous windows\n",
    "rep:str = \"C:/Users/MOI/Downloads/\"\n",
    "#ex de repertoire sous linux, mac\n",
    "#rep:str = \"/users/MOI/Downloads/\"\n",
    "# mots clés d'un fichier négatif\n",
    "filename:str = \"IMDB Dataset.csv\"\n",
    "datas:DataFrame = pd.read_csv(rep+filename)\n",
    "#recuperer la colonne des review\n",
    "reviews:Series = datas['review']"
   ]
  },
  {
   "cell_type": "code",
   "execution_count": 11,
   "metadata": {},
   "outputs": [
    {
     "name": "stdout",
     "output_type": "stream",
     "text": [
      "les 10 premiers mots cles de  One of the other reviewers has mentioned that after watching just 1 Oz episode you'll be hooked. They are right, as this is exactly what happened with me.<br /><br />The first thing that struck me about Oz was its brutality and unflinching scenes of violence, which set in right from the word GO. Trust me, this is not a show for the faint hearted or timid. This show pulls no punches with regards to drugs, sex or violence. Its is hardcore, in the classic use of the word.<br /><br />It is called OZ as that is the nickname given to the Oswald Maximum Security State Penitentary. It focuses mainly on Emerald City, an experimental section of the prison where all the cells have glass fronts and face inwards, so privacy is not high on the agenda. Em City is home to many..Aryans, Muslims, gangstas, Latinos, Christians, Italians, Irish and more....so scuffles, death stares, dodgy dealings and shady agreements are never far away.<br /><br />I would say the main appeal of the show is due to the fact that it goes where other shows wouldn't dare. Forget pretty pictures painted for mainstream audiences, forget charm, forget romance...OZ doesn't mess around. The first episode I ever saw struck me as so nasty it was surreal, I couldn't say I was ready for it, but as I watched more, I developed a taste for Oz, and got accustomed to the high levels of graphic violence. Not just violence, but injustice (crooked guards who'll be sold out for a nickel, inmates who'll kill on order and get away with it, well mannered, middle class inmates being turned into prison bitches due to their lack of street skills or prison experience) Watching Oz, you may become comfortable with what is uncomfortable viewing....thats if you can get in touch with your darker side.\n",
      "['one', 'reviewers', 'mentioned', 'watching', 'episode', 'hooked', 'right', 'exactly', 'happened', 'first']\n"
     ]
    }
   ],
   "source": [
    "tokens:list = clean_doc(reviews[0])\n",
    "print('les 10 premiers mots cles de ', reviews[0])\n",
    "print(tokens[:10])"
   ]
  },
  {
   "cell_type": "markdown",
   "metadata": {
    "colab_type": "text",
    "id": "1yo75YEIjWIT"
   },
   "source": [
    "### Construire le vocabulaire global"
   ]
  },
  {
   "cell_type": "code",
   "execution_count": 12,
   "metadata": {},
   "outputs": [],
   "source": [
    "def add_doc_to_vocab(review:str, vocab:Counter):\n",
    "    \"\"\"cumule dans la liste vocab les mots de la review \n",
    "    (1 seule occurrence par mot dans vocab)\"\"\"\n",
    "    # clean doc\n",
    "    tokens = clean_doc(review)\n",
    "    # update counts\n",
    "    vocab.update(tokens)\n",
    "\n",
    "def build_voc(serie:Series, vocab:Counter):\n",
    "    \"\"\"ajoute au dictionnaire vocab les mots cles de 90% de la serie de données\"\"\"\n",
    "    i=0\n",
    "    nb = int(serie.size)\n",
    "    # walk through all files in the folder\n",
    "    for i in tqdm(range(nb)):\n",
    "        # add doc to vocab\n",
    "        add_doc_to_vocab(serie[i], vocab)\n"
   ]
  },
  {
   "cell_type": "code",
   "execution_count": 13,
   "metadata": {
    "colab": {},
    "colab_type": "code",
    "id": "Axlsvtg8jhAr"
   },
   "outputs": [
    {
     "name": "stderr",
     "output_type": "stream",
     "text": [
      "100%|██████████| 50000/50000 [00:05<00:00, 9775.08it/s] "
     ]
    },
    {
     "name": "stdout",
     "output_type": "stream",
     "text": [
      "nb de mots cles trouves dans les repertoires :  99067\n",
      "les 10 premiers mots cles du vocabulaire (et leur nb d'apparition dans les exemples)  : \n",
      "one : 53603, reviewers : 493, mentioned : 1079, watching : 9165, episode : 3183, hooked : 284, right : 6529, exactly : 1965, happened : 2054, first : 17583, thing : 9173, \n",
      "les 10 mots cles les plus utilises :  [('movie', 87971), ('film', 79705), ('one', 53603), ('like', 40172), ('good', 29753), ('time', 25110), ('even', 24871), ('would', 24602), ('story', 23119), ('really', 23094)]\n"
     ]
    },
    {
     "name": "stderr",
     "output_type": "stream",
     "text": [
      "\n"
     ]
    }
   ],
   "source": [
    "\n",
    "    \n",
    "# creer un vocabulaire (liste de mots clés associés à leurs occurrences)\n",
    "vocab:Counter = Counter()\n",
    "build_voc(reviews, vocab)\n",
    "# afficher le nb de mots cles trouves\n",
    "print(\"nb de mots cles trouves dans les repertoires : \", len(vocab))\n",
    "print(\"les 10 premiers mots cles du vocabulaire \\\n",
    "(et leur nb d\\'apparition dans les exemples)  : \\n\", end='')\n",
    "i:int=0\n",
    "for (mot,count) in vocab.items(): \n",
    "    print(mot,':',count,end=\", \")\n",
    "    i = i+1\n",
    "    if i>10:break\n",
    "# afficher les 10 mots cles les plus utilises\n",
    "print(\"\\nles 10 mots cles les plus utilises : \", vocab.most_common(10))\n"
   ]
  },
  {
   "cell_type": "code",
   "execution_count": 14,
   "metadata": {},
   "outputs": [],
   "source": [
    "# on peut si on veut augmenter la liste des stop words\n",
    "# one, movie, film ne nous semblent pas pertinent pour l'analyse des sentiments\n",
    "stop_words.add('one')\n",
    "stop_words.add('movie')\n",
    "stop_words.add('film')"
   ]
  },
  {
   "cell_type": "code",
   "execution_count": 15,
   "metadata": {},
   "outputs": [
    {
     "name": "stderr",
     "output_type": "stream",
     "text": [
      "  0%|          | 0/50000 [00:00<?, ?it/s]"
     ]
    },
    {
     "name": "stderr",
     "output_type": "stream",
     "text": [
      "100%|██████████| 50000/50000 [00:05<00:00, 9908.99it/s] "
     ]
    },
    {
     "name": "stdout",
     "output_type": "stream",
     "text": [
      "nb de mots cles trouves dans les repertoires :  99064\n",
      "les 10 premiers mots cles du vocabulaire (et leur nb d'apparition dans les exemples)  : \n",
      "reviewers : 493, mentioned : 1079, watching : 9165, episode : 3183, hooked : 284, right : 6529, exactly : 1965, happened : 2054, first : 17583, thing : 9173, struck : 279, \n",
      "les 10 mots cles les plus utilises :  [('like', 40172), ('good', 29753), ('time', 25110), ('even', 24871), ('would', 24602), ('story', 23119), ('really', 23094), ('see', 23029), ('well', 21268), ('much', 19318)]\n"
     ]
    },
    {
     "name": "stderr",
     "output_type": "stream",
     "text": [
      "\n"
     ]
    }
   ],
   "source": [
    "#verification en recréant un vocabulaire (liste de mots clés associés à leurs occurrences)\n",
    "vocab:Counter = Counter()\n",
    "build_voc(reviews, vocab)\n",
    "# afficher le nb de mots cles trouves\n",
    "print(\"nb de mots cles trouves dans les repertoires : \", len(vocab))\n",
    "print(\"les 10 premiers mots cles du vocabulaire \\\n",
    "(et leur nb d\\'apparition dans les exemples)  : \\n\", end='')\n",
    "i:int=0\n",
    "for (mot,count) in vocab.items(): \n",
    "    print(mot,':',count,end=\", \")\n",
    "    i = i+1\n",
    "    if i>10:break\n",
    "# afficher les 10 mots cles les plus utilises\n",
    "print(\"\\nles 10 mots cles les plus utilises : \", vocab.most_common(10))"
   ]
  },
  {
   "cell_type": "markdown",
   "metadata": {},
   "source": [
    "### limiter la taille du vocabulaire\n",
    "Chaque review sera codée par un vecteur indiquant si le mot du vocabulaire est contenu en elle.\n",
    "La taille du vecteur est donc la taille du vocabulaire.\n",
    "Et donc, le nombre de neurones dans la couche d'entrée sera aussi élevé.\n",
    "Il est important de trouver un bon équilibre entre un vocabulaire précis, mais concis."
   ]
  },
  {
   "cell_type": "code",
   "execution_count": 16,
   "metadata": {
    "colab": {},
    "colab_type": "code",
    "id": "EDFdsl97jq0t"
   },
   "outputs": [
    {
     "name": "stdout",
     "output_type": "stream",
     "text": [
      "en otant les mots utilise moins de  50  fois,  nb de mots cles =  10868\n"
     ]
    }
   ],
   "source": [
    "# ne garder que les mots clés apparaissant au moins x fois\n",
    "min_occurrence:int = 50\n",
    "tokens:list = [token for (token,count) in vocab.items() if count >= min_occurrence]\n",
    "print('en otant les mots utilise moins de ', min_occurrence, ' fois,', \n",
    "      ' nb de mots cles = ',len(tokens))"
   ]
  },
  {
   "cell_type": "code",
   "execution_count": 17,
   "metadata": {
    "colab": {},
    "colab_type": "code",
    "id": "ApMJ_0gHjuEv"
   },
   "outputs": [],
   "source": [
    "def save_list(lines:list, filename:str):\n",
    "    \"\"\"sauve les mots de la liste de commentaires lines dans le fichier filename\"\"\"\n",
    "    # convert lines to a single blob of text\n",
    "    data = '\\n'.join(lines)\n",
    "    # open file\n",
    "    file = open(filename, 'w')\n",
    "    # write text\n",
    "    file.write(data)\n",
    "    # close file\n",
    "    file.close()\n",
    "\n",
    "# save tokens to a vocabulary file\n",
    "save_list(tokens, rep+'vocab.txt')"
   ]
  },
  {
   "cell_type": "code",
   "execution_count": 18,
   "metadata": {},
   "outputs": [],
   "source": [
    "def load_doc(filename:str)->str:\n",
    "    \"\"\"retourne le texte inclu dans le fichier filename\"\"\"\n",
    "    # open the file as read only\n",
    "    file = open(filename, 'r')\n",
    "    # read all text\n",
    "    text = file.read()\n",
    "    # close the file\n",
    "    file.close()\n",
    "    return text"
   ]
  },
  {
   "cell_type": "markdown",
   "metadata": {
    "colab_type": "text",
    "id": "v2oK8x7bj5CU"
   },
   "source": [
    "---\n",
    "## Représentation en sac de mots"
   ]
  },
  {
   "cell_type": "markdown",
   "metadata": {
    "colab_type": "text",
    "id": "wdd9RpBskGUy"
   },
   "source": [
    "### Convertir les fichiers en listes de mots-clés appartenant au vocabulaire \n"
   ]
  },
  {
   "cell_type": "code",
   "execution_count": 19,
   "metadata": {
    "colab": {},
    "colab_type": "code",
    "id": "7Sw6xGMHkUP1"
   },
   "outputs": [],
   "source": [
    "def vocab_in_doc(texte:str, vocab:list)->list:\n",
    "    \"\"\"retourne la liste des mots cles du texte qui appartenant au vocabulaire vocab\"\"\"\n",
    "    # clean doc\n",
    "    tokens = clean_doc(texte)\n",
    "    # filter by vocab\n",
    "    tokens = [token for token in tokens if token in vocab]\n",
    "    return ' '.join(tokens)"
   ]
  },
  {
   "cell_type": "code",
   "execution_count": 20,
   "metadata": {
    "colab": {},
    "colab_type": "code",
    "id": "8bE7XaHdka1O"
   },
   "outputs": [],
   "source": [
    "def process_docs(serie:list, vocab:list)->list:\n",
    "    \"\"\"retourne une listes des mots cles des textes contenu dans la serie de texte\"\"\"\n",
    "    lines = list()\n",
    "\n",
    "    nb = int(serie.size*0.9)\n",
    "    # walk through all files in the folder\n",
    "    for i in tqdm(range(serie.size)):\n",
    "        line = vocab_in_doc(serie[i], vocab)\n",
    "        lines.append(line)\n",
    "    return lines"
   ]
  },
  {
   "cell_type": "code",
   "execution_count": 21,
   "metadata": {
    "colab": {},
    "colab_type": "code",
    "id": "o0ixOikAkfyN"
   },
   "outputs": [],
   "source": [
    "# load the vocabulary\n",
    "vocab_filename = 'vocab.txt'\n",
    "vocab = load_doc(rep+vocab_filename)\n",
    "vocab = vocab.split()\n",
    "vocab = set(vocab)\n"
   ]
  },
  {
   "cell_type": "code",
   "execution_count": 22,
   "metadata": {},
   "outputs": [],
   "source": [
    "# on ne garde qu'un peu de données pour tester les fonctionnalités\n",
    "# on prendra le tout si la preuve de concept a réussi\n",
    "reviews = reviews[:10000]"
   ]
  },
  {
   "cell_type": "code",
   "execution_count": 23,
   "metadata": {},
   "outputs": [
    {
     "name": "stderr",
     "output_type": "stream",
     "text": [
      "  0%|          | 0/10000 [00:00<?, ?it/s]"
     ]
    },
    {
     "name": "stderr",
     "output_type": "stream",
     "text": [
      "100%|██████████| 10000/10000 [00:00<00:00, 10431.41it/s]"
     ]
    },
    {
     "name": "stdout",
     "output_type": "stream",
     "text": [
      "nb exemples :  10000\n"
     ]
    },
    {
     "name": "stderr",
     "output_type": "stream",
     "text": [
      "\n"
     ]
    }
   ],
   "source": [
    "# load training and testing reviews\n",
    "lines_input:list = process_docs(reviews, vocab)\n",
    "nb_input:int = len(lines_input)\n",
    "\n",
    "# summarize what we have\n",
    "print(\"nb exemples : \", nb_input)"
   ]
  },
  {
   "cell_type": "markdown",
   "metadata": {
    "colab_type": "text",
    "id": "ZTJ5fim2k1fk"
   },
   "source": [
    "\n",
    "### Convertir les listes de mots en vecteur fréquence d'apparition \n",
    "#### Créer le sac de mots de l'ensemble d’entraînement"
   ]
  },
  {
   "cell_type": "code",
   "execution_count": 24,
   "metadata": {
    "colab": {},
    "colab_type": "code",
    "id": "zVxIx3dtk9HF"
   },
   "outputs": [],
   "source": [
    "# create the tokenizer\n",
    "tokenizer = keras.preprocessing.text.Tokenizer()\n",
    "tokenizer.fit_on_texts(lines_input)\n",
    "xTrain:np.ndarray = tokenizer.texts_to_matrix(lines_input, mode='freq')"
   ]
  },
  {
   "cell_type": "code",
   "execution_count": 25,
   "metadata": {
    "colab": {},
    "colab_type": "code",
    "id": "SGd85sb5k_Xs"
   },
   "outputs": [
    {
     "name": "stdout",
     "output_type": "stream",
     "text": [
      "Xtrain contient  10000  exemples de  10868  valeurs\n",
      "une valeur = fréquence d'apparition des mots dans le vocabulaire global.\n",
      "Ainsi, premier exemple d'entrainement = \n",
      " [0. 0. 0. ... 0. 0. 0.]\n"
     ]
    }
   ],
   "source": [
    "print('Xtrain contient ', xTrain.shape[0], ' exemples de ', xTrain.shape[1], ' valeurs')\n",
    "print('une valeur = fréquence d\\'apparition des mots dans le vocabulaire global.')\n",
    "print('Ainsi, premier exemple d\\'entrainement = \\n', xTrain[0])"
   ]
  },
  {
   "cell_type": "code",
   "execution_count": 26,
   "metadata": {},
   "outputs": [
    {
     "data": {
      "text/plain": [
       "1.0"
      ]
     },
     "execution_count": 26,
     "metadata": {},
     "output_type": "execute_result"
    }
   ],
   "source": [
    "np.sum(xTrain[0])"
   ]
  },
  {
   "cell_type": "markdown",
   "metadata": {},
   "source": [
    "On décide que les exemples positifs correspondent à une sortie 0 et que les exemples négatifs correspondent à la sortie 1 :"
   ]
  },
  {
   "cell_type": "code",
   "execution_count": 27,
   "metadata": {},
   "outputs": [],
   "source": [
    "#ytrain = suite de (0 (classement pour eval positive) puis 1 (classements pour éval négative))\n",
    "sentiments:Series  = datas['sentiment']\n",
    "sentiments_output:Series = sentiments[:nb_input]\n",
    "yOutput:np.ndarray = np.zeros((nb_input, 1))\n",
    "for i in range(nb_input): \n",
    "    if sentiments_output[i]=='positive': yOutput[i]=1"
   ]
  },
  {
   "cell_type": "markdown",
   "metadata": {
    "colab_type": "text",
    "id": "mCJRY1mTlnls"
   },
   "source": [
    "---\n",
    "## Modèle de réseau pour l'analyse des sentiments\n",
    "Le réseau contient en couche d'entrée aurant de neurones que de valeurs retenues"
   ]
  },
  {
   "cell_type": "code",
   "execution_count": 28,
   "metadata": {
    "colab": {},
    "colab_type": "code",
    "id": "uruPxsQil-gZ"
   },
   "outputs": [],
   "source": [
    "#le nb de neurones en entrée (= nb de tokens retenus)\n",
    "n_words = xTrain.shape[1] "
   ]
  },
  {
   "cell_type": "code",
   "execution_count": 29,
   "metadata": {},
   "outputs": [
    {
     "data": {
      "text/plain": [
       "10868"
      ]
     },
     "execution_count": 29,
     "metadata": {},
     "output_type": "execute_result"
    }
   ],
   "source": [
    "n_words"
   ]
  },
  {
   "cell_type": "code",
   "execution_count": 30,
   "metadata": {
    "colab": {},
    "colab_type": "code",
    "id": "67M4JqX2lNeu"
   },
   "outputs": [
    {
     "name": "stdout",
     "output_type": "stream",
     "text": [
      "WARNING:tensorflow:From c:\\anaconda\\Lib\\site-packages\\keras\\src\\backend.py:873: The name tf.get_default_graph is deprecated. Please use tf.compat.v1.get_default_graph instead.\n",
      "\n",
      "WARNING:tensorflow:From c:\\anaconda\\Lib\\site-packages\\keras\\src\\optimizers\\__init__.py:309: The name tf.train.Optimizer is deprecated. Please use tf.compat.v1.train.Optimizer instead.\n",
      "\n"
     ]
    }
   ],
   "source": [
    "#  définir la structure du réseau\n",
    "model = Sequential()\n",
    "model.add(Dense(n_words//3, input_shape=(n_words,), activation='elu'))\n",
    "model.add(Dense(n_words//27, activation='elu'))\n",
    "model.add(Dense(n_words//243, activation='elu'))\n",
    "model.add(Dense(1, activation='sigmoid'))\n",
    "# compile network \n",
    "model.compile(loss='hinge', optimizer='adam',  metrics=['accuracy'])\n"
   ]
  },
  {
   "cell_type": "code",
   "execution_count": 31,
   "metadata": {
    "colab": {},
    "colab_type": "code",
    "id": "rlYk8aKemF9b"
   },
   "outputs": [
    {
     "name": "stdout",
     "output_type": "stream",
     "text": [
      "Epoch 1/10\n",
      "WARNING:tensorflow:From c:\\anaconda\\Lib\\site-packages\\keras\\src\\utils\\tf_utils.py:492: The name tf.ragged.RaggedTensorValue is deprecated. Please use tf.compat.v1.ragged.RaggedTensorValue instead.\n",
      "\n",
      "WARNING:tensorflow:From c:\\anaconda\\Lib\\site-packages\\keras\\src\\engine\\base_layer_utils.py:384: The name tf.executing_eagerly_outside_functions is deprecated. Please use tf.compat.v1.executing_eagerly_outside_functions instead.\n",
      "\n",
      "18/18 - 10s - loss: 0.8717 - accuracy: 0.6652 - val_loss: 0.6672 - val_accuracy: 0.8610 - 10s/epoch - 572ms/step\n",
      "Epoch 2/10\n",
      "18/18 - 9s - loss: 0.6037 - accuracy: 0.9034 - val_loss: 0.6213 - val_accuracy: 0.8790 - 9s/epoch - 514ms/step\n",
      "Epoch 3/10\n",
      "18/18 - 10s - loss: 0.5584 - accuracy: 0.9421 - val_loss: 0.6164 - val_accuracy: 0.8820 - 10s/epoch - 540ms/step\n",
      "Epoch 4/10\n",
      "18/18 - 10s - loss: 0.5436 - accuracy: 0.9558 - val_loss: 0.6205 - val_accuracy: 0.8750 - 10s/epoch - 545ms/step\n",
      "Epoch 5/10\n",
      "18/18 - 10s - loss: 0.5356 - accuracy: 0.9633 - val_loss: 0.6218 - val_accuracy: 0.8720 - 10s/epoch - 557ms/step\n",
      "Epoch 6/10\n",
      "18/18 - 10s - loss: 0.5292 - accuracy: 0.9694 - val_loss: 0.6240 - val_accuracy: 0.8690 - 10s/epoch - 530ms/step\n",
      "Epoch 7/10\n",
      "18/18 - 9s - loss: 0.5268 - accuracy: 0.9717 - val_loss: 0.6236 - val_accuracy: 0.8730 - 9s/epoch - 525ms/step\n",
      "Epoch 8/10\n",
      "18/18 - 10s - loss: 0.5255 - accuracy: 0.9727 - val_loss: 0.6310 - val_accuracy: 0.8590 - 10s/epoch - 532ms/step\n",
      "Epoch 9/10\n",
      "18/18 - 10s - loss: 0.5240 - accuracy: 0.9739 - val_loss: 0.6310 - val_accuracy: 0.8620 - 10s/epoch - 529ms/step\n",
      "Epoch 10/10\n",
      "18/18 - 9s - loss: 0.5232 - accuracy: 0.9748 - val_loss: 0.6299 - val_accuracy: 0.8650 - 9s/epoch - 525ms/step\n"
     ]
    }
   ],
   "source": [
    "#TODO tester differents nb de tests (epochs)\n",
    "history = model.fit(xTrain, yOutput, \n",
    "                    validation_split = 0.1,                    \n",
    "#                    validation_data=(xTest, yTest),\n",
    "                    batch_size=500,\n",
    "#                    steps_per_epoch=10,\n",
    "                    epochs=10, \n",
    "                    verbose=2)"
   ]
  },
  {
   "cell_type": "markdown",
   "metadata": {},
   "source": [
    "### Dessiner l'évolution de l'erreur et de la pertinence"
   ]
  },
  {
   "cell_type": "code",
   "execution_count": 32,
   "metadata": {},
   "outputs": [
    {
     "data": {
      "text/plain": [
       "dict_keys(['loss', 'accuracy', 'val_loss', 'val_accuracy'])"
      ]
     },
     "execution_count": 32,
     "metadata": {},
     "output_type": "execute_result"
    }
   ],
   "source": [
    "history_dict = history.history\n",
    "history_dict.keys()"
   ]
  },
  {
   "cell_type": "markdown",
   "metadata": {},
   "source": [
    "#### Tracer l'erreur d'entrainement / l'erreur de validation\n",
    "- L'erreur d'entrainement et l'erreur de validation doivent suivre des courbes quasi parallèle.\n",
    "- L'erreur d'entrainement doit être plus faible que l'erreur de validation\n",
    "    - si les courbes divergent, si la courbe de validation s'éloigne de la courbe d'entrainement, il y a alors un sur-apprentissage (overfitting) trop adapté aux données d'entrainement, sans doute trop poussé (diminuer les epochs?).\n",
    "    - s'il y a une erreur d'entrainement trop grande, il y a sous-apprentissage"
   ]
  },
  {
   "cell_type": "code",
   "execution_count": 33,
   "metadata": {},
   "outputs": [
    {
     "data": {
      "image/png": "[encoded data removed]",
      "text/plain": [
       "<Figure size 640x480 with 1 Axes>"
      ]
     },
     "metadata": {},
     "output_type": "display_data"
    }
   ],
   "source": [
    "import matplotlib.pyplot as plt\n",
    "\n",
    "loss = history_dict['loss']\n",
    "val_loss = history_dict['val_loss']\n",
    "\n",
    "epochs = range(1, len(loss) + 1)\n",
    "\n",
    "# draw the loss evolution in blue\n",
    "plt.plot(epochs, loss, 'b-*', label='erreur sur exemples d\\'apprentissage')\n",
    "# draw the accuracy evolution in blue\n",
    "plt.plot(epochs, val_loss, 'r-*', label='erreur sur exemples de validation')\n",
    "plt.title('Erreur')\n",
    "plt.xlabel('Epochs')\n",
    "plt.ylabel('Erreur')\n",
    "plt.legend()\n",
    "\n",
    "plt.show()"
   ]
  },
  {
   "cell_type": "code",
   "execution_count": 34,
   "metadata": {},
   "outputs": [
    {
     "data": {
      "image/png": "[encoded data removed]",
      "text/plain": [
       "<Figure size 640x480 with 1 Axes>"
      ]
     },
     "metadata": {},
     "output_type": "display_data"
    }
   ],
   "source": [
    "acc = history_dict['accuracy']\n",
    "val_acc = history_dict['val_accuracy']\n",
    "\n",
    "epochs = range(1, len(loss) + 1)\n",
    "\n",
    "# draw the loss evolution in blue\n",
    "plt.plot(epochs, acc, 'b-*', label='précision sur exemples d\\'apprentissage')\n",
    "# draw the accuracy evolution in blue\n",
    "plt.plot(epochs, val_acc, 'r-*', label='précision sur exemples de validation')\n",
    "plt.title('précision')\n",
    "plt.xlabel('Epochs')\n",
    "plt.ylabel('précision')\n",
    "plt.legend()\n",
    "\n",
    "plt.show()"
   ]
  },
  {
   "cell_type": "markdown",
   "metadata": {},
   "source": [
    "### Evaluer le modèle sur l'exemple d'entrainement"
   ]
  },
  {
   "cell_type": "markdown",
   "metadata": {
    "colab_type": "text",
    "id": "ObKC8oW7mROA"
   },
   "source": [
    "---\n",
    "## Estimation de nouvelles critiques\n",
    "Il ne reste plus qu'à utiliser le réseau pour faciliter la classification de futures revues ..  "
   ]
  },
  {
   "cell_type": "code",
   "execution_count": 35,
   "metadata": {
    "colab": {},
    "colab_type": "code",
    "id": "D3A6k30XmVxr"
   },
   "outputs": [],
   "source": [
    "def predict_sentiment(review, vocab, tokenizer, model):\n",
    "    \"\"\"classifie le texte dans la variable 'review' en positif (0) ou negatif (1) \"\"\"\n",
    "    # clean\n",
    "    tokens = clean_doc(review)\n",
    "    # filter by vocab\n",
    "    tokens = [w for w in tokens if w in vocab]\n",
    "    # convert to line\n",
    "    line = ' '.join(tokens)\n",
    "    # create the bag of words with the words used in the line\n",
    "    encoded = tokenizer.texts_to_matrix([line], mode='freq')\n",
    "    # prediction, output is a vector of (1x1) here (output of the neural network is a vector of 1 element)\n",
    "    output = model.predict(encoded, verbose=0)\n",
    "    estimation = output[0,0]\n",
    "    return estimation"
   ]
  },
  {
   "cell_type": "code",
   "execution_count": 36,
   "metadata": {
    "colab": {},
    "colab_type": "code",
    "id": "VslEKt3WmYuI"
   },
   "outputs": [
    {
     "name": "stdout",
     "output_type": "stream",
     "text": [
      "' When I first watched Daniel Craig 15 years ago, I was not ready for the direction they were taking the character. It felt like a good movie, but it felt quite divorced from the Bond I grew up with ... the Bond I knew. But apart from that effort being a Bond begins sort of thing (and this being the other end of that ... line), the franchise bit by bit gave us certain things ... we as viewers yearned for. While keeping it fresh. Bond ... James Bond! That line - one of many that are (in)famous in the long list of Bond movies - gets a new spin here. As is the iconic Bond shooting towards the camera. Now I could name many more things that this film revisits and I probably still would miss some. There are many references here, either visually or via audio. The beginning is quite the introduction ... it is almost funny because it takes its time. And it is funny because the rest sometimes feels rushed. There are many loose ends the movie wants to (neatly?) tie up. Another day, another Bond song, another Bond intro - although quite late in the game. Bond has grown - grown not just over the course of the movie Craig played him, but generally speaking. Society changes and Bond has no issue sitting on on the backseat of a motorbike, while a woman is driving. That is not enough for you to go on a rampage and scream \"wokeness\". Many known faces return, but many new ones too. Be it the ever excellent if only shortly used Ana de Armas (no pun intended) or our uber villain Rami Malek. Now while I really liked what I saw and while the running time is 2,5 hours ... there are things that can be seen and called flaws. You can question Bonds love to Eva Greens character ... or him still holding onto her, you can question methods used and how convenient certain things happen - or how some stunts would put the Fast and Furious franchise to shame ... but if you did that, you would derive yourself of a lot of fun. Not being aware of the previous entries may not be necessary, but youll have a lot of things to discover and smile at, if you have seen at least some of them. Of course if it is only a few of them, make it the Craig Bonds, so you have the whole ... story. Generally speaking I cant wait to revisit all the movies. No time to watch (them)? Well make time ;) Also to conclude with a fun \"fact\": the title No time to Die has been used before ... by another movie in 2006. The year Daniel Craig became Bond! Coincidence? Or full circle? All kidding aside, I have not seen that movie (yet), so dont hate on me if it isnt any good. Otherwise, out with the old ... in with the new - whoever that may be and however the franchise is going to reinvent itself ... Ill be there - I hope you will be there too. '\n",
      " ------> est considere comme  positif\n",
      "1.0\n",
      "=-=-=-=-=-=-=-=-=-=-=-=\n",
      "' I was so angry after watching that I had to write something. Boring boring boring, the biggest reason for that is scenario 0/10. It is too long, if I hadn't go to cinema and bought ticket there is no way I would have patience to watch it until the end. Everything already seen in previous marvel movies, it seems that every new is even worse with lower quality and I didn't even have big expectations before the movie. The main reason I decided to watch it is IMDB rate 9/10 which is total fraud and paid advertisement. There is no guarantee if some character is dead that he will remain dead, everyone could resurrect...Go watch anything else than this. My last marvel movie for sure, so angry that I don't watch american movies in cinema any more, all the same, low quality in recent time, just to make many fast, without proper scenario...bull..it '\n",
      " ------> est considere comme  negatif\n",
      "5.303247e-16\n",
      "' if you want to skip this review just jump to the IMDb list of awards and nominations, and you re done. If you want the skinny, let me say this is one of the most perfect dramas ever to grace your flat screen. Harrelson, you need to understand, is no slouch. He does crazy better than crazy people. And he usually steals any scene not nailed down. But Matthew McConaughey operates at such a level here -- not to mention the astonishing makeup which makes him appear to be playing his own father -- that he walks off with this production. Mesmerizing. Everyone is pitch perfect, which I believe explains the casting awards. Even Michelle Monaghan, usually known for getting by on her amazing looks, does more acting her than anytime in her career ((Designated IMDb Top Reviewer. Please check out my list 167+ Nearly-Perfect Movies (with the occasional Anime or TV miniseries) you can/should see again and again (1932 to the present)) '\n",
      " ------> est considere comme  positif\n",
      "1.0\n",
      "' Season 4 epitomizes the downfall of a once-great series, with a storyline that s nothing short of disappointing. While the music attempts to salvage the sinking ship, the characters wander aimlessly like lost souls in a blizzard. Feeble attempts at zombie-style scares fall flat, leaving viewers more frustrated than frightened. It s a shameful display from the producers, who squandered resources by flying in talent from all corners of the globe, only to deliver a narrative that feels as frozen as the characters themselves. Unraveling the mystery of this series  brutak murder would require the keen eye of a true detective. '\n",
      " ------> est considere comme  negatif\n",
      "3.1139574e-12\n"
     ]
    }
   ],
   "source": [
    "# test of a review associated with a note of 10/10\n",
    "text = 'When I first watched Daniel Craig 15 years ago, I was not ready for the direction they were taking the character. It felt like a good movie, but it felt quite divorced from the Bond I grew up with ... the Bond I knew. But apart from that effort being a Bond begins sort of thing (and this being the other end of that ... line), the franchise bit by bit gave us certain things ... we as viewers yearned for. While keeping it fresh. Bond ... James Bond! That line - one of many that are (in)famous in the long list of Bond movies - gets a new spin here. As is the iconic Bond shooting towards the camera. Now I could name many more things that this film revisits and I probably still would miss some. There are many references here, either visually or via audio. The beginning is quite the introduction ... it is almost funny because it takes its time. And it is funny because the rest sometimes feels rushed. There are many loose ends the movie wants to (neatly?) tie up. Another day, another Bond song, another Bond intro - although quite late in the game. Bond has grown - grown not just over the course of the movie Craig played him, but generally speaking. Society changes and Bond has no issue sitting on on the backseat of a motorbike, while a woman is driving. That is not enough for you to go on a rampage and scream \"wokeness\". Many known faces return, but many new ones too. Be it the ever excellent if only shortly used Ana de Armas (no pun intended) or our uber villain Rami Malek. Now while I really liked what I saw and while the running time is 2,5 hours ... there are things that can be seen and called flaws. You can question Bonds love to Eva Greens character ... or him still holding onto her, you can question methods used and how convenient certain things happen - or how some stunts would put the Fast and Furious franchise to shame ... but if you did that, you would derive yourself of a lot of fun. Not being aware of the previous entries may not be necessary, but youll have a lot of things to discover and smile at, if you have seen at least some of them. Of course if it is only a few of them, make it the Craig Bonds, so you have the whole ... story. Generally speaking I cant wait to revisit all the movies. No time to watch (them)? Well make time ;) Also to conclude with a fun \"fact\": the title No time to Die has been used before ... by another movie in 2006. The year Daniel Craig became Bond! Coincidence? Or full circle? All kidding aside, I have not seen that movie (yet), so dont hate on me if it isnt any good. Otherwise, out with the old ... in with the new - whoever that may be and however the franchise is going to reinvent itself ... Ill be there - I hope you will be there too.'#'Having read the book a hundred years ago, it took some time to begin to understand what was going on. If there is a criticism that many share, it is the pacing of the first part of the film. It needed something to set the scene for us, to show us who the strong and the weak were. I m not much for narration (show me, don t tell me), but it may not have been a bad idea. The scenes are magnificent with special effects off the chart. Many desert travel scenes are quite endless. How do you spruce up a desert. I thought the sand worms were a little one dimensional. I know there is another film down the road.'\n",
    "resultat = predict_sentiment(text, vocab, tokenizer, model)\n",
    "print('\\'',text,'\\'\\n ------> est considere comme ', 'positif' if resultat>0.5 else 'negatif')\n",
    "print(resultat)\n",
    "print(\"=-=-=-=-=-=-=-=-=-=-=-=\")\n",
    "# test of a review associated with a note of 1/10\n",
    "text = 'I was so angry after watching that I had to write something. Boring boring boring, the biggest reason for that is scenario 0/10. It is too long, if I hadn\\'t go to cinema and bought ticket there is no way I would have patience to watch it until the end. Everything already seen in previous marvel movies, it seems that every new is even worse with lower quality and I didn\\'t even have big expectations before the movie. The main reason I decided to watch it is IMDB rate 9/10 which is total fraud and paid advertisement. There is no guarantee if some character is dead that he will remain dead, everyone could resurrect...Go watch anything else than this. My last marvel movie for sure, so angry that I don\\'t watch american movies in cinema any more, all the same, low quality in recent time, just to make many fast, without proper scenario...bull..it'\n",
    "resultat = predict_sentiment(text, vocab, tokenizer, model)\n",
    "print('\\'',text,'\\'\\n ------> est considere comme ', 'positif' if resultat>0.5 else 'negatif')\n",
    "print(resultat)\n",
    "\n",
    "text = 'if you want to skip this review just jump to the IMDb list of awards and nominations, and you re done. If you want the skinny, let me say this is one of the most perfect dramas ever to grace your flat screen. Harrelson, you need to understand, is no slouch. He does crazy better than crazy people. And he usually steals any scene not nailed down. But Matthew McConaughey operates at such a level here -- not to mention the astonishing makeup which makes him appear to be playing his own father -- that he walks off with this production. Mesmerizing. Everyone is pitch perfect, which I believe explains the casting awards. Even Michelle Monaghan, usually known for getting by on her amazing looks, does more acting her than anytime in her career ((Designated IMDb Top Reviewer. Please check out my list 167+ Nearly-Perfect Movies (with the occasional Anime or TV miniseries) you can/should see again and again (1932 to the present))'\n",
    "resultat = predict_sentiment(text, vocab, tokenizer, model)\n",
    "print('\\'',text,'\\'\\n ------> est considere comme ', 'positif' if resultat>0.5 else 'negatif')\n",
    "print(resultat)\n",
    "\n",
    "text = 'Season 4 epitomizes the downfall of a once-great series, with a storyline that s nothing short of disappointing. While the music attempts to salvage the sinking ship, the characters wander aimlessly like lost souls in a blizzard. Feeble attempts at zombie-style scares fall flat, leaving viewers more frustrated than frightened. It s a shameful display from the producers, who squandered resources by flying in talent from all corners of the globe, only to deliver a narrative that feels as frozen as the characters themselves. Unraveling the mystery of this series  brutak murder would require the keen eye of a true detective.'\n",
    "resultat = predict_sentiment(text, vocab, tokenizer, model)\n",
    "print('\\'',text,'\\'\\n ------> est considere comme ', 'positif' if resultat>0.5 else 'negatif')\n",
    "print(resultat)\n"
   ]
  },
  {
   "cell_type": "code",
   "execution_count": null,
   "metadata": {},
   "outputs": [],
   "source": []
  }
 ],
 "metadata": {
  "colab": {
   "collapsed_sections": [],
   "name": "Copie de TP_DeepLearningM1TNSI.ipynb",
   "provenance": [],
   "toc_visible": true,
   "version": "0.3.2"
  },
  "kernelspec": {
   "display_name": "Python 3 (ipykernel)",
   "language": "python",
   "name": "python3"
  },
  "language_info": {
   "codemirror_mode": {
    "name": "ipython",
    "version": 3
   },
   "file_extension": ".py",
   "mimetype": "text/x-python",
   "name": "python",
   "nbconvert_exporter": "python",
   "pygments_lexer": "ipython3",
   "version": "3.11.7"
  }
 },
 "nbformat": 4,
 "nbformat_minor": 4
}
