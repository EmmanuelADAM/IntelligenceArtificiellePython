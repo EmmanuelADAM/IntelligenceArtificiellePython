{
 "cells": [
  {
   "cell_type": "markdown",
   "metadata": {
    "colab_type": "text",
    "id": "view-in-github"
   },
   "source": [
    "<a href=\"https://colab.research.google.com/github/EmmanuelADAM/IntelligenceArtificiellePython/blob/master/recommandationFloue.ipynb\" target=\"_parent\"><img src=\"https://colab.research.google.com/assets/colab-badge.svg\" alt=\"Open In Colab\"/></a>"
   ]
  },
  {
   "cell_type": "markdown",
   "metadata": {
    "colab_type": "text",
    "id": "e6HNpchpt_jH"
   },
   "source": [
    "# Recommendation floue de films avec skfuzzy\n",
    "\n",
    "Pour concevoir une appli de recommendation de film, la logique floue est envisager. \n",
    "L'objectif est de pouvoir représenter des règles de type :\n",
    "- **Si** la note des critiques est bonne *et* le film est populaire, **alors** il est fortement recommandé.\n",
    "- **Si** la note des critiques est moyenne, *mais* le film est du genre préféré de l'utilisateur *et* a une popularité élevée, **alors** il est fortement recommandé.\n",
    "- **Si** la note des critiques est moyenne *et* le film est du genre préféré, **alors** il est recommandé.\n",
    "- **Si** la note des critiques est mauvaise, *mais* le film est du genre préféré *et* a une popularité élevée, **alors** il est recommandé.\n",
    "- **Si** la popularité du film est moyenne *et* l'utilisateur a aimé des films similaires dans le passé, **alors** il est recommandé.\n",
    "- **Si** la popularité du film est faible *et* la note des critiques est bonne, **alors** il est recommandé.\n",
    "- **Si** la popularité du film est faible *et* l'utilisateur a aimé des films similaires dans le passé, **alors** il est recommandé.\n",
    "- **Si** la note des critiques est mauvaise, la popularité est faible, *mais* le film est du genre préféré, **alors** il est recommandé avec prudence.\n",
    "- **Si** la note des critiques est mauvaise, la popularité est faible, *et* ce n'est pas le genre préféré de l'utilisateur, **alors** il est déconseillé."
   ]
  },
  {
   "cell_type": "markdown",
   "metadata": {},
   "source": [
    "On utilise pour cela la librairie python skfuzzy\n",
    "*(si elle n'est pas présente, installez là avec cette ligne : !pip install -U scikit-fuzzy)*"
   ]
  },
  {
   "cell_type": "code",
   "execution_count": null,
   "metadata": {
    "colab": {},
    "colab_type": "code",
    "id": "g3uoNu42zTFR"
   },
   "outputs": [],
   "source": [
    " !pip install -U scikit-fuzzy"
   ]
  },
  {
   "cell_type": "code",
   "execution_count": 2,
   "metadata": {
    "colab": {},
    "colab_type": "code",
    "id": "dF-9pPMZw8RJ"
   },
   "outputs": [],
   "source": [
    "#les imports\n",
    "import numpy as np\n",
    "import skfuzzy as fuzz\n",
    "from skfuzzy import control as ctrl \n",
    "import matplotlib.pyplot as plt"
   ]
  },
  {
   "cell_type": "markdown",
   "metadata": {
    "colab_type": "text",
    "id": "i0QyHaFWu_eH"
   },
   "source": [
    "---\n",
    "## les antécédents et les conséquents\n",
    "- Les antécédents sont les variables utilisées pour prendre les décisions : \n",
    "    - note (mauvais, faible, moyenne, bonne) dans un intervale de 0 à 10, \n",
    "    - popularité dans  un intervale de  0 à 10 millions+ (de vues), (faible (0, 600000), moyenne (700000, 4 millions), élevée (au dessus de 4 millions))  \n",
    "    - genre (neutre (0), aimé (5), préféré(10))\n",
    "- le conséquent est ici la recommendation (déconseillé, recommandé avec prudence, recommendé, fortement recommendé) dans un intervale de 0 à 10."
   ]
  },
  {
   "cell_type": "code",
   "execution_count": 3,
   "metadata": {
    "colab": {},
    "colab_type": "code",
    "id": "nLaNqEL6vlN7"
   },
   "outputs": [],
   "source": [
    "#### Antecedent et Consequent\n",
    "# En vous basant sur les exemples vus en TD, créez les univers pour les antécédents et conséquents \n",
    "note = ctrl.Antecedent(np.arange(0,10,1), 'note')\n",
    "#TODO : la suite"
   ]
  },
  {
   "cell_type": "markdown",
   "metadata": {
    "colab_type": "text",
    "id": "xgE_IUaIvjGm"
   },
   "source": [
    "----\n",
    "### Intervales\n",
    "Toujours en vous basant sur les exemples vus en TD,définissez ensuite les ensembles flous pour chacune de ces variables (vous utiliserez la forme de votre chois (bell, sigmoide, ......))\n"
   ]
  },
  {
   "cell_type": "code",
   "execution_count": 24,
   "metadata": {
    "colab": {},
    "colab_type": "code",
    "id": "OQ0KqQmRziZ7"
   },
   "outputs": [],
   "source": [
    "#note_bonne = .....\n",
    "#TODO: poursuivez"
   ]
  },
  {
   "cell_type": "markdown",
   "metadata": {
    "colab_type": "text",
    "id": "eCi-m6_C00Tm"
   },
   "source": [
    "On peut vérifier les courbes d'appartenance : "
   ]
  },
  {
   "cell_type": "code",
   "execution_count": null,
   "metadata": {},
   "outputs": [],
   "source": [
    "plt.plot(note.universe, note_bonne,  label='bonne')\n",
    "plt.plot(note.universe, note_moyenne,  label='moyenne')\n",
    "plt.plot(note.universe, note_faible,  label='faible')\n",
    "plt.plot(note.universe, note_mauvaise,  label='mauvaise')\n",
    "plt.legend()\n",
    "plt.show()"
   ]
  },
  {
   "cell_type": "markdown",
   "metadata": {
    "colab_type": "text",
    "id": "54v35bLl6ak5"
   },
   "source": [
    "----\n",
    "## Définition des règles floues\n",
    "Définissez les règles pré-citées en vous basant sur les exemples vus en TD. "
   ]
  },
  {
   "cell_type": "code",
   "execution_count": 35,
   "metadata": {
    "colab": {},
    "colab_type": "code",
    "id": "c0w9nC4w60-9"
   },
   "outputs": [],
   "source": [
    "\n",
    "#on écrit\n",
    "# rule1  =  ctrl.Rule( #TODO: à compléter\n",
    "  \n",
    "\n",
    "#on compile les règles\n",
    "recommendation_regles = ctrl.ControlSystem([rule1, rule2, rule3, rule4, rule5, rule6, rule7, rule8, rule9 ])\n",
    "#(completer si vous avez créé plus de 9 règles)\n",
    "recommendation_decision = ctrl.ControlSystemSimulation(recommendation_regles)"
   ]
  },
  {
   "cell_type": "markdown",
   "metadata": {
    "colab_type": "text",
    "id": "kALUmczA7X3T"
   },
   "source": [
    "----\n",
    "## Test\n",
    "Testons le système : \n",
    "- Un film ayant une note critique de 6.6, ayant fait  500 000 d'entrées, dans un genre aimé de la personne, comment lui sera-t-elle recommandée ?\n",
    "- Un film ayant une note critique de 8.6, ayant fait  4 millions d'entrées, comment sera-t-il recommandée ?"
   ]
  },
  {
   "cell_type": "markdown",
   "metadata": {},
   "source": [
    "----\n",
    "## Defuzzification\n",
    "Créez une méthode qui retourne non plus une valeur mais une recommendation textuelle..."
   ]
  }
 ],
 "metadata": {
  "colab": {
   "collapsed_sections": [],
   "include_colab_link": true,
   "name": "solution TD logique floue.ipynb",
   "provenance": [],
   "version": "0.3.2"
  },
  "kernelspec": {
   "display_name": "Python 3 (ipykernel)",
   "language": "python",
   "name": "python3"
  },
  "language_info": {
   "codemirror_mode": {
    "name": "ipython",
    "version": 3
   },
   "file_extension": ".py",
   "mimetype": "text/x-python",
   "name": "python",
   "nbconvert_exporter": "python",
   "pygments_lexer": "ipython3",
   "version": "3.9.6"
  }
 },
 "nbformat": 4,
 "nbformat_minor": 4
}
