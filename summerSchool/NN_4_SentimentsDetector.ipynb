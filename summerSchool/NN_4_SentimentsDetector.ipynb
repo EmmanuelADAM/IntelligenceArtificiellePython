{
 "cells": [
  {
   "cell_type": "markdown",
   "metadata": {
    "colab_type": "text",
    "id": "QQ5vas82illV"
   },
   "source": [
    "<a href=\"https://colab.research.google.com/github/EmmanuelADAM/IntelligenceArtificiellePython/blob/master/summerSchool/NN_4_SentimentsDetector.ipynb\" target=\"_parent\"><img src=\"https://colab.research.google.com/assets/colab-badge.svg\" alt=\"Open In Colab\"/></a>\n",
    "---\n",
    "# Sentiment Detection\n",
    "\n",
    "From a collection of movie review data, identified as positive or negative, the task is to train a neural network to classify or estimate reviews.\n",
    "\n",
    "We use the dataset from [IMDB Dataset of 50K Movie Reviews](https://www.kaggle.com/datasets/lakshmi25npathi/imdb-dataset-of-50k-movie-reviews) which you need to download.\n",
    "\n",
    "This CSV file contains 50,000 movie reviews. These texts consist of important words (tokens), spaces, punctuation marks, and stop words.\n",
    "\n",
    "The tasks are:\n",
    "- To clean the texts and build a vocabulary consisting of important and sufficiently used words.\n",
    "- To select examples used for training and validation.\n",
    "- To create a good neural network model."
   ]
  },
  {
   "cell_type": "markdown",
   "metadata": {
    "colab_type": "text",
    "id": "AWFXrAtkvcg_"
   },
   "source": [
    "---\n",
    "If you are using Colab, you need to place the file in your Google Drive.\n",
    "\n",
    "Then you need to mount the drive directory so that it is accessible by Colab.\n",
    "Run the following code, a key will be requested. Just follow the link, select your profile to get your key which you will copy into the provided field."
   ]
  },
  {
   "cell_type": "code",
   "execution_count": null,
   "metadata": {
    "colab": {
     "base_uri": "https://localhost:8080/",
     "height": 74
    },
    "colab_type": "code",
    "id": "4TodTL602bBv",
    "outputId": "cbc50963-1484-4189-b87b-b0d7d60af79c"
   },
   "outputs": [],
   "source": [
    "# Block to execute if you are using Colab\n",
    "# from google.colab import drive, files\n",
    "\n",
    "# drive.mount('/content/drive')"
   ]
  },
  {
   "cell_type": "markdown",
   "metadata": {
    "colab_type": "text",
    "id": "3IlL2ANmisdv"
   },
   "source": [
    "---\n",
    "## Data Preparation"
   ]
  },
  {
   "cell_type": "markdown",
   "metadata": {
    "colab_type": "text",
    "id": "oiHdx0y1i8Bi"
   },
   "source": [
    "### Loading and Cleaning Data\n",
    "\n",
    "To process texts, most often you need to:\n",
    " - Identify terms (tokens) between spaces,\n",
    " - Remove all punctuation,\n",
    " - Remove all words that are not composed solely of alphabetic characters,\n",
    " - Remove all words recognized as stop words (linking words),\n",
    " - Remove all words whose length is less than x characters."
   ]
  },
  {
   "cell_type": "markdown",
   "metadata": {
    "colab_type": "text",
    "id": "SLWxuYAjxPlo"
   },
   "source": [
    "#### Libraries\n",
    "Data preparation involves being able to access the file system, as well as a natural language processing library (here nltk) and libraries specialized in text processing:"
   ]
  },
  {
   "cell_type": "code",
   "execution_count": 47,
   "metadata": {
    "colab": {},
    "colab_type": "code",
    "id": "tSqBXmHvxnhF"
   },
   "outputs": [],
   "source": [
    "## Imports for files and data processing:\n",
    "from os import listdir\n",
    "import pandas as pd\n",
    "from tqdm import tqdm\n",
    "\n",
    "## Imports for creating tokens\n",
    "import nltk\n",
    "from nltk.corpus import stopwords\n",
    "from nltk.tokenize import wordpunct_tokenize\n",
    "from sklearn.feature_extraction.text import CountVectorizer\n",
    "from sklearn.model_selection import train_test_split\n",
    "\n",
    "## Imports for managing punctuation\n",
    "from string import punctuation\n",
    "\n",
    "## Imports for a specific collection: counter\n",
    "from collections import Counter\n",
    "\n",
    "## Imports for neural networks:\n",
    "# Import the torch library\n",
    "import torch\n",
    "# Import the Neural Network class\n",
    "import torch.nn as nn\n",
    "# Import the optimizers class\n",
    "import torch.optim as optim\n",
    "# Import the DataLoader\n",
    "from torch.utils.data import DataLoader, TensorDataset\n",
    "\n",
    "## Classic imports for efficient arrays\n",
    "import numpy as np\n",
    "import matplotlib.pyplot as plt"
   ]
  },
  {
   "cell_type": "code",
   "execution_count": 45,
   "metadata": {
    "colab": {
     "base_uri": "https://localhost:8080/",
     "height": 68
    },
    "colab_type": "code",
    "id": "n6qZZ-VJw8Wy",
    "outputId": "1c8e7c95-f0ba-4f69-9914-c034c7f534cc"
   },
   "outputs": [
    {
     "name": "stdout",
     "output_type": "stream",
     "text": [
      "{'ain', \"i'd\", \"she'll\", 'at', \"she'd\", \"wasn't\", 'him', 'the', \"couldn't\", 'y', 'isn', 'this', 'wasn', 'more', 'yourself', 'very', 'll', 'hadn', 'here', 'you', 'they', 'over', 'with', 'where', 'above', 'between', 'after', 'had', 'hers', \"don't\", 'do', 'itself', 't', 'and', 'how', \"he'll\", 'why', 'an', 'have', \"you'd\", 'below', 'has', 'so', 'he', 'o', 'shouldn', 'doesn', 'further', 'what', 'm', 'didn', 'we', 'don', \"it'd\", 'each', 'by', 'me', 'such', 'ma', 'my', 'for', 'am', 'yourselves', 'your', 'through', \"we've\", \"hasn't\", 'myself', 'against', 'won', 'out', 'did', 'herself', 'of', 'these', \"aren't\", 'who', 'while', 'being', 'which', 'both', \"isn't\", 'his', 'some', \"won't\", 'nor', \"we'd\", 'theirs', 'most', 'own', \"i'll\", 'hasn', 'about', 'does', 'their', 'themselves', 'now', 'will', 'needn', \"mustn't\", \"they're\", 'd', \"shouldn't\", 'no', \"that'll\", 'not', 'can', 'just', 'on', 'all', \"hadn't\", 'been', \"haven't\", 'mightn', 'was', 'up', \"you're\", 'a', 'as', \"weren't\", 'only', \"we'll\", \"she's\", 'off', 'having', 'himself', \"didn't\", 'than', \"i'm\", 'her', \"it'll\", 'again', 'during', 'it', 'when', 'same', 'wouldn', 'until', 'but', 'i', 'be', 'then', \"doesn't\", 'mustn', 've', \"they'd\", 'them', 'there', 'shan', \"needn't\", 'whom', 'if', 'or', 'ours', 'haven', \"he's\", \"should've\", 'to', \"we're\", 'under', 'aren', 'our', 'too', 'yours', 'is', 'that', 'doing', \"he'd\", \"they've\", 'few', 're', \"i've\", \"shan't\", 'before', 'from', 'into', 'any', \"it's\", \"you'll\", 'are', 'were', 'once', 'its', 'ourselves', 'weren', 'other', \"you've\", 'those', 'she', \"mightn't\", \"they'll\", 'in', 's', \"wouldn't\", 'couldn', 'should', 'because', 'down'}\n"
     ]
    },
    {
     "name": "stderr",
     "output_type": "stream",
     "text": [
      "[nltk_data] Error loading stopwords: <urlopen error [WinError 10060]\n",
      "[nltk_data]     Une tentative de connexion a échoué car le parti\n",
      "[nltk_data]     connecté n’a pas répondu convenablement au-delà d’une\n",
      "[nltk_data]     certaine durée ou une connexion établie a échoué car\n",
      "[nltk_data]     l’hôte de connexion n’a pas répondu>\n"
     ]
    }
   ],
   "source": [
    "# The following code loads all non-important words (in English)\n",
    "nltk.download(\"stopwords\")\n",
    "stop_words = set(stopwords.words('english'))\n",
    "print(stop_words)"
   ]
  },
  {
   "cell_type": "markdown",
   "metadata": {},
   "source": [
    "#### Functions for Reading and Cleaning Text Files\n",
    "\n",
    "The movie reviews are in the 'review' column of the CSV file.\n",
    "\n",
    "For each review, we need to retrieve the important words (of sufficient length, without punctuation, without stopwords (a, the, ...)."
   ]
  },
  {
   "cell_type": "code",
   "execution_count": 5,
   "metadata": {
    "colab": {},
    "colab_type": "code",
    "id": "by0--ITCi-xa"
   },
   "outputs": [],
   "source": [
    "# Get the text at line num_line of the column and return the cleaned text (without stopwords, words < 2 letters, ...)\n",
    "def clean_doc(doc: str) -> list:\n",
    "    \"\"\"Returns the list of keywords included in the text doc\n",
    "    that are not part of the stop_words\"\"\"\n",
    "    # Split into tokens by white space\n",
    "    tokens = wordpunct_tokenize(doc)\n",
    "    # Remove remaining tokens that are not alphabetic\n",
    "    tokens = [word.lower() for word in tokens if word.isalpha()]\n",
    "    # Filter out stop words\n",
    "    tokens = [w for w in tokens if w not in stop_words]\n",
    "    # Filter out short tokens\n",
    "    tokens = [word for word in tokens if len(word) > 2]\n",
    "    return tokens"
   ]
  },
  {
   "cell_type": "code",
   "execution_count": 6,
   "metadata": {},
   "outputs": [],
   "source": [
    "# Some types, optional, just for nice code\n",
    "Series = pd.core.series.Series\n",
    "DataFrame = pd.core.frame.DataFrame"
   ]
  },
  {
   "cell_type": "markdown",
   "metadata": {
    "colab_type": "text",
    "id": "UgALvdrLKOD3"
   },
   "source": [
    "### Retrieving Texts\n",
    "Here, the texts to be analyzed are in the 'reviews' column and the outputs in the 'sentiment' column."
   ]
  },
  {
   "cell_type": "code",
   "execution_count": 7,
   "metadata": {
    "colab": {
     "base_uri": "https://localhost:8080/",
     "height": 125
    },
    "colab_type": "code",
    "id": "0CpapoCR0Hzs",
    "outputId": "23a01def-2b8c-4fef-e689-1289a90d2d61"
   },
   "outputs": [],
   "source": [
    "# Example directory under Colab\n",
    "# rep = '/content/drive/My Drive/txt_sentoken'\n",
    "# Example directory under Windows\n",
    "rep: str = \"./\"\n",
    "filename: str = \"IMDB Dataset.csv\"\n",
    "datas: DataFrame = pd.read_csv(rep + filename)\n",
    "# Retrieve the review column\n",
    "reviews: Series = datas['review']"
   ]
  },
  {
   "cell_type": "code",
   "execution_count": 8,
   "metadata": {},
   "outputs": [
    {
     "name": "stdout",
     "output_type": "stream",
     "text": [
      "The first 10 keywords of  One of the other reviewers has mentioned that after watching just 1 Oz episode you'll be hooked. They are right, as this is exactly what happened with me.<br /><br />The first thing that struck me about Oz was its brutality and unflinching scenes of violence, which set in right from the word GO. Trust me, this is not a show for the faint hearted or timid. This show pulls no punches with regards to drugs, sex or violence. Its is hardcore, in the classic use of the word.<br /><br />It is called OZ as that is the nickname given to the Oswald Maximum Security State Penitentary. It focuses mainly on Emerald City, an experimental section of the prison where all the cells have glass fronts and face inwards, so privacy is not high on the agenda. Em City is home to many..Aryans, Muslims, gangstas, Latinos, Christians, Italians, Irish and more....so scuffles, death stares, dodgy dealings and shady agreements are never far away.<br /><br />I would say the main appeal of the show is due to the fact that it goes where other shows wouldn't dare. Forget pretty pictures painted for mainstream audiences, forget charm, forget romance...OZ doesn't mess around. The first episode I ever saw struck me as so nasty it was surreal, I couldn't say I was ready for it, but as I watched more, I developed a taste for Oz, and got accustomed to the high levels of graphic violence. Not just violence, but injustice (crooked guards who'll be sold out for a nickel, inmates who'll kill on order and get away with it, well mannered, middle class inmates being turned into prison bitches due to their lack of street skills or prison experience) Watching Oz, you may become comfortable with what is uncomfortable viewing....thats if you can get in touch with your darker side.\n",
      "['one', 'reviewers', 'mentioned', 'watching', 'episode', 'hooked', 'right', 'exactly', 'happened', 'first']\n"
     ]
    }
   ],
   "source": [
    "tokens: list = clean_doc(reviews[0])\n",
    "print('The first 10 keywords of ', reviews[0])\n",
    "print(tokens[:10])"
   ]
  },
  {
   "cell_type": "markdown",
   "metadata": {
    "colab_type": "text",
    "id": "1yo75YEIjWIT"
   },
   "source": [
    "---\n",
    "### Building the Global Vocabulary"
   ]
  },
  {
   "cell_type": "code",
   "execution_count": 9,
   "metadata": {},
   "outputs": [],
   "source": [
    "def add_doc_to_vocab(review: str, vocab: Counter):\n",
    "    \"\"\"Accumulates the words of the review in the vocab list\n",
    "    (only one occurrence per word in vocab)\"\"\"\n",
    "    # Clean doc\n",
    "    tokens = clean_doc(review)\n",
    "    # Update counts\n",
    "    vocab.update(tokens)\n",
    "\n",
    "def build_voc(series: Series, vocab: Counter):\n",
    "    \"\"\"Adds to the vocab dictionary the keywords from 90% of the data series\"\"\"\n",
    "    i = 0\n",
    "    nb = int(series.size)\n",
    "    # Walk through all files in the folder\n",
    "    for i in tqdm(range(nb)):\n",
    "        # Add doc to vocab\n",
    "        add_doc_to_vocab(series[i], vocab)"
   ]
  },
  {
   "cell_type": "code",
   "execution_count": 10,
   "metadata": {
    "colab": {},
    "colab_type": "code",
    "id": "Axlsvtg8jhAr"
   },
   "outputs": [
    {
     "name": "stderr",
     "output_type": "stream",
     "text": [
      "100%|██████████| 50000/50000 [00:04<00:00, 10265.04it/s]"
     ]
    },
    {
     "name": "stdout",
     "output_type": "stream",
     "text": [
      "Number of keywords found in the directories:  99067\n",
      "The first 10 keywords of the vocabulary \n",
      " and their number of appearances in the examples): \n",
      "one : 53603, reviewers : 493, mentioned : 1079, watching : 9165, episode : 3183, hooked : 284, right : 6529, exactly : 1965, happened : 2054, first : 17583, thing : 9173, \n",
      "The 10 most used keywords:  [('movie', 87971), ('film', 79705), ('one', 53603), ('like', 40172), ('good', 29753), ('time', 25110), ('even', 24871), ('would', 24602), ('story', 23119), ('really', 23094)]\n"
     ]
    },
    {
     "name": "stderr",
     "output_type": "stream",
     "text": [
      "\n"
     ]
    }
   ],
   "source": [
    "# Create a vocabulary (list of keywords associated with their occurrences)\n",
    "vocab: Counter = Counter()\n",
    "build_voc(reviews, vocab)\n",
    "# Display the number of keywords found\n",
    "print(\"Number of keywords found in the directories: \", len(vocab))\n",
    "print(\"The first 10 keywords of the vocabulary \\n and their number of appearances in the examples): \\n\", end='')\n",
    "i: int = 0\n",
    "for (word, count) in vocab.items():\n",
    "    print(word, ':', count, end=\", \")\n",
    "    i = i + 1\n",
    "    if i > 10: break\n",
    "# Display the 10 most used keywords\n",
    "print(\"\\nThe 10 most used keywords: \", vocab.most_common(10))"
   ]
  },
  {
   "cell_type": "code",
   "execution_count": 11,
   "metadata": {},
   "outputs": [],
   "source": [
    "# We can, if we want, increase the list of stop words\n",
    "# One, movie, film do not seem relevant for sentiment analysis\n",
    "stop_words.add('one')\n",
    "stop_words.add('movie')\n",
    "stop_words.add('film')"
   ]
  },
  {
   "cell_type": "code",
   "execution_count": 12,
   "metadata": {},
   "outputs": [
    {
     "name": "stderr",
     "output_type": "stream",
     "text": [
      "  0%|          | 0/50000 [00:00<?, ?it/s]"
     ]
    },
    {
     "name": "stderr",
     "output_type": "stream",
     "text": [
      "100%|██████████| 50000/50000 [00:04<00:00, 10797.01it/s]"
     ]
    },
    {
     "name": "stdout",
     "output_type": "stream",
     "text": [
      "Number of keywords found in the directories:  99064\n",
      "The first 10 keywords of the vocabulary \n",
      " and their number of appearances in the examples): \n",
      "reviewers : 493, mentioned : 1079, watching : 9165, episode : 3183, hooked : 284, right : 6529, exactly : 1965, happened : 2054, first : 17583, thing : 9173, struck : 279, \n",
      "The 10 most used keywords:  [('like', 40172), ('good', 29753), ('time', 25110), ('even', 24871), ('would', 24602), ('story', 23119), ('really', 23094), ('see', 23029), ('well', 21268), ('much', 19318)]\n"
     ]
    },
    {
     "name": "stderr",
     "output_type": "stream",
     "text": [
      "\n"
     ]
    }
   ],
   "source": [
    "# Verification by recreating a vocabulary (list of keywords associated with their occurrences)\n",
    "vocab: Counter = Counter()\n",
    "build_voc(reviews, vocab)\n",
    "# Display the number of keywords found\n",
    "print(\"Number of keywords found in the directories: \", len(vocab))\n",
    "print(\"The first 10 keywords of the vocabulary \\n and their number of appearances in the examples): \\n\", end='')\n",
    "i: int = 0\n",
    "for (word, count) in vocab.items():\n",
    "    print(word, ':', count, end=\", \")\n",
    "    i = i + 1\n",
    "    if i > 10: break\n",
    "# Display the 10 most used keywords\n",
    "print(\"\\nThe 10 most used keywords: \", vocab.most_common(10))"
   ]
  },
  {
   "cell_type": "markdown",
   "metadata": {},
   "source": [
    "---\n",
    "#### Limiting the Vocabulary Size\n",
    "Each review will be encoded by a vector indicating whether the word from the vocabulary is contained in it.\n",
    "\n",
    "The size of the vector is therefore the size of the vocabulary.\n",
    "And therefore, the number of neurons in the input layer will also be as large as this vocabulary.\n",
    "\n",
    "It is important to find a good balance between a precise but concise vocabulary."
   ]
  },
  {
   "cell_type": "code",
   "execution_count": 13,
   "metadata": {
    "colab": {},
    "colab_type": "code",
    "id": "EDFdsl97jq0t"
   },
   "outputs": [
    {
     "name": "stdout",
     "output_type": "stream",
     "text": [
      "By removing words used less than  50  times, number of keywords =  10868\n"
     ]
    }
   ],
   "source": [
    "# Keep only keywords appearing at least x times\n",
    "min_occurrence: int = 50\n",
    "tokens: list = [token for (token, count) in vocab.items() if count >= min_occurrence]\n",
    "print('By removing words used less than ', min_occurrence, ' times,', \n",
    "      'number of keywords = ', len(tokens))"
   ]
  },
  {
   "cell_type": "code",
   "execution_count": 14,
   "metadata": {
    "colab": {},
    "colab_type": "code",
    "id": "ApMJ_0gHjuEv"
   },
   "outputs": [],
   "source": [
    "def save_list(lines: list, filename: str):\n",
    "    \"\"\"Saves the words from the list of comments lines into the file filename\"\"\"\n",
    "    # Convert lines to a single blob of text\n",
    "    data = '\\n'.join(lines)\n",
    "    # Open file\n",
    "    file = open(filename, 'w')\n",
    "    # Write text\n",
    "    file.write(data)\n",
    "    # Close file\n",
    "    file.close()\n",
    "\n",
    "# Save tokens to a vocabulary file\n",
    "save_list(tokens, rep + 'vocab.txt')"
   ]
  },
  {
   "cell_type": "code",
   "execution_count": 15,
   "metadata": {},
   "outputs": [],
   "source": [
    "def load_doc(filename: str) -> str:\n",
    "    \"\"\"Returns the text included in the file filename\"\"\"\n",
    "    # Open the file as read-only\n",
    "    file = open(filename, 'r')\n",
    "    # Read all text\n",
    "    text = file.read()\n",
    "    # Close the file\n",
    "    file.close()\n",
    "    return text"
   ]
  },
  {
   "cell_type": "markdown",
   "metadata": {
    "colab_type": "text",
    "id": "v2oK8x7bj5CU"
   },
   "source": [
    "---\n",
    "## Bag of Words Representation"
   ]
  },
  {
   "cell_type": "markdown",
   "metadata": {
    "colab_type": "text",
    "id": "wdd9RpBskGUy"
   },
   "source": [
    "### Convert texts into lists of keywords belonging to the vocabulary"
   ]
  },
  {
   "cell_type": "code",
   "execution_count": 16,
   "metadata": {
    "colab": {},
    "colab_type": "code",
    "id": "7Sw6xGMHkUP1"
   },
   "outputs": [],
   "source": [
    "def vocab_in_doc(text: str, vocab: list) -> list:\n",
    "    \"\"\"Returns the list of keywords in the text that belong to the vocabulary vocab\"\"\"\n",
    "    # Clean doc\n",
    "    tokens = clean_doc(text)\n",
    "    # Filter by vocab\n",
    "    tokens = [token for token in tokens if token in vocab]\n",
    "    return ' '.join(tokens)"
   ]
  },
  {
   "cell_type": "code",
   "execution_count": 17,
   "metadata": {
    "colab": {},
    "colab_type": "code",
    "id": "8bE7XaHdka1O"
   },
   "outputs": [],
   "source": [
    "def process_docs(series: list, vocab: list) -> list:\n",
    "    \"\"\"Takes as input a list of texts.\n",
    "    Returns a list of texts cleaned of words not in the vocabulary\"\"\"\n",
    "    lines = list()\n",
    "\n",
    "    nb = int(series.size * 0.9)\n",
    "    # Walk through all files in the folder\n",
    "    for i in tqdm(range(series.size)):\n",
    "        line = vocab_in_doc(series[i], vocab)\n",
    "        lines.append(line)\n",
    "    return lines"
   ]
  },
  {
   "cell_type": "code",
   "execution_count": 18,
   "metadata": {
    "colab": {},
    "colab_type": "code",
    "id": "o0ixOikAkfyN"
   },
   "outputs": [],
   "source": [
    "# Load the vocabulary\n",
    "vocab_filename = 'vocab.txt'\n",
    "vocab = load_doc(rep + vocab_filename)\n",
    "vocab = vocab.split()\n",
    "vocab = set(vocab)"
   ]
  },
  {
   "cell_type": "code",
   "execution_count": 19,
   "metadata": {},
   "outputs": [],
   "source": [
    "# We only keep a little data to test the functionalities\n",
    "# We will take everything if the proof of concept is successful\n",
    "reviews = reviews[:10000]"
   ]
  },
  {
   "cell_type": "code",
   "execution_count": 20,
   "metadata": {},
   "outputs": [
    {
     "name": "stderr",
     "output_type": "stream",
     "text": [
      "100%|██████████| 10000/10000 [00:00<00:00, 11208.28it/s]"
     ]
    },
    {
     "name": "stdout",
     "output_type": "stream",
     "text": [
      "Number of examples:  10000\n"
     ]
    },
    {
     "name": "stderr",
     "output_type": "stream",
     "text": [
      "\n"
     ]
    }
   ],
   "source": [
    "# Load training and testing reviews\n",
    "lines_input: list = process_docs(reviews, vocab)\n",
    "nb_input: int = len(lines_input)\n",
    "\n",
    "# Summarize what we have\n",
    "print(\"Number of examples: \", nb_input)"
   ]
  },
  {
   "cell_type": "code",
   "execution_count": 21,
   "metadata": {},
   "outputs": [
    {
     "name": "stdout",
     "output_type": "stream",
     "text": [
      "Input 0\n",
      "Initial text: \n",
      " One of the other reviewers has mentioned that after watching just 1 Oz episode you'll be hooked. They are right, as this is exactly what happened with me.<br /><br />The first thing that struck me about Oz was its brutality and unflinching scenes of violence, which set in right from the word GO. Trust me, this is not a show for the faint hearted or timid. This show pulls no punches with regards to drugs, sex or violence. Its is hardcore, in the classic use of the word.<br /><br />It is called OZ as that is the nickname given to the Oswald Maximum Security State Penitentary. It focuses mainly on Emerald City, an experimental section of the prison where all the cells have glass fronts and face inwards, so privacy is not high on the agenda. Em City is home to many..Aryans, Muslims, gangstas, Latinos, Christians, Italians, Irish and more....so scuffles, death stares, dodgy dealings and shady agreements are never far away.<br /><br />I would say the main appeal of the show is due to the fact that it goes where other shows wouldn't dare. Forget pretty pictures painted for mainstream audiences, forget charm, forget romance...OZ doesn't mess around. The first episode I ever saw struck me as so nasty it was surreal, I couldn't say I was ready for it, but as I watched more, I developed a taste for Oz, and got accustomed to the high levels of graphic violence. Not just violence, but injustice (crooked guards who'll be sold out for a nickel, inmates who'll kill on order and get away with it, well mannered, middle class inmates being turned into prison bitches due to their lack of street skills or prison experience) Watching Oz, you may become comfortable with what is uncomfortable viewing....thats if you can get in touch with your darker side.\n",
      "Kept text: \n",
      " reviewers mentioned watching episode hooked right exactly happened first thing struck brutality scenes violence set right word trust show faint hearted show pulls punches regards drugs sex violence hardcore classic use word called given maximum security state focuses mainly city experimental section prison cells glass face high agenda city home many muslims christians italians irish death stares dodgy shady never far away would say main appeal show due fact goes shows dare forget pretty pictures painted mainstream audiences forget charm forget romance mess around first episode ever saw struck nasty surreal say ready watched developed taste got accustomed high levels graphic violence violence injustice crooked guards sold inmates kill order get away well mannered middle class inmates turned prison due lack street skills prison experience watching may become comfortable uncomfortable viewing thats get touch darker side\n"
     ]
    }
   ],
   "source": [
    "print(\"Input 0\")\n",
    "print(\"Initial text: \\n\", reviews[0])\n",
    "print(\"Kept text: \\n\", lines_input[0])"
   ]
  },
  {
   "cell_type": "markdown",
   "metadata": {
    "colab_type": "text",
    "id": "ZTJ5fim2k1fk"
   },
   "source": [
    "---\n",
    "### Convert Lists of Words into Frequency of Appearance Vectors\n",
    "#### Create the Bag of Words for the Training Set"
   ]
  },
  {
   "cell_type": "code",
   "execution_count": 22,
   "metadata": {
    "colab": {},
    "colab_type": "code",
    "id": "zVxIx3dtk9HF"
   },
   "outputs": [
    {
     "data": {
      "text/html": [
       "<style>#sk-container-id-1 {\n",
       "  /* Definition of color scheme common for light and dark mode */\n",
       "  --sklearn-color-text: #000;\n",
       "  --sklearn-color-text-muted: #666;\n",
       "  --sklearn-color-line: gray;\n",
       "  /* Definition of color scheme for unfitted estimators */\n",
       "  --sklearn-color-unfitted-level-0: #fff5e6;\n",
       "  --sklearn-color-unfitted-level-1: #f6e4d2;\n",
       "  --sklearn-color-unfitted-level-2: #ffe0b3;\n",
       "  --sklearn-color-unfitted-level-3: chocolate;\n",
       "  /* Definition of color scheme for fitted estimators */\n",
       "  --sklearn-color-fitted-level-0: #f0f8ff;\n",
       "  --sklearn-color-fitted-level-1: #d4ebff;\n",
       "  --sklearn-color-fitted-level-2: #b3dbfd;\n",
       "  --sklearn-color-fitted-level-3: cornflowerblue;\n",
       "\n",
       "  /* Specific color for light theme */\n",
       "  --sklearn-color-text-on-default-background: var(--sg-text-color, var(--theme-code-foreground, var(--jp-content-font-color1, black)));\n",
       "  --sklearn-color-background: var(--sg-background-color, var(--theme-background, var(--jp-layout-color0, white)));\n",
       "  --sklearn-color-border-box: var(--sg-text-color, var(--theme-code-foreground, var(--jp-content-font-color1, black)));\n",
       "  --sklearn-color-icon: #696969;\n",
       "\n",
       "  @media (prefers-color-scheme: dark) {\n",
       "    /* Redefinition of color scheme for dark theme */\n",
       "    --sklearn-color-text-on-default-background: var(--sg-text-color, var(--theme-code-foreground, var(--jp-content-font-color1, white)));\n",
       "    --sklearn-color-background: var(--sg-background-color, var(--theme-background, var(--jp-layout-color0, #111)));\n",
       "    --sklearn-color-border-box: var(--sg-text-color, var(--theme-code-foreground, var(--jp-content-font-color1, white)));\n",
       "    --sklearn-color-icon: #878787;\n",
       "  }\n",
       "}\n",
       "\n",
       "#sk-container-id-1 {\n",
       "  color: var(--sklearn-color-text);\n",
       "}\n",
       "\n",
       "#sk-container-id-1 pre {\n",
       "  padding: 0;\n",
       "}\n",
       "\n",
       "#sk-container-id-1 input.sk-hidden--visually {\n",
       "  border: 0;\n",
       "  clip: rect(1px 1px 1px 1px);\n",
       "  clip: rect(1px, 1px, 1px, 1px);\n",
       "  height: 1px;\n",
       "  margin: -1px;\n",
       "  overflow: hidden;\n",
       "  padding: 0;\n",
       "  position: absolute;\n",
       "  width: 1px;\n",
       "}\n",
       "\n",
       "#sk-container-id-1 div.sk-dashed-wrapped {\n",
       "  border: 1px dashed var(--sklearn-color-line);\n",
       "  margin: 0 0.4em 0.5em 0.4em;\n",
       "  box-sizing: border-box;\n",
       "  padding-bottom: 0.4em;\n",
       "  background-color: var(--sklearn-color-background);\n",
       "}\n",
       "\n",
       "#sk-container-id-1 div.sk-container {\n",
       "  /* jupyter's `normalize.less` sets `[hidden] { display: none; }`\n",
       "     but bootstrap.min.css set `[hidden] { display: none !important; }`\n",
       "     so we also need the `!important` here to be able to override the\n",
       "     default hidden behavior on the sphinx rendered scikit-learn.org.\n",
       "     See: https://github.com/scikit-learn/scikit-learn/issues/21755 */\n",
       "  display: inline-block !important;\n",
       "  position: relative;\n",
       "}\n",
       "\n",
       "#sk-container-id-1 div.sk-text-repr-fallback {\n",
       "  display: none;\n",
       "}\n",
       "\n",
       "div.sk-parallel-item,\n",
       "div.sk-serial,\n",
       "div.sk-item {\n",
       "  /* draw centered vertical line to link estimators */\n",
       "  background-image: linear-gradient(var(--sklearn-color-text-on-default-background), var(--sklearn-color-text-on-default-background));\n",
       "  background-size: 2px 100%;\n",
       "  background-repeat: no-repeat;\n",
       "  background-position: center center;\n",
       "}\n",
       "\n",
       "/* Parallel-specific style estimator block */\n",
       "\n",
       "#sk-container-id-1 div.sk-parallel-item::after {\n",
       "  content: \"\";\n",
       "  width: 100%;\n",
       "  border-bottom: 2px solid var(--sklearn-color-text-on-default-background);\n",
       "  flex-grow: 1;\n",
       "}\n",
       "\n",
       "#sk-container-id-1 div.sk-parallel {\n",
       "  display: flex;\n",
       "  align-items: stretch;\n",
       "  justify-content: center;\n",
       "  background-color: var(--sklearn-color-background);\n",
       "  position: relative;\n",
       "}\n",
       "\n",
       "#sk-container-id-1 div.sk-parallel-item {\n",
       "  display: flex;\n",
       "  flex-direction: column;\n",
       "}\n",
       "\n",
       "#sk-container-id-1 div.sk-parallel-item:first-child::after {\n",
       "  align-self: flex-end;\n",
       "  width: 50%;\n",
       "}\n",
       "\n",
       "#sk-container-id-1 div.sk-parallel-item:last-child::after {\n",
       "  align-self: flex-start;\n",
       "  width: 50%;\n",
       "}\n",
       "\n",
       "#sk-container-id-1 div.sk-parallel-item:only-child::after {\n",
       "  width: 0;\n",
       "}\n",
       "\n",
       "/* Serial-specific style estimator block */\n",
       "\n",
       "#sk-container-id-1 div.sk-serial {\n",
       "  display: flex;\n",
       "  flex-direction: column;\n",
       "  align-items: center;\n",
       "  background-color: var(--sklearn-color-background);\n",
       "  padding-right: 1em;\n",
       "  padding-left: 1em;\n",
       "}\n",
       "\n",
       "\n",
       "/* Toggleable style: style used for estimator/Pipeline/ColumnTransformer box that is\n",
       "clickable and can be expanded/collapsed.\n",
       "- Pipeline and ColumnTransformer use this feature and define the default style\n",
       "- Estimators will overwrite some part of the style using the `sk-estimator` class\n",
       "*/\n",
       "\n",
       "/* Pipeline and ColumnTransformer style (default) */\n",
       "\n",
       "#sk-container-id-1 div.sk-toggleable {\n",
       "  /* Default theme specific background. It is overwritten whether we have a\n",
       "  specific estimator or a Pipeline/ColumnTransformer */\n",
       "  background-color: var(--sklearn-color-background);\n",
       "}\n",
       "\n",
       "/* Toggleable label */\n",
       "#sk-container-id-1 label.sk-toggleable__label {\n",
       "  cursor: pointer;\n",
       "  display: flex;\n",
       "  width: 100%;\n",
       "  margin-bottom: 0;\n",
       "  padding: 0.5em;\n",
       "  box-sizing: border-box;\n",
       "  text-align: center;\n",
       "  align-items: start;\n",
       "  justify-content: space-between;\n",
       "  gap: 0.5em;\n",
       "}\n",
       "\n",
       "#sk-container-id-1 label.sk-toggleable__label .caption {\n",
       "  font-size: 0.6rem;\n",
       "  font-weight: lighter;\n",
       "  color: var(--sklearn-color-text-muted);\n",
       "}\n",
       "\n",
       "#sk-container-id-1 label.sk-toggleable__label-arrow:before {\n",
       "  /* Arrow on the left of the label */\n",
       "  content: \"▸\";\n",
       "  float: left;\n",
       "  margin-right: 0.25em;\n",
       "  color: var(--sklearn-color-icon);\n",
       "}\n",
       "\n",
       "#sk-container-id-1 label.sk-toggleable__label-arrow:hover:before {\n",
       "  color: var(--sklearn-color-text);\n",
       "}\n",
       "\n",
       "/* Toggleable content - dropdown */\n",
       "\n",
       "#sk-container-id-1 div.sk-toggleable__content {\n",
       "  display: none;\n",
       "  text-align: left;\n",
       "  /* unfitted */\n",
       "  background-color: var(--sklearn-color-unfitted-level-0);\n",
       "}\n",
       "\n",
       "#sk-container-id-1 div.sk-toggleable__content.fitted {\n",
       "  /* fitted */\n",
       "  background-color: var(--sklearn-color-fitted-level-0);\n",
       "}\n",
       "\n",
       "#sk-container-id-1 div.sk-toggleable__content pre {\n",
       "  margin: 0.2em;\n",
       "  border-radius: 0.25em;\n",
       "  color: var(--sklearn-color-text);\n",
       "  /* unfitted */\n",
       "  background-color: var(--sklearn-color-unfitted-level-0);\n",
       "}\n",
       "\n",
       "#sk-container-id-1 div.sk-toggleable__content.fitted pre {\n",
       "  /* unfitted */\n",
       "  background-color: var(--sklearn-color-fitted-level-0);\n",
       "}\n",
       "\n",
       "#sk-container-id-1 input.sk-toggleable__control:checked~div.sk-toggleable__content {\n",
       "  /* Expand drop-down */\n",
       "  display: block;\n",
       "  width: 100%;\n",
       "  overflow: visible;\n",
       "}\n",
       "\n",
       "#sk-container-id-1 input.sk-toggleable__control:checked~label.sk-toggleable__label-arrow:before {\n",
       "  content: \"▾\";\n",
       "}\n",
       "\n",
       "/* Pipeline/ColumnTransformer-specific style */\n",
       "\n",
       "#sk-container-id-1 div.sk-label input.sk-toggleable__control:checked~label.sk-toggleable__label {\n",
       "  color: var(--sklearn-color-text);\n",
       "  background-color: var(--sklearn-color-unfitted-level-2);\n",
       "}\n",
       "\n",
       "#sk-container-id-1 div.sk-label.fitted input.sk-toggleable__control:checked~label.sk-toggleable__label {\n",
       "  background-color: var(--sklearn-color-fitted-level-2);\n",
       "}\n",
       "\n",
       "/* Estimator-specific style */\n",
       "\n",
       "/* Colorize estimator box */\n",
       "#sk-container-id-1 div.sk-estimator input.sk-toggleable__control:checked~label.sk-toggleable__label {\n",
       "  /* unfitted */\n",
       "  background-color: var(--sklearn-color-unfitted-level-2);\n",
       "}\n",
       "\n",
       "#sk-container-id-1 div.sk-estimator.fitted input.sk-toggleable__control:checked~label.sk-toggleable__label {\n",
       "  /* fitted */\n",
       "  background-color: var(--sklearn-color-fitted-level-2);\n",
       "}\n",
       "\n",
       "#sk-container-id-1 div.sk-label label.sk-toggleable__label,\n",
       "#sk-container-id-1 div.sk-label label {\n",
       "  /* The background is the default theme color */\n",
       "  color: var(--sklearn-color-text-on-default-background);\n",
       "}\n",
       "\n",
       "/* On hover, darken the color of the background */\n",
       "#sk-container-id-1 div.sk-label:hover label.sk-toggleable__label {\n",
       "  color: var(--sklearn-color-text);\n",
       "  background-color: var(--sklearn-color-unfitted-level-2);\n",
       "}\n",
       "\n",
       "/* Label box, darken color on hover, fitted */\n",
       "#sk-container-id-1 div.sk-label.fitted:hover label.sk-toggleable__label.fitted {\n",
       "  color: var(--sklearn-color-text);\n",
       "  background-color: var(--sklearn-color-fitted-level-2);\n",
       "}\n",
       "\n",
       "/* Estimator label */\n",
       "\n",
       "#sk-container-id-1 div.sk-label label {\n",
       "  font-family: monospace;\n",
       "  font-weight: bold;\n",
       "  display: inline-block;\n",
       "  line-height: 1.2em;\n",
       "}\n",
       "\n",
       "#sk-container-id-1 div.sk-label-container {\n",
       "  text-align: center;\n",
       "}\n",
       "\n",
       "/* Estimator-specific */\n",
       "#sk-container-id-1 div.sk-estimator {\n",
       "  font-family: monospace;\n",
       "  border: 1px dotted var(--sklearn-color-border-box);\n",
       "  border-radius: 0.25em;\n",
       "  box-sizing: border-box;\n",
       "  margin-bottom: 0.5em;\n",
       "  /* unfitted */\n",
       "  background-color: var(--sklearn-color-unfitted-level-0);\n",
       "}\n",
       "\n",
       "#sk-container-id-1 div.sk-estimator.fitted {\n",
       "  /* fitted */\n",
       "  background-color: var(--sklearn-color-fitted-level-0);\n",
       "}\n",
       "\n",
       "/* on hover */\n",
       "#sk-container-id-1 div.sk-estimator:hover {\n",
       "  /* unfitted */\n",
       "  background-color: var(--sklearn-color-unfitted-level-2);\n",
       "}\n",
       "\n",
       "#sk-container-id-1 div.sk-estimator.fitted:hover {\n",
       "  /* fitted */\n",
       "  background-color: var(--sklearn-color-fitted-level-2);\n",
       "}\n",
       "\n",
       "/* Specification for estimator info (e.g. \"i\" and \"?\") */\n",
       "\n",
       "/* Common style for \"i\" and \"?\" */\n",
       "\n",
       ".sk-estimator-doc-link,\n",
       "a:link.sk-estimator-doc-link,\n",
       "a:visited.sk-estimator-doc-link {\n",
       "  float: right;\n",
       "  font-size: smaller;\n",
       "  line-height: 1em;\n",
       "  font-family: monospace;\n",
       "  background-color: var(--sklearn-color-background);\n",
       "  border-radius: 1em;\n",
       "  height: 1em;\n",
       "  width: 1em;\n",
       "  text-decoration: none !important;\n",
       "  margin-left: 0.5em;\n",
       "  text-align: center;\n",
       "  /* unfitted */\n",
       "  border: var(--sklearn-color-unfitted-level-1) 1pt solid;\n",
       "  color: var(--sklearn-color-unfitted-level-1);\n",
       "}\n",
       "\n",
       ".sk-estimator-doc-link.fitted,\n",
       "a:link.sk-estimator-doc-link.fitted,\n",
       "a:visited.sk-estimator-doc-link.fitted {\n",
       "  /* fitted */\n",
       "  border: var(--sklearn-color-fitted-level-1) 1pt solid;\n",
       "  color: var(--sklearn-color-fitted-level-1);\n",
       "}\n",
       "\n",
       "/* On hover */\n",
       "div.sk-estimator:hover .sk-estimator-doc-link:hover,\n",
       ".sk-estimator-doc-link:hover,\n",
       "div.sk-label-container:hover .sk-estimator-doc-link:hover,\n",
       ".sk-estimator-doc-link:hover {\n",
       "  /* unfitted */\n",
       "  background-color: var(--sklearn-color-unfitted-level-3);\n",
       "  color: var(--sklearn-color-background);\n",
       "  text-decoration: none;\n",
       "}\n",
       "\n",
       "div.sk-estimator.fitted:hover .sk-estimator-doc-link.fitted:hover,\n",
       ".sk-estimator-doc-link.fitted:hover,\n",
       "div.sk-label-container:hover .sk-estimator-doc-link.fitted:hover,\n",
       ".sk-estimator-doc-link.fitted:hover {\n",
       "  /* fitted */\n",
       "  background-color: var(--sklearn-color-fitted-level-3);\n",
       "  color: var(--sklearn-color-background);\n",
       "  text-decoration: none;\n",
       "}\n",
       "\n",
       "/* Span, style for the box shown on hovering the info icon */\n",
       ".sk-estimator-doc-link span {\n",
       "  display: none;\n",
       "  z-index: 9999;\n",
       "  position: relative;\n",
       "  font-weight: normal;\n",
       "  right: .2ex;\n",
       "  padding: .5ex;\n",
       "  margin: .5ex;\n",
       "  width: min-content;\n",
       "  min-width: 20ex;\n",
       "  max-width: 50ex;\n",
       "  color: var(--sklearn-color-text);\n",
       "  box-shadow: 2pt 2pt 4pt #999;\n",
       "  /* unfitted */\n",
       "  background: var(--sklearn-color-unfitted-level-0);\n",
       "  border: .5pt solid var(--sklearn-color-unfitted-level-3);\n",
       "}\n",
       "\n",
       ".sk-estimator-doc-link.fitted span {\n",
       "  /* fitted */\n",
       "  background: var(--sklearn-color-fitted-level-0);\n",
       "  border: var(--sklearn-color-fitted-level-3);\n",
       "}\n",
       "\n",
       ".sk-estimator-doc-link:hover span {\n",
       "  display: block;\n",
       "}\n",
       "\n",
       "/* \"?\"-specific style due to the `<a>` HTML tag */\n",
       "\n",
       "#sk-container-id-1 a.estimator_doc_link {\n",
       "  float: right;\n",
       "  font-size: 1rem;\n",
       "  line-height: 1em;\n",
       "  font-family: monospace;\n",
       "  background-color: var(--sklearn-color-background);\n",
       "  border-radius: 1rem;\n",
       "  height: 1rem;\n",
       "  width: 1rem;\n",
       "  text-decoration: none;\n",
       "  /* unfitted */\n",
       "  color: var(--sklearn-color-unfitted-level-1);\n",
       "  border: var(--sklearn-color-unfitted-level-1) 1pt solid;\n",
       "}\n",
       "\n",
       "#sk-container-id-1 a.estimator_doc_link.fitted {\n",
       "  /* fitted */\n",
       "  border: var(--sklearn-color-fitted-level-1) 1pt solid;\n",
       "  color: var(--sklearn-color-fitted-level-1);\n",
       "}\n",
       "\n",
       "/* On hover */\n",
       "#sk-container-id-1 a.estimator_doc_link:hover {\n",
       "  /* unfitted */\n",
       "  background-color: var(--sklearn-color-unfitted-level-3);\n",
       "  color: var(--sklearn-color-background);\n",
       "  text-decoration: none;\n",
       "}\n",
       "\n",
       "#sk-container-id-1 a.estimator_doc_link.fitted:hover {\n",
       "  /* fitted */\n",
       "  background-color: var(--sklearn-color-fitted-level-3);\n",
       "}\n",
       "\n",
       ".estimator-table summary {\n",
       "    padding: .5rem;\n",
       "    font-family: monospace;\n",
       "    cursor: pointer;\n",
       "}\n",
       "\n",
       ".estimator-table details[open] {\n",
       "    padding-left: 0.1rem;\n",
       "    padding-right: 0.1rem;\n",
       "    padding-bottom: 0.3rem;\n",
       "}\n",
       "\n",
       ".estimator-table .parameters-table {\n",
       "    margin-left: auto !important;\n",
       "    margin-right: auto !important;\n",
       "}\n",
       "\n",
       ".estimator-table .parameters-table tr:nth-child(odd) {\n",
       "    background-color: #fff;\n",
       "}\n",
       "\n",
       ".estimator-table .parameters-table tr:nth-child(even) {\n",
       "    background-color: #f6f6f6;\n",
       "}\n",
       "\n",
       ".estimator-table .parameters-table tr:hover {\n",
       "    background-color: #e0e0e0;\n",
       "}\n",
       "\n",
       ".estimator-table table td {\n",
       "    border: 1px solid rgba(106, 105, 104, 0.232);\n",
       "}\n",
       "\n",
       ".user-set td {\n",
       "    color:rgb(255, 94, 0);\n",
       "    text-align: left;\n",
       "}\n",
       "\n",
       ".user-set td.value pre {\n",
       "    color:rgb(255, 94, 0) !important;\n",
       "    background-color: transparent !important;\n",
       "}\n",
       "\n",
       ".default td {\n",
       "    color: black;\n",
       "    text-align: left;\n",
       "}\n",
       "\n",
       ".user-set td i,\n",
       ".default td i {\n",
       "    color: black;\n",
       "}\n",
       "\n",
       ".copy-paste-icon {\n",
       "    background-image: url(data:image/svg+xml;base64,PHN2ZyB4bWxucz0iaHR0cDovL3d3dy53My5vcmcvMjAwMC9zdmciIHZpZXdCb3g9IjAgMCA0NDggNTEyIj48IS0tIUZvbnQgQXdlc29tZSBGcmVlIDYuNy4yIGJ5IEBmb250YXdlc29tZSAtIGh0dHBzOi8vZm9udGF3ZXNvbWUuY29tIExpY2Vuc2UgLSBodHRwczovL2ZvbnRhd2Vzb21lLmNvbS9saWNlbnNlL2ZyZWUgQ29weXJpZ2h0IDIwMjUgRm9udGljb25zLCBJbmMuLS0+PHBhdGggZD0iTTIwOCAwTDMzMi4xIDBjMTIuNyAwIDI0LjkgNS4xIDMzLjkgMTQuMWw2Ny45IDY3LjljOSA5IDE0LjEgMjEuMiAxNC4xIDMzLjlMNDQ4IDMzNmMwIDI2LjUtMjEuNSA0OC00OCA0OGwtMTkyIDBjLTI2LjUgMC00OC0yMS41LTQ4LTQ4bDAtMjg4YzAtMjYuNSAyMS41LTQ4IDQ4LTQ4ek00OCAxMjhsODAgMCAwIDY0LTY0IDAgMCAyNTYgMTkyIDAgMC0zMiA2NCAwIDAgNDhjMCAyNi41LTIxLjUgNDgtNDggNDhMNDggNTEyYy0yNi41IDAtNDgtMjEuNS00OC00OEwwIDE3NmMwLTI2LjUgMjEuNS00OCA0OC00OHoiLz48L3N2Zz4=);\n",
       "    background-repeat: no-repeat;\n",
       "    background-size: 14px 14px;\n",
       "    background-position: 0;\n",
       "    display: inline-block;\n",
       "    width: 14px;\n",
       "    height: 14px;\n",
       "    cursor: pointer;\n",
       "}\n",
       "</style><body><div id=\"sk-container-id-1\" class=\"sk-top-container\"><div class=\"sk-text-repr-fallback\"><pre>CountVectorizer()</pre><b>In a Jupyter environment, please rerun this cell to show the HTML representation or trust the notebook. <br />On GitHub, the HTML representation is unable to render, please try loading this page with nbviewer.org.</b></div><div class=\"sk-container\" hidden><div class=\"sk-item\"><div class=\"sk-estimator fitted sk-toggleable\"><input class=\"sk-toggleable__control sk-hidden--visually\" id=\"sk-estimator-id-1\" type=\"checkbox\" checked><label for=\"sk-estimator-id-1\" class=\"sk-toggleable__label fitted sk-toggleable__label-arrow\"><div><div>CountVectorizer</div></div><div><a class=\"sk-estimator-doc-link fitted\" rel=\"noreferrer\" target=\"_blank\" href=\"https://scikit-learn.org/1.7/modules/generated/sklearn.feature_extraction.text.CountVectorizer.html\">?<span>Documentation for CountVectorizer</span></a><span class=\"sk-estimator-doc-link fitted\">i<span>Fitted</span></span></div></label><div class=\"sk-toggleable__content fitted\" data-param-prefix=\"\">\n",
       "        <div class=\"estimator-table\">\n",
       "            <details>\n",
       "                <summary>Parameters</summary>\n",
       "                <table class=\"parameters-table\">\n",
       "                  <tbody>\n",
       "                    \n",
       "        <tr class=\"default\">\n",
       "            <td><i class=\"copy-paste-icon\"\n",
       "                 onclick=\"copyToClipboard('input',\n",
       "                          this.parentElement.nextElementSibling)\"\n",
       "            ></i></td>\n",
       "            <td class=\"param\">input&nbsp;</td>\n",
       "            <td class=\"value\">&#x27;content&#x27;</td>\n",
       "        </tr>\n",
       "    \n",
       "\n",
       "        <tr class=\"default\">\n",
       "            <td><i class=\"copy-paste-icon\"\n",
       "                 onclick=\"copyToClipboard('encoding',\n",
       "                          this.parentElement.nextElementSibling)\"\n",
       "            ></i></td>\n",
       "            <td class=\"param\">encoding&nbsp;</td>\n",
       "            <td class=\"value\">&#x27;utf-8&#x27;</td>\n",
       "        </tr>\n",
       "    \n",
       "\n",
       "        <tr class=\"default\">\n",
       "            <td><i class=\"copy-paste-icon\"\n",
       "                 onclick=\"copyToClipboard('decode_error',\n",
       "                          this.parentElement.nextElementSibling)\"\n",
       "            ></i></td>\n",
       "            <td class=\"param\">decode_error&nbsp;</td>\n",
       "            <td class=\"value\">&#x27;strict&#x27;</td>\n",
       "        </tr>\n",
       "    \n",
       "\n",
       "        <tr class=\"default\">\n",
       "            <td><i class=\"copy-paste-icon\"\n",
       "                 onclick=\"copyToClipboard('strip_accents',\n",
       "                          this.parentElement.nextElementSibling)\"\n",
       "            ></i></td>\n",
       "            <td class=\"param\">strip_accents&nbsp;</td>\n",
       "            <td class=\"value\">None</td>\n",
       "        </tr>\n",
       "    \n",
       "\n",
       "        <tr class=\"default\">\n",
       "            <td><i class=\"copy-paste-icon\"\n",
       "                 onclick=\"copyToClipboard('lowercase',\n",
       "                          this.parentElement.nextElementSibling)\"\n",
       "            ></i></td>\n",
       "            <td class=\"param\">lowercase&nbsp;</td>\n",
       "            <td class=\"value\">True</td>\n",
       "        </tr>\n",
       "    \n",
       "\n",
       "        <tr class=\"default\">\n",
       "            <td><i class=\"copy-paste-icon\"\n",
       "                 onclick=\"copyToClipboard('preprocessor',\n",
       "                          this.parentElement.nextElementSibling)\"\n",
       "            ></i></td>\n",
       "            <td class=\"param\">preprocessor&nbsp;</td>\n",
       "            <td class=\"value\">None</td>\n",
       "        </tr>\n",
       "    \n",
       "\n",
       "        <tr class=\"default\">\n",
       "            <td><i class=\"copy-paste-icon\"\n",
       "                 onclick=\"copyToClipboard('tokenizer',\n",
       "                          this.parentElement.nextElementSibling)\"\n",
       "            ></i></td>\n",
       "            <td class=\"param\">tokenizer&nbsp;</td>\n",
       "            <td class=\"value\">None</td>\n",
       "        </tr>\n",
       "    \n",
       "\n",
       "        <tr class=\"default\">\n",
       "            <td><i class=\"copy-paste-icon\"\n",
       "                 onclick=\"copyToClipboard('stop_words',\n",
       "                          this.parentElement.nextElementSibling)\"\n",
       "            ></i></td>\n",
       "            <td class=\"param\">stop_words&nbsp;</td>\n",
       "            <td class=\"value\">None</td>\n",
       "        </tr>\n",
       "    \n",
       "\n",
       "        <tr class=\"default\">\n",
       "            <td><i class=\"copy-paste-icon\"\n",
       "                 onclick=\"copyToClipboard('token_pattern',\n",
       "                          this.parentElement.nextElementSibling)\"\n",
       "            ></i></td>\n",
       "            <td class=\"param\">token_pattern&nbsp;</td>\n",
       "            <td class=\"value\">&#x27;(?u)\\\\b\\\\w\\\\w+\\\\b&#x27;</td>\n",
       "        </tr>\n",
       "    \n",
       "\n",
       "        <tr class=\"default\">\n",
       "            <td><i class=\"copy-paste-icon\"\n",
       "                 onclick=\"copyToClipboard('ngram_range',\n",
       "                          this.parentElement.nextElementSibling)\"\n",
       "            ></i></td>\n",
       "            <td class=\"param\">ngram_range&nbsp;</td>\n",
       "            <td class=\"value\">(1, ...)</td>\n",
       "        </tr>\n",
       "    \n",
       "\n",
       "        <tr class=\"default\">\n",
       "            <td><i class=\"copy-paste-icon\"\n",
       "                 onclick=\"copyToClipboard('analyzer',\n",
       "                          this.parentElement.nextElementSibling)\"\n",
       "            ></i></td>\n",
       "            <td class=\"param\">analyzer&nbsp;</td>\n",
       "            <td class=\"value\">&#x27;word&#x27;</td>\n",
       "        </tr>\n",
       "    \n",
       "\n",
       "        <tr class=\"default\">\n",
       "            <td><i class=\"copy-paste-icon\"\n",
       "                 onclick=\"copyToClipboard('max_df',\n",
       "                          this.parentElement.nextElementSibling)\"\n",
       "            ></i></td>\n",
       "            <td class=\"param\">max_df&nbsp;</td>\n",
       "            <td class=\"value\">1.0</td>\n",
       "        </tr>\n",
       "    \n",
       "\n",
       "        <tr class=\"default\">\n",
       "            <td><i class=\"copy-paste-icon\"\n",
       "                 onclick=\"copyToClipboard('min_df',\n",
       "                          this.parentElement.nextElementSibling)\"\n",
       "            ></i></td>\n",
       "            <td class=\"param\">min_df&nbsp;</td>\n",
       "            <td class=\"value\">1</td>\n",
       "        </tr>\n",
       "    \n",
       "\n",
       "        <tr class=\"default\">\n",
       "            <td><i class=\"copy-paste-icon\"\n",
       "                 onclick=\"copyToClipboard('max_features',\n",
       "                          this.parentElement.nextElementSibling)\"\n",
       "            ></i></td>\n",
       "            <td class=\"param\">max_features&nbsp;</td>\n",
       "            <td class=\"value\">None</td>\n",
       "        </tr>\n",
       "    \n",
       "\n",
       "        <tr class=\"default\">\n",
       "            <td><i class=\"copy-paste-icon\"\n",
       "                 onclick=\"copyToClipboard('vocabulary',\n",
       "                          this.parentElement.nextElementSibling)\"\n",
       "            ></i></td>\n",
       "            <td class=\"param\">vocabulary&nbsp;</td>\n",
       "            <td class=\"value\">None</td>\n",
       "        </tr>\n",
       "    \n",
       "\n",
       "        <tr class=\"default\">\n",
       "            <td><i class=\"copy-paste-icon\"\n",
       "                 onclick=\"copyToClipboard('binary',\n",
       "                          this.parentElement.nextElementSibling)\"\n",
       "            ></i></td>\n",
       "            <td class=\"param\">binary&nbsp;</td>\n",
       "            <td class=\"value\">False</td>\n",
       "        </tr>\n",
       "    \n",
       "\n",
       "        <tr class=\"default\">\n",
       "            <td><i class=\"copy-paste-icon\"\n",
       "                 onclick=\"copyToClipboard('dtype',\n",
       "                          this.parentElement.nextElementSibling)\"\n",
       "            ></i></td>\n",
       "            <td class=\"param\">dtype&nbsp;</td>\n",
       "            <td class=\"value\">&lt;class &#x27;numpy.int64&#x27;&gt;</td>\n",
       "        </tr>\n",
       "    \n",
       "                  </tbody>\n",
       "                </table>\n",
       "            </details>\n",
       "        </div>\n",
       "    </div></div></div></div></div><script>function copyToClipboard(text, element) {\n",
       "    // Get the parameter prefix from the closest toggleable content\n",
       "    const toggleableContent = element.closest('.sk-toggleable__content');\n",
       "    const paramPrefix = toggleableContent ? toggleableContent.dataset.paramPrefix : '';\n",
       "    const fullParamName = paramPrefix ? `${paramPrefix}${text}` : text;\n",
       "\n",
       "    const originalStyle = element.style;\n",
       "    const computedStyle = window.getComputedStyle(element);\n",
       "    const originalWidth = computedStyle.width;\n",
       "    const originalHTML = element.innerHTML.replace('Copied!', '');\n",
       "\n",
       "    navigator.clipboard.writeText(fullParamName)\n",
       "        .then(() => {\n",
       "            element.style.width = originalWidth;\n",
       "            element.style.color = 'green';\n",
       "            element.innerHTML = \"Copied!\";\n",
       "\n",
       "            setTimeout(() => {\n",
       "                element.innerHTML = originalHTML;\n",
       "                element.style = originalStyle;\n",
       "            }, 2000);\n",
       "        })\n",
       "        .catch(err => {\n",
       "            console.error('Failed to copy:', err);\n",
       "            element.style.color = 'red';\n",
       "            element.innerHTML = \"Failed!\";\n",
       "            setTimeout(() => {\n",
       "                element.innerHTML = originalHTML;\n",
       "                element.style = originalStyle;\n",
       "            }, 2000);\n",
       "        });\n",
       "    return false;\n",
       "}\n",
       "\n",
       "document.querySelectorAll('.fa-regular.fa-copy').forEach(function(element) {\n",
       "    const toggleableContent = element.closest('.sk-toggleable__content');\n",
       "    const paramPrefix = toggleableContent ? toggleableContent.dataset.paramPrefix : '';\n",
       "    const paramName = element.parentElement.nextElementSibling.textContent.trim();\n",
       "    const fullParamName = paramPrefix ? `${paramPrefix}${paramName}` : paramName;\n",
       "\n",
       "    element.setAttribute('title', fullParamName);\n",
       "});\n",
       "</script></body>"
      ],
      "text/plain": [
       "CountVectorizer()"
      ]
     },
     "execution_count": 22,
     "metadata": {},
     "output_type": "execute_result"
    }
   ],
   "source": [
    "# Create the Vectorizer based on the vocabulary\n",
    "vectorizer = CountVectorizer()\n",
    "vectorizer.fit(lines_input)"
   ]
  },
  {
   "cell_type": "code",
   "execution_count": 23,
   "metadata": {},
   "outputs": [],
   "source": [
    "# Create the frequency matrix\n",
    "def texts_to_matrix_freq(texts):\n",
    "    # Count occurrences\n",
    "    count_matrix = vectorizer.transform(texts).toarray()\n",
    "    # Convert to frequencies (divide by the total number of words per document)\n",
    "    word_counts = count_matrix.sum(axis=1, keepdims=True)\n",
    "    # Avoid division by zero\n",
    "    word_counts[word_counts == 0] = 1\n",
    "    freq_matrix = count_matrix / word_counts\n",
    "    return freq_matrix"
   ]
  },
  {
   "cell_type": "markdown",
   "metadata": {},
   "source": [
    "#### Define Inputs"
   ]
  },
  {
   "cell_type": "code",
   "execution_count": 24,
   "metadata": {},
   "outputs": [],
   "source": [
    "X_data = texts_to_matrix_freq(lines_input)"
   ]
  },
  {
   "cell_type": "code",
   "execution_count": 25,
   "metadata": {
    "colab": {},
    "colab_type": "code",
    "id": "SGd85sb5k_Xs"
   },
   "outputs": [
    {
     "name": "stdout",
     "output_type": "stream",
     "text": [
      "X_data contains  10000  examples of  10867  values\n",
      "A value = frequencies of appearance of words in the global vocabulary.\n",
      "Thus, the sum of the values of an input = 1.00.\n"
     ]
    }
   ],
   "source": [
    "print('X_data contains ', X_data.shape[0], ' examples of ', X_data.shape[1], ' values')\n",
    "print('A value = frequencies of appearance of words in the global vocabulary.')\n",
    "print(f\"Thus, the sum of the values of an input = {np.sum(X_data[0]):.2f}.\")"
   ]
  },
  {
   "cell_type": "markdown",
   "metadata": {},
   "source": [
    "#### Define Outputs\n",
    "We decide that positive examples correspond to an output of 1 and negative examples correspond to an output of 0:"
   ]
  },
  {
   "cell_type": "code",
   "execution_count": 26,
   "metadata": {},
   "outputs": [],
   "source": [
    "# y = list of (1 (rating for positive evaluation) and 0 (ratings for negative evaluation))\n",
    "sentiments: Series = datas['sentiment']\n",
    "sentiments_output: Series = sentiments[:nb_input]\n",
    "yOutput: np.ndarray = np.zeros((nb_input, 1))\n",
    "for i in range(nb_input): \n",
    "    if sentiments_output[i] == 'positive': yOutput[i] = 1"
   ]
  },
  {
   "cell_type": "code",
   "execution_count": 27,
   "metadata": {},
   "outputs": [],
   "source": [
    "## Definition of tensors\n",
    "# Convert inputs and outputs to tensors\n",
    "X_tensor = torch.tensor(X_data, dtype=torch.float32)\n",
    "y_tensor = torch.tensor(yOutput, dtype=torch.float32)\n",
    "# Ensure y_tensor has the correct shape\n",
    "if len(y_tensor.shape) == 1:\n",
    "    y_tensor = y_tensor.unsqueeze(1)  # (N,) -> (N, 1)\n",
    "elif len(y_tensor.shape) == 3:\n",
    "    y_tensor = y_tensor.squeeze()     # (N, 1, 1) -> (N, 1)"
   ]
  },
  {
   "cell_type": "markdown",
   "metadata": {},
   "source": [
    "#### Test and Validation Sets\n",
    "Let's keep 90% of the examples for training and 10% for testing..."
   ]
  },
  {
   "cell_type": "markdown",
   "metadata": {
    "colab_type": "text",
    "id": "mCJRY1mTlnls"
   },
   "source": [
    "---\n",
    "## Neural Network Model for Sentiment Analysis\n",
    "The network contains as many neurons in the input layer as retained values."
   ]
  },
  {
   "cell_type": "code",
   "execution_count": 28,
   "metadata": {
    "colab": {},
    "colab_type": "code",
    "id": "uruPxsQil-gZ"
   },
   "outputs": [],
   "source": [
    "# The number of neurons in the input layer (= number of retained tokens)\n",
    "n_words = X_data.shape[1]"
   ]
  },
  {
   "cell_type": "code",
   "execution_count": 29,
   "metadata": {},
   "outputs": [],
   "source": [
    "model = nn.Sequential()"
   ]
  },
  {
   "cell_type": "code",
   "execution_count": 30,
   "metadata": {
    "colab": {},
    "colab_type": "code",
    "id": "67M4JqX2lNeu"
   },
   "outputs": [],
   "source": [
    "model.add_module('input layer', nn.Linear(n_words, n_words//3, bias=True))\n",
    "model.add_module('activ_input', nn.ELU())\n",
    "model.add_module('hidden layer 1', nn.Linear(n_words//3, n_words//27, bias=False))\n",
    "model.add_module('activ_h1', nn.ELU())\n",
    "model.add_module('hidden layer 2', nn.Linear(n_words//27, n_words//243, bias=False))\n",
    "model.add_module('activ_h2', nn.ELU())\n",
    "model.add_module('output layer', nn.Linear(n_words//243, 1, bias=False))\n",
    "model.add_module('activ_output', nn.Sigmoid())\n",
    "\n",
    "# model.compile(loss='hinge', optimizer='adam', metrics=['accuracy'])"
   ]
  },
  {
   "cell_type": "code",
   "execution_count": 31,
   "metadata": {},
   "outputs": [
    {
     "name": "stdout",
     "output_type": "stream",
     "text": [
      "Sequential(\n",
      "  (input layer): Linear(in_features=10867, out_features=3622, bias=True)\n",
      "  (activ_input): ELU(alpha=1.0)\n",
      "  (hidden layer 1): Linear(in_features=3622, out_features=402, bias=False)\n",
      "  (activ_h1): ELU(alpha=1.0)\n",
      "  (hidden layer 2): Linear(in_features=402, out_features=44, bias=False)\n",
      "  (activ_h2): ELU(alpha=1.0)\n",
      "  (output layer): Linear(in_features=44, out_features=1, bias=False)\n",
      "  (activ_output): Sigmoid()\n",
      ")\n"
     ]
    }
   ],
   "source": [
    "## Display the model\n",
    "print(model)"
   ]
  },
  {
   "cell_type": "code",
   "execution_count": 32,
   "metadata": {},
   "outputs": [
    {
     "name": "stdout",
     "output_type": "stream",
     "text": [
      "total weights for the model=40838119 !!!\n"
     ]
    }
   ],
   "source": [
    "#number of weights\n",
    "total_w = n_words//3*(n_words + 1) + n_words//27*(n_words//3 + 1) + n_words//243*(n_words//27 + 1) + (n_words//243 + 1) \n",
    "print(f\"total weights for the model={total_w} !!!\")\n"
   ]
  },
  {
   "cell_type": "markdown",
   "metadata": {},
   "source": [
    "---\n",
    "## Error Correction\n",
    "Here, we specify that the error correction algorithm is *'adam'*, and that the calculated error is hinge: $L(y, f(x)) = max(0, 1 - y * f(x))$."
   ]
  },
  {
   "cell_type": "code",
   "execution_count": 33,
   "metadata": {},
   "outputs": [],
   "source": [
    "# Use the mean squared error function\n",
    "criterion = nn.BCEWithLogitsLoss()\n",
    "# Use the Adam optimizer\n",
    "optimizer = optim.Adam(model.parameters(), lr=0.01)"
   ]
  },
  {
   "cell_type": "markdown",
   "metadata": {},
   "source": [
    "Define Precision"
   ]
  },
  {
   "cell_type": "code",
   "execution_count": 34,
   "metadata": {},
   "outputs": [],
   "source": [
    "def calculate_accuracy(outputs, targets):\n",
    "    \"\"\"Calculate accuracy for binary classification\"\"\"\n",
    "    with torch.no_grad():\n",
    "        # Convert logits to predictions\n",
    "        predictions = torch.sigmoid(outputs) > 0.5\n",
    "        predictions = predictions.float()\n",
    "        accuracy = (predictions == targets).float().mean()\n",
    "        return accuracy.item()"
   ]
  },
  {
   "cell_type": "markdown",
   "metadata": {},
   "source": [
    "---\n",
    "#### Structuring Inputs and Outputs\n",
    "Each input can be composed of 10,000 values (if the retained vocabulary contains 10,000 words). There are 50,000 inputs.\n",
    "\n",
    "Processing all examples to correct the weights once will be memory-intensive.\n",
    "\n",
    "We decide to correct the weights every 1,000 examples processed (if your machine has little memory, decrease the batch size).\n",
    "\n",
    "So, each 1000 examples, the weight are corrected with the mean error done when training these examples."
   ]
  },
  {
   "cell_type": "markdown",
   "metadata": {},
   "source": [
    "---\n",
    "#### Training"
   ]
  },
  {
   "cell_type": "code",
   "execution_count": 35,
   "metadata": {},
   "outputs": [],
   "source": [
    "def train_with_metrics(model, X_data, y_data, epochs=5, batch_size=1000, \n",
    "                       validation_split=0.1, steps_per_epoch=10, verbose=True):\n",
    "    \"\"\"Trains the model with performance metrics\n",
    "    Args:\n",
    "        model: The PyTorch model to train.\n",
    "        X_data: The input data (features).\n",
    "        y_data: The output labels (targets).\n",
    "        epochs: Number of epochs for training.\n",
    "        batch_size: Batch size for training.\n",
    "        validation_split: Proportion of data to use for validation.\n",
    "        steps_per_epoch: Number of batches per epoch.\n",
    "        verbose: Print info if true.\"\"\"\n",
    "\n",
    "    ## Split the data into training and validation sets\n",
    "    X_train, X_val, y_train, y_val = train_test_split(X_data, y_data, test_size=validation_split, random_state=42)\n",
    "\n",
    "    # Create DataLoaders for batch training and validation\n",
    "    train_loader = DataLoader(TensorDataset(X_train, y_train), batch_size=batch_size, shuffle=True)\n",
    "    val_loader = DataLoader(TensorDataset(X_val, y_val), batch_size=batch_size, shuffle=False)\n",
    "\n",
    "    # CPU or GPU configuration (faster!!)\n",
    "    device = torch.device('cuda' if torch.cuda.is_available() else 'cpu')\n",
    "    model = model.to(device)\n",
    "\n",
    "    ## Initialize the loss function and optimizer\n",
    "    criterion = nn.BCEWithLogitsLoss()\n",
    "    optimizer = optim.Adam(model.parameters())\n",
    "\n",
    "    # History for plots\n",
    "    history = {'loss': [], 'val_loss': [], 'accuracy': [], 'val_accuracy': []}\n",
    "\n",
    "    # Training\n",
    "    for epoch in range(epochs):\n",
    "        # Training phase\n",
    "        model.train()\n",
    "        train_loss = 0.0\n",
    "        train_accuracy = 0.0\n",
    "        train_batches = 0\n",
    "\n",
    "        # Sweep through the training data in batches\n",
    "        for i, (inputs, targets) in enumerate(train_loader):\n",
    "            if i >= steps_per_epoch:\n",
    "                break\n",
    "\n",
    "            inputs, targets = inputs.to(device), targets.to(device)\n",
    "\n",
    "            # Forward pass\n",
    "            optimizer.zero_grad()\n",
    "            outputs = model(inputs)\n",
    "            loss = criterion(outputs, targets)\n",
    "\n",
    "            # Backward pass\n",
    "            loss.backward()\n",
    "            optimizer.step()\n",
    "\n",
    "            # Metrics\n",
    "            train_loss += loss.item()\n",
    "            train_accuracy += calculate_accuracy(outputs, targets)\n",
    "            train_batches += 1\n",
    "\n",
    "        # Validation phase\n",
    "        model.eval()\n",
    "        val_loss = 0.0\n",
    "        val_accuracy = 0.0\n",
    "        val_batches = 0\n",
    "\n",
    "        with torch.no_grad():\n",
    "            for inputs, targets in val_loader:\n",
    "                inputs, targets = inputs.to(device), targets.to(device)\n",
    "                outputs = model(inputs)\n",
    "                loss = criterion(outputs, targets)\n",
    "\n",
    "                val_loss += loss.item()\n",
    "                val_accuracy += calculate_accuracy(outputs, targets)\n",
    "                val_batches += 1\n",
    "\n",
    "        # Averages\n",
    "        avg_train_loss = train_loss / train_batches\n",
    "        avg_val_loss = val_loss / val_batches\n",
    "        avg_train_accuracy = train_accuracy / train_batches\n",
    "        avg_val_accuracy = val_accuracy / val_batches\n",
    "\n",
    "        # Store in history\n",
    "        history['loss'].append(avg_train_loss)\n",
    "        history['val_loss'].append(avg_val_loss)\n",
    "        history['accuracy'].append(avg_train_accuracy)\n",
    "        history['val_accuracy'].append(avg_val_accuracy)\n",
    "\n",
    "        # Display\n",
    "        if verbose:\n",
    "            print(f'Epoch [{epoch+1}/{epochs}] - '\n",
    "                  f'Loss: {avg_train_loss:.4f} - '\n",
    "                  f'Acc: {avg_train_accuracy:.4f} - '\n",
    "                  f'Val Loss: {avg_val_loss:.4f} - '\n",
    "                  f'Val Acc: {avg_val_accuracy:.4f}')\n",
    "\n",
    "    return history"
   ]
  },
  {
   "cell_type": "markdown",
   "metadata": {},
   "source": [
    "#### Train the Network"
   ]
  },
  {
   "cell_type": "code",
   "execution_count": 36,
   "metadata": {},
   "outputs": [
    {
     "name": "stdout",
     "output_type": "stream",
     "text": [
      "Epoch [1/35] - Loss: 0.7029 - Acc: 0.5027 - Val Loss: 0.6915 - Val Acc: 0.5040\n",
      "Epoch [2/35] - Loss: 0.6919 - Acc: 0.5027 - Val Loss: 0.6921 - Val Acc: 0.5040\n",
      "Epoch [3/35] - Loss: 0.6801 - Acc: 0.5027 - Val Loss: 0.6482 - Val Acc: 0.5040\n",
      "Epoch [4/35] - Loss: 0.6111 - Acc: 0.5027 - Val Loss: 0.5967 - Val Acc: 0.5040\n",
      "Epoch [5/35] - Loss: 0.5548 - Acc: 0.5028 - Val Loss: 0.5760 - Val Acc: 0.5040\n",
      "Epoch [6/35] - Loss: 0.5328 - Acc: 0.5107 - Val Loss: 0.5679 - Val Acc: 0.5270\n",
      "Epoch [7/35] - Loss: 0.5216 - Acc: 0.5447 - Val Loss: 0.5670 - Val Acc: 0.5590\n",
      "Epoch [8/35] - Loss: 0.5156 - Acc: 0.5863 - Val Loss: 0.5688 - Val Acc: 0.5730\n",
      "Epoch [9/35] - Loss: 0.5128 - Acc: 0.5990 - Val Loss: 0.5683 - Val Acc: 0.6010\n",
      "Epoch [10/35] - Loss: 0.5113 - Acc: 0.6193 - Val Loss: 0.5722 - Val Acc: 0.6010\n",
      "Epoch [11/35] - Loss: 0.5107 - Acc: 0.6260 - Val Loss: 0.5709 - Val Acc: 0.6140\n",
      "Epoch [12/35] - Loss: 0.5104 - Acc: 0.6369 - Val Loss: 0.5744 - Val Acc: 0.6090\n",
      "Epoch [13/35] - Loss: 0.5098 - Acc: 0.6322 - Val Loss: 0.5734 - Val Acc: 0.6220\n",
      "Epoch [14/35] - Loss: 0.5094 - Acc: 0.6504 - Val Loss: 0.5737 - Val Acc: 0.6230\n",
      "Epoch [15/35] - Loss: 0.5092 - Acc: 0.6448 - Val Loss: 0.5757 - Val Acc: 0.6240\n",
      "Epoch [16/35] - Loss: 0.5089 - Acc: 0.6631 - Val Loss: 0.5726 - Val Acc: 0.6340\n",
      "Epoch [17/35] - Loss: 0.5088 - Acc: 0.6660 - Val Loss: 0.5757 - Val Acc: 0.6330\n",
      "Epoch [18/35] - Loss: 0.5088 - Acc: 0.6654 - Val Loss: 0.5743 - Val Acc: 0.6360\n",
      "Epoch [19/35] - Loss: 0.5087 - Acc: 0.6784 - Val Loss: 0.5743 - Val Acc: 0.6390\n",
      "Epoch [20/35] - Loss: 0.5086 - Acc: 0.6739 - Val Loss: 0.5760 - Val Acc: 0.6360\n",
      "Epoch [21/35] - Loss: 0.5085 - Acc: 0.6791 - Val Loss: 0.5737 - Val Acc: 0.6550\n",
      "Epoch [22/35] - Loss: 0.5083 - Acc: 0.6918 - Val Loss: 0.5749 - Val Acc: 0.6570\n",
      "Epoch [23/35] - Loss: 0.5082 - Acc: 0.6874 - Val Loss: 0.5743 - Val Acc: 0.6620\n",
      "Epoch [24/35] - Loss: 0.5081 - Acc: 0.7021 - Val Loss: 0.5742 - Val Acc: 0.6670\n",
      "Epoch [25/35] - Loss: 0.5081 - Acc: 0.6979 - Val Loss: 0.5768 - Val Acc: 0.6590\n",
      "Epoch [26/35] - Loss: 0.5080 - Acc: 0.6919 - Val Loss: 0.5774 - Val Acc: 0.6580\n",
      "Epoch [27/35] - Loss: 0.5080 - Acc: 0.7007 - Val Loss: 0.5737 - Val Acc: 0.6780\n",
      "Epoch [28/35] - Loss: 0.5080 - Acc: 0.7156 - Val Loss: 0.5749 - Val Acc: 0.6760\n",
      "Epoch [29/35] - Loss: 0.5079 - Acc: 0.7046 - Val Loss: 0.5770 - Val Acc: 0.6710\n",
      "Epoch [30/35] - Loss: 0.5079 - Acc: 0.7048 - Val Loss: 0.5762 - Val Acc: 0.6750\n",
      "Epoch [31/35] - Loss: 0.5079 - Acc: 0.7044 - Val Loss: 0.5774 - Val Acc: 0.6690\n",
      "Epoch [32/35] - Loss: 0.5079 - Acc: 0.7087 - Val Loss: 0.5759 - Val Acc: 0.6810\n",
      "Epoch [33/35] - Loss: 0.5078 - Acc: 0.7198 - Val Loss: 0.5750 - Val Acc: 0.6830\n",
      "Epoch [34/35] - Loss: 0.5078 - Acc: 0.7246 - Val Loss: 0.5750 - Val Acc: 0.6840\n",
      "Epoch [35/35] - Loss: 0.5078 - Acc: 0.7278 - Val Loss: 0.5746 - Val Acc: 0.6880\n"
     ]
    }
   ],
   "source": [
    "# Training with metrics\n",
    "history = train_with_metrics(\n",
    "    model, X_tensor, y_tensor,\n",
    "    epochs=35,\n",
    "    batch_size=1000,\n",
    "    validation_split=0.1,\n",
    "    steps_per_epoch=10,\n",
    "    verbose=True\n",
    ")"
   ]
  },
  {
   "cell_type": "markdown",
   "metadata": {},
   "source": [
    "---\n",
    "### Drawing the Evolution of Error"
   ]
  },
  {
   "cell_type": "code",
   "execution_count": 39,
   "metadata": {},
   "outputs": [],
   "source": [
    "def plot_training_history(history):\n",
    "    \"\"\"Plot error and accuracy graphs\"\"\"\n",
    "\n",
    "    epochs = range(1, len(history['loss']) + 1)\n",
    "\n",
    "    # Create a figure with 2 subplots\n",
    "    fig, (ax1, ax2) = plt.subplots(1, 2, figsize=(15, 5))\n",
    "\n",
    "    # Plot 1: Evolution of error (loss)\n",
    "    ax1.plot(epochs, history['loss'], 'b-', label='Training Loss', linewidth=2)\n",
    "    ax1.plot(epochs, history['val_loss'], 'r-', label='Validation Loss', linewidth=2)\n",
    "    ax1.set_title('Evolution of Error', fontsize=14, fontweight='bold')\n",
    "    ax1.set_xlabel('Epoch')\n",
    "    ax1.set_ylabel('Loss')\n",
    "    ax1.legend()\n",
    "    ax1.grid(True, alpha=0.3)\n",
    "\n",
    "    # Plot 2: Evolution of accuracy\n",
    "    ax2.plot(epochs, history['accuracy'], 'b-', label='Training Accuracy', linewidth=2)\n",
    "    ax2.plot(epochs, history['val_accuracy'], 'r-', label='Validation Accuracy', linewidth=2)\n",
    "    ax2.set_title('Evolution of Accuracy', fontsize=14, fontweight='bold')\n",
    "    ax2.set_xlabel('Epoch')\n",
    "    ax2.set_ylabel('Accuracy')\n",
    "    ax2.legend()\n",
    "    ax2.grid(True, alpha=0.3)\n",
    "    ax2.set_ylim(0, 1)  # Accuracy between 0 and 1\n",
    "\n",
    "    plt.tight_layout()\n",
    "    plt.show()"
   ]
  },
  {
   "cell_type": "code",
   "execution_count": 40,
   "metadata": {},
   "outputs": [
    {
     "data": {
      "image/png": "[encoded data removed]",
      "text/plain": [
       "<Figure size 1500x500 with 2 Axes>"
      ]
     },
     "metadata": {},
     "output_type": "display_data"
    },
    {
     "name": "stdout",
     "output_type": "stream",
     "text": [
      "\n",
      "Final Results:\n",
      "Final Loss: 0.5078\n",
      "Final Accuracy: 0.7278\n",
      "Final Validation Loss: 0.5746\n",
      "Final Validation Accuracy: 0.6880\n"
     ]
    }
   ],
   "source": [
    "# Plot the graphs\n",
    "plot_training_history(history)\n",
    "\n",
    "# Display the final results\n",
    "print(f\"\\nFinal Results:\")\n",
    "print(f\"Final Loss: {history['loss'][-1]:.4f}\")\n",
    "print(f\"Final Accuracy: {history['accuracy'][-1]:.4f}\")\n",
    "print(f\"Final Validation Loss: {history['val_loss'][-1]:.4f}\")\n",
    "print(f\"Final Validation Accuracy: {history['val_accuracy'][-1]:.4f}\")"
   ]
  },
  {
   "cell_type": "markdown",
   "metadata": {},
   "source": [
    "---\n",
    "#### Save the model\n",
    "We can decide to save the model to reuse it latter directly, without all the training steps..."
   ]
  },
  {
   "cell_type": "code",
   "execution_count": null,
   "metadata": {},
   "outputs": [],
   "source": [
    "#save the network\n",
    "#def save_model(model, filename='model.pth'):\n",
    "#    torch.save(model.state_dict(), filename)\n",
    "#    print(f'Model saved to {filename}')\n",
    "\n",
    "#save_model(model, filename='model_sentiment.pth')"
   ]
  },
  {
   "cell_type": "code",
   "execution_count": null,
   "metadata": {},
   "outputs": [
    {
     "name": "stdout",
     "output_type": "stream",
     "text": [
      "Model loaded from model_sentiment.pth\n"
     ]
    },
    {
     "data": {
      "text/plain": [
       "Sequential(\n",
       "  (input layer): Linear(in_features=10867, out_features=3622, bias=True)\n",
       "  (activ_input): ELU(alpha=1.0)\n",
       "  (hidden layer 1): Linear(in_features=3622, out_features=402, bias=False)\n",
       "  (activ_h1): ELU(alpha=1.0)\n",
       "  (hidden layer 2): Linear(in_features=402, out_features=44, bias=False)\n",
       "  (activ_h2): ELU(alpha=1.0)\n",
       "  (output layer): Linear(in_features=44, out_features=1, bias=False)\n",
       "  (activ_output): Sigmoid()\n",
       ")"
      ]
     },
     "metadata": {},
     "output_type": "display_data"
    }
   ],
   "source": [
    "## load the model\n",
    "#def load_model(model, filename='model.pth'):\n",
    "#    model.load_state_dict(torch.load(filename))\n",
    "#    model.eval()\n",
    "#    print(f'Model loaded from {filename}')\n",
    "#    return model\n",
    "\n",
    "#load_model(model, filename='model_sentiment.pth')"
   ]
  },
  {
   "cell_type": "markdown",
   "metadata": {
    "colab_type": "text",
    "id": "ObKC8oW7mROA"
   },
   "source": [
    "---\n",
    "## Estimation of New Reviews\n",
    "All that remains is to use the network to facilitate the classification of future reviews..."
   ]
  },
  {
   "cell_type": "code",
   "execution_count": 49,
   "metadata": {
    "colab": {},
    "colab_type": "code",
    "id": "D3A6k30XmVxr"
   },
   "outputs": [],
   "source": [
    "def predict_sentiment(review, vocab, model):\n",
    "    \"\"\"Classifies the text in the variable 'review' as positive (0) or negative (1)\"\"\"\n",
    "\n",
    "    # Determine the device of the model\n",
    "    device = next(model.parameters()).device\n",
    "\n",
    "    # Clean\n",
    "    tokens = clean_doc(review)\n",
    "    # Filter by vocab\n",
    "    tokens = [w for w in tokens if w in vocab]\n",
    "    # Convert to line\n",
    "    line = ' '.join(tokens)\n",
    "    # Create the bag of words with the words used in the line\n",
    "    encoded = texts_to_matrix_freq([line])\n",
    "\n",
    "    # Convert the tensor and send it to the correct device\n",
    "    encoded = torch.tensor(encoded, dtype=torch.float32).to(device)\n",
    "\n",
    "    # Prediction with model.eval() and torch.no_grad() for inference\n",
    "    model.eval()\n",
    "    with torch.no_grad():\n",
    "        output = model(encoded)\n",
    "        output = output.cpu().detach().numpy()\n",
    "\n",
    "    return output[0, 0]  # Return the first value of the prediction"
   ]
  },
  {
   "cell_type": "code",
   "execution_count": 50,
   "metadata": {
    "colab": {},
    "colab_type": "code",
    "id": "VslEKt3WmYuI"
   },
   "outputs": [
    {
     "name": "stdout",
     "output_type": "stream",
     "text": [
      "\" I went into watching The White Lotus not really knowing what to expect. I just finished the second season and now know why it's had so many great reviews and won so many awards. What makes this show so good is the acting and the writing. Each character is beautifully written and acted, not a weak link on either season. HBO always puts out great content and this is no different. It's not a show for everyone but I definitely enjoyed it. It's one of the rare anthology shows where both seasons are equally as good. I'm now looking forward to future seasons of The White Lotus and hope they stay as good as these first two. \"\n",
      " ------> is considered  positive\n",
      "1.0\n",
      "=-=-=-=-=-=-=-=-=-=-=-=\n",
      "\" I love Minecraft game. I'm a fan of the game. But this movie? OMG! The VFX and visuals, totally green screen. It was like somebody created 3D scenes inside a 3D engine and then they shot the movie on a green screen and then applied the 'Chroma Key' effect. I felt like that way. Forget about plot, I only watched this movie because I wanted to see the game in real world. But all I got was a basic level green screen editing. In fact, the border lines of the chroma key (green screen) were clearly visible on screen. The animations, 3D models, often do not align correctly with the real world human characters. It was awful experience. I felt like they put least effort in making this movie. I love Minecraft game but this movie disappointed me, all because of the low efforts in making it more realistic. I felt like they didn't even tried to hide the visual mistakes in the final product. God bless. \"\n",
      " ------> is considered  negative\n",
      "0.494631\n",
      "\" This was a perfect sequel to Denis part one. It accomplished all the main plot points of the book while delivering stellar performances and visuals that most films only dream of having. This film will go down as one of the best in sci-fi/fantasy and it deserves all the laurels it will be gifted. Not in the longest time has a franchise, and a singular movie, captivated me in such a way. This story, these characters, this planet, Dune, lives rent-free in my mind. You would be doing yourself a disservice not seeing this film in IMAX, as the soundscapes created and the soundtrack by Hans Zimmer are so immersive you feel like you are a part of every scene. This movie is a masterpiece in storytelling. \"\n",
      " ------> is considered  positive\n",
      "1.0\n"
     ]
    }
   ],
   "source": [
    "# Test of a review associated with a score of 10/10\n",
    "text = \"I went into watching The White Lotus not really knowing what to expect. I just finished the second season and now know why it's had so many great reviews and won so many awards. What makes this show so good is the acting and the writing. Each character is beautifully written and acted, not a weak link on either season. HBO always puts out great content and this is no different. It's not a show for everyone but I definitely enjoyed it. It's one of the rare anthology shows where both seasons are equally as good. I'm now looking forward to future seasons of The White Lotus and hope they stay as good as these first two.\"\n",
    "result = predict_sentiment(text, vocab, model)\n",
    "print('\"', text, '\"\\n ------> is considered ', 'positive' if result > 0.5 else 'negative')\n",
    "print(result)\n",
    "print(\"=-=-=-=-=-=-=-=-=-=-=-=\")\n",
    "# Test of a review associated with a score of 1/10\n",
    "text = \"I love Minecraft game. I'm a fan of the game. But this movie? OMG! The VFX and visuals, totally green screen. It was like somebody created 3D scenes inside a 3D engine and then they shot the movie on a green screen and then applied the 'Chroma Key' effect. I felt like that way. Forget about plot, I only watched this movie because I wanted to see the game in real world. But all I got was a basic level green screen editing. In fact, the border lines of the chroma key (green screen) were clearly visible on screen. The animations, 3D models, often do not align correctly with the real world human characters. It was awful experience. I felt like they put least effort in making this movie. I love Minecraft game but this movie disappointed me, all because of the low efforts in making it more realistic. I felt like they didn't even tried to hide the visual mistakes in the final product. God bless.\"\n",
    "result = predict_sentiment(text, vocab, model)\n",
    "print('\"', text, '\"\\n ------> is considered ', 'positive' if result > 0.5 else 'negative')\n",
    "print(result)\n",
    "\n",
    "\n",
    "text = 'This was a perfect sequel to Denis part one. It accomplished all the main plot points of the book while delivering stellar performances and visuals that most films only dream of having. This film will go down as one of the best in sci-fi/fantasy and it deserves all the laurels it will be gifted. Not in the longest time has a franchise, and a singular movie, captivated me in such a way. This story, these characters, this planet, Dune, lives rent-free in my mind. You would be doing yourself a disservice not seeing this film in IMAX, as the soundscapes created and the soundtrack by Hans Zimmer are so immersive you feel like you are a part of every scene. This movie is a masterpiece in storytelling.'\n",
    "# Test of a review associated with a score of 10/10\n",
    "result = predict_sentiment(text, vocab, model)\n",
    "print('\"', text, '\"\\n ------> is considered ', 'positive' if result > 0.5 else 'negative')\n",
    "print(result)"
   ]
  },
  {
   "cell_type": "code",
   "execution_count": 51,
   "metadata": {},
   "outputs": [
    {
     "name": "stdout",
     "output_type": "stream",
     "text": [
      "\" I'm happy to present the different parts of AI to you \"\n",
      " ------> is considered  positive\n",
      "1.0\n"
     ]
    }
   ],
   "source": [
    "# Test of a review associated with a score of 10/10\n",
    "text = \"I'm happy to present the different parts of AI to you\"\n",
    "result = predict_sentiment(text, vocab, model)\n",
    "print('\"', text, '\"\\n ------> is considered ', 'positive' if result > 0.5 else 'negative')\n",
    "print(result)"
   ]
  },
  {
   "cell_type": "code",
   "execution_count": 52,
   "metadata": {},
   "outputs": [
    {
     "name": "stdout",
     "output_type": "stream",
     "text": [
      "\" this movie is very bad. \"\n",
      " ------> is considered  negative\n",
      "6.780625e-39\n"
     ]
    }
   ],
   "source": [
    "# Test of a review associated with a score of 10/10\n",
    "text = \"this movie is very bad.\"\n",
    "result = predict_sentiment(text, vocab, model)\n",
    "print('\"', text, '\"\\n ------> is considered ', 'positive' if result > 0.5 else 'negative')\n",
    "print(result)"
   ]
  }
 ],
 "metadata": {
  "colab": {
   "collapsed_sections": [],
   "name": "Copy of TP_DeepLearningM1TNSI.ipynb",
   "provenance": [],
   "toc_visible": true,
   "version": "0.3.2"
  },
  "kernelspec": {
   "display_name": "Python 3",
   "language": "python",
   "name": "python3"
  },
  "language_info": {
   "codemirror_mode": {
    "name": "ipython",
    "version": 3
   },
   "file_extension": ".py",
   "mimetype": "text/x-python",
   "name": "python",
   "nbconvert_exporter": "python",
   "pygments_lexer": "ipython3",
   "version": "3.13.1"
  }
 },
 "nbformat": 4,
 "nbformat_minor": 4
}
