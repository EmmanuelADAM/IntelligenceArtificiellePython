{
  "cells": [
    {
      "cell_type": "markdown",
      "metadata": {},
      "source": [
        "<a href=\"https://colab.research.google.com/github/EmmanuelADAM/IntelligenceArtificiellePython/blob/master/GymFrozenLakeQLearning.ipynb\" target=\"_parent\">Open in Colab</a>"
      ]
    },
    {
      "cell_type": "markdown",
      "metadata": {},
      "source": [
        "# Machine Learning\n",
        "## Applied to [Gym.OpenAI](https://gym.openai.com)"
      ]
    },
    {
      "cell_type": "markdown",
      "metadata": {},
      "source": [
        "---\n",
        "## Q-Learning to reach the goal\n",
        "\n",
        "**Using the Gymnasium Environment**\n",
        "(see the introduction page to [Gym](https://gym.openai.com))."
      ]
    },
    {
      "cell_type": "markdown",
      "metadata": {},
      "source": [
        "*If necessary, import gymnasium*"
      ]
    },
    {
      "cell_type": "code",
      "execution_count": null,
      "metadata": {},
      "outputs": [],
      "source": [
        "#!pip install gymnasium"
      ]
    },
    {
      "cell_type": "code",
      "execution_count": 46,
      "metadata": {},
      "outputs": [],
      "source": [
        "import gymnasium as gym"
      ]
    },
    {
      "cell_type": "markdown",
      "metadata": {
        "tags": []
      },
      "source": [
        "----\n",
        "### The FrozenLake Environment"
      ]
    },
    {
      "cell_type": "markdown",
      "metadata": {},
      "source": [
        "---\n",
        "- The `FrozenLake` environment is a maze composed of frozen tiles, which can be made slippery. There are holes and a treasure to find.\n",
        "  - It is possible to use this environment in 'slippery' mode, where applying an *action is not deterministic!*\n",
        "    - So, from a \"frozen\" tile, moving right can lead right, or up or down....\n",
        "\n",
        "**N.B.**\n",
        "  - *This environment works well under Colab, JupyterLab, etc.*\n",
        "  - It is highly recommended to start with a deterministic environment to evaluate the proper functioning of the Q-Learning algorithm you will develop."
      ]
    },
    {
      "cell_type": "markdown",
      "metadata": {},
      "source": [
        "---\n",
        "#### Study of the Environment"
      ]
    },
    {
      "cell_type": "markdown",
      "metadata": {},
      "source": [
        "---\n",
        "#### Testing Actions\n",
        "\n",
        "In Gym, `step` allows performing an action. The function returns an observation of the resulting state, its reward, its type (final or not), and some information.\n",
        "Here, in FrozenLake,\n",
        "- observation = position where the agent is located\n",
        "- reward = reward\n",
        "- done = true if the goal is reached\n",
        "- info = probability of success of the action\n",
        "  - in deterministic mode, non-slippery floor, the success probability is 100%\n",
        "  - in non-deterministic mode, slippery floor, the success probability is 30%"
      ]
    },
    {
      "cell_type": "markdown",
      "metadata": {},
      "source": [
        "---\n",
        "**Deterministic Case**"
      ]
    },
    {
      "cell_type": "code",
      "execution_count": 47,
      "metadata": {},
      "outputs": [],
      "source": [
        "## Example on how to use the FrozenLake environment\n",
        "# Create the FrozenLake environment (deterministic version, 4x4 grid)\n",
        "env = gym.make('FrozenLake-v1', map_name=\"4x4\", is_slippery=False, render_mode='human')"
      ]
    },
    {
      "cell_type": "code",
      "execution_count": 48,
      "metadata": {},
      "outputs": [
        {
          "name": "stdout",
          "output_type": "stream",
          "text": [
            "None\n",
            "current position: 0\n"
          ]
        }
      ],
      "source": [
        "actions = {\"Left\":0, \"Down\":1, \"Right\":2, \"Up\":3}\n",
        "###### Testing actions\n",
        "observation, _ = env.reset()\n",
        "print(env.render())\n",
        "print(f\"current position: {observation}\")"
      ]
    },
    {
      "cell_type": "code",
      "execution_count": 49,
      "metadata": {},
      "outputs": [
        {
          "name": "stdout",
          "output_type": "stream",
          "text": [
            "None\n",
            "current position: 4, reward: 0.0, done: False\n"
          ]
        }
      ],
      "source": [
        "action = actions[\"Down\"]\n",
        "observation, reward, done, _, _ = env.step(action)\n",
        "print(env.render())\n",
        "print(f\"current position: {observation}, reward: {reward}, done: {done}\")"
      ]
    },
    {
      "cell_type": "code",
      "execution_count": 50,
      "metadata": {},
      "outputs": [
        {
          "name": "stdout",
          "output_type": "stream",
          "text": [
            "None\n",
            "current position: 5, reward: 0.0, !!done: True!!\n"
          ]
        }
      ],
      "source": [
        "action = actions[\"Right\"]\n",
        "observation, reward, done, _, info = env.step(action)\n",
        "print(env.render())\n",
        "print(f\"current position: {observation}, reward: {reward}, !!done: {done}!!\")"
      ]
    },
    {
      "cell_type": "markdown",
      "metadata": {},
      "source": [
        "**Objective:** find the policy, the set of actions that leads to a solution"
      ]
    },
    {
      "cell_type": "code",
      "execution_count": 51,
      "metadata": {},
      "outputs": [
        {
          "name": "stdout",
          "output_type": "stream",
          "text": [
            "None\n",
            "current position: 1, reward: 0.0, done: False, info: {'prob': 1.0}\n",
            "None\n",
            "current position: 2, reward: 0.0, done: False, info: {'prob': 1.0}\n",
            "None\n",
            "current position: 6, reward: 0.0, done: False, info: {'prob': 1.0}\n",
            "None\n",
            "current position: 10, reward: 0.0, done: False, info: {'prob': 1.0}\n",
            "None\n",
            "current position: 14, reward: 0.0, done: False, info: {'prob': 1.0}\n",
            "None\n",
            "current position: 15, reward: 1.0, done: True, info: {'prob': 1.0}\n"
          ]
        }
      ],
      "source": [
        "env.reset()\n",
        "policy = [\"Right\", \"Right\", \"Down\",\"Down\",\"Down\",\"Right\"]\n",
        "for a in policy:\n",
        "    observation, reward, done, _, info = env.step(actions[a])\n",
        "    print(env.render())\n",
        "    print(f\"current position: {observation}, reward: {reward}, done: {done}, info: {info}\")"
      ]
    },
    {
      "cell_type": "markdown",
      "metadata": {},
      "source": [
        "---\n",
        "### <font color=\"red\">First Resolution in Deterministic Mode</font>\n",
        "Important, to validate the learning of your algorithm before moving to non-deterministic mode, it is better to test it on an environment where each action has a 100% success rate. Below is an example on the mini maze."
      ]
    },
    {
      "cell_type": "markdown",
      "metadata": {},
      "source": [
        "---\n",
        "## Example Algorithm"
      ]
    },
    {
      "cell_type": "code",
      "execution_count": 81,
      "metadata": {},
      "outputs": [],
      "source": [
        "import numpy as np\n",
        "import random as rnd\n",
        "from tqdm import tqdm\n",
        "\n",
        "# Create the environment with the custom map\n",
        "#env = FrozenLakeWithPenalties.FrozenLakeWithPenalties(desc=map_pen_10x10, is_slippery=False, render_mode='ansi')\n",
        "#use a standard FrozenLake map 8x8\n",
        "env = gym.make('FrozenLake-v1', map_name=\"8x8\", is_slippery=False, render_mode='ansi')\n",
        "\n",
        "directions = {0: \"←\", 1: \"↓\", 2: \"→\", 3: \"↑\"}"
      ]
    },
    {
      "cell_type": "code",
      "execution_count": 53,
      "metadata": {},
      "outputs": [
        {
          "name": "stdout",
          "output_type": "stream",
          "text": [
            "\n",
            "\u001b[41mS\u001b[0mFFFFFFF\n",
            "FFFFFFFF\n",
            "FFFHFFFF\n",
            "FFFFFHFF\n",
            "FFFHFFFF\n",
            "FHHFFFHF\n",
            "FHFFHFHF\n",
            "FFFHFFFG\n",
            "\n"
          ]
        }
      ],
      "source": [
        "env.reset()\n",
        "print(env.render())"
      ]
    },
    {
      "cell_type": "code",
      "execution_count": 54,
      "metadata": {},
      "outputs": [],
      "source": [
        "# Initialize the Q-Table\n",
        "# As many cells as the environment has, \n",
        "# containing as many values as possible actions\n",
        "# So here a 64 x 4 matrix\n",
        "Q = np.zeros([env.observation_space.n,env.action_space.n])"
      ]
    },
    {
      "cell_type": "markdown",
      "metadata": {},
      "source": [
        "### Setting Up Parameters\n",
        "As a reminder, the simple Q-Learning algorithm is based on this equation:\n",
        "$Q(s,a) \\gets \\lambda \\times (r + \\gamma \\times max_{a'}(Q(s', a'))) + (1-\\lambda) \\times Q(s,a)$ with\n",
        "  - $\\lambda$: learning coefficient\n",
        "  - $\\gamma$: discount coefficient\n",
        "  - $r$: reward\n",
        "\n",
        "This equation gives the quality of action *a* from state *s*.\n",
        "\n",
        "Initially, actions are chosen randomly and noted; then, as tests progress, the most valued actions are chosen. For this, a draw is made; if it is less than an $\\epsilon$, the choice is random. This $\\epsilon$ decreases as tests progress."
      ]
    },
    {
      "cell_type": "code",
      "execution_count": 55,
      "metadata": {},
      "outputs": [],
      "source": [
        "lambda_learn = .2\n",
        "gamma = 0.8\n",
        "epsilon = 1.\n",
        "coef_eps = 0.999"
      ]
    },
    {
      "cell_type": "markdown",
      "metadata": {},
      "source": [
        "#### Get the Best Action\n",
        "`argmax(tab)` returns the index of the largest value in the array.\n",
        "\n",
        "`argmax(Q[2])` therefore returns the number of the most interesting action from state 2."
      ]
    },
    {
      "cell_type": "markdown",
      "metadata": {},
      "source": [
        "## The Simple Q-Learning Algorithm"
      ]
    },
    {
      "cell_type": "code",
      "execution_count": 56,
      "metadata": {},
      "outputs": [],
      "source": [
        "## Simple Q-Learning algorithm\n",
        "def q_learn(nb_actions=64):\n",
        "    \"\"\"\n",
        "    performs a learning/solution search cycle via simple Q-Learning\n",
        "\n",
        "    Parameters\n",
        "    ----------\n",
        "    epoch: step number\n",
        "\n",
        "    Returns\n",
        "    -------\n",
        "    total_r: total reward\n",
        "    r: reward of the last state encountered\n",
        "    states_list: list of states traversed\n",
        "    actions_list: list of actions performed\n",
        "\n",
        "    \"\"\"\n",
        "    s = env.reset()\n",
        "    s = s[0]\n",
        "    total_r = 0\n",
        "    done = False\n",
        "    step = 0\n",
        "    states_list = []\n",
        "    actions_list = []\n",
        "    # The Q-Table learning algorithm\n",
        "    while not done and step < nb_actions:\n",
        "        step += 1\n",
        "        # Choose an action by greedily (with noise) picking from Q table\n",
        "        actions_s = Q[s, :]\n",
        "        if rnd.random()<epsilon or np.max(actions_s)==0:\n",
        "            a = rnd.randint(0, env.action_space.n-1)\n",
        "        else:\n",
        "            a = np.argmax(actions_s)\n",
        "\n",
        "        # Get new state and reward from environment\n",
        "        new_state, r, done,_, _ = env.step(a)\n",
        "\n",
        "        done = done or r==1\n",
        "\n",
        "\n",
        "        # To privilege the shortest path, get negative reward every step\n",
        "        # if r == 0: r = -0.001\n",
        "\n",
        "        # Q-Learning\n",
        "        Q[s, a] = (1-lambda_learn)*Q[s, a] + lambda_learn*(r + gamma * np.max(Q[new_state, :]) - Q[s, a])\n",
        "        s = new_state\n",
        "        total_r = total_r + r\n",
        "        states_list.append(s)\n",
        "        actions_list.append(a)\n",
        "    return total_r, r, states_list, actions_list"
      ]
    },
    {
      "cell_type": "code",
      "execution_count": 57,
      "metadata": {},
      "outputs": [],
      "source": [
        "def try_qlearn(nb_episodes = 4000, nb_actions = 64):\n",
        "    \"\"\"\n",
        "    launches nb_episodes times a Q-Learning cycle and memorizes each found solution\n",
        "\n",
        "    Returns\n",
        "    -------\n",
        "    solutions_list: list of solutions (no, total reward, list of states, list of actions)\n",
        "    \"\"\"\n",
        "    global epsilon\n",
        "    states_list = []\n",
        "    actions_list = []\n",
        "    solutions_list = []\n",
        "    epsilon = 1\n",
        "    for i in tqdm(range(nb_episodes)):\n",
        "        # Reset environment and get first new observation\n",
        "        total_r, r, states_list, actions_list = q_learn(nb_actions)\n",
        "        epsilon = epsilon * coef_eps\n",
        "        # memorize if a solution has been found\n",
        "        if r == 1: solutions_list.append((i, total_r, states_list, actions_list))\n",
        "\n",
        "    if(len(solutions_list) == 0): print(\"no solution found!!\")\n",
        "    return solutions_list"
      ]
    },
    {
      "cell_type": "markdown",
      "metadata": {},
      "source": [
        "## Displaying the Result\n",
        "Let's now display the list of actions via the Gym environment"
      ]
    },
    {
      "cell_type": "code",
      "execution_count": 77,
      "metadata": {},
      "outputs": [],
      "source": [
        "def rendu(solutions_list):\n",
        "    \"\"\" displays the shortest sequence of actions to reach the goal from the provided solutions\n",
        "    Parameters\n",
        "    ----------\n",
        "    solutions_list: list of found solutions\n",
        "\n",
        "    Returns\n",
        "    -------\n",
        "    None.\n",
        "    \"\"\"\n",
        "    env = gym.make('FrozenLake-v1',map_name=\"8x8\", is_slippery=False, render_mode='human')\n",
        "    mini_sol = solutions_list[0]\n",
        "    mini_actions = mini_sol[2]\n",
        "    for s in solutions_list:\n",
        "        if len(s[2]) < len(mini_sol[2]): \n",
        "            mini_sol = s\n",
        "            mini_actions = s[3]\n",
        "    print(\"a solution in \", len(mini_sol[2]), \" steps: \")\n",
        "    env.reset()\n",
        "    print(env.render())\n",
        "    for a in mini_actions:\n",
        "        env.step(a)\n",
        "        print(env.render())\n"
      ]
    },
    {
      "cell_type": "code",
      "execution_count": 78,
      "metadata": {},
      "outputs": [],
      "source": [
        "def reset_algo():\n",
        "    global Q, coef_eps, lambda_learn, gamma,epsilon\n",
        "    Q = np.zeros([env.observation_space.n,env.action_space.n])\n",
        "    lambda_learn = .3\n",
        "    gamma = 0.1\n",
        "    epsilon = 1.\n",
        "    coef_eps = 0.999\n"
      ]
    },
    {
      "cell_type": "code",
      "execution_count": 82,
      "metadata": {},
      "outputs": [],
      "source": [
        "reset_algo()"
      ]
    },
    {
      "cell_type": "code",
      "execution_count": 83,
      "metadata": {},
      "outputs": [
        {
          "name": "stderr",
          "output_type": "stream",
          "text": [
            "100%|██████████| 6000/6000 [00:01<00:00, 4467.97it/s]\n"
          ]
        }
      ],
      "source": [
        "## WE LAUNCH THE RESOLUTION:\n",
        "solutions = try_qlearn(6000, 30)"
      ]
    },
    {
      "cell_type": "code",
      "execution_count": 84,
      "metadata": {},
      "outputs": [
        {
          "name": "stdout",
          "output_type": "stream",
          "text": [
            "a solution in  14  steps: \n",
            "None\n",
            "None\n",
            "None\n",
            "None\n",
            "None\n",
            "None\n",
            "None\n",
            "None\n",
            "None\n",
            "None\n",
            "None\n",
            "None\n",
            "None\n",
            "None\n",
            "None\n"
          ]
        }
      ],
      "source": [
        "if(len(solutions)>0):rendu(solutions)\n",
        "# re-run the block if no solution found"
      ]
    },
    {
      "cell_type": "markdown",
      "metadata": {},
      "source": []
    },
    {
      "cell_type": "code",
      "execution_count": 63,
      "metadata": {},
      "outputs": [],
      "source": [
        "import matplotlib.pyplot as plt\n",
        "def plot_frequence_sol(solutions_list):\n",
        "    \"\"\"\n",
        "    draws the frequency of solutions found\n",
        "    Parameters\n",
        "    ----------\n",
        "    solutions: list of solutions\n",
        "\n",
        "    Returns\n",
        "    -------\n",
        "    None.\n",
        "\n",
        "    \"\"\"\n",
        "    xs = [x[0] for x in solutions_list]\n",
        "    ys = [y[1] for y in solutions_list]\n",
        "    plt.figure(figsize=(10, 4))\n",
        "    plt.plot(xs, ys, '.')\n",
        "    plt.xlabel(\"test no\")\n",
        "    plt.ylabel(\"gain\")\n",
        "    plt.title(\"Frequency of solution appearance\")\n",
        "    plt.show()\n",
        "\n"
      ]
    },
    {
      "cell_type": "code",
      "execution_count": 64,
      "metadata": {},
      "outputs": [
        {
          "data": {
            "image/png": "[encoded data removed]",
            "text/plain": [
              "<Figure size 1000x400 with 1 Axes>"
            ]
          },
          "metadata": {},
          "output_type": "display_data"
        }
      ],
      "source": [
        "plot_frequence_sol(solutions)"
      ]
    },
    {
      "cell_type": "code",
      "execution_count": 65,
      "metadata": {},
      "outputs": [],
      "source": [
        "def showBestValues(Q):\n",
        "    #bestQValues contains the best values of possible actions for each state\n",
        "    #and we \"flatten\" the values to reduce their differences (useful for color choices)\n",
        "    bestQValues = [max(row)**(1/10) for row in Q]\n",
        "    dim = int(Q.shape[0]**(1/2))\n",
        "    #we transform bestQValues into a dim x dim matrix\n",
        "    bestQValues = np.reshape(bestQValues, (dim,dim))\n",
        "    #we ask python to generate a \"heatmap\"\n",
        "    fig, ax = plt.subplots(figsize=(5,5))\n",
        "    ax.imshow(bestQValues,cmap='Blues')\n",
        "    plt.title(\"Best score of an action according to the state\")\n",
        "    plt.show()\n"
      ]
    },
    {
      "cell_type": "code",
      "execution_count": 66,
      "metadata": {},
      "outputs": [
        {
          "data": {
            "image/png": "[encoded data removed]",
            "text/plain": [
              "<Figure size 500x500 with 1 Axes>"
            ]
          },
          "metadata": {},
          "output_type": "display_data"
        }
      ],
      "source": [
        "showBestValues(Q)"
      ]
    },
    {
      "cell_type": "code",
      "execution_count": 67,
      "metadata": {},
      "outputs": [],
      "source": [
        "import seaborn as sns"
      ]
    },
    {
      "cell_type": "code",
      "execution_count": 68,
      "metadata": {},
      "outputs": [],
      "source": [
        "# Author: Andrea Pierré\n",
        "# License: MIT License\n",
        "def qtable_directions_map(qtable, dim):\n",
        "    \"\"\"Get the best learned action & map it to arrows.\"\"\"\n",
        "    qtable_val_max = qtable.max(axis=1).reshape(dim, dim)+1\n",
        "    qtable_best_action = np.argmax(qtable, axis=1).reshape(dim, dim)\n",
        "    qtable_directions = np.empty(qtable_best_action.flatten().shape, dtype=str)\n",
        "    eps = 0#np.finfo(float).min #np.finfo(float).eps  # Minimum float number on the machine\n",
        "    for idx, val in enumerate(qtable_best_action.flatten()):\n",
        "        if abs(qtable_val_max.flatten()[idx]-1) > eps:\n",
        "            qtable_directions[idx] = directions[val]\n",
        "    qtable_directions = qtable_directions.reshape(dim, dim)\n",
        "    return qtable_val_max, qtable_directions"
      ]
    },
    {
      "cell_type": "code",
      "execution_count": 89,
      "metadata": {},
      "outputs": [],
      "source": [
        "# from Author: Andrea Pierré\n",
        "# License: MIT License\n",
        "from math import sqrt\n",
        "sqrt_vect = np.vectorize(sqrt)\n",
        "\n",
        "def plot_q_values_map(qtable, dim):\n",
        "    \"\"\"Plot the last frame of the simulation and the policy learned.\"\"\"\n",
        "    qtable_val_max, qtable_directions = qtable_directions_map(qtable, dim)\n",
        "    # Plot the last frame\n",
        "    fig, ax = plt.subplots(nrows=1, ncols=1, figsize=(5, 5))\n",
        "    # Plot the policy\n",
        "    sns.heatmap(\n",
        "        sqrt_vect(sqrt_vect(sqrt_vect(qtable_val_max))),\n",
        "        annot=qtable_directions,\n",
        "        fmt=\"\",\n",
        "        cmap=sns.color_palette(\"Blues\", as_cmap=True),\n",
        "        linewidths=0.7,\n",
        "        linecolor=\"black\",\n",
        "        xticklabels=[],\n",
        "        yticklabels=[],\n",
        "        annot_kws={\"fontsize\": \"xx-large\"},\n",
        "    ).set(title=\"Learned Q-values\\nArrows represent best action\")\n",
        "    for _, spine in ax.spines.items():\n",
        "        spine.set_visible(True)\n",
        "        spine.set_linewidth(0.7)\n",
        "        spine.set_color(\"black\")\n",
        "    plt.show()"
      ]
    },
    {
      "cell_type": "code",
      "execution_count": 70,
      "metadata": {},
      "outputs": [
        {
          "data": {
            "image/png": "[encoded data removed]",
            "text/plain": [
              "<Figure size 500x500 with 2 Axes>"
            ]
          },
          "metadata": {},
          "output_type": "display_data"
        }
      ],
      "source": [
        "plot_q_values_map(Q,8)"
      ]
    },
    {
      "cell_type": "markdown",
      "metadata": {},
      "source": [
        "---\n",
        "### <font color=\"red\">Testing Resolution in Non-Deterministic Mode</font>\n",
        "Let's reload the environment in \"slippery\" mode.\n",
        "\n",
        "Just reset the Q table and launch the algorithm..."
      ]
    },
    {
      "cell_type": "code",
      "execution_count": 71,
      "metadata": {},
      "outputs": [
        {
          "name": "stderr",
          "output_type": "stream",
          "text": [
            "100%|██████████| 10000/10000 [00:04<00:00, 2429.65it/s]\n"
          ]
        },
        {
          "data": {
            "image/png": "[encoded data removed]",
            "text/plain": [
              "<Figure size 1000x400 with 1 Axes>"
            ]
          },
          "metadata": {},
          "output_type": "display_data"
        }
      ],
      "source": [
        "env = gym.make('FrozenLake-v1', map_name=\"8x8\", is_slippery=True, render_mode='ansi')\n",
        "\n",
        "env.reset()\n",
        "Q = np.zeros([env.observation_space.n,env.action_space.n])\n",
        "lambda_learn = .3\n",
        "gamma = 0.99\n",
        "epsilon = 1.\n",
        "## WE LAUNCH THE RESOLUTION:\n",
        "solutions = try_qlearn(nb_episodes = 10000)\n",
        "plot_frequence_sol(solutions)"
      ]
    },
    {
      "cell_type": "code",
      "execution_count": 72,
      "metadata": {},
      "outputs": [
        {
          "name": "stdout",
          "output_type": "stream",
          "text": [
            "a solution in  15  steps: \n",
            "None\n",
            "None\n",
            "None\n",
            "None\n",
            "None\n",
            "None\n",
            "None\n",
            "None\n",
            "None\n",
            "None\n",
            "None\n",
            "None\n",
            "None\n",
            "None\n",
            "None\n",
            "None\n",
            "SOLUTION NOT REACHED even though we followed a winning sequence? -> it's normal, the environment is too unstable.\n",
            "We only learn the actions that *most likely* lead to a solution\n",
            "but it is not always guaranteed....\n",
            "re-run this block several times, after a (long) while the sequence of actions will lead to success....\n"
          ]
        }
      ],
      "source": [
        "if(len(solutions)>0):rendu(solutions)\n",
        "print(\"SOLUTION NOT REACHED even though we followed a winning sequence? -> it's normal, the environment is too unstable.\")\n",
        "print(\"We only learn the actions that *most likely* lead to a solution\")\n",
        "print(\"but it is not always guaranteed....\")\n",
        "print(\"re-run this block several times, after a (long) while the sequence of actions will lead to success....\")\n"
      ]
    },
    {
      "cell_type": "code",
      "execution_count": 73,
      "metadata": {},
      "outputs": [
        {
          "data": {
            "image/png": "[encoded data removed]",
            "text/plain": [
              "<Figure size 500x500 with 1 Axes>"
            ]
          },
          "metadata": {},
          "output_type": "display_data"
        }
      ],
      "source": [
        "showBestValues(Q)"
      ]
    },
    {
      "cell_type": "markdown",
      "metadata": {},
      "source": [
        "---\n",
        "### Double Q Learning"
      ]
    },
    {
      "cell_type": "markdown",
      "metadata": {},
      "source": [
        "With the Double Q Learning algorithm, we perform, more or less alternately:\n",
        "  - $a^* \\gets argmax_{a} QA(s', a)$,\n",
        "  - $Q_A(s,a) \\gets Q_A(s,a) + \\lambda \\times (r + \\gamma \\times Q_B(s', a^*))- Q_A(s,a))$ <br>\n",
        "or<br>\n",
        "  - $b^* \\gets argmax_{a} Q_B(s', a)$\n",
        "  - $Q_B(s,a) \\gets Q_B(s,a) + \\lambda \\times (r + \\gamma \\times QA(s', b^*))- Q_B(s,a))$<br>\n",
        "with\n",
        "    - $\\lambda$: learning coefficient\n",
        "    - $\\gamma$: discount coefficient\n",
        "    - $r$: reward\n",
        "\n",
        "This equation notes the quality of action *a* from state *s* alternately in tables $Q_A$ and $Q_B$.\n",
        "\n",
        "**Now code the Double Q-Learning algorithm and compare the results** (see [CLIFFDoubleQLearning](https://github.com/EmmanuelADAM/IntelligenceArtificiellePython/blob/master/GymCLIFFDoubleQLearningTODO.ipynb)).\n",
        "\n",
        "N.B. The parameters allowing good learning by double Q-Learning are:\n",
        "- lambda_learn = .2\n",
        "- gamma = 0.99\n",
        "- epsilon = 1.\n",
        "- nb_episodes = 3000\n",
        "- nb_actions = 100"
      ]
    },
    {
      "cell_type": "markdown",
      "metadata": {},
      "source": [
        "----\n",
        "### Delayed Q-Learning\n",
        "\n",
        "For **Delayed Q-Learning**, the goal is to wait before updating the Quality values of the actions.\n",
        "\n",
        "- We then introduce a list that will contain the encountered values.\n",
        "- This list $memory$ contains tuples (state, action, reward, new_state)\n",
        "- The algorithm follows the classic functioning, but after executing an action, the current state, the action, the reward, and the new state obtained are stored in the list $memory$\n",
        "- Periodically, after $m$ iterations:\n",
        "    - we scan this list to apply the classic Q-Learning formula and update the Q matrix for each encountered state, action pair\n",
        "    - we clear the contents of this list.\n",
        "- The performance of delayed Q-Learning depends on the value m (for example, for m=16, it is only after 16 actions (or after finding the goal, or after the requested actions) that the Q matrix will be updated with all the encountered cases\n",
        "\n",
        "Delayed Q-Learning allows for greater exploration and reduces cases of local maxima."
      ]
    },
    {
      "cell_type": "markdown",
      "metadata": {},
      "source": [
        "**Now code the delayed Q-Learning algorithm** and compare the results."
      ]
    }
  ],
  "metadata": {
    "kernelspec": {
      "display_name": "Python 3",
      "language": "python",
      "name": "python3"
    },
    "language_info": {
      "codemirror_mode": {
        "name": "ipython",
        "version": 3
      },
      "file_extension": ".py",
      "mimetype": "text/x-python",
      "name": "python",
      "nbconvert_exporter": "python",
      "pygments_lexer": "ipython3",
      "version": "3.13.1"
    }
  },
  "nbformat": 4,
  "nbformat_minor": 4
}
