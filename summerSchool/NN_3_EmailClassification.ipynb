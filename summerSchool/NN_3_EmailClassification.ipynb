{
 "cells": [
  {
   "cell_type": "markdown",
   "metadata": {
    "colab_type": "text",
    "id": "3qF8xmpAdACr"
   },
   "source": [
    "<a href=\"https://github.com/EmmanuelADAM/IntelligenceArtificiellePython/blob/master/summerSchool/NN_3_EmailClassification.ipynb\" target=\"_parent\"><img src=\"https://colab.research.google.com/assets/colab-badge.svg\" alt=\"Open In Colab\"/></a>"
   ]
  },
  {
   "cell_type": "markdown",
   "metadata": {},
   "source": [
    "# Email Classification using Neural Networks\n",
    "\n",
    "In this exercise, the goal is to create a very basic email classification system using Neural Networks based solely on keywords found in email subjects.\n",
    "\n",
    "A more advanced version would also study the text transformed into a bag of words."
   ]
  },
  {
   "cell_type": "markdown",
   "metadata": {},
   "source": [
    "---\n",
    "*Given the volume of emails received, an automatic classification system based on keywords in the subjects could help manage them.*\n",
    "\n",
    "*The goal here is to define a neural network and train it to classify texts.*\n",
    "\n",
    "---"
   ]
  },
  {
   "cell_type": "markdown",
   "metadata": {},
   "source": [
    "The training examples consist of two main parts:\n",
    "\n",
    "- Feature vectors: Each text is represented by a binary feature vector, where each element indicates the presence (1) or absence (0) of a specific term in the text. The terms considered are as follows:\n",
    " - reduction, offer, free, delivery, discount, promotion, code, technology, innovation, development, programming, vacation, relaxation, adventure, restaurant, cinema, family, friends, health, well-being"
   ]
  },
  {
   "cell_type": "markdown",
   "metadata": {},
   "source": [
    "Classification categories: Each text is associated with one of three possible categories. These categories can represent different types of content, for example:\n",
    "- Category 1: Advertising and promotions (e.g., reduction, offer, free, delivery, discount, promotion)\n",
    "- Category 2: Technology and development (e.g., code, technology, innovation, development, programming)\n",
    "- Category 3: Leisure and well-being (e.g., vacation, relaxation, adventure, restaurant, cinema, family, friends, health, well-being)"
   ]
  },
  {
   "cell_type": "markdown",
   "metadata": {},
   "source": [
    "Here are some training examples:\n",
    "| reduction | offer | free | delivery | discount | promotion | code | technology | innovation | development | programming | vacation | relaxation | adventure | restaurant | cinema | family | friends | health | well-being | Category |\n",
    "| -- | -- | -- | -- | -- | -- | -- | -- | -- | -- | -- | -- | -- | -- | -- | -- | -- | -- | -- | -- | -- |\n",
    "| 1 | 1 | 1 | 1 | 1 | 1 | 0 | 0 | 0 | 0 | 0 | 0 | 0 | 0 | 0 | 0 | 0 | 0 | 0 | 0 | 1 |\n",
    "| 0 | 0 | 0 | 0 | 0 | 0 | 1 | 1 | 1 | 1 | 1 | 0 | 0 | 0 | 0 | 0 | 0 | 0 | 0 | 0 | 2 |\n",
    "| 0 | 0 | 0 | 0 | 0 | 0 | 0 | 0 | 0 | 0 | 0 | 1 | 1 | 1 | 1 | 1 | 1 | 1 | 1 | 1 | 3 |\n",
    "| 1 | 1 | 0 | 1 | 0 | 1 | 0 | 0 | 0 | 0 | 0 | 0 | 0 | 0 | 0 | 0 | 0 | 0 | 0 | 0 | 1 |\n",
    "| 0 | 0 | 0 | 0 | 0 | 0 | 1 | 1 | 0 | 1 | 1 | 0 | 0 | 0 | 0 | 0 | 0 | 0 | 0 | 0 | 2 |\n",
    "| 0 | 0 | 0 | 0 | 0 | 0 | 0 | 0 | 0 | 0 | 0 | 1 | 1 | 0 | 1 | 1 | 1 | 1 | 0 | 0 | 3 |\n",
    "| 1 | 0 | 1 | 1 | 0 | 1 | 0 | 0 | 0 | 0 | 0 | 0 | 0 | 0 | 0 | 0 | 0 | 0 | 0 | 0 | 1 |\n",
    "| 0 | 0 | 0 | 0 | 0 | 0 | 1 | 1 | 1 | 1 | 1 | 0 | 0 | 0 | 0 | 0 | 0 | 0 | 0 | 0 | 2 |\n",
    "| 0 | 0 | 0 | 0 | 0 | 0 | 0 | 0 | 0 | 0 | 0 | 1 | 1 | 1 | 1 | 1 | 1 | 1 | 1 | 1 | 3 |\n",
    "| 1 | 1 | 1 | 1 | 1 | 1 | 0 | 0 | 0 | 0 | 0 | 0 | 0 | 0 | 0 | 0 | 0 | 0 | 0 | 0 | 1 |\n",
    "| 0 | 1 | 1 | 0 | 1 | 1 | 0 | 0 | 0 | 0 | 0 | 0 | 0 | 0 | 0 | 0 | 0 | 0 | 0 | 0 | 1 |\n",
    "| 1 | 0 | 0 | 1 | 1 | 1 | 0 | 0 | 0 | 0 | 0 | 0 | 0 | 0 | 0 | 0 | 0 | 0 | 0 | 0 | 1 |\n",
    "| 0 | 0 | 0 | 0 | 0 | 0 | 1 | 1 | 1 | 0 | 1 | 0 | 0 | 0 | 0 | 0 | 0 | 0 | 0 | 0 | 2 |\n",
    "| 0 | 0 | 0 | 0 | 0 | 0 | 0 | 0 | 0 | 0 | 0 | 1 | 1 | 0 | 0 | 1 | 1 | 1 | 1 | 1 | 3 |\n",
    "| 1 | 0 | 1 | 0 | 0 | 1 | 0 | 0 | 0 | 0 | 0 | 0 | 0 | 0 | 0 | 0 | 0 | 0 | 0 | 0 | 1 |\n",
    "| 0 | 0 | 0 | 0 | 0 | 0 | 1 | 1 | 0 | 1 | 1 | 0 | 0 | 0 | 0 | 0 | 0 | 0 | 0 | 0 | 2 |\n",
    "| 0 | 0 | 0 | 0 | 0 | 0 | 0 | 0 | 0 | 0 | 0 | 1 | 1 | 1 | 1 | 1 | 1 | 1 | 1 | 1 | 3 |\n",
    "| 1 | 1 | 0 | 1 | 1 | 1 | 0 | 0 | 0 | 0 | 0 | 0 | 0 | 0 | 0 | 0 | 0 | 0 | 0 | 0 | 1 |\n",
    "| 0 | 0 | 0 | 0 | 0 | 0 | 1 | 1 | 1 | 1 | 1 | 0 | 0 | 0 | 0 | 0 | 0 | 0 | 0 | 0 | 2 |"
   ]
  },
  {
   "cell_type": "markdown",
   "metadata": {
    "colab_type": "text",
    "id": "JZpJB9iOdRS3"
   },
   "source": [
    "---\n",
    "## Import Libraries"
   ]
  },
  {
   "cell_type": "code",
   "execution_count": 79,
   "metadata": {
    "colab": {},
    "colab_type": "code",
    "id": "odDg9S7xdFsv",
    "tags": []
   },
   "outputs": [],
   "source": [
    "# Import the Neural Network class\n",
    "import torch\n",
    "import torch.nn as nn\n",
    "# Import the optimizers class\n",
    "import torch.optim as optim\n",
    "import numpy as np\n",
    "import matplotlib.pyplot as plt"
   ]
  },
  {
   "cell_type": "markdown",
   "metadata": {
    "colab_type": "text",
    "id": "XN8WXXdTdXx0"
   },
   "source": [
    "---\n",
    "\n",
    "### Define Inputs and Expected Outputs\n",
    "\n",
    "The inputs correspond to the presence of keywords in the email subjects.\n",
    "Here, the inputs consist of 15 rows of 12 binary values.\n",
    "The training outputs therefore correspond to 15 rows of 3 binary values: whether each input belongs to one of the 3 categories.\n",
    "\n",
    "We choose to keep 70% of these rows as training examples.\n",
    "The validation inputs and outputs therefore consist of the remaining 30%."
   ]
  },
  {
   "cell_type": "code",
   "execution_count": 80,
   "metadata": {
    "colab": {},
    "colab_type": "code",
    "id": "A1mjGN2Bb5Ki"
   },
   "outputs": [],
   "source": [
    "# Define inputs and outputs based on the table\n",
    "tableau = np.array(\n",
    "[[ 1, 1, 1, 1, 1, 1, 0, 0, 0, 0, 0, 0, 0, 0, 0, 0, 0, 0, 0, 0, 1], \n",
    "[ 0, 0, 0, 0, 0, 0, 1, 1, 1, 1, 1, 0, 0, 0, 0, 0, 0, 0, 0, 0, 2], \n",
    "[ 0, 0, 0, 0, 0, 0, 0, 0, 0, 0, 0, 1, 1, 1, 1, 1, 1, 1, 1, 1, 3], \n",
    "[ 1, 1, 0, 1, 0, 1, 0, 0, 0, 0, 0, 0, 0, 0, 0, 0, 0, 0, 0, 0, 1], \n",
    "[ 0, 0, 0, 0, 0, 0, 1, 1, 0, 1, 1, 0, 0, 0, 0, 0, 0, 0, 0, 0, 2], \n",
    "[ 0, 0, 0, 0, 0, 0, 0, 0, 0, 0, 0, 1, 1, 0, 1, 1, 1, 1, 0, 0, 3], \n",
    "[ 1, 0, 1, 1, 0, 1, 0, 0, 0, 0, 0, 0, 0, 0, 0, 0, 0, 0, 0, 0, 1], \n",
    "[ 0, 0, 0, 0, 0, 0, 1, 1, 1, 1, 1, 0, 0, 0, 0, 0, 0, 0, 0, 0, 2], \n",
    "[ 0, 0, 0, 0, 0, 0, 0, 0, 0, 0, 0, 1, 1, 1, 1, 1, 1, 1, 1, 1, 3], \n",
    "[ 1, 1, 1, 1, 1, 1, 0, 0, 0, 0, 0, 0, 0, 0, 0, 0, 0, 0, 0, 0, 1], \n",
    "[ 0, 1, 1, 0, 1, 1, 0, 0, 0, 0, 0, 0, 0, 0, 0, 0, 0, 0, 0, 0, 1], \n",
    "[ 1, 0, 0, 1, 1, 1, 0, 0, 0, 0, 0, 0, 0, 0, 0, 0, 0, 0, 0, 0, 1], \n",
    "[ 0, 0, 0, 0, 0, 0, 1, 1, 1, 0, 1, 0, 0, 0, 0, 0, 0, 0, 0, 0, 2], \n",
    "[ 0, 0, 0, 0, 0, 0, 0, 0, 0, 0, 0, 1, 1, 0, 0, 1, 1, 1, 1, 1, 3], \n",
    "[ 1, 0, 1, 0, 0, 1, 0, 0, 0, 0, 0, 0, 0, 0, 0, 0, 0, 0, 0, 0, 1], \n",
    "[ 0, 0, 0, 0, 0, 0, 1, 1, 0, 1, 1, 0, 0, 0, 0, 0, 0, 0, 0, 0, 2], \n",
    "[ 0, 0, 0, 0, 0, 0, 0, 0, 0, 0, 0, 1, 1, 1, 1, 1, 1, 1, 1, 1, 3], \n",
    "[ 1, 1, 0, 1, 1, 1, 0, 0, 0, 0, 0, 0, 0, 0, 0, 0, 0, 0, 0, 0, 1], \n",
    "[ 0, 0, 0, 0, 0, 0, 1, 1, 1, 1, 1, 0, 0, 0, 0, 0, 0, 0, 0, 0, 2]], float)\n",
    "\n",
    "keywords = (\"reduction\", \"offer\", \"free\", \"delivery\", \"discount\", \"promotion\", \"code\", \"technology\", \"innovation\", \"development\", \"programming\", \"vacation\", \"relaxation\", \"adventure\", \"restaurant\", \"cinema\", \"family\", \"friends\", \"health\", \"well-being\")\n",
    "categories = (\"advertising\", \"technology\", \"leisure\")\n",
    "nb_lignes = tableau.shape[0]\n",
    "nb_val = len(tableau[0]) - 1"
   ]
  },
  {
   "cell_type": "code",
   "execution_count": 81,
   "metadata": {},
   "outputs": [],
   "source": [
    "# We take a percentage of rows for training, the rest for validation\n",
    "# We shuffle the rows to have homogeneous training and validation examples\n",
    "# (in case the examples were entered in a specific order)\n",
    "# but the best is to choose these examples carefully as they have a significant impact on the quality of learning\n",
    "np.random.shuffle(tableau)\n",
    "\n",
    "# We decide that 80% of the rows are training rows\n",
    "nb_lignes_app = nb_lignes * 80 // 100\n",
    "nb_lignes_val = nb_lignes - nb_lignes_app\n",
    "\n",
    "# The first nb_val columns are the inputs\n",
    "# The last column must be transformed into a vector of 3 values (1->[1,0,0], 2->[0,1,0], 3->[0,0,1])\n",
    "\n",
    "\n",
    "multiplex = np.array([[1,0,0],[0,1,0],[0,0,1]], float)\n",
    "# We fill the training inputs and outputs\n",
    "entrees_app = tableau[0:nb_lignes_app, 0:nb_val]\n",
    "cat_sorties_app = tableau[0:nb_lignes_app, -1]\n",
    "sorties_app = multiplex[cat_sorties_app.astype(int)-1]\n",
    "\n",
    "# We fill the validation inputs and outputs\n",
    "entrees_val = tableau[nb_lignes_app:, 0:nb_val]\n",
    "cat_sorties_val = tableau[nb_lignes_app:, -1]\n",
    "sorties_val = multiplex[cat_sorties_val.astype(int)-1]"
   ]
  },
  {
   "cell_type": "code",
   "execution_count": 82,
   "metadata": {},
   "outputs": [
    {
     "data": {
      "text/plain": [
       "array([[1., 0., 0.],\n",
       "       [0., 1., 0.],\n",
       "       [0., 1., 0.],\n",
       "       [0., 0., 1.],\n",
       "       [1., 0., 0.],\n",
       "       [1., 0., 0.],\n",
       "       [1., 0., 0.],\n",
       "       [0., 0., 1.],\n",
       "       [0., 1., 0.],\n",
       "       [0., 0., 1.],\n",
       "       [1., 0., 0.],\n",
       "       [0., 1., 0.],\n",
       "       [1., 0., 0.],\n",
       "       [0., 0., 1.],\n",
       "       [1., 0., 0.]])"
      ]
     },
     "execution_count": 82,
     "metadata": {},
     "output_type": "execute_result"
    }
   ],
   "source": [
    "sorties_app"
   ]
  },
  {
   "cell_type": "code",
   "execution_count": 83,
   "metadata": {},
   "outputs": [],
   "source": [
    "# Convert inputs and outputs to tensors\n",
    "entrees_app = torch.tensor(entrees_app, dtype=torch.float32)\n",
    "sorties_app = torch.tensor(sorties_app, dtype=torch.float32)\n",
    "entrees_val = torch.tensor(entrees_val, dtype=torch.float32)\n",
    "sorties_val = torch.tensor(sorties_val, dtype=torch.float32)"
   ]
  },
  {
   "cell_type": "markdown",
   "metadata": {
    "colab_type": "text",
    "id": "SC-1MnShdwe0"
   },
   "source": [
    "---\n",
    "\n",
    "### Choose the Network Model\n",
    "- Here, the layers are sequential"
   ]
  },
  {
   "cell_type": "code",
   "execution_count": 84,
   "metadata": {
    "colab": {},
    "colab_type": "code",
    "id": "WbST4EmqcCdJ"
   },
   "outputs": [],
   "source": [
    "model = nn.Sequential()"
   ]
  },
  {
   "cell_type": "markdown",
   "metadata": {
    "colab_type": "text",
    "id": "Jo5Ej8kkd8nh"
   },
   "source": [
    "---\n",
    "\n",
    "### Define the Network Architecture\n",
    "Choose the network structure, the number of hidden layers, etc.\n",
    "- A first layer composed of\n",
    " - 12 input neurons, plus the BIAS neuron\n",
    " - 8 output neurons\n",
    "- 2 intermediate layers\n",
    "- A layer composed of\n",
    " - x input neurons (those of the previous layer) and\n",
    " - 3 output neurons (the 3 categories)"
   ]
  },
  {
   "cell_type": "code",
   "execution_count": 85,
   "metadata": {
    "colab": {},
    "colab_type": "code",
    "id": "Vr6dcOJicGYM"
   },
   "outputs": [],
   "source": [
    "# Add a linear layer with 9 inputs and 4 outputs, with bias\n",
    "model.add_module('first layer', nn.Linear(nb_val, 12, bias=True))\n",
    "model.add_module('sigmoid_first', nn.Sigmoid())\n",
    "# Add a 2nd layer with 12 inputs and 6 outputs, with bias\n",
    "model.add_module('hidden layer', nn.Linear(12, 6, bias=True))\n",
    "model.add_module('sigmoid_hidden', nn.Sigmoid())\n",
    "# Add a 2nd layer with 6 inputs and 3 outputs, with bias\n",
    "model.add_module('last layer', nn.Linear(6, 3, bias=True))\n",
    "model.add_module('sigmoid_last', nn.Sigmoid())"
   ]
  },
  {
   "cell_type": "markdown",
   "metadata": {
    "colab_type": "text",
    "id": "8L4LxSBWeaF1"
   },
   "source": [
    "---\n",
    "\n",
    "### Compile the Network\n",
    "- Here, we specify that the error correction algorithm is *'adam'*, and that the calculated error is the mean of the absolute values of the errors made. We also indicate that we want to see the accuracy of the training appear as well.\n",
    "(You can choose another optimizer and another loss calculation)"
   ]
  },
  {
   "cell_type": "code",
   "execution_count": 86,
   "metadata": {
    "colab": {},
    "colab_type": "code",
    "id": "HlnG97g7cQKW"
   },
   "outputs": [],
   "source": [
    "# Use the mean squared error function\n",
    "criterion = nn.MSELoss()\n",
    "# Use the Adam optimizer\n",
    "optimizer = optim.Adam(model.parameters(), lr=0.01)"
   ]
  },
  {
   "cell_type": "markdown",
   "metadata": {
    "colab_type": "text",
    "id": "rZ4IQ-bIdtN1"
   },
   "source": [
    "---\n",
    "\n",
    "### Train the Network\n",
    "- Here we make it 'talk' (verbose=1), and we launch xx training cycles (epochs to be specified)"
   ]
  },
  {
   "cell_type": "code",
   "execution_count": 87,
   "metadata": {
    "colab": {
     "base_uri": "https://localhost:8080/",
     "height": 148
    },
    "colab_type": "code",
    "id": "ddTla-J_cfz8",
    "outputId": "0fd3cade-cd59-41db-c5f6-0ea22e48cac0"
   },
   "outputs": [
    {
     "name": "stdout",
     "output_type": "stream",
     "text": [
      "[  50] [Train] loss: 0.1435  accuracy: 0.7333 || [Validation] loss: 0.1473  accuracy: 0.7500\n",
      "[ 100] [Train] loss: 0.0398  accuracy: 1.0000 || [Validation] loss: 0.0445  accuracy: 1.0000\n",
      "[ 150] [Train] loss: 0.0160  accuracy: 1.0000 || [Validation] loss: 0.0197  accuracy: 1.0000\n",
      "[ 200] [Train] loss: 0.0090  accuracy: 1.0000 || [Validation] loss: 0.0114  accuracy: 1.0000\n",
      "[ 250] [Train] loss: 0.0059  accuracy: 1.0000 || [Validation] loss: 0.0075  accuracy: 1.0000\n",
      "[ 300] [Train] loss: 0.0042  accuracy: 1.0000 || [Validation] loss: 0.0054  accuracy: 1.0000\n",
      "[ 350] [Train] loss: 0.0032  accuracy: 1.0000 || [Validation] loss: 0.0041  accuracy: 1.0000\n",
      "[ 400] [Train] loss: 0.0025  accuracy: 1.0000 || [Validation] loss: 0.0033  accuracy: 1.0000\n",
      "[ 450] [Train] loss: 0.0021  accuracy: 1.0000 || [Validation] loss: 0.0027  accuracy: 1.0000\n",
      "[ 500] [Train] loss: 0.0017  accuracy: 1.0000 || [Validation] loss: 0.0022  accuracy: 1.0000\n",
      "[ 550] [Train] loss: 0.0015  accuracy: 1.0000 || [Validation] loss: 0.0019  accuracy: 1.0000\n",
      "[ 600] [Train] loss: 0.0013  accuracy: 1.0000 || [Validation] loss: 0.0016  accuracy: 1.0000\n",
      "[ 650] [Train] loss: 0.0011  accuracy: 1.0000 || [Validation] loss: 0.0014  accuracy: 1.0000\n",
      "[ 700] [Train] loss: 0.0010  accuracy: 1.0000 || [Validation] loss: 0.0012  accuracy: 1.0000\n",
      "[ 750] [Train] loss: 0.0008  accuracy: 1.0000 || [Validation] loss: 0.0011  accuracy: 1.0000\n",
      "[ 800] [Train] loss: 0.0008  accuracy: 1.0000 || [Validation] loss: 0.0010  accuracy: 1.0000\n",
      "[ 850] [Train] loss: 0.0007  accuracy: 1.0000 || [Validation] loss: 0.0009  accuracy: 1.0000\n",
      "[ 900] [Train] loss: 0.0006  accuracy: 1.0000 || [Validation] loss: 0.0008  accuracy: 1.0000\n",
      "[ 950] [Train] loss: 0.0006  accuracy: 1.0000 || [Validation] loss: 0.0007  accuracy: 1.0000\n",
      "[1000] [Train] loss: 0.0005  accuracy: 1.0000 || [Validation] loss: 0.0007  accuracy: 1.0000\n"
     ]
    }
   ],
   "source": [
    "# Launch training over nb_iter iterations\n",
    "nb_iter = 1000\n",
    "# Define how often to print the loss and accuracy\n",
    "step_to_print = nb_iter/20\n",
    "\n",
    "\n",
    "# Initialize lists to store losses for each epoch, just in case we want to visualize them later\n",
    "losses = []\n",
    "val_losses = []\n",
    "# Initialize lists to store accuracies for each epoch, if needed\n",
    "accuracies = []\n",
    "val_accuracies = []\n",
    "\n",
    "# ++ Train the model ++\n",
    "# Loop over the number of iterations\n",
    "for epoch in range(nb_iter):\n",
    " # --- Training ---\n",
    "    model.train()\n",
    "    optimizer.zero_grad()\n",
    "    out = model(entrees_app)\n",
    "    loss = criterion(out, sorties_app)\n",
    "    loss.backward()\n",
    "    optimizer.step()\n",
    "\n",
    "    pred = out.argmax(1)\n",
    "    target = sorties_app.argmax(1)\n",
    "    acc = (pred == target).float().mean().item()\n",
    "\n",
    "    losses.append(loss.item())\n",
    "    accuracies.append(acc)\n",
    "\n",
    "    # --- Validation ---\n",
    "    model.eval()\n",
    "    with torch.no_grad():\n",
    "        val_out = model(entrees_val)\n",
    "        val_loss = criterion(val_out, sorties_val).item()\n",
    "        val_acc = (val_out.argmax(1) == sorties_val.argmax(1)).float().mean().item()\n",
    "\n",
    "    val_losses.append(val_loss)\n",
    "    val_accuracies.append(val_acc)\n",
    "\n",
    "    # For demonstration, display the loss every 100 epochs\n",
    "    if (epoch+1) % step_to_print == 0:\n",
    "        print(f\"[{epoch+1:4d}] [Train] loss: {loss.item():.4f}  accuracy: {acc:.4f} || [Validation] loss: {val_loss:.4f}  accuracy: {val_acc:.4f}\")"
   ]
  },
  {
   "cell_type": "markdown",
   "metadata": {
    "colab_type": "text",
    "id": "I0zBYIALlDYp"
   },
   "source": [
    "---\n",
    "\n",
    "## Plot the Evolution of Error and Accuracy"
   ]
  },
  {
   "cell_type": "markdown",
   "metadata": {},
   "source": [
    "#### Trace the Error Correction\n",
    "- Error should decrease, if not, there is a problem in the data, or in the model..."
   ]
  },
  {
   "cell_type": "code",
   "execution_count": 88,
   "metadata": {
    "colab": {},
    "colab_type": "code",
    "id": "Z89vptAXcuDM"
   },
   "outputs": [
    {
     "data": {
      "image/png": "[encoded data removed]",
      "text/plain": [
       "<Figure size 640x480 with 1 Axes>"
      ]
     },
     "metadata": {},
     "output_type": "display_data"
    }
   ],
   "source": [
    "## Draw the accuracy curve\n",
    "\n",
    "epochs = range(1, len(losses) + 1)\n",
    "\n",
    "plt.plot(epochs, losses, 'b--', label='Training Loss')\n",
    "plt.plot(epochs, val_losses, 'r--', alpha=0.5, label='Validation Loss')\n",
    "plt.title('Errors by Epoch')\n",
    "plt.xlabel('Epochs')\n",
    "plt.ylabel('Losses')\n",
    "plt.legend()\n",
    "plt.show()"
   ]
  },
  {
   "cell_type": "code",
   "execution_count": 89,
   "metadata": {},
   "outputs": [
    {
     "data": {
      "image/png": "[encoded data removed]",
      "text/plain": [
       "<Figure size 640x480 with 1 Axes>"
      ]
     },
     "metadata": {},
     "output_type": "display_data"
    }
   ],
   "source": [
    "# Draw the loss evolution in blue\n",
    "plt.plot(epochs, accuracies, 'b--', label='Training Accuracy')\n",
    "plt.plot(epochs, val_accuracies, 'r--', alpha=0.5, label='Validation Accuracy')\n",
    "plt.title('Accuracy by Epoch')\n",
    "plt.xlabel('Epochs')\n",
    "plt.ylabel('Accuracy')\n",
    "\n",
    "plt.show()"
   ]
  },
  {
   "cell_type": "markdown",
   "metadata": {},
   "source": [
    "#### Plot the Training Error / Validation Error\n",
    "- The training error and validation error should follow almost parallel curves.\n",
    "- The training error should be lower than the validation error\n",
    " - If the curves diverge, if the validation curve moves away from the training curve, there is overfitting, too adapted to the training data, probably too extensive (reduce the epochs?).\n",
    " - If there is a too large training error, there is underfitting."
   ]
  },
  {
   "cell_type": "markdown",
   "metadata": {
    "colab_type": "text",
    "id": "N38spzckmMMJ"
   },
   "source": [
    "---\n",
    "\n",
    "## Using the Network\n",
    "In which category would you place the texts containing the following words?\n",
    "1. reduction cinema\n",
    "2. innovation adventure\n",
    "3. promotion restaurant"
   ]
  },
  {
   "cell_type": "code",
   "execution_count": 90,
   "metadata": {},
   "outputs": [
    {
     "name": "stdout",
     "output_type": "stream",
     "text": [
      "vocabulary =  ('reduction', 'offer', 'free', 'delivery', 'discount', 'promotion', 'code', 'technology', 'innovation', 'development', 'programming', 'vacation', 'relaxation', 'adventure', 'restaurant', 'cinema', 'family', 'friends', 'health', 'well-being')\n"
     ]
    }
   ],
   "source": [
    "print (\"vocabulary = \", keywords)"
   ]
  },
  {
   "cell_type": "code",
   "execution_count": 91,
   "metadata": {},
   "outputs": [],
   "source": [
    "def predict(tabText):\n",
    "    # From the words in tabText, generate a vector of size 20 with 1s and 0s\n",
    "    entree = np.zeros(nb_val, float)\n",
    "    for mot in tabText:\n",
    "        if mot in keywords:\n",
    "            entree[keywords.index(mot)] = 1\n",
    "    entree = torch.tensor(entree, dtype=torch.float32)\n",
    "    outputs = model(entree)\n",
    "    print(\"degree of membership of the sequence of words \", tabText, \" to the category \")\n",
    "    for i in range(len(categories)):\n",
    "        print(f\"\\t{categories[i]} = {100*outputs[i].item():.2f} %\")\n",
    "    \n",
    "    return outputs"
   ]
  },
  {
   "cell_type": "code",
   "execution_count": 96,
   "metadata": {},
   "outputs": [
    {
     "name": "stdout",
     "output_type": "stream",
     "text": [
      "degree of membership of the sequence of words  ['free', 'cinema']  to the category \n",
      "\tadvertising = 94.85 %\n",
      "\ttechnology = 2.05 %\n",
      "\tleisure = 2.95 %\n"
     ]
    },
    {
     "data": {
      "text/plain": [
       "tensor([0.9485, 0.0205, 0.0295], grad_fn=<SigmoidBackward0>)"
      ]
     },
     "execution_count": 96,
     "metadata": {},
     "output_type": "execute_result"
    }
   ],
   "source": [
    "predict([\"free\", \"cinema\"])"
   ]
  },
  {
   "cell_type": "code",
   "execution_count": 94,
   "metadata": {},
   "outputs": [
    {
     "name": "stdout",
     "output_type": "stream",
     "text": [
      "degree of membership of the sequence of words  ['health', 'innovation']  to the category \n",
      "\tadvertising = 5.85 %\n",
      "\ttechnology = 88.06 %\n",
      "\tleisure = 5.65 %\n"
     ]
    },
    {
     "data": {
      "text/plain": [
       "tensor([0.0585, 0.8806, 0.0565], grad_fn=<SigmoidBackward0>)"
      ]
     },
     "execution_count": 94,
     "metadata": {},
     "output_type": "execute_result"
    }
   ],
   "source": [
    "predict([\"health\", \"innovation\"])"
   ]
  }
 ],
 "metadata": {
  "colab": {
   "collapsed_sections": [],
   "name": "TestOUX.ipynb",
   "provenance": [],
   "version": "0.3.2"
  },
  "kernelspec": {
   "display_name": "Python 3",
   "language": "python",
   "name": "python3"
  },
  "language_info": {
   "codemirror_mode": {
    "name": "ipython",
    "version": 3
   },
   "file_extension": ".py",
   "mimetype": "text/x-python",
   "name": "python",
   "nbconvert_exporter": "python",
   "pygments_lexer": "ipython3",
   "version": "3.13.1"
  }
 },
 "nbformat": 4,
 "nbformat_minor": 4
}
