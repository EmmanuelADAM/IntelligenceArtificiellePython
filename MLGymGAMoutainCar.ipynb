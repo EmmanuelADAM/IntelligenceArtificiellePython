{
 "cells": [
  {
   "cell_type": "markdown",
   "metadata": {},
   "source": [
    "<a href=\"https://colab.research.google.com/github/EmmanuelADAM/IntelligenceArtificiellePython/blob/master/MLGymGAMoutainCar.ipynb\" target=\"_parent\"><img src=\"https://colab.research.google.com/assets/colab-badge.svg\" alt=\"Open In Colab\"/></a>"
   ]
  },
  {
   "cell_type": "markdown",
   "metadata": {},
   "source": [
    "# Machine Learning\n",
    "## Appliqué à [Gym.OpenAI]((https://gym.openai.com)"
   ]
  },
  {
   "cell_type": "markdown",
   "metadata": {},
   "source": [
    "Voir la page d'[introduction à Gym](https://github.com/EmmanuelADAM/IntelligenceArtificiellePython/blob/master/TPMLIntroGym.ipynb)."
   ]
  },
  {
   "cell_type": "markdown",
   "metadata": {},
   "source": [
    "### Installation de gym"
   ]
  },
  {
   "cell_type": "markdown",
   "metadata": {},
   "source": [
    "#### Outil AUTRE QUE COLAB (pyzo, jupyter lab, .....)"
   ]
  },
  {
   "cell_type": "code",
   "execution_count": null,
   "metadata": {},
   "outputs": [],
   "source": [
    "#si pas deja installes \n",
    "%pip install gymnasium\n",
    "%pip install gymnasium[classic-control]"
   ]
  },
  {
   "cell_type": "code",
   "execution_count": 1,
   "metadata": {},
   "outputs": [],
   "source": [
    "import gymnasium as gym\n",
    "import numpy as np\n",
    "from random import randint"
   ]
  },
  {
   "cell_type": "markdown",
   "metadata": {},
   "source": [
    "#### <font color=red>Sous colab</font>\n",
    "*Sous colab, l'affichage ne sera pas dynamique.. Il faudra passer soit par un rendu sous forme de plot (matplotlib), soit passer par une vidéo à enregistrer...*\n",
    "\n",
    "***Solution pour affichage statique***<br>\n",
    "*Il vous faut importer, seulement si vous utilisez colab, les packages suivants :*"
   ]
  },
  {
   "cell_type": "code",
   "execution_count": null,
   "metadata": {},
   "outputs": [],
   "source": [
    "!apt-get install -y xvfb python-opengl > /dev/null 2>&1\n",
    "!pip install gym pyvirtualdisplay > /dev/null 2>&1\n",
    "!apt-get install x11-utils"
   ]
  },
  {
   "cell_type": "code",
   "execution_count": null,
   "metadata": {},
   "outputs": [],
   "source": [
    "import gymnasium as gym\n",
    "import numpy as np\n",
    "import matplotlib.pyplot as plt\n",
    "from IPython import display as ipythondisplay\n",
    "from pyvirtualdisplay import Display\n",
    "display = Display(visible=0, size=(400, 300))\n",
    "display.start()"
   ]
  },
  {
   "cell_type": "markdown",
   "metadata": {},
   "source": [
    "---\n",
    "## Charger l' environnement\n",
    "On utilise ici l'environnement `MountainCarContinuous-v0`."
   ]
  },
  {
   "cell_type": "code",
   "execution_count": 2,
   "metadata": {},
   "outputs": [
    {
     "data": {
      "text/plain": [
       "(array([-0.48687708,  0.        ], dtype=float32), {})"
      ]
     },
     "execution_count": 2,
     "metadata": {},
     "output_type": "execute_result"
    }
   ],
   "source": [
    "#exemple pour outil autre que colab\n",
    "env = gym.make('MountainCarContinuous-v0', render_mode=\"human\") \n",
    "env.reset()\n",
    "#exemple pour colab\n",
    "#env = gym.make('MountainCarContinuous-v0', render_mode=\"rgb_array\") \n",
    "#env.reset()"
   ]
  },
  {
   "cell_type": "markdown",
   "metadata": {},
   "source": [
    "---\n",
    "### Les valeurs des caractéristiques\n",
    "Pour `MountainCarContinuous-v0`, vous trouverez l'explication des valeurs [ici](https://github.com/openai/gym/wiki/MountainCarContinuous-v0).\n",
    "\n",
    "| No | Observation | Min | Max |\n",
    "|:--:|:--:|:--:|:--:|\n",
    "| 0 | Position | -1.2 | 0.6 |\n",
    "| 1 | Velocité | -0.07 | 0.07 |\n",
    "\n",
    "Vérification : "
   ]
  },
  {
   "cell_type": "code",
   "execution_count": 3,
   "metadata": {},
   "outputs": [
    {
     "name": "stdout",
     "output_type": "stream",
     "text": [
      "EnvSpec(MountainCarContinuous-v0)\n",
      "nombre et type d'actions =  Box(-1.0, 1.0, (1,), float32)\n",
      "valeurs d'actions les plus elevées =  [1.]\n",
      "valeurs d'actions les plus basses =  [-1.]\n",
      "nombre et type d'observations =  Box(-1.2000000476837158, 0.6000000238418579, (2,), float32)\n",
      "valeurs de  observations les plus basses =  [-1.2  -0.07]\n",
      "valeurs de observations les plus elevées =  [0.6  0.07]\n"
     ]
    }
   ],
   "source": [
    "print(env.spec)\n",
    "print(\"nombre et type d'actions = \", env.action_space) \n",
    "print(\"valeurs d'actions les plus elevées = \", env.action_space.high) \n",
    "print(\"valeurs d'actions les plus basses = \", env.action_space.low)  \n",
    "print(\"nombre et type d'observations = \", env.observation_space) \n",
    "print(\"valeurs de  observations les plus basses = \", env.observation_space.low) \n",
    "print(\"valeurs de observations les plus elevées = \", env.observation_space.high) "
   ]
  },
  {
   "cell_type": "markdown",
   "metadata": {},
   "source": [
    "### (Re)Initialiser l'environnement\n",
    "`env.reset()` initialise les variables d'environnement. L'exécution est obligatoire après avoir chargé l'environnement. Ici ce sont la position de départ et la vitesse.\n",
    "Pour avoir un environnement non déterministe, par défaut `env.reset()` retourne une position x aléatoire entre -0.4 et -0.6 et une vitesse initiale nulle : "
   ]
  },
  {
   "cell_type": "code",
   "execution_count": 3,
   "metadata": {},
   "outputs": [
    {
     "data": {
      "text/plain": [
       "(array([-0.52232206,  0.        ], dtype=float32), {})"
      ]
     },
     "execution_count": 3,
     "metadata": {},
     "output_type": "execute_result"
    }
   ],
   "source": [
    "env.reset()"
   ]
  },
  {
   "cell_type": "markdown",
   "metadata": {},
   "source": [
    "Mais ici nous souhaitons partir du même point (-0.5) à vitesse nulle à chaque test de séquence d'actions. Avant chaque évaluation de séquence d'actions, ***on n'utilisera pas*** `env.reset()` par la suite et on écrira donc : "
   ]
  },
  {
   "cell_type": "code",
   "execution_count": 4,
   "metadata": {},
   "outputs": [],
   "source": [
    "env.reset(seed=123, options={\"x_init\": 0., \"y_init\": 0.})"
   ]
  },
  {
   "cell_type": "markdown",
   "metadata": {},
   "source": [
    "---\n",
    "### Les actions\n",
    "- Dans `MountainCarContinuous-v0` : [-1.0] fait reculer le véhicule d'une force 1, [0] le met au point mort, [1.0] le fait avancer d'une force 1\n",
    "\n",
    "- ***Exécuter une action :***\n",
    "  - *exécution* : `observation, reward,done,info = env.step(action)`\n",
    "    - `observation`: ici la position du mobile et sa vitesse ([x, v])\n",
    "    - `reward`: utilité de l'état (récompense)\n",
    "    - `done` : booléen (True si but atteint)\n",
    "    - `info` : éventuelle information retournée par l'outil"
   ]
  },
  {
   "cell_type": "code",
   "execution_count": 65,
   "metadata": {},
   "outputs": [
    {
     "name": "stdout",
     "output_type": "stream",
     "text": [
      "x= -0.4624777\n",
      "v= 0.0010519158\n",
      "x= -0.46038163\n",
      "v= 0.0020960723\n"
     ]
    }
   ],
   "source": [
    "#corriger la valeur initiale :\n",
    "env.reset(seed=123, options={\"x_init\": 0., \"y_init\": 0.})\n",
    "action = 1\n",
    "observation, reward,done,terminated, info = env.step([float(action)])\n",
    "print(\"x=\", observation[0])\n",
    "print(\"v=\", observation[1])\n",
    "observation, reward,done,terminated, info = env.step([float(action)])\n",
    "print(\"x=\", observation[0])\n",
    "print(\"v=\", observation[1])"
   ]
  },
  {
   "cell_type": "markdown",
   "metadata": {},
   "source": [
    "---\n",
    "### La récompense (reward)\n",
    "Le *reward* dépend l'environnement d'exécution.. Dans `MountainCarContinuous-v0`, il est de `100(si le but est atteint)-le nombre d'actions au carré` !!\n",
    "Selon la méthode IA choisie, il peut être plus intéressant de définir sa popre fonction récompense \n",
    "(par exemple, on peut favoriser les séquences qui mène le plus loin possible..)\n"
   ]
  },
  {
   "cell_type": "markdown",
   "metadata": {},
   "source": [
    "---\n",
    "\n",
    "# Test d'algorithme génétique\n",
    "## Test de programme évolutionnaire pour atteindre l'objectif\n",
    "- Utiliser l'environnement `MountainCarContinuous-v0`, car il est plus rapide \n",
    "- Programmez (en python) un algo génétique avec initialement les éléments suivants : \n",
    "  - sequence : tableau de valeurs entières -1, 0 ou 1.\n",
    "    - *(on pourrait prendre des valeurs réelles mais ici on se contentera d'entiers pour commencer)*\n",
    "  - 1 point de croisement (au centre)\n",
    "    - *(pour commencer, on pourrait proposer 2 points de croisement (au 1/3, et 2/3))*\n",
    "  - taille sequence : taille_seq = 80\n",
    "  - taille population initiale : taille_pop = 500\n",
    "  - taux de gènes mutants dans une séquence : taux_mut_seq = 0.1\n",
    "  - taux de séquences mutantes dans la population : taux_mut_pop = 0.2\n",
    "  - nombre max de cycles de reproductions : nb_cycles = 3000\n",
    "\n",
    "\n",
    "- Pour tester une séquence, il suffit de balayer le tableau et de lancer l'action correspondante..(en la transformant en un tableau de réel (1 -> [1.0])\n",
    "- Les 4 meilleures séquences (11,22,33,44) se reproduisent entre elles, donnant donc 12 fils : 12, 13, 14, 21, 23, 24, 31, 32, 34, 41, 42, 43.\n",
    "- Idéalement, un filtre doit permettre de supprimer les séquences identiques qui pourraient venir des croisements et des mutations.\n",
    "\n",
    "- Tester votre algo sur le nb de générations et afficher le rendu toutes les 100 générations et bien sûr le rendu de la meilleure séquence finale.\n",
    "  - (uniquement la position finale *colab*)\n",
    "  - (sous forme d'animation sous autre outil)\n",
    "\n",
    "\n",
    "- ***NB:*** \n",
    "  - Au plus simple il est possible d'utiliser une population (liste) de couples [sequence, utilite] où l'utilité serait la distance en x."
   ]
  },
  {
   "cell_type": "code",
   "execution_count": 58,
   "metadata": {},
   "outputs": [
    {
     "name": "stdout",
     "output_type": "stream",
     "text": [
      "[array([-1,  1,  1,  0, -1,  0, -1,  0, -1,  1, -1,  1,  1,  1,  1, -1,  1,\n",
      "       -1,  0,  0,  0,  1,  0,  1,  1, -1,  0,  0,  0, -1,  1,  0, -1, -1,\n",
      "        0,  0,  1, -1,  1, -1, -1, -1,  0,  0,  0, -1,  0, -1,  1,  0, -1,\n",
      "       -1,  1,  0,  0, -1, -1,  0,  1,  1,  0,  1, -1,  0, -1, -1,  1,  0,\n",
      "       -1,  0,  1, -1, -1,  1, -1,  1,  0,  0, -1, -1]), 0]\n",
      "arrive en x= -0.53 , fini= False\n",
      "couple [actions, arrivee] =  [array([-1,  1,  1,  0, -1,  0, -1,  0, -1,  1, -1,  1,  1,  1,  1, -1,  1,\n",
      "       -1,  0,  0,  0,  1,  0,  1,  1, -1,  0,  0,  0, -1,  1,  0, -1, -1,\n",
      "        0,  0,  1, -1,  1, -1, -1, -1,  0,  0,  0, -1,  0, -1,  1,  0, -1,\n",
      "       -1,  1,  0,  0, -1, -1,  0,  1,  1,  0,  1, -1,  0, -1, -1,  1,  0,\n",
      "       -1,  0,  1, -1, -1,  1, -1,  1,  0,  0, -1, -1]), -0.5338827]\n"
     ]
    }
   ],
   "source": [
    "#exemple :  \n",
    "env.reset(seed=123, options={\"x_init\": 0., \"y_init\": 0.})\n",
    "tab = np.random.randint(-1, 2, 80) \n",
    "couple = [tab, 0]\n",
    "print(couple)\n",
    "for a in couple[0]:\n",
    "    obs, reward, done, stopped, info = env.step([a])\n",
    "print(\"arrive en x=\", round(obs[0],2), \", fini=\", done)\n",
    "couple[1] = obs[0]\n",
    "print(\"couple [actions, arrivee] = \", couple)"
   ]
  },
  {
   "cell_type": "markdown",
   "metadata": {},
   "source": [
    "### Bonus : \n",
    "- Adapter la récompense pour favoriser les séquences qui atteignent le but en un minimum d'actions utiles (0 étant considéré comme une action inutile)"
   ]
  },
  {
   "cell_type": "markdown",
   "metadata": {},
   "source": [
    "---\n",
    "## Eléments de solution\n",
    "\n",
    "Définissons des \"constantes\" : taille de la population, nb de cycles de vie, taille d'une séquence, taux de séquence mutante et taux de mutation dans une séquence :"
   ]
  },
  {
   "cell_type": "code",
   "execution_count": 56,
   "metadata": {},
   "outputs": [],
   "source": [
    "TAILLE_POP = 500\n",
    "NB_CYCLES = 3000\n",
    "TAILLE_SEQ = 100\n",
    "TAUX_MUT_SEQ = 0.05\n",
    "TAUX_MUT_POP = 0.1"
   ]
  },
  {
   "cell_type": "markdown",
   "metadata": {},
   "source": [
    "### Séquence\n",
    "Tout d'abord, en algo génétique, il faut définir ce qu'est une *séquence*..\n",
    "  - Ici une *séquence* est une suite d'action définie par un tableau de valeurs entières -1, 0 ou 1.\n",
    "  - -1 correspond à une marche arrière à 100%, 0 au point mort et 1 à une marche avant à 100%\n",
    "\n",
    "#### Nettoyage de séquence\n",
    "Pour plus de réalisme, on va éviter les alternances de -1 et 1... Passer d'une marche avant à une marche arrière (ou inversement) obligera à passer par un point mort (0)"
   ]
  },
  {
   "cell_type": "code",
   "execution_count": 57,
   "metadata": {},
   "outputs": [],
   "source": [
    "def clean_seq(seq, taille=80):\n",
    "    \"\"\"modifie les valeurs de sorte de ne pas avoir les valeurs -1 et 1 consécutives\n",
    "    dans la séquence de taille donné (obligation de passer par une étape 'point mort'\n",
    "     quand entre marche arriere et marche avant\"\"\"\n",
    "    previous = seq[0]\n",
    "    for i in range(1, taille):\n",
    "        if (previous == -1) and (seq[i] == 1): seq[i] = 0\n",
    "        if (previous == 1) and (seq[i] == -1): seq[i] = 0\n",
    "        previous = seq[i]"
   ]
  },
  {
   "cell_type": "markdown",
   "metadata": {},
   "source": [
    "#### Création d'une population\n",
    "Posséder plusieurs fois la même séquence dans la poopulation n'est pas intéressant ici.. \n",
    "La fonction `create_pop` crée une liste contenant un certain nombre de séquences différentes, leurs récompenses (0 initialement) et le fait qu'elles aient atteint leur but ou non (Faux initialement).\n",
    "\n",
    "Exemple, si s=[-1, -1, 0, 1, 1] est une séquence, un élément de la population est un tuple (s, 0.0, False) initialement"
   ]
  },
  {
   "cell_type": "code",
   "execution_count": 10,
   "metadata": {},
   "outputs": [],
   "source": [
    "def create_pop(taille=80, nb=500):\n",
    "    \"\"\"crée et retourne une population de nb séquences d'une taille donné\"\"\"\n",
    "    #TODO: a remplir\n",
    "    return pop"
   ]
  },
  {
   "cell_type": "code",
   "execution_count": 11,
   "metadata": {},
   "outputs": [
    {
     "data": {
      "text/plain": [
       "[[array([-1,  0,  0,  0, -1,  0,  1,  0, -1,  0]), 0.0, False],\n",
       " [array([ 1,  0,  0,  0,  0, -1,  0, -1,  0,  1]), 0.0, False],\n",
       " [array([-1, -1, -1,  0,  1,  1,  0,  0,  1,  0]), 0.0, False],\n",
       " [array([-1, -1, -1,  0,  1,  0,  1,  0, -1,  0]), 0.0, False],\n",
       " [array([1, 1, 0, 1, 1, 0, 0, 1, 0, 1]), 0.0, False]]"
      ]
     },
     "execution_count": 11,
     "metadata": {},
     "output_type": "execute_result"
    }
   ],
   "source": [
    "create_pop(10, 5)"
   ]
  },
  {
   "cell_type": "markdown",
   "metadata": {},
   "source": [
    "#### Ajout d'un élément\n",
    "La reproduction de séquences en génère de nouvelles, qui se trouvent parfois déjà dans la population.\n",
    "La fonction suivante ajoute une séquence uniquement si elle n'est pas déjà présente.\n",
    "\n",
    "*Aide : la fonction ``numpy.array_equal(tab1, tab2)'' retourne vrai si les contenus de tab1 & tab2 sont identiques.*"
   ]
  },
  {
   "cell_type": "code",
   "execution_count": 12,
   "metadata": {},
   "outputs": [],
   "source": [
    "def insere_seq(seq, pop):\n",
    "    \"\"\"insère une séquence dans la population si elle n'est pas déjà présente\"\"\"\n",
    "    exist = False\n",
    "    j = 0\n",
    "    n = len(pop)\n",
    "    while (j < n) and not exist:\n",
    "        exist = np.array_equal(seq[0], pop[j][0])\n",
    "        j += 1\n",
    "    if not exist: pop.append(seq)"
   ]
  },
  {
   "cell_type": "markdown",
   "metadata": {},
   "source": [
    "\n",
    "#### Evaluation d'une séquence\n",
    "Effectuer une action dans l'environnement `MountainCarContinuous-v0` fournit 4 sorties : \n",
    "  - l'observation (position x, vitesse v)\n",
    "  - récompense (utilité)\n",
    "  - atteinte de l'objectif\n",
    "  - information éventuelle\n",
    "Ici, nous définissons notre propre fonction de récompense/d'utilité : elle est basée sur la position x (objectif x> 0.45) et sur une vitesse minimale arrivée à ce point..\n",
    "L'intérêt étant d'arriver au point demandé (le drapeau) sans vitesse excessive..\n",
    "\n",
    "A la fin de la série d'action, nous mesurons donc la position $x \\in [-1.2, 0.6]$, la vitesse $v \\in [-0.07 , 0.07]$, donnons une valeur de récompense sous la forme $u_{seq} = f(\\frac{x}{0.6} * (1-\\frac{v}{0.07}))$ et nous validons une séquence dont l'utilité est $> 0.8$ où le $x$ final est $\\geq 0.45$."
   ]
  },
  {
   "cell_type": "code",
   "execution_count": 13,
   "metadata": {},
   "outputs": [],
   "source": [
    "def reset():\n",
    "    \"\"\"reinitialise la position et la vitesse de la voiture\"\"\"\n",
    "    env.env.state = np.array([-0.5, 0])\n",
    "\n",
    "from math import exp\n",
    "\n",
    "###petite fonction sigmoide\n",
    "sigmoid = lambda x: 1 / (1 + exp(5 - 10*x))\n",
    "\n",
    "\n",
    "def eval_seq(trio):\n",
    "    \"\"\"evaluer une sequence composee d'une liste d'actions (trio[0]),\n",
    "    calcule et place l'utilite dans trio[1]\n",
    "    et le fait d'etre arrive à l'objectif dans trio[2]\"\"\"\n",
    "    reset()\n",
    "    ##TODO: à compléter\n",
    "    return trio[2]\n"
   ]
  },
  {
   "cell_type": "markdown",
   "metadata": {},
   "source": [
    "---\n",
    "### Population\n",
    "A la création de la population, il est nécessaire d'évaluer toutes les séquences."
   ]
  },
  {
   "cell_type": "code",
   "execution_count": 14,
   "metadata": {},
   "outputs": [],
   "source": [
    "def eval_pop(pop):\n",
    "    \"\"\"lance l'evaluation de chaque element de la population. s'arrete si une sequence rencontre un succes\"\"\"\n",
    "    done: bool = False\n",
    "    for trio in pop:\n",
    "        done = eval_seq(trio)\n",
    "        if done: break\n",
    "    return done"
   ]
  },
  {
   "cell_type": "markdown",
   "metadata": {},
   "source": [
    "#### Tri de la population\n",
    "Les séquences doivent être triées selon leurs utilités décroissantes. \n",
    "On utilise ici la méthode de tri de Python, en spécifiant le comparateur utilisé."
   ]
  },
  {
   "cell_type": "code",
   "execution_count": 15,
   "metadata": {},
   "outputs": [],
   "source": [
    "import functools\n",
    "\n",
    "##comparateur pour deux séquences sur base de leurs utilites\n",
    "### comp(seqA, seqB)\n",
    "### retourne > 0 si seqA[1] < seqB[1] (seqA sera place apres seqB)\n",
    "### retourne < 0 si seqA[1] > seqB[1] (seqA sera place avant seqB)\n",
    "### retourne 0  si seqA[1] = seqB[1]\n",
    "comp = lambda seqA, seqB: int(round(seqB[1]*10000-seqA[1]*10000))\n"
   ]
  },
  {
   "cell_type": "code",
   "execution_count": 16,
   "metadata": {},
   "outputs": [],
   "source": [
    "def sort_pop(pop):\n",
    "    \"\"\"retourne la liste de sequences triees\"\"\"\n",
    "    return sorted(pop, key=functools.cmp_to_key(comp))"
   ]
  },
  {
   "cell_type": "markdown",
   "metadata": {},
   "source": [
    "#### Croisement\n",
    "Le croisement de 2 séquences donne deux séquences filles, composées de la combinaison des moitiées de leurs parentes.\n",
    "Ces nouvelles séquences doivent être nettoyées, évaluées avant d'être éventuellement ajoutées à la population si des sosies ne sont pas déjà présents.\n"
   ]
  },
  {
   "cell_type": "code",
   "execution_count": 17,
   "metadata": {},
   "outputs": [],
   "source": [
    "def croisement(seqA, seqB):\n",
    "    \"\"\"retourne les 2 croisements des séquences seqA et seqB,\n",
    "    et le fait qu'un des croisement ait atteint l'objectif\"\"\"\n",
    "    done: bool = False\n",
    "    ##TODO: à compléter\n",
    "    return couple1, couple2, done"
   ]
  },
  {
   "cell_type": "markdown",
   "metadata": {},
   "source": [
    "Il est plus intéressant parfois d'effectuer des croisments entre les n premiers de la liste."
   ]
  },
  {
   "cell_type": "code",
   "execution_count": 18,
   "metadata": {},
   "outputs": [],
   "source": [
    "def croisements(pop, n=2):\n",
    "    \"\"\"lance le croisement parmis les n premiers membres de la population pop\n",
    "    retourne si un des croisement a atteint l'objectif\"\"\"\n",
    "    done: bool = False\n",
    "    for i in range(0, n-1):\n",
    "        for j in range(i+1, n):\n",
    "            fils1, fils2, ok = croisement(pop[i], pop[j])\n",
    "            done = done or ok\n",
    "            insere_seq(fils1, pop)\n",
    "            insere_seq(fils2, pop)\n",
    "    return done"
   ]
  },
  {
   "cell_type": "markdown",
   "metadata": {},
   "source": [
    "#### Mutation\n",
    "La mutation est l'élément essentiel pour qu'un algo génétique ne tombe pas dans un minimal/maxima local.\n",
    "La mutation est souvent guidée (des gènes sont désignés comme étant potentiellement mutant), mais ici la sélection sera aléatoire.\n",
    "Toutefois, le résultat de la mutation d'une séquence devra être \"nettoyé\"...\n"
   ]
  },
  {
   "cell_type": "code",
   "execution_count": 19,
   "metadata": {},
   "outputs": [],
   "source": [
    "def mut_seq(seq, nb):\n",
    "    \"\"\"effectue la mutation de nb elements de la sequence\n",
    "    réévalue la sequence et retourne si l'objectif a été atteint\"\"\"\n",
    "    ##TODO: a compléter\n",
    "\n",
    "    return eval_seq(seq)"
   ]
  },
  {
   "cell_type": "code",
   "execution_count": 20,
   "metadata": {},
   "outputs": [],
   "source": [
    "def mut_pop(pop, nb_seq, nb_genes):\n",
    "    \"\"\"effectue la mutation de nb elements de la population\n",
    "    et retourne si l'objectif a été atteint\"\"\"\n",
    "    done: bool = False\n",
    "    ##TODO: a compléter\n",
    "    return done"
   ]
  },
  {
   "cell_type": "markdown",
   "metadata": {},
   "source": [
    "---\n",
    "### Vie\n",
    "Donnons un peu de vie à cette population.\n",
    "Tout d'abord une fonction qui lance l'animation de l'environnement `MountainCarContinuous-v0` pour chaque action spécifiée (ne fonctionne pas sous collab)\n"
   ]
  },
  {
   "cell_type": "code",
   "execution_count": 21,
   "metadata": {},
   "outputs": [],
   "source": [
    "def affiche_actions(actions):\n",
    "    \"\"\"affiche l'animation résultant de la réalisation des actions\n",
    "    actions = tableau de valeurs entre -1, 0 et 1\"\"\"\n",
    "    reset()\n",
    "    obs = None\n",
    "    for a in actions:\n",
    "        obs, _, _, _ = env.step([float(a)])\n",
    "        # commenter la ligne ci-dessous si vous utilisez collab\n",
    "        env.render()\n",
    "    # et sous collab ajouter ceci pour dessiner l'etat a la fin des actions (hors de la boucle for)\n",
    "    #rendu = env.render(mode='rgb_array')\n",
    "    #plt.imshow(rendu)\n",
    "    print(f' arrive en {(100*obs[0]):.2f} avec une vitesse de {(obs[1]*1000):.2f}.')\n"
   ]
  },
  {
   "cell_type": "markdown",
   "metadata": {},
   "source": [
    "Maintenant, assemblons les codes précédents pour : \n",
    "  - créer une population\n",
    "  - répéter un certain temps, ou tant qu'une séquence n'a pas atteint lobjectif\n",
    "    - croisement\n",
    "    - mutation\n",
    "  - de plus ici, nous souhaitons afficher l'évolution des utilités des 5 meilleures séquences..\n"
   ]
  },
  {
   "cell_type": "code",
   "execution_count": 22,
   "metadata": {},
   "outputs": [],
   "source": [
    "import matplotlib.pyplot as plt\n",
    "\n",
    "def vie():\n",
    "    \"\"\" cree une population, et lance pour au moins NB_CYCLES un cycle croisement,\n",
    "    mutation et tri.\n",
    "    Affiche la meilleure solution tous les 100 cycles\n",
    "    Et trace au final l'évolution de la valuation des 5 meilleurs sequences\n",
    "    retourne la population triee et eventuellement le no de la meilleure sequence\"\"\"\n",
    "    env.state = -0.5\n",
    "    pop = create_pop(TAILLE_SEQ, TAILLE_POP)\n",
    "    done = eval_pop(pop)\n",
    "    nb_seq = int(TAILLE_POP * TAUX_MUT_POP)\n",
    "    nb_genes = int(TAILLE_SEQ * TAUX_MUT_SEQ)\n",
    "    i = 0\n",
    "    ## on veut tracer l'evolution des utilités des 5 meilleures\n",
    "    courbes = [[], [], [], [], []]\n",
    "    if not done:\n",
    "        for i in range(1, NB_CYCLES):\n",
    "            done = croisements(pop, 4)\n",
    "            if done: break\n",
    "            done = done or mut_pop(pop, nb_seq, nb_genes)\n",
    "            pop = sort_pop(pop)\n",
    "            if done: break\n",
    "            for j in range(0, 5): courbes[j].append(pop[j][1])\n",
    "            if i%100 == 0:\n",
    "                print(\"les 5 meilleures valeurs = \", end=\"\")\n",
    "                for j in range(0, 5): print(f'{pop[j][1]:.3f}', end=\", \")\n",
    "                print()\n",
    "                actions = pop[0][0]\n",
    "                print(\"la 1ere sequence \", end=\"\")\n",
    "                affiche_actions(actions)\n",
    "    print(\"fin au bout de \", i, \" itérations...\")\n",
    "    ##retrouver la séquence qui a obtenu le succes\n",
    "    i = 0\n",
    "    if done:\n",
    "        done = False\n",
    "        while not done and (i < len(pop)):\n",
    "            done = pop[i][2]\n",
    "            if not done: i = i + 1\n",
    "    actions = pop[i][0]\n",
    "    affiche_actions(actions)\n",
    "    print(actions)\n",
    "    ## afficher l'évolution des utilités des 5 meilleures séquences\n",
    "    plt.figure(figsize=(9, 9))\n",
    "    xs = range(0, len(courbes[0]))\n",
    "    for i in range(0, 5):\n",
    "        plt.plot(xs, courbes[i])\n",
    "    plt.show()\n",
    "    return pop, i"
   ]
  },
  {
   "cell_type": "markdown",
   "metadata": {},
   "source": [
    "Lancer l'algorithme : "
   ]
  },
  {
   "cell_type": "code",
   "execution_count": 23,
   "metadata": {},
   "outputs": [
    {
     "name": "stdout",
     "output_type": "stream",
     "text": [
      "les 5 meilleures valeurs = 0.013, 0.011, 0.011, 0.007, 0.007, \n",
      "la 1ere sequence  arrive en 4.24 avec une vitesse de 15.11.\n",
      "les 5 meilleures valeurs = 0.058, 0.057, 0.057, 0.052, 0.051, \n",
      "la 1ere sequence  arrive en 13.83 avec une vitesse de 18.59.\n",
      "les 5 meilleures valeurs = 0.146, 0.143, 0.133, 0.133, 0.130, \n",
      "la 1ere sequence  arrive en 20.49 avec une vitesse de 22.44.\n",
      "les 5 meilleures valeurs = 0.297, 0.295, 0.288, 0.281, 0.265, \n",
      "la 1ere sequence  arrive en 26.85 avec une vitesse de 25.29.\n",
      "les 5 meilleures valeurs = 0.520, 0.507, 0.498, 0.496, 0.494, \n",
      "la 1ere sequence  arrive en 35.00 avec une vitesse de 27.47.\n",
      "les 5 meilleures valeurs = 0.683, 0.679, 0.675, 0.674, 0.665, \n",
      "la 1ere sequence  arrive en 37.70 avec une vitesse de 21.59.\n",
      "les 5 meilleures valeurs = 0.683, 0.679, 0.675, 0.674, 0.662, \n",
      "la 1ere sequence  arrive en 37.70 avec une vitesse de 21.59.\n",
      "les 5 meilleures valeurs = 0.737, 0.736, 0.711, 0.703, 0.680, \n",
      "la 1ere sequence  arrive en 39.12 avec une vitesse de 19.73.\n",
      "les 5 meilleures valeurs = 0.793, 0.792, 0.779, 0.758, 0.756, \n",
      "la 1ere sequence  arrive en 44.41 avec une vitesse de 21.99.\n",
      "les 5 meilleures valeurs = 0.805, 0.798, 0.793, 0.792, 0.790, \n",
      "la 1ere sequence  arrive en 41.99 avec une vitesse de 18.44.\n",
      "les 5 meilleures valeurs = 0.805, 0.793, 0.792, 0.790, 0.781, \n",
      "la 1ere sequence  arrive en 41.99 avec une vitesse de 18.44.\n",
      "les 5 meilleures valeurs = 0.827, 0.817, 0.814, 0.811, 0.808, \n",
      "la 1ere sequence  arrive en 43.56 avec une vitesse de 18.52.\n",
      "fin au bout de  1219  itérations...\n",
      " arrive en 45.88 avec une vitesse de 21.08.\n",
      "[-1 -1 -1 -1 -1 -1 -1 -1 -1 -1 -1 -1 -1 -1 -1 -1 -1 -1  0  0 -1 -1 -1 -1\n",
      "  0  0  1  1  1  0  1  1  1  1  1  1  1  1  1  0  1  1  1  1  1  1  1  1\n",
      "  1  1  1  1  1  1  1  1  1  0  1  1  1  1  1  0  0  0 -1  0 -1 -1]\n"
     ]
    },
    {
     "data": {
      "image/png": "[encoded data removed]",
      "text/plain": [
       "<Figure size 648x648 with 1 Axes>"
      ]
     },
     "metadata": {
      "needs_background": "light"
     },
     "output_type": "display_data"
    }
   ],
   "source": [
    "##lancement du cycle de vie\n",
    "p, val = vie()"
   ]
  },
  {
   "cell_type": "code",
   "execution_count": null,
   "metadata": {},
   "outputs": [],
   "source": [
    "# pour clore l'environnement\n",
    "#env.close()"
   ]
  },
  {
   "cell_type": "markdown",
   "metadata": {},
   "source": [
    "Vous devriez obtenir une courbe comme ceci : \n",
    "![courbe d'évolution des utilités]( http://emmanuel.adam.free.fr/data/MoutainsCarContinuousGraphes.png)"
   ]
  },
  {
   "cell_type": "markdown",
   "metadata": {},
   "source": [
    "Les sauts sont des sauts d'évolution dûs aux mutations."
   ]
  },
  {
   "cell_type": "code",
   "execution_count": null,
   "metadata": {},
   "outputs": [],
   "source": []
  }
 ],
 "metadata": {
  "kernelspec": {
   "display_name": "Python 3 (ipykernel)",
   "language": "python",
   "name": "python3"
  },
  "language_info": {
   "codemirror_mode": {
    "name": "ipython",
    "version": 3
   },
   "file_extension": ".py",
   "mimetype": "text/x-python",
   "name": "python",
   "nbconvert_exporter": "python",
   "pygments_lexer": "ipython3",
   "version": "3.11.5"
  }
 },
 "nbformat": 4,
 "nbformat_minor": 4
}
