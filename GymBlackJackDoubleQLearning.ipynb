{
 "cells": [
  {
   "cell_type": "markdown",
   "metadata": {},
   "source": [
    "<a href=\"https://colab.research.google.com/github/EmmanuelADAM/IntelligenceArtificiellePython/blob/master/GymBlackJackDoubleQLearning.ipynb\" target=\"_parent\"><img src=\"https://colab.research.google.com/assets/colab-badge.svg\" alt=\"Open In Colab\"/></a>"
   ]
  },
  {
   "cell_type": "markdown",
   "metadata": {},
   "source": [
    "# Machine Learning\n",
    "## Appliqué à [Gym.OpenAI](https://gym.openai.com)"
   ]
  },
  {
   "cell_type": "markdown",
   "metadata": {},
   "source": [
    "---\n",
    "## Test de ML par Q-Learning pour jouer au Black Jack\n",
    "\n",
    "**Utilisation de l'environnement gymnasium**\n",
    " (voir la page d'introduction à [gymnasium](https://www.gymlibrary.dev/))."
   ]
  },
  {
   "cell_type": "markdown",
   "metadata": {},
   "source": [
    "#### Si besoin, installer gymnasium"
   ]
  },
  {
   "cell_type": "code",
   "execution_count": 2,
   "metadata": {},
   "outputs": [],
   "source": [
    "#!pip install gymnasium "
   ]
  },
  {
   "cell_type": "markdown",
   "metadata": {
    "tags": []
   },
   "source": [
    "----\n",
    "#### L'environnement Taxi"
   ]
  },
  {
   "cell_type": "code",
   "execution_count": 3,
   "metadata": {},
   "outputs": [],
   "source": [
    "import gymnasium as gym"
   ]
  },
  {
   "cell_type": "markdown",
   "metadata": {},
   "source": [
    "---\n",
    "- Utiliser l'environnement `Blackjack`. Un jeu de carte où l'objectif est de cumuler les points des cartes pour se rapprocher au plus de la valeur 21, *sans la dépasser*.\n",
    " - un donneur tire une carte\n",
    " - le joueur peut décider : \n",
    "   - de la prendre (*hit*)\n",
    "       - si la somme dépasse 21, la partie est perdue\n",
    "   - d'arrêter (*stick*)\n",
    " - les valeurs des cartes sont : \n",
    "   - 11 points pour un As si la somme ne dépasse pas 21, 1 point sinon\n",
    "   - 10 points pour chaque figure (Valet, Dame, Roi)\n",
    "   - pour les cartes de 2 à 10, la valeur est la valeur de la carte.\n",
    "\n",
    "Il s'agit donc d'entraîner l'«ia», en fait l'algorithme de Q-Learning pour apprendre à prendre les meilleurs décisions en fonction des tirages pour maximiser les gains et éviter les échecs.\n",
    "\n",
    "- les actions sont :\n",
    "  - 0: arrêt (*stick*), 1: prendre (*hit*)\n",
    "\n",
    "- les récompenses sont : \n",
    "    - gain (black jack naturel (as puis 10 = 21)) : 1,5 point\n",
    "    - gain (somme joueur = 21 ou somme joueur > somme donneur en fin de partie) : 1 point\n",
    "    - échec (somme joueur > 21 ou somme joueur < somme donneur en fin de partie) : -1 point\n",
    "    - autres cas : 0 point"
   ]
  },
  {
   "cell_type": "markdown",
   "metadata": {},
   "source": [
    "---\n",
    "#### Etude de l'environnement"
   ]
  },
  {
   "cell_type": "code",
   "execution_count": 9,
   "metadata": {},
   "outputs": [
    {
     "name": "stdout",
     "output_type": "stream",
     "text": [
      "specification de l'environnement : \n",
      "espace d'actions :  Discrete(2)\n",
      "espace d'etats :  Tuple(Discrete(32), Discrete(11), Discrete(2))\n",
      "\t- somme des points joueurs borné par 32\n",
      "\t- valeur de la carte visible du donneur bornée par 11 points\n",
      "\t- potentiel as du joeur utilise en 11 ou non\n",
      "\n",
      "********l'etat initial change à chaque reset***** ici s=  ((18, 10, False), {})\n",
      "--> cela correspond à une somme initiale = 18, la carte du donneur lui rapporte 10 points, un as a été utilisé comme 11 = False\n"
     ]
    }
   ],
   "source": [
    "env = gym.make('Blackjack-v1', natural=False, sab=False, render_mode='rgb_array')\n",
    "#env = gym.make('Blackjack-v1', natural=False, sab=False, render_mode='human')\n",
    "\n",
    "print(\"specification de l'environnement : \")\n",
    "print(\"espace d'actions : \", env.action_space ) #ici 2 actions discrétisée\n",
    "print(\"espace d'etats : \", env.observation_space) \n",
    "print(\"\\t- somme des points joueurs borné par 32\")\n",
    "print(\"\\t- valeur de la carte visible du donneur bornée par 11 points\")\n",
    "print(\"\\t- potentiel as du joeur utilise en 11 ou non\")\n",
    "actions = (\"stopper\", \"prendre\")\n",
    "s = env.reset()\n",
    "#sur colab, on effectue pas de render, on affichera la carte retournée et la somme\n",
    "#sur un environnement local (jupyterlab, spyder, thonny, ....) on pourra bénéficier \n",
    "# d'un affichage graphique\n",
    "#env.render()\n",
    "print()\n",
    "print(\"********l'etat initial change à chaque reset***** ici s= \",s)\n",
    "somme = s[0][0]\n",
    "carte_tiree = s[0][1]\n",
    "as_utilise_comme_11 = s[0][2]\n",
    "print(f\"--> cela correspond à une somme initiale = {somme}, la carte du donneur lui rapporte {carte_tiree} points, un as a été utilisé comme 11 = {as_utilise_comme_11}\")\n"
   ]
  },
  {
   "cell_type": "markdown",
   "metadata": {},
   "source": [
    "---\n",
    "### Test des actions\n",
    "\n",
    "**Etat d'un jeu de black jack** est le suivant : \n",
    "- initialement, \n",
    "  - le donneur tire 2 cartes pour lui, 1 seule est visible\n",
    "  - le joueur reçoit 2 cartes faces visibles\n",
    "- à chaque coup (`step`), le joueur peut demander une carte ou arrêter\n",
    "  - s'il demande une carte, chaque nouvelle carte apparaît face visible\n",
    "  - s'il arrête, le donneur joue et tire entre 0 et n cartes pour s'approcher de 21 en dépassant le joueur\n",
    "\n",
    "\n",
    "Sous Gym, `step` permet donc d'effectuer une action. \n",
    "En retour la fonction retourne une observation sur l'état d'arrivée, sa récompense, son type (final ou non), et des informations.\n",
    "\n",
    "Avec la librairie gym, step retourne : \n",
    "  - observation = (somme des points joueur, carte visible donneur, as utilise pour 11 points),\n",
    "  - reward = récompense,\n",
    "  - done = vrai si état final atteint,\n",
    "  - truncated = vrai si état feuille non final (pas utilisé ici),\n",
    "  - info = probabilité de succès de l'action (pas utilisé ici).\n"
   ]
  },
  {
   "cell_type": "code",
   "execution_count": 27,
   "metadata": {},
   "outputs": [
    {
     "name": "stdout",
     "output_type": "stream",
     "text": [
      "********Nouveau tirage********\n",
      "--> Avec vos 2 cartes, vous avez 11 points, la carte visible du donneur lui rapporte 1 points, as utilise comme 11 = False\n",
      "Choisir une action.. \n"
     ]
    },
    {
     "name": "stdin",
     "output_type": "stream",
     "text": [
      "Arrêter (0) ou prendre une nouvelle carte (1) :  1\n"
     ]
    },
    {
     "name": "stdout",
     "output_type": "stream",
     "text": [
      "action choisie= prendre ; l'exécuter...\n",
      "(20, 1, False)\n",
      "--> nouvelle somme = 20, as utilise comme 11 = False\n",
      "Choisir une action.. \n"
     ]
    },
    {
     "name": "stdin",
     "output_type": "stream",
     "text": [
      "Arrêter (0) ou prendre une nouvelle carte (1) :  0\n"
     ]
    },
    {
     "name": "stdout",
     "output_type": "stream",
     "text": [
      "action choisie= stopper ; l'exécuter...\n",
      "(20, 1, False)\n",
      "--> nouvelle somme = 20, as utilise comme 11 = False\n",
      "--> cartes tirees par le donneur = [1, 6]\n",
      "recompense en fin de jeu=1.0, etat final (but)=True, etat feuille=False, info={}\n"
     ]
    }
   ],
   "source": [
    "s = env.reset()\n",
    "#sur colab, on effectue pas de render, on affichera la carte retournée et la somme\n",
    "#sur un environnement local (jupyterlab, spyder, thonny, ....) on pourra bénéficier \n",
    "# d'un affichage graphique\n",
    "#env.render()\n",
    "\n",
    "print(\"********Nouveau tirage********\")\n",
    "somme = s[0][0]\n",
    "carte_tiree = s[0][1]\n",
    "as_utilise_comme_11 = s[0][2]\n",
    "print(f\"--> Avec vos 2 cartes, vous avez {somme} points, la carte visible du donneur lui rapporte {carte_tiree} points, as utilise comme 11 = {as_utilise_comme_11}\")\n",
    "\n",
    "fin = False\n",
    "while not fin:\n",
    "    print(\"Choisir une action.. \")\n",
    "    a = int(input(\"Arrêter (0) ou prendre une nouvelle carte (1) : \"))\n",
    "    print(\"action choisie=\",actions[a],\"; l'exécuter...\")\n",
    "    #on recupère des valeurs en retour\n",
    "    new_s, reward, done, truncated, info = env.step(a)\n",
    "    somme = new_s[0]\n",
    "    carte_tiree = new_s[1]\n",
    "    as_utilise_comme_11 = new_s[2]\n",
    "    print(new_s)\n",
    "    print(f\"--> nouvelle somme = {somme}, as utilise comme 11 = {as_utilise_comme_11}\")\n",
    "    env.render()\n",
    "    fin = done \n",
    "\n",
    "print(f\"--> cartes tirees par le donneur = {env.dealer}\")\n",
    "print(f\"recompense en fin de jeu={reward}, etat final (but)={done}, etat feuille={truncated}, info={info}\")"
   ]
  },
  {
   "cell_type": "markdown",
   "metadata": {},
   "source": [
    "---\n",
    "### <font color=\"red\">Résolution</font>\n"
   ]
  },
  {
   "cell_type": "markdown",
   "metadata": {},
   "source": [
    "***Basez vous sur les exemples vus en TDs pour implémenter le Q-Learning, et le Double-Q-Learning***"
   ]
  },
  {
   "cell_type": "markdown",
   "metadata": {},
   "source": [
    "#### Matrice Q ?\n",
    "Comment définir la matrice Q ?\n",
    "  - en fonction de la somme des points des cartes jouées, il faut décider de poursuivre ou non\n",
    "  - on ne doit pas dépasser 21 points\n",
    "  - on pourrait définir une matrice de 21 lignes et 2 colonnes (prendre ou non)\n",
    "  \n",
    "Affinage ? \n",
    "  - on peut décider de poursuivre ou non en fonction des cartes reçues (il est moins fréquent de tirer une figure qu'une carte basse), ou en fonction de la carte du donneur...\n",
    "  - la matrice Q serait alors augmentée"
   ]
  },
  {
   "cell_type": "markdown",
   "metadata": {},
   "source": [
    "-----\n",
    "***Basez vous sur les exemples vus en TDs pour dessiner la courbe d'évolution des scores pour le Q-Learning, et le Double-Q-Learning***"
   ]
  },
  {
   "cell_type": "code",
   "execution_count": 1,
   "metadata": {},
   "outputs": [],
   "source": [
    "import matplotlib.pyplot as plt\n",
    "def plot_frequence_sol(solutions_list):\n",
    "    \"\"\"\n",
    "    dessine la frequence de solution trouvees\n",
    "    Parameters\n",
    "    ----------\n",
    "    solutions : liste des solutions\n",
    "\n",
    "    Returns\n",
    "    -------\n",
    "    None.\n",
    "\n",
    "    \"\"\"\n",
    "    xs = [x[0] for x in solutions_list]\n",
    "    ys = [y[1] for y in solutions_list]\n",
    "    plt.figure(figsize=(10, 4))\n",
    "    plt.plot(xs, ys, '.')\n",
    "    plt.show()\n",
    "\n"
   ]
  },
  {
   "cell_type": "code",
   "execution_count": 14,
   "metadata": {},
   "outputs": [
    {
     "data": {
      "image/png": "[encoded data removed]",
      "text/plain": [
       "<Figure size 1000x400 with 1 Axes>"
      ]
     },
     "metadata": {},
     "output_type": "display_data"
    }
   ],
   "source": [
    "plot_frequence_sol(solutions)"
   ]
  },
  {
   "cell_type": "markdown",
   "metadata": {},
   "source": [
    "np.round(QA, 3)"
   ]
  },
  {
   "cell_type": "markdown",
   "metadata": {},
   "source": [
    "Plus on relance les tests, plus on a de chance de trouver une solution peu coûteuse apparaît..."
   ]
  }
 ],
 "metadata": {
  "kernelspec": {
   "display_name": "Python 3 (ipykernel)",
   "language": "python",
   "name": "python3"
  },
  "language_info": {
   "codemirror_mode": {
    "name": "ipython",
    "version": 3
   },
   "file_extension": ".py",
   "mimetype": "text/x-python",
   "name": "python",
   "nbconvert_exporter": "python",
   "pygments_lexer": "ipython3",
   "version": "3.9.16"
  }
 },
 "nbformat": 4,
 "nbformat_minor": 4
}
