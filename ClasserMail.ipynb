{
 "cells": [
  {
   "cell_type": "markdown",
   "metadata": {
    "colab_type": "text",
    "id": "3qF8xmpAdACr"
   },
   "source": [
    "<a href=\"https://colab.research.google.com/github/EmmanuelADAM/IntelligenceArtificiellePython/blob/master/ClasserMail.ipynb\" target=\"_parent\"><img src=\"https://colab.research.google.com/assets/colab-badge.svg\" alt=\"Open In Colab\"/></a>"
   ]
  },
  {
   "cell_type": "markdown",
   "metadata": {},
   "source": [
    "# Classement de mails par réseaux de neurones\n",
    "\n",
    "Dans cet exercice, le but est de créer un systèmes très basique de classement de mails par Réseaux de Neurones en se basant uniquement sur des mots clés trouvés dans les sujets de mails.\n",
    "\n",
    "Une version plus évoluée étudierait aussi le texte transformé en sac de mots.\n"
   ]
  },
  {
   "cell_type": "markdown",
   "metadata": {},
   "source": [
    "---\n",
    "*Devant la masse de mails reçus, un système de classement automatique basé sur les mots clés des sujets pourrait aider à les gérer.*\n",
    "\n",
    "*Il s’agit donc ici de définir un réseau de neurones et de lui faire apprendre à classer des textes.*\n",
    "\n",
    "---"
   ]
  },
  {
   "cell_type": "markdown",
   "metadata": {},
   "source": [
    "Les exemples d’apprentissage seront constitués :\n",
    "- d’une série de valeurs indiquant si oui ou non un terme est présent dans le texte analysé,\n",
    "- de la réponse attendue (classement dans une des trois catégories choisies)\n",
    "\n",
    "Voici les exemples d’apprentissage :\n",
    "\n",
    "\n",
    "| meilleur   |  cadeau  |  loto  |  gratuit  |  algo  |  agent  | java | code | rando | restaurant | cine | vacances | *spam* | *perso* | *boulot* |\n",
    "|:-:|:-:|:-:|:-:|:-:|:-:|:-:|:-:|:-:|:-:|:-:|:-:|:-:|:-:|:-:| \n",
    "| 1 | 1 |  | 1 |  |  |  |  |  |  |  |  | 1 |  | | \n",
    "|  |  | 1 |  |  |  |  |  |  |  |  |  | 1 |  | | \n",
    "|  | 1 |  |  |  |  |  |  |  | 1 |  |  | 1 |  | | \n",
    "|  | 1 |  | 1 |  |  |  |  |  |  |  |  | 1 |  | | \n",
    "|  |  |  | 1 |  |  |  |  |  |  |  | 1 | 1 |  | | \n",
    "|  |  | 1 |  |  |  |  |  |  |  |  | 1 | 1 |  | | \n",
    "|  | 1 |  |  |  |  |  | 1 |  |  |  |  |  | 1 | | \n",
    "|  |  |  |  |  |  |  |  |  |  | 1 |  |  | 1 | | \n",
    "| 1 |  |  |  |  |  |  |  |  | 1 |  |  |  | 1 | | \n",
    "| 1 |  |  |  |  |  |  |  |  |  | 1 |  |  | 1 | | \n",
    "|  |  |  |  |  |  |  |  | 1 |  |  |  |  | 1 | | \n",
    "|  |  |  |  | 1 |  |  | 1 |  |  |  |  |  |  | 1| \n",
    "|  |  |  |  |  | 1 |  |  |  |  |  |  |  |  | 1| \n",
    "| 1 |  |  |  | 1 |  |  |  |  |  |  |  |  |  | 1| \n",
    "|  |  |  |  | 1 |  | 1 |  |  |  |  |  |  |  | 1| \n",
    "\n"
   ]
  },
  {
   "cell_type": "markdown",
   "metadata": {
    "colab_type": "text",
    "id": "JZpJB9iOdRS3"
   },
   "source": [
    "---\n",
    "## Importer les librairies"
   ]
  },
  {
   "cell_type": "code",
   "execution_count": 2,
   "metadata": {
    "colab": {},
    "colab_type": "code",
    "id": "odDg9S7xdFsv"
   },
   "outputs": [],
   "source": [
    "import tensorflow.keras as keras\n",
    "from tensorflow.keras.models import Sequential\n",
    "from tensorflow.keras.layers import Dense\n",
    "import numpy as np\n",
    "#pour les graphiques\n",
    "import matplotlib.pyplot as plt\n",
    "#SI bug plus loin lors du dessin des graphiques, ajouter ces 2 lignes\n",
    "import os\n",
    "os.environ['KMP_DUPLICATE_LIB_OK']='True'"
   ]
  },
  {
   "cell_type": "markdown",
   "metadata": {
    "colab_type": "text",
    "id": "XN8WXXdTdXx0"
   },
   "source": [
    "---\n",
    "\n",
    "### Définir les entrées et sorties attendues\n",
    "\n",
    "Les entrées correspondent aux présente des mots clés par sujet de mail.\n",
    "Ici, les entrées sont constituées de 15 lignes de  12 valeurs 0,1. \n",
    "Les sorties d'apprentissage correspondent donc à 15 lignes de 3 valeurs 0,1 : le fait que chaque entrée soit une des 3 catégories.\n",
    "\n",
    "On choisit de garder 70% de ces lignes en exemples d'apprentissage.\n",
    "Les entrées et sorties de validations sont donc constitués des 40% restants\n"
   ]
  },
  {
   "cell_type": "code",
   "execution_count": 3,
   "metadata": {
    "colab": {},
    "colab_type": "code",
    "id": "A1mjGN2Bb5Ki"
   },
   "outputs": [],
   "source": [
    "#définissez les entrées sorties sur base du tableau\n",
    "tableau = np.array([\n",
    "[ ...],\n",
    "...,\n",
    "[ ...]], float)\n",
    "\n",
    "keywords = (\"meilleur\", \"cadeau\", \"loto\", \"gratuit\", \"algo\", \"agent\", \"java\", \"code\", \"rando\", \"restaurant\", \"cine\", \"vacances\")    \n",
    "nb_lignes = tableau.shape[0]\n",
    "nb_val = len(keywords)\n"
   ]
  },
  {
   "cell_type": "code",
   "execution_count": null,
   "metadata": {},
   "outputs": [],
   "source": [
    "#on prend un pourcentage de lignes pour apprendre, le reste pour valider\n",
    "#on mélange les lignes pour pouvoir avoir des exemples d'apprentissage\n",
    "# et de validation homogènes (au cas où les exemples auraient été saisis dans un ordre précis)\n",
    "# mais le mieux est de mieux choisir ces exemples qui ont un impact important dans la qualité de l'apprentissage\n",
    "np.random.shuffle(tableau)\n",
    "\n",
    "#on décide que 80% des lignes sont des lignes d'apprentissage\n",
    "nb_lignes_app = nb_lignes * 50 // 100\n",
    "nb_lignes_val = nb_lignes - nb_lignes_app\n",
    "\n",
    "# les nb_val premieres colonnes sont les entrees \n",
    "# les 3 dernieres colonne sont les sorties\n",
    "\n",
    "#on remplit les entrees et sorties d'apprentissage\n",
    "entrees_app = #A FAIRE\n",
    "sorties_app = #A FAIRE\n",
    "\n",
    "#on remplit les entrees et sorties de validation\n",
    "entrees_val = #A FAIRE\n",
    "sorties_val = #A FAIRE"
   ]
  },
  {
   "cell_type": "markdown",
   "metadata": {
    "colab_type": "text",
    "id": "SC-1MnShdwe0"
   },
   "source": [
    "---\n",
    "\n",
    "### Choisir le modèle de réseau\n",
    "- ici les couches sont séquentielles"
   ]
  },
  {
   "cell_type": "code",
   "execution_count": 17,
   "metadata": {
    "colab": {},
    "colab_type": "code",
    "id": "WbST4EmqcCdJ"
   },
   "outputs": [],
   "source": [
    "model = Sequential()"
   ]
  },
  {
   "cell_type": "markdown",
   "metadata": {
    "colab_type": "text",
    "id": "Jo5Ej8kkd8nh"
   },
   "source": [
    "---\n",
    "\n",
    "### Définir l'architecture du réseau\n",
    "Choisissez la struture du réseau, le nb de couches cachées, etc.\n",
    "- une première couche composée de \n",
    "  - 12 neurones en entrée , plus le neurone BIAS \n",
    "  - 8 neurones en sortie \n",
    "- 2 couches intermédiaires \n",
    "- une couche composée\n",
    "  - x neurones en entrée (ceux de la couche précédente) et \n",
    "  - de 3 neurone en sortie (les 3 catégories)\n"
   ]
  },
  {
   "cell_type": "code",
   "execution_count": 18,
   "metadata": {
    "colab": {},
    "colab_type": "code",
    "id": "Vr6dcOJicGYM"
   },
   "outputs": [],
   "source": [
    "#une premiere couche constituée de 12 neurones en entrée, X en sortie\n",
    "# A DEFINIR\n",
    "#model.add(Dense(X, activation='tanh'))\n",
    "...\n",
    "#model.add(Dense(Y, activation='tanh'))\n",
    "\n",
    "#une derniere couche constituée de 3 neurones en sortie \n",
    "#model.add(Dense(3, activation='sigmoid'))\n"
   ]
  },
  {
   "cell_type": "markdown",
   "metadata": {
    "colab_type": "text",
    "id": "8L4LxSBWeaF1"
   },
   "source": [
    "---\n",
    "\n",
    "### Compiler le  réseau\n",
    "- ici, on précise que l'algo de correction d'erreur est *'adam'*, et que l'erreur calculée est la moyenne des valeurs absolues des erreurs commises. On indique également que l'on veut voir apparaître en plus la précision de l'apprentissage (accuracy).\n",
    "(vous pouvez chosir un autre optimizer et un autre clacul de loss)"
   ]
  },
  {
   "cell_type": "code",
   "execution_count": 19,
   "metadata": {
    "colab": {},
    "colab_type": "code",
    "id": "HlnG97g7cQKW"
   },
   "outputs": [],
   "source": [
    "model.compile(optimizer='adam', loss='MSE',  metrics=['accuracy'])"
   ]
  },
  {
   "cell_type": "markdown",
   "metadata": {
    "colab_type": "text",
    "id": "rZ4IQ-bIdtN1"
   },
   "source": [
    "---\n",
    "\n",
    "### Entraîner le réseau \n",
    "- ici on  le fait  'parler' (verbose=1), et on lance xx cycles d'apprentissage (epochs à préciser)\n"
   ]
  },
  {
   "cell_type": "code",
   "execution_count": 20,
   "metadata": {
    "colab": {
     "base_uri": "https://localhost:8080/",
     "height": 148
    },
    "colab_type": "code",
    "id": "ddTla-J_cfz8",
    "outputId": "0fd3cade-cd59-41db-c5f6-0ea22e48cac0"
   },
   "outputs": [],
   "source": [
    "tests = model.fit(entrees_app, sorties_app, \n",
    "                    validation_data=(entrees_val, sorties_val),\n",
    "                    epochs=100, verbose=0)"
   ]
  },
  {
   "cell_type": "markdown",
   "metadata": {
    "colab_type": "text",
    "id": "I0zBYIALlDYp"
   },
   "source": [
    "---\n",
    "\n",
    "## Dessiner l'évolution de l'erreur et de la pertinence\n"
   ]
  },
  {
   "cell_type": "code",
   "execution_count": 21,
   "metadata": {
    "colab": {},
    "colab_type": "code",
    "id": "Z89vptAXcuDM"
   },
   "outputs": [
    {
     "data": {
      "text/plain": [
       "dict_keys(['loss', 'accuracy', 'val_loss', 'val_accuracy'])"
      ]
     },
     "execution_count": 21,
     "metadata": {},
     "output_type": "execute_result"
    }
   ],
   "source": [
    "history_dict = tests.history\n",
    "history_dict.keys()"
   ]
  },
  {
   "cell_type": "markdown",
   "metadata": {},
   "source": [
    "#### Tracer l'erreur d'entrainement / l'erreur de validation\n",
    "- L'erreur d'entrainement et l'erreur de validation doivent suivre des courbes quasi parallèle.\n",
    "- L'erreur d'entrainement doit être plus faible que l'erreur de validation\n",
    "    - si les courbes divergent, si la courbe de validation s'éloigne de la courbe d'entrainement, il y a alors un sur-apprentissage (overfitting) trop adapté aux données d'entrainement, sans doute trop poussé (diminuer les epochs?).\n",
    "    - s'il y a une erreur d'entrainement trop grande, il y a sous-apprentissage"
   ]
  },
  {
   "cell_type": "code",
   "execution_count": 22,
   "metadata": {},
   "outputs": [
    {
     "data": {
      "image/png": "[encoded data removed]",
      "text/plain": [
       "<Figure size 432x288 with 1 Axes>"
      ]
     },
     "metadata": {
      "needs_background": "light"
     },
     "output_type": "display_data"
    }
   ],
   "source": [
    "loss = history_dict['loss']\n",
    "val_loss = history_dict['val_loss']\n",
    "\n",
    "epochs = range(1, len(loss) + 1)\n",
    "\n",
    "# draw the loss evolution in blue\n",
    "plt.plot(epochs, loss, 'b-.', label='erreur sur exemples d\\'apprentissage')\n",
    "# draw the accuracy evolution in blue\n",
    "plt.plot(epochs, val_loss, 'r-.', label='erreur sur exemples de validation')\n",
    "plt.title('Erreur')\n",
    "plt.xlabel('Epochs')\n",
    "plt.ylabel('Erreur')\n",
    "plt.legend()\n",
    "\n",
    "plt.show()"
   ]
  },
  {
   "cell_type": "code",
   "execution_count": 23,
   "metadata": {},
   "outputs": [
    {
     "data": {
      "image/png": "[encoded data removed]",
      "text/plain": [
       "<Figure size 432x288 with 1 Axes>"
      ]
     },
     "metadata": {
      "needs_background": "light"
     },
     "output_type": "display_data"
    }
   ],
   "source": [
    "acc = history_dict['accuracy']\n",
    "val_acc = history_dict['val_accuracy']\n",
    "\n",
    "epochs = range(1, len(loss) + 1)\n",
    "\n",
    "# draw the loss evolution in blue\n",
    "plt.plot(epochs, acc, 'b-.', label='précision sur exemples d\\'apprentissage')\n",
    "# draw the accuracy evolution in blue\n",
    "plt.plot(epochs, val_acc, 'r-.', label='précision sur exemples de validation')\n",
    "plt.title('précision')\n",
    "plt.xlabel('Epochs')\n",
    "plt.ylabel('précision')\n",
    "plt.legend()\n",
    "\n",
    "plt.show()"
   ]
  },
  {
   "cell_type": "markdown",
   "metadata": {
    "colab_type": "text",
    "id": "N38spzckmMMJ"
   },
   "source": [
    "---\n",
    "## Utilisation du réseau\n",
    "A quelle catégorie rangeriez vous les textes contenant les mots suivants ?\n",
    "1. meilleur cine\n",
    "2. cine gratuit\n",
    "3. code agent\n",
    "4. code cine gratuit"
   ]
  },
  {
   "cell_type": "code",
   "execution_count": 24,
   "metadata": {},
   "outputs": [
    {
     "name": "stdout",
     "output_type": "stream",
     "text": [
      "[[0.35840833 0.5040214  0.2916327 ]\n",
      " [0.32850122 0.6397773  0.3643341 ]\n",
      " [0.58534    0.22825307 0.5723469 ]\n",
      " [0.4262822  0.44707325 0.49131986]]\n"
     ]
    }
   ],
   "source": [
    "entreesTests = np.array([\n",
    "[,,,,,,,,,,,],\n",
    "    #A DEFINIR\n",
    "[,,,,,,,,,,,]], float)\n",
    "predictions = model.predict(entreesTests)\n",
    "print(predictions)"
   ]
  },
  {
   "cell_type": "code",
   "execution_count": null,
   "metadata": {},
   "outputs": [],
   "source": []
  }
 ],
 "metadata": {
  "colab": {
   "collapsed_sections": [],
   "name": "TestOUX.ipynb",
   "provenance": [],
   "version": "0.3.2"
  },
  "kernelspec": {
   "display_name": "Python 3 (ipykernel)",
   "language": "python",
   "name": "python3"
  },
  "language_info": {
   "codemirror_mode": {
    "name": "ipython",
    "version": 3
   },
   "file_extension": ".py",
   "mimetype": "text/x-python",
   "name": "python",
   "nbconvert_exporter": "python",
   "pygments_lexer": "ipython3",
   "version": "3.9.7"
  }
 },
 "nbformat": 4,
 "nbformat_minor": 4
}
