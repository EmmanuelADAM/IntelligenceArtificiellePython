{
 "cells": [
  {
   "cell_type": "markdown",
   "metadata": {
    "colab_type": "text",
    "id": "view-in-github"
   },
   "source": [
    "<a href=\"https://colab.research.google.com/github/EmmanuelADAM/IntelligenceArtificiellePython/blob/master/bienEtreFloue.ipynb\" target=\"_parent\"><img src=\"https://colab.research.google.com/assets/colab-badge.svg\" alt=\"Open In Colab\"/></a>"
   ]
  },
  {
   "cell_type": "markdown",
   "metadata": {
    "colab_type": "text",
    "id": "e6HNpchpt_jH"
   },
   "source": [
    "# Recommendation floue de films avec skfuzzy\n",
    "\n",
    "Pour concevoir une appli de prévision du bien-être physique d'une personne, important pour la santé physique et mentale, à partir d'indicateur sur l'alimentation, l'exercice physique, le sommeil. \n",
    "Voici des règles que l'on souhaiterait implémenter : \n",
    "- Régles basées sur l'alimentation :\n",
    "  - Alim1. **Si** l'alimentation est excellente *et* l'exercice est intense, **alors** le bien-être physique est excellent.\n",
    "  - Alim2. **Si** l'alimentation est excellente *et* le sommeil est bon, **alors** le bien-être physique est très bon.\n",
    "  - Alim3. **Si** l'alimentation est mauvaise, mais l'exercice est modéré *et* le sommeil est bon, **alors** le bien-être physique est moyen.\n",
    "  - Alim4. **Si** l'alimentation est mauvaise *et* l'exercice est faible, **alors** le bien-être physique est mauvais.\n",
    "\n",
    "- Régles basées sur l'exercice physique :\n",
    "  - Phys1. **Si** l'exercice est intense *et* le sommeil est bon, **alors** le bien-être physique est excellent.\n",
    "  - Phys2. **Si** l'exercice est intense *et* l'alimentation est excellente, **alors** le bien-être physique est très bon.\n",
    "  - Phys3. **Si** l'exercice est faible *et* le sommeil est mauvais, **alors** le bien-être physique est mauvais.\n",
    "\n",
    "- Régles basées sur le sommeil :\n",
    "  - Somm1. **Si** le sommeil est bon *et* l'alimentation est excellente, **alors** le bien-être physique est très bon.\n",
    "  - Somm2. **Si** le sommeil est mauvais *et* l'alimentation est mauvaise, **alors** le bien-être physique est mauvais.\n",
    "  - Somm3. **Si** le sommeil est bon, mais l'exercice est faible, **alors** le bien-être physique est moyen.\n"
   ]
  },
  {
   "cell_type": "markdown",
   "metadata": {},
   "source": [
    "On utilise pour cela la librairie python skfuzzy\n",
    "*(si elle n'est pas présente, installez là avec cette ligne : !pip install -U scikit-fuzzy)*"
   ]
  },
  {
   "cell_type": "code",
   "execution_count": null,
   "metadata": {
    "colab": {},
    "colab_type": "code",
    "id": "g3uoNu42zTFR"
   },
   "outputs": [],
   "source": [
    " !pip install -U scikit-fuzzy"
   ]
  },
  {
   "cell_type": "code",
   "execution_count": 2,
   "metadata": {
    "colab": {},
    "colab_type": "code",
    "id": "dF-9pPMZw8RJ"
   },
   "outputs": [],
   "source": [
    "#les imports\n",
    "import numpy as np\n",
    "import skfuzzy as fuzz\n",
    "from skfuzzy import control as ctrl \n",
    "import matplotlib.pyplot as plt"
   ]
  },
  {
   "cell_type": "markdown",
   "metadata": {
    "colab_type": "text",
    "id": "i0QyHaFWu_eH"
   },
   "source": [
    "---\n",
    "## les antécédents et les conséquents\n",
    "- Les antécédents sont les variables utilisées pour prendre les décisions. Voici quelques caractéristiques : \n",
    "    - Alimentation : \"mauvaise\" (1 repas équilibré max par semaine, apport calorique élevé, faible variété), \"Moyenne\" (2-3 repas équilibrés par semaine, apport calorique modéré, variété moyenne), \"Excellente\" (plus de 3 repas équilibrés par semaine, apport calorique faible, grande variété).\n",
    "    - Exercice : \"Faible\" (moins de 2 séances de 30mn par semaine), \"Moyen\" (entre 3 et 4 séances par semaine), \"Intense\" (plus de 5 séances par semaine). \n",
    "    - Sommeil : \"Mauvais\" (moins de 6 heures par nuit, et/ou  horaires irréguliers), \"Moyen\" (entre 6 et 8 heures par nuit, horaires réguliers), \"Bon\" (plus de 8 heures, horaires réguliers).\n",
    "- le conséquent est ici le bien-être physique (de mauvais à excellent) dans un intervale de 0 à 10."
   ]
  },
  {
   "cell_type": "code",
   "execution_count": 3,
   "metadata": {
    "colab": {},
    "colab_type": "code",
    "id": "nLaNqEL6vlN7"
   },
   "outputs": [],
   "source": [
    "#### Antecedent et Consequent\n",
    "#TODO : En vous basant sur les exemples vus en TD, créez les univers pour les antécédents et conséquents "
   ]
  },
  {
   "cell_type": "markdown",
   "metadata": {
    "colab_type": "text",
    "id": "xgE_IUaIvjGm"
   },
   "source": [
    "----\n",
    "### Intervales\n",
    "Toujours en vous basant sur les exemples vus en TD,définissez ensuite les ensembles flous pour chacune de ces variables (vous utiliserez la forme de votre chois (bell, sigmoide, ......))\n"
   ]
  },
  {
   "cell_type": "code",
   "execution_count": 24,
   "metadata": {
    "colab": {},
    "colab_type": "code",
    "id": "OQ0KqQmRziZ7"
   },
   "outputs": [],
   "source": [
    "#note_bonne = .....\n",
    "#TODO: poursuivez"
   ]
  },
  {
   "cell_type": "markdown",
   "metadata": {
    "colab_type": "text",
    "id": "eCi-m6_C00Tm"
   },
   "source": [
    "On peut vérifier les courbes d'appartenance : "
   ]
  },
  {
   "cell_type": "code",
   "execution_count": null,
   "metadata": {},
   "outputs": [],
   "source": [
    "plt.plot(alimentation.universe, alimentation_excellente,  label='excellente')\n",
    "plt.plot(alimentation.universe, alimentation_moyenne,  label='moyenne')\n",
    "plt.plot(alimentation.universe, alimentation_mauvaise,  label='mauvaise')\n",
    "plt.legend()\n",
    "plt.show()"
   ]
  },
  {
   "cell_type": "markdown",
   "metadata": {
    "colab_type": "text",
    "id": "54v35bLl6ak5"
   },
   "source": [
    "----\n",
    "## Définition des règles floues\n",
    "Définissez les règles pré-citées en vous basant sur les exemples vus en TD. "
   ]
  },
  {
   "cell_type": "code",
   "execution_count": 35,
   "metadata": {
    "colab": {},
    "colab_type": "code",
    "id": "c0w9nC4w60-9"
   },
   "outputs": [],
   "source": [
    "\n",
    "#on écrit\n",
    "# rule1  =  ctrl.Rule( #TODO: à compléter\n",
    "  \n",
    "\n",
    "#on compile les règles\n",
    "bienetre_regles = ctrl.ControlSystem([rule1, ...... ])#(completer)\n",
    "\n",
    "bienetre_decision = ctrl.ControlSystemSimulation(bienetre_regles)"
   ]
  },
  {
   "cell_type": "markdown",
   "metadata": {
    "colab_type": "text",
    "id": "kALUmczA7X3T"
   },
   "source": [
    "----\n",
    "## Test\n",
    "Testons le système : \n",
    "- Une personne dormant 5h par nuit, faisant 4 séances de sports pendant la semaine, quelle serait son indice de bien etre ?\n",
    "- Une personne dormant 8h par nuit, faisant 1 séance max de sports pendant la semaine, et mangeant plutôt copieusement, quelle serait son indice de bien etre ?\n",
    "- Une personne dormant 7h par nuit, faisant 3 séance de sports pendant la semaine, et mangeant parfois équilibré, quelle serait son indice de bien etre ?\n"
   ]
  },
  {
   "cell_type": "markdown",
   "metadata": {},
   "source": [
    "----\n",
    "## Defuzzification\n",
    "Créez une méthode qui retourne non plus une valeur mais une recommendation textuelle..."
   ]
  }
 ],
 "metadata": {
  "colab": {
   "collapsed_sections": [],
   "include_colab_link": true,
   "name": "solution TD logique floue.ipynb",
   "provenance": [],
   "version": "0.3.2"
  },
  "kernelspec": {
   "display_name": "Python 3 (ipykernel)",
   "language": "python",
   "name": "python3"
  },
  "language_info": {
   "codemirror_mode": {
    "name": "ipython",
    "version": 3
   },
   "file_extension": ".py",
   "mimetype": "text/x-python",
   "name": "python",
   "nbconvert_exporter": "python",
   "pygments_lexer": "ipython3",
   "version": "3.9.6"
  }
 },
 "nbformat": 4,
 "nbformat_minor": 4
}
