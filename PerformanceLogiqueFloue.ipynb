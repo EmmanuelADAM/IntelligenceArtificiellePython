{
 "cells": [
  {
   "cell_type": "markdown",
   "metadata": {
    "colab_type": "text",
    "id": "view-in-github"
   },
   "source": [
    "<a href=\"https://colab.research.google.com/github/EmmanuelADAM/IntelligenceArtificiellePython/blob/master/PerformanceLogiqueFloue.ipynb\" target=\"_parent\"><img src=\"https://colab.research.google.com/assets/colab-badge.svg\" alt=\"Open In Colab\"/></a>"
   ]
  },
  {
   "cell_type": "markdown",
   "metadata": {
    "colab_type": "text",
    "id": "e6HNpchpt_jH"
   },
   "source": [
    "# Performance exam dans le flou avec skfuzzy\n",
    "\n",
    "Les *soft skills* (cooperation, QE (quotient émotionnel)) sont de plus en plus pris en compte avec les classiques *hard skills* (notes, QI (quotient intellectuel)). L'objectif est de pouvoir représenter des règles de type :\n",
    "- Si les notes sont faibles ET le temps d'étude est faible ET la participation est faible, ALORS la performance est faible.\n",
    "- Si les notes sont moyennes ET le temps d'étude est moyen ET la participation est moyenne, ALORS la performance est moyenne.\n",
    "- Si les notes sont élevées ET le temps d'étude est élevé ET la participation est élevée, ALORS la performance est élevée.\n",
    "- Si les notes sont faibles ET le temps d'étude est élevé ET la participation est élevée, ALORS la performance est moyenne.\n",
    "- Si les notes sont élevées ET le temps d'étude est faible ET la participation est élevée, ALORS la performance est élevée.\n",
    "- Si les notes sont moyennes ET le temps d'étude est faible ET la participation est faible, ALORS la performance est faible.\n",
    "- Si les notes sont faibles ET le temps d'étude est moyen ET la participation est élevée, ALORS la performance est moyenne.\n",
    "- Si les notes sont élevées ET le temps d'étude est élevé ET la participation est faible, ALORS la performance est moyenne.\n",
    "- Si les notes sont moyennes ET le temps d'étude est élevé ET la participation est faible, ALORS la performance est faible.\n",
    "\n",
    "où 'notes' est la moyenne des notes obtenues par la personne (entre 0 et 20), 'temps d'étude' est la durée du travail personnel par semaine (entre 0 et 30), 'participation' est la participation orale, au travail de groupe (entre 0 et 100%), et performance (entre 0 et 100) est la performance attendue de la personne dans le monde réel. \n",
    "\n",
    "\n",
    "Reprenez les exemples d'utilisation de la logique floue et adaptez les à ce problème\n",
    "\n",
    "On utilise pour cela la librairie python skfuzzy\n",
    "*(si elle n'est pas présente, installez là avec cette ligne : !pip install -U scikit-fuzzy)*"
   ]
  },
  {
   "cell_type": "code",
   "execution_count": null,
   "metadata": {
    "colab": {},
    "colab_type": "code",
    "id": "g3uoNu42zTFR"
   },
   "outputs": [],
   "source": [
    "%pip install -U scikit-fuzzy"
   ]
  },
  {
   "cell_type": "code",
   "execution_count": 78,
   "metadata": {
    "colab": {},
    "colab_type": "code",
    "id": "dF-9pPMZw8RJ"
   },
   "outputs": [],
   "source": [
    "#les imports\n",
    "import numpy as np\n",
    "import skfuzzy as fuzz\n",
    "from skfuzzy import control as ctrl \n"
   ]
  },
  {
   "cell_type": "markdown",
   "metadata": {
    "colab_type": "text",
    "id": "i0QyHaFWu_eH"
   },
   "source": [
    "## les antécédents et les conséquents\n",
    " "
   ]
  },
  {
   "cell_type": "code",
   "execution_count": 79,
   "metadata": {
    "colab": {},
    "colab_type": "code",
    "id": "nLaNqEL6vlN7"
   },
   "outputs": [],
   "source": [
    "# TODO: compléter le tout......"
   ]
  }
 ],
 "metadata": {
  "colab": {
   "collapsed_sections": [],
   "include_colab_link": true,
   "name": "solution TD logique floue.ipynb",
   "provenance": [],
   "version": "0.3.2"
  },
  "kernelspec": {
   "display_name": "Python 3 (ipykernel)",
   "language": "python",
   "name": "python3"
  },
  "language_info": {
   "codemirror_mode": {
    "name": "ipython",
    "version": 3
   },
   "file_extension": ".py",
   "mimetype": "text/x-python",
   "name": "python",
   "nbconvert_exporter": "python",
   "pygments_lexer": "ipython3",
   "version": "3.8.2"
  }
 },
 "nbformat": 4,
 "nbformat_minor": 4
}
