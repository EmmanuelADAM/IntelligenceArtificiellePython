{
 "cells": [
  {
   "cell_type": "markdown",
   "metadata": {
    "colab_type": "text",
    "id": "view-in-github"
   },
   "source": [
    "<a href=\"https://colab.research.google.com/github/EmmanuelADAM/IntelligenceArtificiellePython/blob/master/choixSejourLogiqueFloue.ipynb\" target=\"_parent\"><img src=\"https://colab.research.google.com/assets/colab-badge.svg\" alt=\"Open In Colab\"/></a>"
   ]
  },
  {
   "cell_type": "markdown",
   "metadata": {
    "colab_type": "text",
    "id": "e6HNpchpt_jH"
   },
   "source": [
    "# Activités dans le flou avec skfuzzy\n",
    "\n",
    "L'objectif est de pouvoir représenter des règles de type :\n",
    "- si le temps est 'ensoleillé' et la température est 'temperée' et le vent est 'faible', alors l'activite est 'intense'\n",
    "- si le temps est 'ensoleillé' et la température est 'chaude', alors l'activite est 'modérée'\n",
    "- si le temps est 'nuageux' et la température est 'temperée' et le vent est 'moderé', alors l'activite est 'moderée'\n",
    "- si le temps est 'pluvieux' et la température est 'froide' et le vent est 'fort', alors l'activite est 'faible'\n",
    "\n",
    "\n",
    "Reprenez les exemples d'utilisation de la logique floue et adaptez les à ce problème\n",
    "\n",
    "On utilise pour cela la librairie python skfuzzy\n",
    "*(si elle n'est pas présente, installez là avec cette ligne : !pip install -U scikit-fuzzy)*"
   ]
  },
  {
   "cell_type": "code",
   "execution_count": null,
   "metadata": {
    "colab": {},
    "colab_type": "code",
    "id": "g3uoNu42zTFR"
   },
   "outputs": [],
   "source": [
    " !pip install -U scikit-fuzzy"
   ]
  },
  {
   "cell_type": "code",
   "execution_count": 78,
   "metadata": {
    "colab": {},
    "colab_type": "code",
    "id": "dF-9pPMZw8RJ"
   },
   "outputs": [],
   "source": [
    "#les imports\n",
    "import numpy as np\n",
    "import skfuzzy as fuzz\n",
    "from skfuzzy import control as ctrl \n",
    "import matplotlib.pyplot as plt"
   ]
  },
  {
   "cell_type": "markdown",
   "metadata": {
    "colab_type": "text",
    "id": "i0QyHaFWu_eH"
   },
   "source": [
    "## les antécédents et les conséquents\n",
    "- Les antécédents sont les variables utilisées pour prendre les décisions (ici le temps, la température et le vent)\n",
    "    - le temps est codé sur 0,100 où les ensembles ensoleillé, nuageux, pluvieux sont définis  \n",
    "    - la température est codée sur -10,45 pour les ensembles froide, tempérée, chaude  \n",
    "    - le vent est codé sur 0,100 où les ensembles faible, modéré, fort sont définis  \n",
    "- le conséquent est l'activité, codée sur 0,100 où les ensembles faible, modéré, intense sont définis  "
   ]
  },
  {
   "cell_type": "code",
   "execution_count": 79,
   "metadata": {
    "colab": {},
    "colab_type": "code",
    "id": "nLaNqEL6vlN7"
   },
   "outputs": [],
   "source": [
    "# TODO: compléter le tout......"
   ]
  }
 ],
 "metadata": {
  "colab": {
   "collapsed_sections": [],
   "include_colab_link": true,
   "name": "solution TD logique floue.ipynb",
   "provenance": [],
   "version": "0.3.2"
  },
  "kernelspec": {
   "display_name": "Python 3 (ipykernel)",
   "language": "python",
   "name": "python3"
  },
  "language_info": {
   "codemirror_mode": {
    "name": "ipython",
    "version": 3
   },
   "file_extension": ".py",
   "mimetype": "text/x-python",
   "name": "python",
   "nbconvert_exporter": "python",
   "pygments_lexer": "ipython3",
   "version": "3.8.2"
  }
 },
 "nbformat": 4,
 "nbformat_minor": 4
}
