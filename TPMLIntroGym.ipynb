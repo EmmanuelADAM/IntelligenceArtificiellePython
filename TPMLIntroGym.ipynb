{
 "cells": [
  {
   "cell_type": "markdown",
   "metadata": {},
   "source": [
    "<a href=\"https://colab.research.google.com/github/EmmanuelADAM/IntelligenceArtificiellePython/blob/master/TPMLIntroGym.ipynb\" target=\"_parent\"><img src=\"https://colab.research.google.com/assets/colab-badge.svg\" alt=\"Open In Colab\"/></a>"
   ]
  },
  {
   "cell_type": "markdown",
   "metadata": {},
   "source": [
    "# Machine Learning\n",
    "## Appliqué à [Gym.OpenAI](https://gym.openai.com)"
   ]
  },
  {
   "cell_type": "markdown",
   "metadata": {},
   "source": [
    "Parmis les algorithmes de \"*machine learning*\" (d'apprentissage automatique), on trouve : \n",
    "- le Q-Learning\n",
    "- les algorithmes évolutionnaires (algorithmes génétiques)\n",
    "- les réseaux de neurones\n",
    "- ...\n",
    "\n",
    "Chacun de ces algorithmes suit une trame générale, mais est constament l'objet d'optimisation (choix des valeurs des constantes d'apprentissage, définition d'une fonction objectif, d'une fonction de correction, ...).\n",
    "\n",
    "Pour comparer différents approches, il est important d'avoir un cadre de référence commun.\n",
    "[Gym](https://gym.openai.com) est un de ces cadres.\n",
    "\n",
    "\n"
   ]
  },
  {
   "cell_type": "markdown",
   "metadata": {},
   "source": [
    "---\n",
    "## Présentation de Gymnasium\n",
    "\n",
    "Gym propose un ensemble d'environnement de tests : \n",
    "- \"Classic control\" : problèmes de contrôle classique dans la littérature du ML\n",
    "- \"Algorithms\" : problèmes d'imitation du calcul (apprendre l'addition par exemple)\n",
    "- \"Box2D\" : exercice de contrôle continu sur un environnement 2D\n",
    "- \"MuJoCo\" : contrôle continu d'un robot 3D pour apprendre à se déplacer\n",
    "- \"Robotics\" : contrôle d'un automate (machine outil)\n",
    "- \"Toy text\" : exemple réduit affichés en mode texte \n",
    "- plus des environnements plugables (jeux atari, .....)\n"
   ]
  },
  {
   "cell_type": "markdown",
   "metadata": {},
   "source": [
    "### Installation de gymnasium"
   ]
  },
  {
   "cell_type": "markdown",
   "metadata": {},
   "source": [
    "#### Outil AUTRE QUE COLAB (pyzo, jupyter lab, .....)"
   ]
  },
  {
   "cell_type": "code",
   "execution_count": 15,
   "metadata": {},
   "outputs": [
    {
     "name": "stdout",
     "output_type": "stream",
     "text": [
      "Requirement already satisfied: gymnasium in c:\\anaconda\\lib\\site-packages (0.29.1)\n",
      "Requirement already satisfied: numpy>=1.21.0 in c:\\anaconda\\lib\\site-packages (from gymnasium) (1.24.3)\n",
      "Requirement already satisfied: cloudpickle>=1.2.0 in c:\\anaconda\\lib\\site-packages (from gymnasium) (2.2.1)\n",
      "Requirement already satisfied: typing-extensions>=4.3.0 in c:\\anaconda\\lib\\site-packages (from gymnasium) (4.7.1)\n",
      "Requirement already satisfied: farama-notifications>=0.0.1 in c:\\anaconda\\lib\\site-packages (from gymnasium) (0.0.4)\n",
      "Note: you may need to restart the kernel to use updated packages.\n",
      "Requirement already satisfied: gymnasium[classic-control] in c:\\anaconda\\lib\\site-packages (0.29.1)\n",
      "Requirement already satisfied: numpy>=1.21.0 in c:\\anaconda\\lib\\site-packages (from gymnasium[classic-control]) (1.24.3)\n",
      "Requirement already satisfied: cloudpickle>=1.2.0 in c:\\anaconda\\lib\\site-packages (from gymnasium[classic-control]) (2.2.1)\n",
      "Requirement already satisfied: typing-extensions>=4.3.0 in c:\\anaconda\\lib\\site-packages (from gymnasium[classic-control]) (4.7.1)\n",
      "Requirement already satisfied: farama-notifications>=0.0.1 in c:\\anaconda\\lib\\site-packages (from gymnasium[classic-control]) (0.0.4)\n",
      "Requirement already satisfied: pygame>=2.1.3 in c:\\anaconda\\lib\\site-packages (from gymnasium[classic-control]) (2.5.2)\n",
      "Note: you may need to restart the kernel to use updated packages.\n"
     ]
    }
   ],
   "source": [
    "%pip install gymnasium\n",
    "%pip install gymnasium[classic-control]"
   ]
  },
  {
   "cell_type": "code",
   "execution_count": 9,
   "metadata": {},
   "outputs": [],
   "source": [
    "import gymnasium as gym"
   ]
  },
  {
   "cell_type": "markdown",
   "metadata": {},
   "source": [
    "#### <font color=red>Sous colab</font>\n",
    "*Sous colab, l'affichage ne sera pas dynamique.. Il faudra passer soit par un rendu sous forme de plot (matplotlib), soit passer par une vidéo à enregistrer...*\n",
    "\n",
    "***Solution pour affichage statique***<br>\n",
    "*Il vous faut importer, seulement si vous utilisez colab, les packages suivants :*"
   ]
  },
  {
   "cell_type": "code",
   "execution_count": null,
   "metadata": {},
   "outputs": [],
   "source": [
    "!pip install gymnasium\n",
    "!apt-get install -y xvfb python-opengl > /dev/null 2>&1\n",
    "!pip install gym pyvirtualdisplay > /dev/null 2>&1\n",
    "!apt-get install x11-utils"
   ]
  },
  {
   "cell_type": "code",
   "execution_count": null,
   "metadata": {},
   "outputs": [],
   "source": [
    "import gym\n",
    "import numpy as np\n",
    "import matplotlib.pyplot as plt\n",
    "from IPython import display as ipythondisplay\n",
    "from pyvirtualdisplay import Display\n",
    "display = Display(visible=0, size=(400, 300))\n",
    "display.start()"
   ]
  },
  {
   "cell_type": "markdown",
   "metadata": {},
   "source": [
    "---\n",
    "### Charger un environnement\n",
    "Un environnement se charge par la commande : `env = gym.make('nomenvironnement')`"
   ]
  },
  {
   "cell_type": "code",
   "execution_count": 17,
   "metadata": {},
   "outputs": [
    {
     "data": {
      "text/plain": [
       "(array([-0.5540683,  0.       ], dtype=float32), {})"
      ]
     },
     "execution_count": 17,
     "metadata": {},
     "output_type": "execute_result"
    }
   ],
   "source": [
    "#exemple pour outil autre que colab\n",
    "env = gym.make('MountainCarContinuous-v0', render_mode=\"human\") \n",
    "env.reset()\n",
    "#exemple pour colab\n",
    "#env = gym.make('MountainCarContinuous-v0', render_mode=\"rgb_array\") \n",
    "#env.reset()"
   ]
  },
  {
   "cell_type": "markdown",
   "metadata": {},
   "source": [
    "---\n",
    "### Afficher un environnement\n",
    "#### Outil AUTRE QUE COLAB (pyzo, jupyter lab, .....)\n",
    "affichage de l'état actuel de l'environnement :"
   ]
  },
  {
   "cell_type": "code",
   "execution_count": 16,
   "metadata": {},
   "outputs": [],
   "source": [
    "env.render()"
   ]
  },
  {
   "cell_type": "markdown",
   "metadata": {},
   "source": [
    "#### <font color=red>Afficher sous colab</font>\n",
    "*utilisation d'un plot (matplotlib), soit passer par une vidéo à enregistrer...*\n"
   ]
  },
  {
   "cell_type": "code",
   "execution_count": 14,
   "metadata": {},
   "outputs": [
    {
     "ename": "TypeError",
     "evalue": "Wrapper.render() got an unexpected keyword argument 'mode'",
     "output_type": "error",
     "traceback": [
      "\u001b[1;31m---------------------------------------------------------------------------\u001b[0m",
      "\u001b[1;31mTypeError\u001b[0m                                 Traceback (most recent call last)",
      "Cell \u001b[1;32mIn[14], line 1\u001b[0m\n\u001b[1;32m----> 1\u001b[0m rendu \u001b[38;5;241m=\u001b[39m env\u001b[38;5;241m.\u001b[39mrender(mode\u001b[38;5;241m=\u001b[39m\u001b[38;5;124m'\u001b[39m\u001b[38;5;124mrgb_array\u001b[39m\u001b[38;5;124m'\u001b[39m)\n\u001b[0;32m      2\u001b[0m plt\u001b[38;5;241m.\u001b[39mimshow(rendu)\n",
      "\u001b[1;31mTypeError\u001b[0m: Wrapper.render() got an unexpected keyword argument 'mode'"
     ]
    }
   ],
   "source": [
    "rendu = env.render(mode='rgb_array')\n",
    "plt.imshow(rendu)"
   ]
  },
  {
   "cell_type": "markdown",
   "metadata": {},
   "source": [
    "- Sous colab, une image représentant l'enironnement doit apparaître.\n",
    "- En exécution locale, un fenêtre s'ouvre présentant cet environnement\n",
    "![exemple d'environnement](http://emmanuel.adam.free.fr/data/exempleGymCar.png)"
   ]
  },
  {
   "cell_type": "markdown",
   "metadata": {},
   "source": [
    "---\n",
    "### Les types d'environnements\n",
    "Un environnement peut être \n",
    "- discret : les actions à entreprendre sont discrete (avancer, reculer, ...)\n",
    "- continu : les actions à entreprendre dépendent de valeurs réelles\n",
    "\n",
    "Un environnement est borné, et l'objet à mouvoir l'est également.\n",
    "- **accéder aux caracteristiques** : `env.spec`\n",
    "- **les actions possibles** : `env.action_space`\n",
    "- **le nombre de valeurs observables** : `env.observation_space`\n",
    "- **le domaine de valeurs (si réelles)** : `env.observation_space.high` et `env.observation_space.low`"
   ]
  },
  {
   "cell_type": "code",
   "execution_count": 18,
   "metadata": {},
   "outputs": [
    {
     "name": "stdout",
     "output_type": "stream",
     "text": [
      "EnvSpec(id='MountainCarContinuous-v0', entry_point='gymnasium.envs.classic_control.continuous_mountain_car:Continuous_MountainCarEnv', reward_threshold=90.0, nondeterministic=False, max_episode_steps=999, order_enforce=True, autoreset=False, disable_env_checker=False, apply_api_compatibility=False, kwargs={'render_mode': 'human'}, namespace=None, name='MountainCarContinuous', version=0, additional_wrappers=(), vector_entry_point=None)\n",
      "nombre et type d'actions =  Box(-1.0, 1.0, (1,), float32)\n",
      "valeurs d'actions les plus elevées =  [1.]\n",
      "valeurs d'actions les plus basses =  [-1.]\n",
      "nombre et type d'observations =  Box([-1.2  -0.07], [0.6  0.07], (2,), float32)\n",
      "valeurs de observations les plus elevées =  [0.6  0.07]\n",
      "valeurs de  observations les plus basses =  [-1.2  -0.07]\n"
     ]
    }
   ],
   "source": [
    "print(env.spec)\n",
    "print(\"nombre et type d'actions = \", env.action_space) \n",
    "print(\"valeurs d'actions les plus elevées = \", env.action_space.high) # seulement si box (non discret)\n",
    "print(\"valeurs d'actions les plus basses = \", env.action_space.low)  # seulement si box (non discret)\n",
    "print(\"nombre et type d'observations = \", env.observation_space) \n",
    "print(\"valeurs de observations les plus elevées = \", env.observation_space.high) # seulement si box (non discret)\n",
    "print(\"valeurs de  observations les plus basses = \", env.observation_space.low) # seulement si box (non discret)"
   ]
  },
  {
   "cell_type": "code",
   "execution_count": 19,
   "metadata": {},
   "outputs": [
    {
     "name": "stdout",
     "output_type": "stream",
     "text": [
      "EnvSpec(id='MountainCar-v0', entry_point='gymnasium.envs.classic_control.mountain_car:MountainCarEnv', reward_threshold=-110.0, nondeterministic=False, max_episode_steps=200, order_enforce=True, autoreset=False, disable_env_checker=False, apply_api_compatibility=False, kwargs={}, namespace=None, name='MountainCar', version=0, additional_wrappers=(), vector_entry_point=None)\n",
      "nombre et type d'actions =  Discrete(3)\n"
     ]
    }
   ],
   "source": [
    "# exemple avec un autre environnement : \n",
    "env = gym.make('MountainCar-v0') \n",
    "env.reset()\n",
    "print(env.spec)\n",
    "print(\"nombre et type d'actions = \", env.action_space) \n"
   ]
  },
  {
   "cell_type": "markdown",
   "metadata": {},
   "source": [
    "### Les types de valeurs\n",
    "- `Discrete(3)`: signifie que la variables est discrete et prend ses valeurs dans 0,1,2\n",
    "- `Box(1,)`: signifie que la variable est un tableau contenant 1 réel"
   ]
  },
  {
   "cell_type": "markdown",
   "metadata": {},
   "source": [
    "---\n",
    "### Comprendre les valeurs des caractéristiques et des actions\n",
    "Se référer à la documentation pour comprendre les actions..<br>\n",
    "Par exemple, pour `MountainCarContinuous-v0`, vous trouverez l'explication des valeurs [ici](https://github.com/openai/gym/wiki/MountainCarContinuous-v0).\n",
    "\n",
    "| No | Observation | Min | Max |\n",
    "|:--:|:--:|:--:|:--:|\n",
    "| 0 | Position | -1.2 | 0.6 |\n",
    "| 1 | Velocité | -0.07 | 0.07 |\n",
    "\n",
    "On peut donc récupérer la position x de la voiture et sa vitesse."
   ]
  },
  {
   "cell_type": "markdown",
   "metadata": {},
   "source": [
    "---\n",
    "### Les actions\n",
    "Se référer à la documentation pour comprendre les actions..<br>\n",
    "Exemple :\n",
    "- Dans `MountainCar-v0` : 0 fait reculer le véhicule, 1 le met au point mort, 2 le fait avancer\n",
    "- Dans `MountainCarContinuous-v0` : [-1.0] fait reculer le véhicule d'une force 1, [0] le met au point mort, [1.0] le fait avancer d'une force 1\n",
    "\n",
    "- ***Exécuter une action :***\n",
    "  - *choix aléatoire* : `action = env.action_space.sample()`\n",
    "  - *exécution* : `observation, reward,done,info = env.step(action)`\n",
    "    - `observation`: selon l'environnement, pour moutain car, la position du mobile et sa vitesse ([x, v])\n",
    "    - `reward`: utilité de l'état (récompense)\n",
    "    - `done` : booléen (True si but atteint)\n",
    "    - `info` : éventuelle information retournée par l'outil\n"
   ]
  },
  {
   "cell_type": "code",
   "execution_count": 24,
   "metadata": {},
   "outputs": [
    {
     "name": "stderr",
     "output_type": "stream",
     "text": [
      "c:\\anaconda\\Lib\\site-packages\\gymnasium\\envs\\classic_control\\mountain_car.py:173: UserWarning: \u001b[33mWARN: You are calling render method without specifying any render mode. You can specify the render_mode at initialization, e.g. gym.make(\"MountainCar-v0\", render_mode=\"rgb_array\")\u001b[0m\n",
      "  gym.logger.warn(\n"
     ]
    }
   ],
   "source": [
    "action = env.action_space.sample()\n",
    "observation, reward, done, stopped, info = env.step(action)\n",
    "#sous outil autre que Colab : \n",
    "env.render()"
   ]
  },
  {
   "cell_type": "code",
   "execution_count": 25,
   "metadata": {},
   "outputs": [
    {
     "name": "stdout",
     "output_type": "stream",
     "text": [
      "apres execution de  0\n",
      "\tvoiture en  -0.57  vitesse= 0.0007\n",
      "\trecompense =  -1.0 , but atteint :  False , info éventuelle =  {}\n"
     ]
    }
   ],
   "source": [
    "print (\"apres execution de \", action)\n",
    "print (\"\\tvoiture en \", round(observation[0],2),\" vitesse=\", round(observation[1],4))\n",
    "print(\"\\trecompense = \", reward, \", but atteint : \", done, \", info éventuelle = \", info)"
   ]
  },
  {
   "cell_type": "markdown",
   "metadata": {},
   "source": [
    "---\n",
    "### La récompense (reward)\n",
    "Le *reward* dépend l'environnement d'exécution.. Dans `MountainCarContinuous-v0`, il est de `100(si le but est atteint) - le nombre d'actions au carré` !!\n",
    "Selon la méthode IA choisie, il peut être plus intéressant de définir sa popre fonction récompense \n",
    "(par exemple, on peut favoriser les séquences qui mènent le plus loin possible..)\n"
   ]
  },
  {
   "cell_type": "markdown",
   "metadata": {},
   "source": [
    "---\n",
    "### Exemple d'exécution\n",
    "*Sous outil autre que Colab*, \n",
    "le code suivant effectue 100 actions aléatoire, et demande le rendu à chaque étape "
   ]
  },
  {
   "cell_type": "code",
   "execution_count": 26,
   "metadata": {},
   "outputs": [],
   "source": [
    "def hasard():\n",
    "    env.reset()\n",
    "    for step in range(1,101):\n",
    "        env.render()\n",
    "        action = env.action_space.sample()\n",
    "        observation, reward, done, stopped, info = env.step(action)\n",
    "        if done:\n",
    "            print(\"Objectif atteint par hasard apres \", step,\" actions.\")\n",
    "            break\n",
    "hasard()"
   ]
  },
  {
   "cell_type": "markdown",
   "metadata": {},
   "source": [
    "***Sous Colab***, on affiche le rendu qu'une fois toutes les actions effectuées : \n"
   ]
  },
  {
   "cell_type": "code",
   "execution_count": 30,
   "metadata": {},
   "outputs": [
    {
     "ename": "",
     "evalue": "",
     "output_type": "error",
     "traceback": [
      "\u001b[1;31mThe Kernel crashed while executing code in the the current cell or a previous cell. Please review the code in the cell(s) to identify a possible cause of the failure. Click <a href='https://aka.ms/vscodeJupyterKernelCrash'>here</a> for more info. View Jupyter <a href='command:jupyter.viewOutput'>log</a> for further details."
     ]
    }
   ],
   "source": [
    "def hasard_colab():\n",
    "    env.reset()\n",
    "    for step in range(1,101):\n",
    "        action = env.action_space.sample()\n",
    "        observation, reward, done, stoped,  info = env.step(action)\n",
    "        if done:\n",
    "            print(\"Objectif atteint par hasard apres \", step,\" actions.\")\n",
    "            break\n",
    "    rendu = env.render() # env.render(mode='rgb_array') pour colab\n",
    "    #plt.imshow(rendu) pour colab\n",
    "\n",
    "hasard_colab()"
   ]
  },
  {
   "cell_type": "markdown",
   "metadata": {},
   "source": [
    "---\n",
    "## Aide python\n",
    "Quelques éléments python pour faciliter l'utilisation de listes et de tableaux\n",
    "### Listes"
   ]
  },
  {
   "cell_type": "code",
   "execution_count": 15,
   "metadata": {},
   "outputs": [
    {
     "name": "stdout",
     "output_type": "stream",
     "text": [
      "[[-1.0], [0.5], [1.0], [0.0]]\n",
      "0.5\n"
     ]
    }
   ],
   "source": [
    "#liste en python = ensemble de valeurs de types différents ou non : \n",
    "t = [[[-1.0],[0.5],[1.0],[0.0]], 0.5]\n",
    "print(t[0])\n",
    "print(t[1])"
   ]
  },
  {
   "cell_type": "code",
   "execution_count": 16,
   "metadata": {},
   "outputs": [
    {
     "name": "stdout",
     "output_type": "stream",
     "text": [
      "[[[-1.0], [0.5], [1.0], [0.0]], 0.5, [1, 2, 3]]\n"
     ]
    }
   ],
   "source": [
    "#ajout d'un element : \n",
    "t.append([1,2,3])\n",
    "print(t)"
   ]
  },
  {
   "cell_type": "code",
   "execution_count": 17,
   "metadata": {},
   "outputs": [
    {
     "name": "stdout",
     "output_type": "stream",
     "text": [
      "3\n"
     ]
    }
   ],
   "source": [
    "#longueur d'une liste\n",
    "print(len(t))"
   ]
  },
  {
   "cell_type": "code",
   "execution_count": 18,
   "metadata": {},
   "outputs": [
    {
     "name": "stdout",
     "output_type": "stream",
     "text": [
      "[3, 5, 2, 1]\n",
      "[1, 2, 3, 5]\n"
     ]
    }
   ],
   "source": [
    "#tri\n",
    "liste = [3,5,2,1]\n",
    "print(liste)\n",
    "liste.sort()\n",
    "print(liste)"
   ]
  },
  {
   "cell_type": "code",
   "execution_count": 19,
   "metadata": {},
   "outputs": [
    {
     "name": "stdout",
     "output_type": "stream",
     "text": [
      "[[array([0, 1, 1]), -0.72], [array([-1,  0,  1]), -0.73], [array([-1,  0, -1]), -0.24], [array([ 0,  0, -1]), 0.7], [array([ 0, -1,  1]), -0.77], [array([-1, -1,  1]), 0.31]]\n",
      "----\n",
      "liste triee selon la valeur réelle de ses sous-listes\n",
      "[[array([ 0,  0, -1]), 0.7], [array([-1, -1,  1]), 0.31], [array([-1,  0, -1]), -0.24], [array([0, 1, 1]), -0.72], [array([-1,  0,  1]), -0.73], [array([ 0, -1,  1]), -0.77]]\n"
     ]
    }
   ],
   "source": [
    "import numpy as np\n",
    "#comparateur \"à la java\"\n",
    "import functools\n",
    "\n",
    "###compare 2 tuples sur base du 2e element. \n",
    "### retourne <0 si tupleB[1] < tupleA[1]\n",
    "### retourne >0 si tupleB[1] > tupleA[1]\n",
    "### retourne 0  si tupleB[1] = tupleA[1]\n",
    "def comp(tupleA, tupleB)->int:\n",
    "    return (int(round(tupleB[1]*100)) - int(round(tupleA[1]*100)))\n",
    "# liste composé de sous-liste.\n",
    "## chaque sous liste possède en 1er élément un tableau d'entiers (les actions par exemple)\n",
    "## et en 2nd élément un réel (récompense par exemple)\n",
    "liste = [\n",
    "[np.array([ 0,  1,  1]),  -0.72],\n",
    "[np.array([-1,  0,  1]),  -0.73],\n",
    "[np.array([-1,  0, -1]),  -0.24],\n",
    "[np.array([ 0,  0, -1]),  0.70],\n",
    "[np.array([ 0, -1,  1]),  -0.77],\n",
    "[np.array([-1, -1,  1]),  0.31]]\n",
    "print(liste)\n",
    "print(\"----\")\n",
    "liste_triee = sorted(liste, key=functools.cmp_to_key(comp))\n",
    "print(\"liste triee selon la valeur réelle de ses sous-listes\")\n",
    "print(liste_triee)   "
   ]
  },
  {
   "cell_type": "markdown",
   "metadata": {},
   "source": [
    "### Tableaux \n",
    "Utilisation de la classe numpy"
   ]
  },
  {
   "cell_type": "code",
   "execution_count": 20,
   "metadata": {},
   "outputs": [
    {
     "name": "stdout",
     "output_type": "stream",
     "text": [
      "[0 0 0 0 0 0 0 0 0 0]\n",
      "[[0. 0. 0.]\n",
      " [0. 0. 0.]]\n",
      "[1 2 3 4]\n"
     ]
    }
   ],
   "source": [
    "import numpy as np\n",
    "#creation de tableaux\n",
    "tab0 = np.zeros((10), int)\n",
    "print(tab0)\n",
    "mat = np.zeros((2,3), float)\n",
    "print(mat)\n",
    "#avec passage de valeurs\n",
    "tab_val = np.array([1,2,3,4])\n",
    "print(tab_val)"
   ]
  },
  {
   "cell_type": "code",
   "execution_count": 21,
   "metadata": {},
   "outputs": [
    {
     "name": "stdout",
     "output_type": "stream",
     "text": [
      "[[1 0 1]\n",
      " [1 1 0]]\n",
      "\n",
      "[[0.45030414 0.92759053]\n",
      " [0.65469881 0.47752805]\n",
      " [0.05627396 0.05488038]\n",
      " [0.26609763 0.98522353]]\n",
      "\n",
      "[[27.2696706  79.30064932 68.24320755]\n",
      " [ 7.45463938 27.94711818 87.29667556]\n",
      " [92.27646571 77.82180815  0.2574833 ]]\n",
      "\n"
     ]
    }
   ],
   "source": [
    "#génération de valeurs aléatoires\n",
    "#création d'une matrice 2x3 avec valeurs entières entre -1 et 1 (2 exclus)\n",
    "mat1 = np.random.randint(-1, 2, (2,3)) \n",
    "print(mat1)\n",
    "print()\n",
    "#création d'une matrice 4x2 avec valeurs réelles  entre 0 et 1\n",
    "mat2 = np.random.random((4,2)) \n",
    "print(mat2)\n",
    "print()\n",
    "#création d'une matrice 3x3 avec valeurs réelles  entre 0 et 100\n",
    "mat3 = np.random.random((3,3)) * 100\n",
    "print(mat3)\n",
    "print()"
   ]
  },
  {
   "cell_type": "code",
   "execution_count": 22,
   "metadata": {},
   "outputs": [
    {
     "name": "stdout",
     "output_type": "stream",
     "text": [
      "[1 2 3]\n",
      "[4 5 6]\n"
     ]
    }
   ],
   "source": [
    "#extraits de tableau\n",
    "tab1 = np.array([1,2,3,4,5,6])\n",
    "tab1_partA = tab1[:3]\n",
    "tab1_partB = tab1[3:]\n",
    "print (tab1_partA)\n",
    "print (tab1_partB)"
   ]
  },
  {
   "cell_type": "code",
   "execution_count": 23,
   "metadata": {},
   "outputs": [
    {
     "name": "stdout",
     "output_type": "stream",
     "text": [
      "[ 1  2  3 40 50 60]\n"
     ]
    }
   ],
   "source": [
    "#concaténation de tableaux\n",
    "tab2 = np.array([10,20,30,40,50,60])\n",
    "tab2_partB = tab2[3:]\n",
    "mixe = np.concatenate((tab1_partA, tab2_partB))\n",
    "print (mixe)"
   ]
  },
  {
   "cell_type": "code",
   "execution_count": 24,
   "metadata": {},
   "outputs": [
    {
     "name": "stdout",
     "output_type": "stream",
     "text": [
      "False\n",
      "True\n"
     ]
    }
   ],
   "source": [
    "#egalite entre tableaux\n",
    "tab3 = np.array([1,2,3,4,5,7])\n",
    "print(np.array_equal(tab1, tab3))\n",
    "print(np.array_equal(tab1, tab1))"
   ]
  },
  {
   "cell_type": "code",
   "execution_count": null,
   "metadata": {},
   "outputs": [],
   "source": []
  }
 ],
 "metadata": {
  "kernelspec": {
   "display_name": "Python 3",
   "language": "python",
   "name": "python3"
  },
  "language_info": {
   "codemirror_mode": {
    "name": "ipython",
    "version": 3
   },
   "file_extension": ".py",
   "mimetype": "text/x-python",
   "name": "python",
   "nbconvert_exporter": "python",
   "pygments_lexer": "ipython3",
   "version": "3.11.5"
  }
 },
 "nbformat": 4,
 "nbformat_minor": 4
}
