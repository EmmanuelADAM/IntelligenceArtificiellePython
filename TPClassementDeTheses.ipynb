{
 "cells": [
  {
   "cell_type": "markdown",
   "metadata": {
    "colab_type": "text",
    "id": "fVNE4BGIsOlY"
   },
   "source": [
    "# Classement automatique de textes par réseau de neurones\n",
    "\n",
    "L’objectif de ce TP est de développer un modèle prédictif pour la classification des thèses scientifiques (données textuelles) à partir d’un apprentissage automatique par réseau de neurones et d'une représentation en sac de mots (bag of words)."
   ]
  },
  {
   "cell_type": "markdown",
   "metadata": {
    "colab_type": "text",
    "id": "QQ5vas82illV"
   },
   "source": [
    "## Ensemble de données \n",
    "Le tp utilisera un ensemble de données issues des sites de diffusions des thèses soutenues en France : https://tel.archives-ouvertes.fr/ & http://www.theses.fr/.\n",
    "\n",
    "Dans ce fichier ([TPClassementTheses.ods](https://github.com/EmmanuelADAM/IntelligenceArtificiellePython/blob/master/TPClassementTheses.ods)), vous récupérerez des exemples de classements. \n",
    "Les titres sont réels, les noms des directeurs ont été modifiés. Des classements ont été posés; certains sont manquants.\n",
    "\n",
    "Ce répertoire contient donc des titres de thèses classées IA, d'autres non; certains titres n'ont pas de classements.\n",
    "\n",
    "90% des données classées sont à utiliser en tant que données d'entraînement et 10% seront utilisées en données de test.\n"
   ]
  },
  {
   "cell_type": "markdown",
   "metadata": {
    "colab_type": "text",
    "id": "AWFXrAtkvcg_"
   },
   "source": [
    "---\n",
    "Si vous utisez colab, vous devrez charger vos fichiers de données dans votre Drive Google.\n",
    "\n",
    "Pour pouvoir les utiliser, il vous faut monter le répertoir drive pour qu'il soit accessible par colab.\n",
    "Exécutez le code suivant,  une clé vous sera demandée. Il vous suffit de suivre le lien, de sélectionner votre profile pour obtenir votre clé que vous copierez dans le champs prévu."
   ]
  },
  {
   "cell_type": "code",
   "execution_count": null,
   "metadata": {
    "colab": {
     "base_uri": "https://localhost:8080/",
     "height": 74
    },
    "colab_type": "code",
    "id": "4TodTL602bBv",
    "outputId": "cbc50963-1484-4189-b87b-b0d7d60af79c"
   },
   "outputs": [],
   "source": [
    "#bloc à exécuter si vous utilisez colab\n",
    "from google.colab import drive, files\n",
    "\n",
    "drive.mount('/content/drive')"
   ]
  },
  {
   "cell_type": "markdown",
   "metadata": {
    "colab_type": "text",
    "id": "3IlL2ANmisdv"
   },
   "source": [
    "---\n",
    "## Préparation des données\n"
   ]
  },
  {
   "cell_type": "markdown",
   "metadata": {},
   "source": [
    "### Creations des fichiers de données\n",
    "\n",
    "A partir du fichier contenant les tables, vous devez créer 2 fichiers texte. \n",
    "L'un contenant les titres de thèses classées IA (theseIA.txt) et l'autre les titres de thèses non classées IA (theseNonIA.txt).\n",
    "\n",
    "Pour débuter, vous pouvez ne considérer qu'une seule feuille (data1) mais plus les fichiers d'exemples seront fournis, meilleur sera l'apprentissage.\n",
    "\n",
    "**Des titres ne sont pas classés.** Il arrive fréquemment que les données brutes soient incomplètes. Plusieurs solutions existe pour compléter les valeurs manquantes (valeur aléatoire, proportionnellement à la distribution existante, valeur fixe, ...) , ici on ignorera simplement les titres non classés.\n"
   ]
  },
  {
   "cell_type": "markdown",
   "metadata": {},
   "source": [
    "### Réduction des exemples\n",
    "Le nombre de mots utilisés le vocabulaire, étant assez vaste; on le réduit dans un premier temps"
   ]
  },
  {
   "cell_type": "markdown",
   "metadata": {
    "colab_type": "text",
    "id": "oiHdx0y1i8Bi"
   },
   "source": [
    "### Création du vocabulaire utile\n",
    "\n",
    "En chargeant l'ensemble des lignes contenues dans les fichers texte, on crée un vocabulaire des mots utiles en :   \n",
    "  - identifiant les termes (**tokens**) entre espaces,\n",
    "  - supprimant toute ponctuation,\n",
    "  - supprimant tous les mots qui ne sont pas uniquement composés de caractères alphabétiques,\n",
    "  - supprimant tous les mots reconnus en tant que mots vides (stop words) (mots de liaison) français & anglais\n",
    "  - supprimant tous les mots dont la longueur est <= 2 caractères (sauf IA, AI)"
   ]
  },
  {
   "cell_type": "markdown",
   "metadata": {},
   "source": [
    "### Chargement et nettoyage des données\n",
    "\n",
    "Il convient pour chaque fichier texte de créer le  \n",
    "  - identifier les termes (**tokens**) entre espaces,\n",
    "  - supprimer toute ponctuation,\n",
    "  - supprimer tous les mots qui ne sont pas uniquement composés de caractères alphabétiques,\n",
    "  - supprimer tous les mots reconnus en tant que mots vides (stop words) (mots de liaison) français & anglais\n",
    "  - supprimer tous les mots dont la longueur est <= 2 caractères (sauf IA, AI)\n",
    "\n"
   ]
  },
  {
   "cell_type": "markdown",
   "metadata": {
    "colab_type": "text",
    "id": "SLWxuYAjxPlo"
   },
   "source": [
    "### Les bibliothèques\n",
    "La préparation des données implique de pouvoir accéder au système de fichier, ainsi qu'à la bibliothèque nltk et aux bibliothèques spécialisées dans le traitement de texte.. : "
   ]
  },
  {
   "cell_type": "code",
   "execution_count": 2,
   "metadata": {
    "colab": {},
    "colab_type": "code",
    "id": "tSqBXmHvxnhF"
   },
   "outputs": [],
   "source": [
    "##import pour les fichiers et le traitement de données : \n",
    "from os import listdir\n",
    "import nltk\n",
    "from nltk.corpus import stopwords\n",
    "from string import punctuation\n",
    "from collections import Counter\n",
    "##import pour les réseaux de neurones : \n",
    "import tensorflow.keras as keras\n",
    "from tensorflow.keras.models import Sequential\n",
    "from tensorflow.keras.layers import Dense\n",
    "from tensorflow.keras import preprocessing\n",
    "from numpy import array, zeros\n"
   ]
  },
  {
   "cell_type": "code",
   "execution_count": null,
   "metadata": {
    "colab": {
     "base_uri": "https://localhost:8080/",
     "height": 68
    },
    "colab_type": "code",
    "id": "n6qZZ-VJw8Wy",
    "outputId": "1c8e7c95-f0ba-4f69-9914-c034c7f534cc"
   },
   "outputs": [],
   "source": [
    "rep = '/Users/.../.../' ## ICI VOTRE REPERTOIRE DE TRAVAIL\n",
    "# le code suivant charge l'ensemble des mots non importants \n",
    "nltk.download(\"stopwords\")\n"
   ]
  },
  {
   "cell_type": "markdown",
   "metadata": {},
   "source": [
    "### Fonctions de lectures et d'\"épurage\" de fichier texte"
   ]
  },
  {
   "cell_type": "code",
   "execution_count": 4,
   "metadata": {
    "colab": {},
    "colab_type": "code",
    "id": "by0--ITCi-xa"
   },
   "outputs": [],
   "source": [
    "def load_doc(filename:str)->list:\n",
    "    \"\"\"retourne les lignes de texte du fichier filename\"\"\"\n",
    "    # open the file as read only\n",
    "    with open(filename) as file:\n",
    "        text = file.read().splitlines() \n",
    "    return text\n",
    "\n",
    " \n",
    "def clean_doc(doc)->list:\n",
    "\n",
    "    \"\"\"retourne la liste de mots clés inclus dans le texte doc \n",
    "    qui ne font pas parti des stop_words anglais et francais \n"
    "    otes egalements explicitement d'autres stops words 'vers', 'lors' ... \"\"\"\n",
    "    # TODO: A FAIRE
    "    return tokens\n",
    " "
   ]
  },
  {
   "cell_type": "markdown",
   "metadata": {
    "colab_type": "text",
    "id": "UgALvdrLKOD3"
   },
   "source": [
    "### Tests de la récupération de mots clés d'un fichier"
   ]
  },
  {
   "cell_type": "code",
   "execution_count": null,
   "metadata": {
    "colab": {
     "base_uri": "https://localhost:8080/",
     "height": 125
    },
    "colab_type": "code",
    "id": "0CpapoCR0Hzs",
    "outputId": "23a01def-2b8c-4fef-e689-1289a90d2d61"
   },
   "outputs": [],
   "source": [
    "def test_recup():\n",
    "    # mots clés du fichier des theses IA\n",
    "    filename = rep + '/thesesIA.txt'\n",
    "    lines = load_doc(filename)\n",
    "    text = ' '.join(lines)\n",
    "    tokens = clean_doc(text)\n",
    "    print('les 10 premiers mots cles de ', filename)\n",
    "    print(tokens[:10])\n",
    "    # mots clés du fichier des theses NON IA\n",
    "    filename = rep + '/thesesNonIA.txt'\n",
    "    lines = load_doc(filename)\n",
    "    text = ' '.join(lines)\n",
    "    tokens = clean_doc(text)\n",
    "    print('les 10 premiers mots cles de ', filename)\n",
    "    print(tokens[:10])"
   ]
  },
  {
   "cell_type": "code",
   "execution_count": null,
   "metadata": {},
   "outputs": [],
   "source": [
    "test_recup()"
   ]
  },
  {
   "cell_type": "markdown",
   "metadata": {
    "colab_type": "text",
    "id": "1yo75YEIjWIT"
   },
   "source": [
    "### Construire le vocabulaire global"
   ]
  },
  {
   "cell_type": "code",
   "execution_count": null,
   "metadata": {
    "colab": {},
    "colab_type": "code",
    "id": "Axlsvtg8jhAr"
   },
   "outputs": [],
   "source": [
    "def add_doc_to_vocab(filename, vocab):\n",
    "    \"\"\"cumule dans la liste vocab les mots du fichier filename \n",
    "    (1 seule occurence par mot dans vocab)\"\"\"\n",
    "    # load doc\n",
    "    lines = load_doc(filename)\n",
    "    doc = ' '.join(lines)\n",
    "    # clean doc\n",
    "    tokens = clean_doc(doc)\n",
    "    # update counts\n",
    "    vocab.update(tokens)\n",
    "\n",
    "def create_global_vocabulary():\n",
    "    \"\"\"creer un vocabulaire (liste de mots clés associés à leurs occurences)\n",
    "    par la suite, un mot d'un texte ne faisant pas partie du vocabulaire ne sera\n",
    "    pas compte\"\"\"\n",
    "    vocab = Counter()\n",
    "    # ajouter les mots cles des repertoire pos et neg\n",
    "    add_doc_to_vocab(rep+'/thesesIA.txt', vocab)\n",
    "    add_doc_to_vocab(rep+'/thesesNonIA.txt', vocab)\n",
    "\n",
    "    # afficher le nb de mots cles trouves\n",
    "    print(\"nb de mots cles trouves dans les repertoires : \", len(vocab))\n",
    "    print(\"les 10 premiers mots cles du vocabulaire \\\n",
    "    (et leur nb d\\'apparition dans les exemples)  : \\n\", end='')\n",
    "    i=0\n",
    "    for (mot,count) in vocab.items(): \n",
    "        print(mot,':',count,end=\", \")\n",
    "        i = i+1\n",
    "        if i>10:break\n",
    "    # afficher les 10 mots cles les plus utilises\n",
    "    print(\"\\nles 10 mots cles les plus utilises : \", vocab.most_common(10))\n",
    "\n",
    "    # ne garder que les mots clés apparaissant au moins 2 fois\n",
    "    min_occurrence = 2\n",
    "    tokens = [token for (token,count) in vocab.items() if count >= min_occurrence]\n",
    "    print('en otant les mots utilise moins de ', min_occurrence, ' fois,', \n",
    "          ' nb de mots cles = ',len(tokens))\n",
    "    return tokens"
   ]
  },
  {
   "cell_type": "code",
   "execution_count": null,
   "metadata": {},
   "outputs": [],
   "source": [
    "## Sauvegarde du vocabulaire\n",
    "def save_list(lines, filename):\n",
    "    \"\"\"sauve les mots de la liste lines dans le fichier filename\"\"\"\n",
    "    # open file\n",
    "    file = open(filename, 'w')\n",
    "    data = '\\n'.join(lines)\n",
    "    # write text\n",
    "    file.writelines(data)\n",
    "    # close file\n",
    "    file.close()"
   ]
  },
  {
   "cell_type": "code",
   "execution_count": null,
   "metadata": {
    "colab": {},
    "colab_type": "code",
    "id": "EDFdsl97jq0t"
   },
   "outputs": [],
   "source": [
    "## A la 1ere utilisation, et a chaque modification des fichiers de données\n",
    "tokens = create_global_vocabulary()\n",
    "save_list(tokens, 'vocabThesesIA.txt')"
   ]
  },
  {
   "cell_type": "markdown",
   "metadata": {},
   "source": [
    "### Réduction des entrées\n",
    "Chaque entrée texte peut être maintenant simplifiée. \n",
    "Pour chaque entrée, on extrait les tokens qui ne sont pas présents dans le vocabulaire utile."
   ]
  },
  {
   "cell_type": "code",
   "execution_count": null,
   "metadata": {},
   "outputs": [],
   "source": [
    "def filter_line(line, vocab)->list:\n",
    "    \"\"\"retourne la liste des mots cles de la ligne appartenant au vocabulaire vocab\"\"\"\n",
    "    # clean line\n",
    "    tokens = clean_doc(line)    \n",
    "    # filter by vocab\n",
    "    tokens = [token for token in tokens if token in vocab]\n",
    "    return ' '.join(tokens)"
   ]
  },
  {
   "cell_type": "markdown",
   "metadata": {},
   "source": [
    "Pour chaque fichier d'exemples, on en retire deux listes de lignes épurées, une liste contenant 90% des exemples, et une autre 10%"
   ]
  },
  {
   "cell_type": "code",
   "execution_count": null,
   "metadata": {},
   "outputs": [],
   "source": [
    "def process_train_file(filename, vocab)->list:\n",
    "    \"\"\"retourne deux listes des mots cles du repertoire directory; \n",
    "    la 1ere liste represente les 90% premieres lignes du fichier, \n",
    "    la 2nde represente les 10% restant\"\"\"\n",
    "    lines_firts = list()\n",
    "    lines_lasts = list()\n",
    "    i=1\n",
    "    lines = list()\n",
    "    # load and clean the file\n",
    "    with open(filename) as file:\n",
    "        lines = file.read().splitlines()\n",
    "    lines_filtered = [filter_line(line, vocab) for line in lines]\n",
    "    nb_train = int(len(lines_filtered) * 0.9)\n",
    "    lines_firts.extend(lines_filtered[:nb_train])\n",
    "    lines_lasts.extend(lines_filtered[nb_train:])\n",
    "    return (lines_firts,lines_lasts)\n"
   ]
  },
  {
   "cell_type": "code",
   "execution_count": null,
   "metadata": {},
   "outputs": [],
   "source": [
    "# SI le vocabulaire n'a ete cree dans cette session mais avant ALORS le charger\n",
    "# load the vocabulary\n",
    "vocab_filename = 'vocab.txt'\n",
    "vocab = load_doc(vocab_filename)\n",
    "vocab = set(vocab)\n",
    "# load training and testing examples\n",
    "(positive_lines_train, positive_lines_test) = process_train_file(rep+'/thesesIA.txt', vocab)\n",
    "(negative_lines_train, negative_lines_test) = process_train_file(rep+'/thesesNonIA.txt', vocab)\n",
    "# summarize what we have\n",
    "print(\"nb exemples d'entrainement positifs : \", len(positive_lines_train))\n",
    "print(\"nb exemples d'entrainement negatifs : \", len(negative_lines_train))\n",
    "print(\"nb exemples de tests positifs : \", len(positive_lines_test))\n",
    "print(\"nb exemples de tests negatifs : \", len(negative_lines_test))"
   ]
  },
  {
   "cell_type": "markdown",
   "metadata": {
    "colab_type": "text",
    "id": "v2oK8x7bj5CU"
   },
   "source": [
    "---\n",
    "## Représentation en sac de mots\n",
    "\n"
   ]
  },
  {
   "cell_type": "markdown",
   "metadata": {
    "colab_type": "text",
    "id": "wdd9RpBskGUy"
   },
   "source": [
    "### Convertir les exemples en vecteurs\n",
    "Chaque exemple doit être transformé dans un vecteur de même format.\n",
    "On recrée un vocabulaire des mots présents dans les exemples; puis pour chaque exemple, on crée un vecteur de 0, 1 (1 si le ie mot du vocabulaire existe dans l'exemple).\n",
    "\n",
    "Ainsi tous les exemples de ligne sont transformés en vecteurs de même dimension.\n",
    "\n",
    "On utilise pour cela un \"Tokenizer\"\n"
   ]
  },
  {
   "cell_type": "code",
   "execution_count": null,
   "metadata": {},
   "outputs": [],
   "source": [
    "# create the tokenizer\n",
    "tokenizer = keras.preprocessing.text.Tokenizer()\n",
    "# build the training doc based on training data\n",
    "training_doc = list()\n",
    "training_doc.extend(positive_lines_train)\n",
    "training_doc.extend(negative_lines_train)\n",
    "# ask to the tokenizer to build the bag of words : a set of (word, frequence of use)*\n",
    "tokenizer.fit_on_texts(training_doc)"
   ]
  },
  {
   "cell_type": "markdown",
   "metadata": {},
   "source": [
    "\"Il ne reste plus qu'à\" demander au 'Tokenizer' de réaliser la transformation des exemples d'entrainement en vecteurs d'entrainement."
   ]
  },
  {
   "cell_type": "code",
   "execution_count": null,
   "metadata": {},
   "outputs": [],
   "source": [
    "xTrain = tokenizer.texts_to_matrix(training_doc, mode='binary')\n",
    "\n",
    "print('Xtrain contient ', xTrain.shape[0], ' exemples de ', xTrain.shape[1], ' valeurs')\n",
    "print('une valeur = fréquence d\\'apparition des mots dans le vocabulaire global.')\n",
    "print('Ainsi, premier exemple d\\'entrainement = \\n', xTrain[0])"
   ]
  },
  {
   "cell_type": "markdown",
   "metadata": {},
   "source": [
    "#### Création des sorties\n",
    "Les premiers vecteurs représente des exemples positifs. On crée une sortie constituée d'autant de valeurs [1] suivie de valeurs [0]. "
   ]
  },
  {
   "cell_type": "code",
   "execution_count": null,
   "metadata": {},
   "outputs": [],
   "source": [
    "#ytrain = suite de (0 (classement pour eval positive),  1 (classements pour éval négative))\n",
    "yTrain = zeros(len(positive_lines_train)+len(negative_lines_train))\n",
    "yTrain[:len(positive_lines_train)] = 1"
   ]
  },
  {
   "cell_type": "markdown",
   "metadata": {},
   "source": [
    "#### Exemples de test\n",
    "On ré-itère pour les exemples de test; en réutilisant le même 'Tokenizer'"
   ]
  },
  {
   "cell_type": "code",
   "execution_count": 9,
   "metadata": {
    "colab": {},
    "colab_type": "code",
    "id": "7Sw6xGMHkUP1"
   },
   "outputs": [],
   "source": [
    "# build the test doc by alternating positive lines and negative lines\n",
    "test_Doc = list()\n",
    "test_Doc.extend(positive_lines_test)\n",
    "test_Doc.extend(negative_lines_test)\n",
    "# ask to the tokenizer to give the bag of words : a set of (word, frequence of use),\n",
    "# the words are already kown by the tokenizer*\n",
    "xTest = tokenizer.texts_to_matrix(test_Doc, mode='binary')\n",
    "print('Xtest contient ', xTest.shape[0], ' exemples de ', xTest.shape[1], ' valeurs de fréquence.')\n",
    "\n",
    "#sortie attendues des exemples de test, ytest = suite de (0, 1)\n",
    "yTest = zeros(len(positive_lines_test)+len(negative_lines_test))\n",
    "yTest[:len(positive_lines_test)] = 1"
   ]
  },
  {
   "cell_type": "markdown",
   "metadata": {
    "colab_type": "text",
    "id": "mCJRY1mTlnls"
   },
   "source": [
    "---\n",
    "## Modèle de réseau pour l'analyse des sentiments\n",
    "Le réseau contient en couche d'entrée aurant de neurones que de tokens retenus. \n",
    "Chaque exemple est codé sous forme d'une suite de 0 ou 1, d'une dimension égale au vocabulaire retenu.\n",
    "\n",
    "xTrain est donc une matrice de n exemples x m colonnes. m étant la dimension des vecteurs d'entrée, c-a-d le nombre de mots finalement pris en comptes, et donc le nombre de neurones de la 1er couche du réseau"
   ]
  },
  {
   "cell_type": "code",
   "execution_count": 19,
   "metadata": {
    "colab": {},
    "colab_type": "code",
    "id": "uruPxsQil-gZ"
   },
   "outputs": [],
   "source": [
    "# nb de neurones en entrée (= nb de tokens retenus)\n",
    "## shape[0] est la 1ere dimension d'un tableau (ici le nb d'exemples)\n",
    "## shape[1] est la 1ere dimension d'un tableau (ici le nb de tokens)\n",
    "n_words = xTrain.shape[1] "
   ]
  },
  {
   "cell_type": "code",
   "execution_count": 20,
   "metadata": {
    "colab": {},
    "colab_type": "code",
    "id": "67M4JqX2lNeu"
   },
   "outputs": [],
   "source": [
    "# TODO: définir la structure du réseau\n",
    "model = Sequential()\n",
    "## A VOUS !!!!!\n",
    "...\n",
    "...\n",
    "# compile network \n",
    "model.compile(### A VOUS .....\n"
   ]
  },
  {
   "cell_type": "code",
   "execution_count": null,
   "metadata": {
    "colab": {},
    "colab_type": "code",
    "id": "rlYk8aKemF9b"
   },
   "outputs": [],
   "source": [
    "#TODO tester differents nb de tests (epochs)\n",
    "history = model.fit(xTrain, yTrain, \n",
    "                    validation_data=(xTest, yTest),\n",
    "                    epochs=10, verbose=2)"
   ]
  },
  {
   "cell_type": "markdown",
   "metadata": {},
   "source": [
    "### Dessiner l'évolution de l'erreur et de la pertinence"
   ]
  },
  {
   "cell_type": "code",
   "execution_count": 21,
   "metadata": {},
   "outputs": [
    {
     "data": {
      "text/plain": [
       "dict_keys(['loss', 'accuracy', 'val_loss', 'val_accuracy'])"
      ]
     },
     "execution_count": 21,
     "metadata": {},
     "output_type": "execute_result"
    }
   ],
   "source": [
    "history_dict = history.history\n",
    "history_dict.keys()"
   ]
  },
  {
   "cell_type": "markdown",
   "metadata": {},
   "source": [
    "#### Tracer l'erreur d'entrainement / l'erreur de validation\n",
    "- L'erreur d'entrainement et l'erreur de validation doivent suivre des courbes quasi parallèle.\n",
    "- L'erreur d'entrainement doit être plus faible que l'erreur de validation\n",
    "    - si les courbes divergent, si la courbe de validation s'éloigne de la courbe d'entrainement, il y a alors un sur-apprentissage (overfitting) trop adapté aux données d'entrainement, sans doute trop poussé (diminuer les epochs?).\n",
    "    - s'il y a une erreur d'entrainement trop grande, il y a sous-apprentissage"
   ]
  },
  {
   "cell_type": "code",
   "execution_count": 22,
   "metadata": {},
   "outputs": [
    {
     "data": {
      "image/png": "iVBORw0KGgoAAAANSUhEUgAAAYIAAAEWCAYAAABrDZDcAAAAOXRFWHRTb2Z0d2FyZQBNYXRwbG90bGliIHZlcnNpb24zLjMuNCwgaHR0cHM6Ly9tYXRwbG90bGliLm9yZy8QVMy6AAAACXBIWXMAAAsTAAALEwEAmpwYAAA01ElEQVR4nO3deXhU5dn48e+dhVUQVLYKssmSACGQCFIVUKug4C6voK8FQYVYS7U/LWpVUPGtr2KxKGpB616l4q5gfUtV3FBA0YKArEogQgBlh2z3749nZjKZzCSB5MxMMvfnus41Z3vO3HNmcu6c8zznOaKqGGOMSVxJsQ7AGGNMbFkiMMaYBGeJwBhjEpwlAmOMSXCWCIwxJsFZIjDGmARnicAYYxKcJQJjABHZKCIHRGRv0PBIrOMyJhpSYh2AMXHkPFX9V0UriEiKqhaFzEtW1eKaCCDc9o3xmp0RGFMBERkjIp+IyHQR2QlMEZGnReQxEZknIvuA00XkFyLyiojki8gGEZkYtI2nRWRq0PRgEckNmt4oIpNE5Btgn4jYP2gmqiwRGFO5/sB6oCVwr2/e5b7xJsCnwFvA18DxwJnADSIy5DDeYxQwDGhmZwQm2iwRGFPqdRH5OWi4xjd/i6o+rKpFqnrAN+8NVf1EVUuAXkALVb1bVQtUdT0wGxh5GO89Q1U3BW3fmKixU1BjSl0YWkcgImOATWHWDZ7XHviFiPwcNC8Z+Ogw3jvcexgTFZYIjKlcuC56g+dtAjaoapcI5fcBjYKmW1fxPYyJCrs0ZEz1fQHs9lX4NhSRZBHpKSIn+ZYvA84VkWNEpDVwQ6wCNSYcSwTGlHor5D6C16pSyNd09DwgE9gAbAeeAI72rfIcriJ5I/AeMKeG4zamWsQeTGOMMYnNzgiMMSbBWSIwxpgEZ4nAGGMSnCUCY4xJcLXuPoLjjjtOO3ToEOswjDGmVlm6dOl2VW0RblmtSwQdOnRgyZIlsQ7DGGNqFRH5PtIyzy4NicjfRGSbiCyPsFxEZIaIrBWRb0Skr1exGGOMiczLOoKngaEVLD8H6OIbrgUe8zAWY4wxEXiWCFR1IbCzglUuAJ5VZxHQTETaeBWPMcaY8GJZR3A8ZXtczPXNy4tNOMZLhYWF5ObmcvDgwViHYkyd1qBBA9q2bUtqamqVy8QyEUiYeWH7uxCRa3GXjzjhhBO8jMl4JDc3lyZNmtChQwdEwn31xpjqUlV27NhBbm4uHTt2rHK5WN5HkAu0C5puC2wJt6KqzlLVbFXNbtEibOunSuXlwaBB8OOPR1TcVNPBgwc59thjLQkY4yER4dhjjz3sM+9YJoI3gV/7Wg+dDOxSVc8uC91zD3z8Mdx9t1fvYCpjScAY7x3J35lnl4ZE5EVgMHCc70Hdk4FUAFV9HJgHnAusBfYDV3kRR8OGEJwcH3vMDQ0awAF7KKAxxnjaamiUqrZR1VRVbauqT6rq474kgK+10G9UtbOq9lJVT+4SW78eLr8c6td30/XrwxVXwIYNXrybMYln8ODBNX6TZ4cOHdi+fXtgPN5s3LiRv//974HpJUuWMHHixBhGVD11vq+hNm2gaVMoKHDTBQVuunW4hwWauBKLep3i4uIKpw9XUVFRtcp7tS1T6kj2a2giyM7OZsaMGTUZVlTV+UQAsHUrjB8PqanQu7dVGNcWNV2v8/zzz9OvXz8yMzMZP3584CB/1FFHceedd9K/f38+++yzctMVlfObO3cuY8aMAWDMmDH8/ve/5/TTT2fSpEllYlixYkVgWxkZGaxZs4aNGzfSs2fPwDrTpk1jypQpgPtv+7bbbmPQoEH85S9/KbOtffv2MXbsWE466ST69OnDG2+8AcDEiRO527fT/vnPfzJw4EBKSkpYunQpgwYNIisriyFDhpCXlxd4jxtvvJGBAweSlpbG4sWLufjii+nSpQu333474A583bt3Z/To0WRkZHDppZeyf//+cvv4vffeY8CAAfTt25cRI0awd+9eAG655RbS09PJyMjgpptuKldux44dnH322fTp04fx48cT/MAsfwORvXv3cuaZZ9K3b1969eoV+LwVxdahQwcmTZpEv3796NevH2vXrg37Ha1bt46hQ4eSlZXFaaedxqpVqwLrTZw4kV/+8pd06tSJuXPnBj7PRx99RGZmJtOnT+eDDz5g+PDhAHz44YdkZmaSmZlJnz592LNnD3l5eQwcOJDMzEx69uzJRx99BEBOTg7Z2dn06NGDyZMnBz7zvHnz6N69O6eeeioTJ04MbDvSd15tqlqrhqysLD1SvXqpDht2xMVNNXz77beB8d/9TnXQoMhDUpIqlB+SkiKX+d3vKn//4cOHa0FBgaqq5uTk6DPPPKOqqoDOmTMnsG7wdEXlGjduHCjz8ssv6+jRo1VVdfTo0Tps2DAtKioqF8f111+vzz//vKqqHjp0SPfv368bNmzQHj16BNZ54IEHdPLkyaqqOmjQIM3JyQn7mW699VZ97rnnVFX1p59+0i5duujevXt13759mp6erv/+97+1a9euunbtWi0oKNABAwbotm3bVFX1pZde0quuuirwHn/4wx9UVfWhhx7SNm3a6JYtW/TgwYN6/PHH6/bt23XDhg0K6Mcff6yqqldddZU+8MADgfKLFy/W/Px8Pe2003Tv3r2qqnrffffpXXfdpTt27NCuXbtqSUlJINZQv/3tb/Wuu+5SVdW3335bAc3Pzy+zTmFhoe7atUtVVfPz87Vz585aUlJSYWzt27fXqVOnqqrqM888o8N8B4DQ7+iMM87Q7777TlVVFy1apKeffnpgvUsvvVSLi4t1xYoV2rlzZ1VVff/99wPbCp0ePnx4IJY9e/ZoYWGhTps2LRBHUVGR7t69W1VVd+zYEZg3aNAg/frrr/XAgQPatm1bXb9+vaqqjhw5MrDtSN95qOC/Nz9giUY4rta6TueqIy0NrL+6+Nevn6vb2b4dSkogKQmOOw46dz7ybS5YsIClS5dy0knuefIHDhygZcuWACQnJ3PJJZcE1g2erqhcRUaMGEFycnK5+QMGDODee+8lNzc38F93ZS677LKw89977z3efPNNpk2bBrgmuj/88ANpaWnMnj2bgQMHMn36dDp37szy5ctZvnw5Z511FuAuebVpU3oj//nnnw9Ar1696NGjR2BZp06d2LRpE82aNaNdu3accsopAPz3f/83M2bMKPPf/aJFi/j2228D6xQUFDBgwACaNm1KgwYNuPrqqxk2bFjgv9tgCxcu5NVXXwVg2LBhNG/evNw6qsptt93GwoULSUpKYvPmzWzduhWgwthGjRoVeL3xxhsD2/N/R3v37uXTTz9lxIgRgWWHDh0KjF944YUkJSWRnp4eeL+KnHLKKfz+97/niiuu4OKLL6Zt27acdNJJjB07lsLCQi688EIyMzMB+Mc//sGsWbMoKioiLy+Pb7/9lpKSEjp16hS4D2DUqFHMmjULqPg7r46ESwQvv+xaCzVsGOtoEtdDD1W+Tk4OzJrlWncVFMAll8Cjjx75e6oqo0eP5k9/+lO5ZQ0aNChz0A6erqhccDO90HbbjRs3DhvH5ZdfTv/+/XnnnXcYMmQITzzxBF27dqWkpOSwt6WqvPLKK3Tr1q3csv/85z8ce+yxbNmyJbBujx49+Oyzz8Juq76vNUVSUlJg3D/tv4Ye2iwxdFpVOeuss3jxxRfLbf+LL75gwYIFvPTSSzzyyCP8+9//LrdOZc0eX3jhBfLz81m6dCmpqal06NAhsK8qii3SuH+/lpSU0KxZM5YtWxb2fYP3h1bhGe+33HILw4YNY968eZx88sn861//YuDAgSxcuJB33nmHK6+8kptvvpnTTjuNadOmsXjxYpo3b86YMWM4ePBghe9R0XdeHQlRR+CXnu4uMnz3XawjMZXZuhUmTIBFi9xrdet1zjzzTObOncu2bdsA2LlzJ99/H7FX3iqVa9WqFStXrqSkpITXXnutSnGsX7+eTp06MXHiRM4//3y++eYbWrVqxbZt29ixYweHDh3i7bffrtK2hgwZwsMPPxw4cHz11VcAfP/99zz44IN89dVXzJ8/n88//5xu3bqRn58fSASFhYWsWLGiSu/j98MPPwTKv/jii5x66qlllp988sl88skngevw+/fv57vvvmPv3r3s2rWLc889l4ceeijsAXfgwIG88MILAMyfP5+ffvqp3Dq7du2iZcuWpKam8v7775f5/iqKbc6cOYHXAQMGlNtu06ZN6dixIy+//DLgDrZff/11hfuiSZMm7NmzJ+yydevW0atXLyZNmkR2djarVq3i+++/p2XLllxzzTWMGzeOL7/8kt27d9O4cWOOPvpotm7dyvz58wHo3r0769evZ+PGjWXih8jfeXUl3BkBwMqVrtLYxC/fVQIAZs6s/vbS09OZOnUqZ599NiUlJaSmpjJz5kzat29/xOXuu+8+hg8fTrt27ejZs2egYrQic+bM4fnnnyc1NZXWrVtz5513kpqaGqic7tixI927d6/SZ7rjjju44YYbyMjIQFXp0KEDb731FuPGjWPatGn84he/4Mknn2TMmDEsXryYuXPnMnHiRHbt2kVRURE33HADPXr0qNJ7AaSlpfHMM88wfvx4unTpQk5OTpnlLVq04Omnn2bUqFGBSytTp06lSZMmXHDBBYH/dqdPn15u25MnT2bUqFH07duXQYMGhe1K5oorruC8884jOzubzMzMMvupotgOHTpE//79KSkpCXu2Au5sIycnh6lTp1JYWMjIkSPpXcFBIiMjg5SUFHr37s2YMWPo06dPYNlDDz3E+++/T3JyMunp6Zxzzjm89NJLPPDAA6SmpnLUUUfx7LPP0rFjR/r06UOPHj3o1KlT4NJWw4YNefTRRxk6dCjHHXcc/fr1C2w73Hde1X8cKhSp8iBeh+pUFh886Coc77jjiDdhjlC4yitTe4RWaMeTimJr3759uUrn2mDPnj2qqlpSUqI5OTn65z//+bDKH25lcUJdGqpfHzp1cmcExhgTr2bPnk1mZiY9evRg165djB8/3tP3E61C5Uc8yc7O1urcxXjBBbBuHSwP+9w045WVK1dWu2WDMaZqwv29ichSVc0Ot35CnRGAqyf47juwmzSNMcZJyERQWOjOCowxxiRoIgCrJzDGGL+ESwT+FmeWCIwxxkm4RNC0KbRta4nAmJridTfUXgiO+dxzz+Xnn38ut86UKVMCXTlE8vrrr/Ptt98Gpu+8807+9a9/1Wis0ZBwiQDc5SFLBLVADPqhtm6oE8+8efNo1qzZEZUNTQR33303v/rVr2oosuhJ6EQQ1L2LiUc13A+1dUNdO7uhjrT//ebPn89//dd/BaY/+OADzjvvPCByN8/Bgs8+7r33Xrp168avfvUrVq9eHVhn9uzZnHTSSfTu3ZtLLrmE/fv38+mnn/Lmm29y8803k5mZybp16xgzZkygq+oFCxbQp08fevXqxdixYwN3W3fo0IHJkycHutP2d3kdU5HuNIvXoTp3Fvs99pjr1vj776u9KVNFZe50jEE/1NYNde3shrqi/e9XWFio7dq1C7zvhAkTAvslXDfPwTGrlt59vGTJEu3Zs6fu27dPd+3apZ07dw58xu3btwfe749//KPOmDFDVd13/fLLLweW+af9XUmvXr1aVVWvvPJKnT59euD9/OVnzpyp48aNC/v9Vod1Q10FwS2HwnRpYmLNg36orRvq2tkNdVX2f0pKCkOHDuWtt97i0ksv5Z133uH+++8HwnfznJGREXZ/fvTRR1x00UU0atSozD4BWL58Obfffjs///wze/fuZciQIWG34bd69Wo6duxI165dARg9ejQzZ87khhtuAODiiy8GICsrK/C5YykhE0F6untduRIq+T6NF2LQD7VaN9S1shvqivZ/sMsuu4yZM2dyzDHHcNJJJ9GkSRM2bNgQtpvnikTqCnvMmDG8/vrr9O7dm6effpoPPvigwu1oJT02+PdxcnJyXNT9JGQdQYsWcOyxEFTHY+JNDfdDbd1Q185uqKv6vQ0ePJgvv/yS2bNnB86gInXzHMnAgQN57bXXOHDgAHv27OGtt94KLNuzZw9t2rShsLAwECdE7o66e/fubNy4MbAvnnvuOQYNGlTh+8dS4iSCkBYo1nIozr36qut/undv91rN0+fg7qQzMjI466yzApWlR1rO3w31GWecUeYyS0XmzJlDz549yczMZNWqVfz6178u0w318OHDD6sb6sLCQjIyMujZsyd33HEHqlquG+qrr76akpIS5s6dy6RJk+jduzeZmZl8+umnVXofP39XzxkZGezcubPCbqgzMjI4+eSTWbVqFXv27GH48OFkZGQwaNCgiN1QL1y4kL59+/Lee+8FuqGu6veWnJzM8OHDmT9/fuDSU+/evQPdPI8dOzZwySqSvn37ctlll5GZmckll1zCaaedFlh2zz330L9/f84666wy38/IkSN54IEH6NOnD+uCuito0KABTz31FCNGjKBXr14kJSUxYcKEKuzl2EicTueuvRaeeMK9Pv44117rji0eNlU2QazTudpt48aNDB8+nOXWW2OtYJ3OhWrYEERg9mzX9uSvfwURHn2qITt2QH5+rAM0xpjYqvuJYP16uPxy9zACgHr14Ior+OjZDYBdHjKmKjp06GBnA3VY3U8Ebdq4fiUKC910YSE0bUrnU1oDVmEcTbXtMqQxtdGR/J3V/UQApS1QWrWCE0+EH3+kXTto3NjOCKKlQYMG7Nixw5KBMR5SVXbs2EGDBg0Oq1xi3Efgb3Gydq2rHX71VQTXE6klguho27Ytubm55FuljDGeatCgAW3btj2sMomRCPzS0lylse9u1fR0eP/9WAeVGFJTU+nYsWOswzDGhJEYl4b80tJg/37YtCkwmZsLu3fHOC5jjImhxEsEELge5J+Mh87/jDEmViwRYPUExpjE5mkiEJGhIrJaRNaKyC1hljcXkddE5BsR+UJEeobbTo3xdzLkO/J37gypqZYIjDGJzbNEICLJwEzgHCAdGCUi6SGr3QYsU9UM4NfAX/BaWlrgWlBKCnTtaonAGJPYvDwj6AesVdX1qloAvARcELJOOrAAQFVXAR1EpJWHMZXrbS4tzW4qM8YkNi8TwfHApqDpXN+8YF8DFwOISD+gPVCuAayIXCsiS0RkSbXboaeluXsJfL3NpaW5Xigq6abcGGPqLC8TQbgnPITeVnof0FxElgG/Bb4Cyj2lQVVnqWq2qma3aNGielGFqTAuKYE1a6q3WWOMqa28TAS5QLug6bbAluAVVHW3ql6lqpm4OoIWwAYPYyqXCIKfVmaMMYnIy0SwGOgiIh1FpB4wEngzeAURaeZbBnA1sFBVvb29q107aNQocOTv2tX1Um31BMaYROVZFxOqWiQi1wP/BJKBv6nqChGZ4Fv+OJAGPCsixcC3wDiv4glISoJu3QKJoGFD6NjRzgiMMYnL076GVHUeMC9k3uNB458BXbyMIay0NPj44zKTlgiMMYkqse4s9ktLgx9+gL17AVdP8N13UFwc47iMMSYGEjcRAKxeHZg8dAg2eFtNbYwxcSmxE0FIn0NWYWyMSUSJmQhOPBGSk63zOWOMIVETQb16Lhn4jvxHH+0ebWyJwBiTiBIzEUC5pkLp6ZYIjDGJKbETwdq1UFgYmFy5EuzZ6saYRJPYiaCoyCUD3+SePbB5c4zjMsaYKEvsRACBZxNYhbExJlElbiLo3t29WsshY0yCS9xEcNRRrgM635G/VSto3twSgTEm8SRuIgB3VuA78ovY08qMMYkpsROB//nFJSWBSTsjMMYkGksE+/ZBbm5gMj8fduyIcVzGGBNFlgjAnlZmjElolgjAWg4ZYxJaYieCFi3gmGMCR/4TTnBPsbQKY2NMIknsROBvKuRLBCFPsTTGmISQ2IkAyjUVspZDxphEY4kgLQ22b3cDrsI46CmWxhhT51kiiFBh7OuCyBhj6jxLBNZyyBiT4CwR+JsK+Y78J54IKSmWCIwxicMSgb+pkO9aUGoqdOliicAYkzgsEYC1HDLGJDRLBOB6If3+e9fvEKVPsSwoiHFcxhgTBZYIoLSGePXqwGRxMaxZE8OYjDEmSiwRgLUcMsYkNEsE4GqHk5MDR/7u3V3vE5YIjDGJwBIBQL160Llz4MjfqBG0b2+dzxljEoMlAj9rOWSMSVCWCPzS0lztcGFhYHL1aldpbIwxdZmniUBEhorIahFZKyK3hFl+tIi8JSJfi8gKEbnKy3gqlJYGRUWwbh3gOp87eNC1KjXGmLrMs0QgIsnATOAcIB0YJSLpIav9BvhWVXsDg4EHRaSeVzFVyFoOGWMSlJdnBP2Ataq6XlULgJeAC0LWUaCJiAhwFLATKPIwpsi6d3evIYnAKoyNMXWdl4ngeGBT0HSub16wR4A0YAvwH+B3qloSuiERuVZElojIkvz8fG+ibdIE2rYNJILmzaFVKzsjMMbUfV4mAgkzT0OmhwDLgF8AmcAjItK0XCHVWaqararZLVq0qOk4S1nLIWNMAvIyEeQC7YKm2+L+8w92FfCqOmuBDUB3D2OqWFqa64W0xJ2UpKe7RKCh6csYY+oQLxPBYqCLiHT0VQCPBN4MWecH4EwAEWkFdAPWexhTxbp3dx3Pbd4MuLywaxfk5cUsImOM8ZxniUBVi4DrgX8CK4F/qOoKEZkgIhN8q90D/FJE/gMsACap6navYqqUtRwyxiSgFC83rqrzgHkh8x4PGt8CnO1lDIcl+Mh/9tllJs88M3ZhGWOMl+zO4mAtW7rmQr5TgDZtoGlTOyMwxtRtlgiCiZRpKiRSWmFsjDF1lSWCUGGakNpNZcaYuqzSRCAiySLyfDSCiQtpaZCfDzt2BCa3boWffopxXMYY45FKE4GqFgMtYtYHULRZyyFjTIKpaquhjcAnIvImsM8/U1X/7EVQMRV85D/1VNLTSyd/+cvYhWWMMV6paiLY4huSgCbehRMH2reHhg0DpwDt20ODBlZPYIypu6qUCFT1Lq8DiRtJSdCtWyARJCeXmTTGmDqnSolARN6nfIdxqOoZNR5RPEhLg08/LTO5aFEM4zHGGA9V9dLQTUHjDYBLiNVzA6IhLQ1efNH1O9S4MWlpMGcO7N/vHmxvjDF1SVUvDS0NmfWJiHzoQTzxwV9hvHo19O1LerrrgXT1aujTJ7ahGWNMTavSDWUickzQcJyIDAFaexxb7NjTyowxCaSql4aW4uoIBHdJaAMwzqugYq5LF1dpvGpVYDI52SqMjTF1U1UvDXX0OpC4Ur8+dO4cOPLXq1dm0hhj6pSqXhpqJCK3i8gs33QXERnubWgxFtLnUKdOMH8+/PhjDGMyxhgPVLXTuaeAAsB/b20uMNWTiOJFWhqsWQNFrnHU1q1w4ABMmRLbsIwxpqZVNRF0VtX7gUIAVT1A+IfT1x1paVBYSEbjdYjAV1+52X/9q+ueumHD2IZnjDE1paqJoEBEGuK7qUxEOgOHPIsqHviaCn3w2Eouv9x1MwGuvuCKK2DDhhjGZowxNaiqiWAy8C7QTkRewD1f+A+eRRUPfE1Ij9m6kqZNoaDAzS4ocE8ta113G88aYxJMpa2GRCQJaA5cDJyMuyT0u5g+ZD4amjaF44+HlSvZuhcmTICFC91jCqzC2BhTl1SaCFS1RESuV9V/AO9EIab44Ws59OpiN/mb38Bzz8HcubENyxhjalJVLw39n4jcJCLtgu8y9jSyeJCW5m4qU9ffXlYW7NnjGhMZY0xdUdU7i8f6Xn8TNE+BTjUbTpxJS4O9eyE3F9q1IyvLzV661HVNbYwxdUFVnlmcBNyiqh1DhrqdBKDccyrT091Nx0tDu+AzxpharCrPLC6h7JlA4ghJBKmp0Lu3JQJjTN1idQQVadkSmjUr09VEVhZ8+SWUlMQuLGOMqUlVTQRjcWcFC3E9kS4FlngVVNwQKdfnkL/CeO3aGMZljDE1yHofrUxaGrz9dmAyuMK4a9cYxWSMMTWowjMCEflD0PiIkGX/41VQcSUtDbZtg507AejRwyqMjTF1S2WXhkYGjd8asmxoDccSn8JUGGdkWCIwxtQdlSUCiTAebrpuCkkEYBXGxpi6pbJEoBHGw02XIyJDRWS1iKwVkVvCLL9ZRJb5huUiUhx3rZHat3ddj4Ykgt27Yd26GMZljDE1pLJE0FtEdovIHiDDN+6f7lVRQRFJBmYC5wDpwCgRSQ9eR1UfUNVMVc3EXXr6UFV3HumH8URysruNOCQRgF0eMsbUDRUmAlVNVtWmqtpEVVN84/7p1Eq23Q9Yq6rrVbUAeAm4oIL1RwEvHl74URLShLRHD/dcAksExpi6oKr3ERyJ44FNQdO5vnnliEgjXOXzKxGWXysiS0RkSX5+fo0HWqm0NPj+e9i/H3BJwCqMjTF1hZeJIFxlcqR6hfOATyJdFlLVWaqararZLVq0qLEAqywtzfVAunp1YJa/wlgrrSkxxpj45mUiyAXaBU23BbZEWHck8XpZCCK2HNq1yyqMjTG1n5eJYDHQRUQ6ikg93MH+zdCVRORoYBDwhoexVE+XLpCUVCYRZGe7V7s8ZIyp7TxLBKpaBFwP/BNYCfxDVVeIyAQRmRC06kXAe6q6z6tYqq1+fejUySqMjTF1UlUfTHNEVHUeMC9k3uMh008DT3sZR43o2BHmz3cPLG7d2iqMjTF1hpeXhuqW/HzXamjKlMAsqzA2xtQFlggq07Ch64562TI3/de/uumGDcnKgp9/hvXrYxmgMcZUjyWCyqxfD5df7hKCX7t2sHSp3WFsjKkTLBFUpk0baNoUDh1yfQ6JuIfZn3UWvX78P6swNsbUepYIqmLrVpgwARYtgpwcGDwYmjYlddjZPNXsRr754mCsIzTGmCMmWstqOrOzs3XJkjh4Sub+/TBpEjzyCCuSe5H+5QtIRoX98BljTMyIyFJVzQ63zM4IjlSjRvDww8z/7TyOLd4GJ2XD9On2kAJjTK1jiaCaWo4+h178hy0ZQ+H3v4chQ2Dz5liHZYwxVWaJoJp69oRdqS14+IzXYdYs+PRT6NUL5s6NdWjGGFMllgiqqX59d9xf+qXANdfAV1/BiSfCiBFw1VXuUWbGGBPHLBHUgKws14RUFejaFT75BG6/HZ59FjIz3VlCXh4MGuS6qDDGmDhiiaAGZGXBTz/Bxo2+GampcM89sHChyw6nnQbnnQcffwx33x3LUI0xphxLBDUg4h3Gp5zizgRKStzCkhJ47LFAFxXGGBMPLBHUgF693ElA2DuMN2xwXVTUq1d2fkGByyDXXecuIX33nfVeZ4yJCU+7oU4U9eu71kNhE4G/i4qiItdFRUGBa2Laty98/jk8/7w7SwA45hjo1w9OPtkN/fpB8+ZuWV4ejBwJc+ZA69ZR+2zGmLrPEkENycqCV191/9RL6NOa/V1UXHuta2KalwdTp7plxcWwapXrvmLRIpcc7rqr9OygWzeXFDZsgI8+gltvhSefdE9MOxyWSIwxEVgXEzXk8cddN0QbNkCHDtXc2O7dsGSJSwx33BH5buU+fdxBvXVraNWqdDx4aNrUZabrrnNdaI8fD48+emRxWTIxptaqqIsJSwQ1ZPFidyVn7ly45JIa3HBeHvy//wevvQYHD7rKiK5d3ePRdu92zVF//NGddRQVVX27yclw551w1FGlQ5MmkadTUqqfTCyRGBMzFSUCuzRUQ3r1csfKpUtrOBG0aQNHH+3qFvx1DAMHlj8Ql5S4Nqz+xOAf1q6Fd9+FH35w64i4imsRmDz5yGJ67DE3JCfDTTdBixZw3HHlB//ZiN8995Q2oY1FIrHylohNeKpaq4asrCyNV5mZqmef7cGGL7pI9brrVJctc68XXXR45SdMUE1KUm3QwL3m5Lj5RUWqP/+smpurumqV6pIlqh98oPrWW6ovvqg6e7bq9OmqN9+smpammpysCm4bzZqptmypmprq5oUbUlJUW7dWFQm/PDlZ9Y47VO+9V/XBB1VnzlR98knVF15QfeUV1XfeUV2wQPWTT1SXLlW97DK3rSuuUN20SfXHH1V37FDdvVv1wAH3eSqSk1P28x+uRC+/ZYvqwIGqeXlWvhaWB5ZohOOqXRqqQVdfDa+/7h5vXK7COJYuvtidWQRXVr/66uFtIyfHla1Xz52V+C8PqcKePbB9e+Rh0yZ3qrR9e2kleGqqO6M4WMPPchBxp2apqaXD9u2R1x040H2m1NSyr8Hjjz3mKvVDpaTAvfe6ivukJPd5wo1fdx0UFpYvn5oKM2a4MzX/UFxcfnry5PCX/ZKTYeLE0jLFxeHH//738PVMKSlw//1lLweGu0RYU5cGrXxMy1sdQZQ89pj7rjZuhPbtYx1NDatuMqkokRQWuoQQadi82dXGL1rkytar57ruuPBC1x14YWHZoaio7PSuXfDZZ+7yWHGxO4C2agWdO7sDdUGBGwoLy4/7YztwIL7u80hKcu2Wk5NLB38CCh0vKYEdO2Dv3tLPkJRUM12md+hQmvBCE6B/WLYs/L4TcRVr/mXB6wSPB/pvCbMPBg9275mSUvp5g8eTk+HFF8Mn8uRk15rPH4t/CJ2eMSNy+Ztuqrz8n/4UPpGnpMCUKe5zBK8fOkyaFL58gwbud1lFlgii5IsvoH9/eOUVd9w0QbxKJLEqf8018NBD4f+TD/df/W23uQOSv/wVV8B994U/eIabvv56mD27Zj//jBkuOVQ2bNkCb78Na9a4A1JysvtPJzvbHYzCfebgz75/P6xc6Ro0lJS4z9SyJXTv7pIZlD2A+vnHDx50Tax//LG0fIsW0KmTG/ef/RQVhR8/dMjVnwUfNOvVg8aNXfngC5ZQftq/jeBkkJTkDuQilZev6WNso0Zw0UUwbdph1fVUlAhifs3/cId4riM4cMBdFr/ttlhHUgdVt57EyntTz2Tlj6z8+PGqBQWqhw6pHjyoun+/6r59qnv3qu7Z4+q9du1ydXg7d6qOGVO991erI4iqzEyXpN99N9aRGFODqntGZ+VjWx67NBRV48bBm2/Ctm1xVmFsjElo9sziKMrKKm0oY4wxtYElghoWsUtqY4yJU5YIalhGhmtUYYnAGFNbWCKoYQ0bQo8elgiMMbWHJQIPlHmGsTHGxDlLBB7IynLdTOTmxjoSY4ypnKeJQESGishqEVkrIrdEWGewiCwTkRUi8qGX8USLVRgbY2oTzxKBiCQDM4FzgHRglIikh6zTDHgUOF9VewAjvIonmnr3tgpjY0zt4eUZQT9graquV9UC4CXggpB1LgdeVdUfAFR1m4fxRE3DhpCebonAGFM7eJkIjgeCb6vK9c0L1hVoLiIfiMhSEfl1uA2JyLUiskREluTn53sUbs2yCmNjTG3hZSII18FC6GExBcgChgFDgDtEpGu5QqqzVDVbVbNbtGhR85F6ICvLdTOxeXOsIzHGmIp5mQhygXZB022BLWHWeVdV96nqdmAh0NvDmKLGKoyNMbWFl4lgMdBFRDqKSD1gJPBmyDpvAKeJSIqINAL6Ays9jClqevd2XZZbIjDGxDvPHl6vqkUicj3wTyAZ+JuqrhCRCb7lj6vqShF5F/gGKAGeUNXlXsUUTY0aWYWxMaZ28CwRAKjqPGBeyLzHQ6YfAB7wMo5YycpyzyVQtS6pjTHxy+4s9lBWlns635bQmhFjjIkjlgg8ZBXGxpjawBKBhzIzrcLYGBP/LBF4qFEjSEuzRGCMiW+WCDzmv8PYGGPilSUCj2VlwY8/WoWxMSZ+WSLwmFUYG2PinSUCj1mFsTEm3lki8FjjxtC9uyUCY0z8skQQBVZhbIyJZ5YIoiArC/Ly3GCMMfHGEkEUWIWxMSaeWSKIgsxM1+mcJQJjTDyyRBAFRx0FnTvDjBnungJjjIknlgiiRAR27oS77451JMYYU5YlAo81bOiSwJo1bvqxx9x0w4axjcsYY/wsEXhs/Xq4/HJo0KB03jnnwIYNsYvJGGOCWSLwWJs20LQpFBRAvXpu3nvvwcKFsY3LGGP8LBFEwdatMGECfPEFjBkDRx8Nl10Gd94JJSWxjs4Yk+g8fWaxcV59tXT8qafg0CG47jq45x5Yvhyefda1LDLGmFiwM4IYqF8fnngCpk+HN96AU06BjRtjHZUxJlFZIogREbjhBpg3D77/Hk46CT76KNZRGWMSkSWCGBsyBD7/HI45Bs48050pGGNMNFkiiAPdusGiRXD66XDNNTBxIhQVxToqY0yisEQQJ5o3h3fegRtvhIcfdvca7NwZ66iMMYnAEkEcSUmBP/8ZnnwSPvwQ+veHlStjHZUxpq6zRBCHxo6F99+H3bvh5JNdhXJeHgwaZJ3WGWNqniWCOHXKKbB4MXTqBMOHwyWXwMcfW6d1xpiaJ6oa6xgOS3Z2ti5ZsiTWYURNgwbuBrRw8w8ciH48xpjaSUSWqmp2uGV2RhDnNmyAUaNc/UGwpCR378Ho0XDffe7GtO++i9zayC4tGWMisUQQ59q0cX0TlZS4O5JF4LTTYNw4aNYMFiyAW2+FCy90zVAbN4aePWHECNeX0Usvwddfw+TJ1b+0VN1kUtvLG1NnqapnAzAUWA2sBW4Js3wwsAtY5hvurGybWVlZmmguukj1uutUly1zrxddVHb5zz+rLlqk+tRTqn/4g+p556meeKJqUpIqhB+SklSvvlr1pptUp05VfeQR1RdeUH3nHdVPPlFdsUJ182bVfftUS0rc++TkuHI5OUf2OWp7+S1bVAcOVM3Ls/JWvvaVB5ZohOOqZ3UEIpIMfAecBeQCi4FRqvpt0DqDgZtUdXhVt5todQTVcfAgfPqpOzP4/HN32Sgpyd3F3Lw57N0LP/985HUNIq5VU0pKxcM//gHFxeXLJye7zveSkty2wr0mJcH994e/5JWSAg8+6Lbjf69w45ddBoWF5cvXq+e6BA9930ix/M//wNy5cOmlcMcdpfugqq9TpsCcOTByJNx1V9n9GO41dN4dd8ALL8CVV8IDD7jP5/+MweNJEc7zr7sO/vpXGD8eHn00/DoVsfK1u3xFdQReJoIBwBRVHeKbvhVAVf8UtM5gLBF4LicHZs1yB76CgvI/pEOHYNculxTCDbm58O677iE7xcXugNO6tbsUlZzsDtIVDQcPwo4dsH9/6XvWqweNGrkDXEmJG1TDvxYXu3FTdcGJIXi/h2rVqmyyCTeemxu+rAiccELpeLjl4DpUDPf9iUDHjuHLBFu/PnL5zp0rL792beTyXbqUnx9qzZrI5bt2rfz9V6+OXL5798rff9Wq8OUPt8FIRYnAy26ojwc2BU3nAv3DrDdARL4GtuCSworQFUTkWuBagBP8vzxTZf7nIVx7rUsIeXlll9evDy1buiGSnBxYt879+AoK4PzzD++/ktBkNG5c9cqPHevOBvzJpri44vF774XXX4fUVHd2cN557i7uSAkoeHz7dtd9+Oeflz5gqH9/95958+alf6SRXnfudP/JL1lSWj472z257uijw5cJHv/pJ3cm8eWXrnxqKmRmuu+gcePSz1hcXH68uNgl+Q8/dAfUoiKXIDp2hAEDSh+Z6v/M4cb373fP0vjhh9J/BE44wTVWaNgw/EEqeF7fvrB0KWzaVFq+XTvIyir7yNZIyb53b/fZQ8v36VO18j16wFdfuYTmL9+2rduHVXlkbFqaK795c2n5448vXz7S+3fp4urpQsv37l32yYWRdO7sym/Z4so3agQXXQTTplVetsoiXTOq7gCMAJ4Imr4SeDhknabAUb7xc4E1lW03EesI4kFl9RR1vfyECa5+oUGDI6tnsPJWPpblVSuuI/DyjCAXaBc03Rb3X39wEtodND5PRB4VkeNUdbuHcZkjEPxwnZkzE698ZWdVVt7Kx3P5ynhZR5CCqyw+E9iMqyy+XIMu/YhIa2CrqqqI9APmAu21gqCsjsAYYw5fTOoIVLVIRK4H/gkkA39T1RUiMsG3/HHgUiBHRIqAA8DIipKAMcaYmmddTBhjTAKwLiaMMcZEZInAGGMSnCUCY4xJcJYIjDEmwdW6ymIRyQe+j3UcERwHxPM9EPEeH8R/jBZf9Vh81VOd+NqraotwC2pdIohnIrIkUq18PIj3+CD+Y7T4qsfiqx6v4rNLQ8YYk+AsERhjTIKzRFCzZsU6gErEe3wQ/zFafNVj8VWPJ/FZHYExxiQ4OyMwxpgEZ4nAGGMSnCWCwyQi7UTkfRFZKSIrROR3YdYZLCK7RGSZb7gzyjFuFJH/+N67XA994swQkbUi8o2I9I1ibN2C9ssyEdktIjeErBP1/ScifxORbSKyPGjeMSLyfyKyxvfaPELZoSKy2rc/b4lifA+IyCrfd/iaiDSLULbC34OH8U0Rkc1B3+O5EcrGav/NCYpto4gsi1DW0/0X6ZgS1d9fpCfW2BDxyWttgL6+8Sa4Zy6kh6wzGHg7hjFuBI6rYPm5wHxAgJOBz2MUZzLwI+5Gl5juP2Ag0BdYHjTvfuAW3/gtwP9G+AzrgE5APeDr0N+Dh/GdDaT4xv83XHxV+T14GN8U3ONnK/sNxGT/hSx/ELgzFvsv0jElmr8/OyM4TKqap6pf+sb3ACtxz2euTS4AnlVnEdBMRNrEII4zgXWqGvM7xVV1IbAzZPYFwDO+8WeAC8MU7QesVdX1qloAvOQr53l8qvqeqhb5JhfhngIYExH2X1XEbP/5iYgA/wW8WNPvWxUVHFOi9vuzRFANItIB6AN8HmbxABH5WkTmi0iP6EaGAu+JyFIRuTbM8uOBTUHTucQmmY0k8h9fLPefXytVzQP3xwq0DLNOvOzLsbizvHAq+z146Xrfpau/Rbi0EQ/77zTckxLXRFgetf0XckyJ2u/PEsEREpGjgFeAGzTo2cs+X+Iud/QGHgZej3J4p6hqX+Ac4DciMjBkuYQpE9V2xCJSDzgfeDnM4ljvv8MRD/vyj0AR8EKEVSr7PXjlMaAzkAnk4S6/hIr5/gNGUfHZQFT2XyXHlIjFwsw77P1nieAIiEgq7gt7QVVfDV2uqrtVda9vfB6QKiLHRSs+Vd3ie90GvIY7fQyWC7QLmm4LbIlOdAHnAF+q6tbQBbHef0G2+i+Z+V63hVknpvtSREYDw4Er1HfROFQVfg+eUNWtqlqsqiXA7AjvG+v9lwJcDMyJtE409l+EY0rUfn+WCA6T73rik8BKVf1zhHVa+9ZDRPrh9vOOKMXXWESa+MdxFYrLQ1Z7E/i1OCcDu/ynoFEU8b+wWO6/EG8Co33jo4E3wqyzGOgiIh19ZzkjfeU8JyJDgUnA+aq6P8I6Vfk9eBVfcL3TRRHeN2b7z+dXwCpVzQ23MBr7r4JjSvR+f17VhNfVATgVd+r1DbDMN5wLTAAm+Na5HliBq8FfBPwyivF18r3v174Y/uibHxyfADNxrQ3+A2RHeR82wh3Yjw6aF9P9h0tKeUAh7r+sccCxwAJgje/1GN+6vwDmBZU9F9fSY51/f0cpvrW468P+3+HjofFF+j1EKb7nfL+vb3AHpzbxtP9885/2/+6C1o3q/qvgmBK13591MWGMMQnOLg0ZY0yCs0RgjDEJzhKBMcYkOEsExhiT4CwRGGNMgrNEYIyPiBRL2Z5Ra6wnTBHpENzzpTHxJCXWARgTRw6oamasgzAm2uyMwJhK+Pqj/18R+cI3nOib315EFvg6VVsgIif45rcS93yAr33DL32bShaR2b4+598TkYa+9SeKyLe+7bwUo49pEpglAmNKNQy5NHRZ0LLdqtoPeAR4yDfvEVx33hm4Dt9m+ObPAD5U12leX9wdqQBdgJmq2gP4GbjEN/8WoI9vOxO8+WjGRGZ3FhvjIyJ7VfWoMPM3Ameo6npf52A/quqxIrId121CoW9+nqoeJyL5QFtVPRS0jQ7A/6lqF9/0JCBVVaeKyLvAXlwvq6+rr8M9Y6LFzgiMqRqNMB5pnXAOBY0XU1pHNwzX91MWsNTXI6YxUWOJwJiquSzo9TPf+Ke43h4BrgA+9o0vAHIARCRZRJpG2qiIJAHtVPV94A9AM6DcWYkxXrL/PIwp1VDKPsD8XVX1NyGtLyKf4/55GuWbNxH4m4jcDOQDV/nm/w6YJSLjcP/55+B6vgwnGXheRI7G9Qo7XVV/rqHPY0yVWB2BMZXw1RFkq+r2WMdijBfs0pAxxiQ4OyMwxpgEZ2cExhiT4CwRGGNMgrNEYIwxCc4SgTHGJDhLBMYYk+D+PytVdl/joUCcAAAAAElFTkSuQmCC\n",
      "text/plain": [
       "<Figure size 432x288 with 1 Axes>"
      ]
     },
     "metadata": {
      "needs_background": "light"
     },
     "output_type": "display_data"
    }
   ],
   "source": [
    "import matplotlib.pyplot as plt\n",
    "\n",
    "loss = history_dict['loss']\n",
    "val_loss = history_dict['val_loss']\n",
    "\n",
    "epochs = range(1, len(loss) + 1)\n",
    "\n",
    "# draw the loss evolution in blue\n",
    "plt.plot(epochs, loss, 'b-*', label='erreur sur exemples d\\'apprentissage')\n",
    "# draw the accuracy evolution in blue\n",
    "plt.plot(epochs, val_loss, 'r-*', label='erreur sur exemples de validation')\n",
    "plt.title('Erreur')\n",
    "plt.xlabel('Epochs')\n",
    "plt.ylabel('Erreur')\n",
    "plt.legend()\n",
    "\n",
    "plt.show()"
   ]
  },
  {
   "cell_type": "code",
   "execution_count": 23,
   "metadata": {},
   "outputs": [
    {
     "data": {
      "image/png": "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\n",
      "text/plain": [
       "<Figure size 432x288 with 1 Axes>"
      ]
     },
     "metadata": {
      "needs_background": "light"
     },
     "output_type": "display_data"
    }
   ],
   "source": [
    "acc = history_dict['accuracy']\n",
    "val_acc = history_dict['val_accuracy']\n",
    "\n",
    "epochs = range(1, len(loss) + 1)\n",
    "\n",
    "# draw the loss evolution in blue\n",
    "plt.plot(epochs, acc, 'b-*', label='précision sur exemples d\\'apprentissage')\n",
    "# draw the accuracy evolution in blue\n",
    "plt.plot(epochs, val_acc, 'r-*', label='précision sur exemples de validation')\n",
    "plt.title('précision')\n",
    "plt.xlabel('Epochs')\n",
    "plt.ylabel('précision')\n",
    "plt.legend()\n",
    "\n",
    "plt.show()"
   ]
  },
  {
   "cell_type": "markdown",
   "metadata": {},
   "source": [
    "### Evaluer le modèle sur l'exemple d'entrainement"
   ]
  },
  {
   "cell_type": "code",
   "execution_count": 24,
   "metadata": {
    "colab": {},
    "colab_type": "code",
    "id": "KVnJJYscmH4v"
   },
   "outputs": [
    {
     "name": "stdout",
     "output_type": "stream",
     "text": [
      "Précision sur exemples de test: 88.999999\n"
     ]
    }
   ],
   "source": [
    "# evaluate\n",
    "loss, acc = model.evaluate(xTest, yTest, verbose=0)\n",
    "print('Précision sur exemples de test: %f' % (acc*100))"
   ]
  },
  {
   "cell_type": "markdown",
   "metadata": {
    "colab_type": "text",
    "id": "ObKC8oW7mROA"
   },
   "source": [
    "---\n",
    "## Estimation automatique\n",
    "Bonus. \n",
    "Réalisez un code qui permet à partir d'une fichier contenant des titres de thèses de créer un ficher csv indiquant le classement proposé, et la valeur du classement (entre 0 & 1).\n",
    "Un classement entre 0.4 & 0.6 sera douteux et indiqué par '?'\n"
   ]
  },
  {
   "cell_type": "markdown",
   "metadata": {},
   "source": [
    "---\n",
    "---\n",
    "## TRAVAIL A RENDRE\n",
    "\n",
    "* Vous devrez tester différentes architectures de réseau, ainsi que différentes configuration (fonctions d'activation, méthodes de correction d'erreur, méthode de calcul de l'erreur, ...)\n",
    "* Vous enverrez un fichier contenant pour chaque définition de réseau :\n",
    "    * l'architecture du réseau (un copier coller du bloc 'TODO: définir la structure du réseau')\n",
    "    * le déroulé de l'apprentissage (un copier coller du bloc résultat de 'TODO tester differents nb de tests (epochs)'\n",
    "    * le résultat de 'Test Accuracy'\n",
    "\n",
    "Au minimum 3 différents réseaux devront être fournis"
   ]
  }
 ],
 "metadata": {
  "colab": {
   "collapsed_sections": [],
   "name": "Copie de TP_DeepLearningM1TNSI.ipynb",
   "provenance": [],
   "toc_visible": true,
   "version": "0.3.2"
  },
  "kernelspec": {
   "display_name": "Python 3",
   "language": "python",
   "name": "python3"
  },
  "language_info": {
   "codemirror_mode": {
    "name": "ipython",
    "version": 3
   },
   "file_extension": ".py",
   "mimetype": "text/x-python",
   "name": "python",
   "nbconvert_exporter": "python",
   "pygments_lexer": "ipython3",
   "version": "3.8.2"
  }
 },
 "nbformat": 4,
 "nbformat_minor": 4
}
