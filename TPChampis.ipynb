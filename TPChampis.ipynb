{
 "cells": [
  {
   "cell_type": "markdown",
   "metadata": {
    "colab_type": "text",
    "id": "fVNE4BGIsOlY"
   },
   "source": [
    "# Classement automatique de champignons par réseau de neurones\n",
    "\n",
    "L’objectif de ce TP est de développer un modèle de prédiction de la comestibilité ou dangerosité de champignons à partir de caractéristiques générale,  à l'aide d’un apprentissage automatique par réseau de neurones."
   ]
  },
  {
   "cell_type": "markdown",
   "metadata": {
    "colab_type": "text",
    "id": "QQ5vas82illV"
   },
   "source": [
    "## Ensemble de données \n",
    "Le tp utilisera un ensemble de données issues du site de dépôt de dataset [Kaggle](https://www.kaggle.com/datasets).\n",
    "\n",
    "Plus précisément, vous utiliserez le dataset [\"mushroom classification\"](https://www.kaggle.com/datasets/uciml/mushroom-classification).\n",
    "\n",
    "Ce dataset contient des classifications de champignons en 2 classes : vénéneux, comestibles.\n",
    "\n",
    "Récupérez le data set associé : [mushrooms](mushrooms.csv) provenant de Kaggle, et proposez un outil permettant une classification efficace (ne tenant compte que des paramètres réellement discriminants) basé sur un réseau de neurones .\n",
    "\n",
    "\n"
   ]
  },
  {
   "cell_type": "markdown",
   "metadata": {
    "colab_type": "text",
    "id": "AWFXrAtkvcg_"
   },
   "source": [
    "---\n",
    "Si vous utisez colab, vous devrez charger vos fichiers de données dans votre Drive Google.\n",
    "\n",
    "Pour pouvoir les utiliser, il vous faut monter le répertoir drive pour qu'il soit accessible par colab.\n",
    "Exécutez le code suivant,  une clé vous sera demandée. Il vous suffit de suivre le lien, de sélectionner votre profile pour obtenir votre clé que vous copierez dans le champs prévu."
   ]
  },
  {
   "cell_type": "code",
   "execution_count": null,
   "metadata": {
    "colab": {
     "base_uri": "https://localhost:8080/",
     "height": 74
    },
    "colab_type": "code",
    "id": "4TodTL602bBv",
    "outputId": "cbc50963-1484-4189-b87b-b0d7d60af79c"
   },
   "outputs": [],
   "source": [
    "#bloc à exécuter si vous utilisez colab\n",
    "from google.colab import drive, files\n",
    "\n",
    "drive.mount('/content/drive')"
   ]
  },
  {
   "cell_type": "markdown",
   "metadata": {},
   "source": [
    "---\n",
    "### TensorBoard\n",
    "\n",
    "<span style=\"background-color:yellow\">Utilisez un \"TensorBoard\"</span> pour représenter les courbes d'apprentissage..\n",
    "(cf. exemple [Detection d'Alertes avec TensorBoard](https://github.com/EmmanuelADAM/IntelligenceArtificiellePython/blob/master/SolutionDetectionAlertesTensorBoard.ipynb) )\n",
    "\n",
    "(dupliquez votre fichier notebook pour en créer un nouveau)"
   ]
  },
  {
   "cell_type": "markdown",
   "metadata": {},
   "source": [
    "\n",
    "---\n",
    "## <span style=\"color:red;background-color:yellow\">TRAVAIL A RENDRE</span>\n",
    "\n",
    "* Vous devrez tester 5 différentes architectures de réseau (nb de couches), ainsi que différentes configurations (fonctions d'activation, méthodes de correction d'erreur, méthode de calcul de l'erreur)\n",
    "* Tentez d'expliquez les différences de résultat\n",
    "* les exemples de base sont trop important pour être tous intégrés en un seul cycle d'apprentissage. Proposez un soltion permettant d'utiliser totalement les données du fichier fourni.\n",
    "* Vous enverrez un fichier pdf pour chaque configuration contenant les diagramme :\n",
    "    * l'architecture du réseau (un copier coller du bloc 'TODO: définir la structure du réseau')\n",
    "    * le déroulé de l'apprentissage (un copier coller du bloc résultat de 'TODO tester differents nb de tests (epochs)'\n",
    "    * le résultat de 'Test Accuracy'\n",
    "\n"
   ]
  }
 ],
 "metadata": {
  "colab": {
   "collapsed_sections": [],
   "name": "Copie de TP_DeepLearningM1TNSI.ipynb",
   "provenance": [],
   "toc_visible": true,
   "version": "0.3.2"
  },
  "kernelspec": {
   "display_name": "Python 3 (ipykernel)",
   "language": "python",
   "name": "python3"
  },
  "language_info": {
   "codemirror_mode": {
    "name": "ipython",
    "version": 3
   },
   "file_extension": ".py",
   "mimetype": "text/x-python",
   "name": "python",
   "nbconvert_exporter": "python",
   "pygments_lexer": "ipython3",
   "version": "3.9.15"
  }
 },
 "nbformat": 4,
 "nbformat_minor": 4
}
