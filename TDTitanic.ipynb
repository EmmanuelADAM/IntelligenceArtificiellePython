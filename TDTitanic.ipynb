{
 "cells": [
  {
   "cell_type": "markdown",
   "metadata": {
    "colab_type": "text",
    "id": "QQ5vas82illV"
   },
   "source": [
    "<a href=\"https://colab.research.google.com/github/EmmanuelADAM/IntelligenceArtificiellePython/blob/master/TDTitanic.ipynb\" target=\"_parent\"><img src=\"https://colab.research.google.com/assets/colab-badge.svg\" alt=\"Open In Colab\"/></a>\n",
    "---\n",
    "# Classification de chance de survie au Titanic\n",
    "\n",
    "## Données du naufrage \n",
    "Le TD utilisera l'ensemble de données issues de \n",
    "[Titanic Dataset](https://www.kaggle.com/datasets/sakshisatre/titanic-dataset?select=The+Titanic+dataset.csv) que vous devez télécharger (il vous faudra créer un compte (gratuit)).\n",
    "\n",
    "Ce fichier CSV contient presque 1300 données sur les voyageurs présents sur le Titanic. Pour chaque personne il y a: \n",
    " - le nom, la classe, la survie,  le genre, l'âge, le nombre de personnes (si voyage en famille), le prix du ticket et le type de cabine."
   ]
  },
  {
   "cell_type": "markdown",
   "metadata": {},
   "source": [
    "---\n",
    "Vous vous baserez sur les  solutions données à la création de réseaux de neurones.\n",
    "\n",
    "- Vous utiliserez les colonnes pclass, survived, gender, age, family, fare, embarked.\n",
    "  - la colonne survived étant la sortie.\n"
   ]
  },
  {
   "cell_type": "markdown",
   "metadata": {},
   "source": [
    "----\n",
    "Vous utiliserez **la bibliothèque Pandas** pour récupérer les valeurs."
   ]
  },
  {
   "cell_type": "code",
   "execution_count": null,
   "metadata": {},
   "outputs": [],
   "source": [
    "import pandas as pd\n",
    "\n",
    "#################\n",
    "#lire un fichier csv\n",
    "filename=\"The Titanic dataset.csv\"\n",
    "df = pd.read_csv(filename)\n",
    "\n",
    "#lire un fichier csv où les valeurs sont séparées par des tabulation sous un encodate ISO 8859-1\n",
    "#df = pd.read_csv(filename, sep='\\t', encoding='ISO-8859-1')\n",
    "\n",
    "\n",
    "#################\n",
    "#extraire les colonnes\n",
    "col_class = df['pclass']"
   ]
  },
  {
   "cell_type": "markdown",
   "metadata": {},
   "source": [
    "----\n",
    "### Normalisation des données.\n",
    "\n",
    "Il faut donner en entrée du réseau de neurone un vecteur de réels entre  0 et 1.\n",
    "- Il faut donc normaliser les valeurs.\n",
    "- Ainsi l'exemple 1 : \n",
    "  - [3, male, 42, 0, 7.55] devient [1, 1, 0.525,0,0.08] (3/3 (classe max), 42/80 (age max), 7.55/93 (prix max), male=1, female=0,embarked=0 si pas de cabine, 1 pour cabine S, 2 pour C, 3 pour Q)\n",
    "  - la sortie de l'exemple 1 est [0]"
   ]
  },
  {
   "cell_type": "markdown",
   "metadata": {},
   "source": [
    "---\n",
    "### Classification\n",
    "Créer le réseaux de neurones de votre choix.\n",
    "Garder 0.2% des exemples comme valeurs de tests.\n"
   ]
  }
 ],
 "metadata": {
  "colab": {
   "collapsed_sections": [],
   "name": "Copie de TP_DeepLearningM1TNSI.ipynb",
   "provenance": [],
   "toc_visible": true,
   "version": "0.3.2"
  },
  "kernelspec": {
   "display_name": "Python 3 (ipykernel)",
   "language": "python",
   "name": "python3"
  },
  "language_info": {
   "codemirror_mode": {
    "name": "ipython",
    "version": 3
   },
   "file_extension": ".py",
   "mimetype": "text/x-python",
   "name": "python",
   "nbconvert_exporter": "python",
   "pygments_lexer": "ipython3",
   "version": "3.11.7"
  }
 },
 "nbformat": 4,
 "nbformat_minor": 4
}
