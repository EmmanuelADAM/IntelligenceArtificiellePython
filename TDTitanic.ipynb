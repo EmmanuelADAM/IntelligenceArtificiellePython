{
 "cells": [
  {
   "cell_type": "markdown",
   "metadata": {
    "colab_type": "text",
    "id": "QQ5vas82illV"
   },
   "source": [
    "<a href=\"https://colab.research.google.com/github/EmmanuelADAM/IntelligenceArtificiellePython/blob/master/TDTitanic.ipynb\" target=\"_parent\"><img src=\"https://colab.research.google.com/assets/colab-badge.svg\" alt=\"Open In Colab\"/></a>\n",
    "---\n",
    "# Classification de chance de survie au Titanic\n",
    "\n",
    "## Données du naufrage \n",
    "Le TD utilisera l'ensemble de données issues de \n",
    "[Titanic Dataset](https://www.kaggle.com/datasets/sakshisatre/titanic-dataset?select=The+Titanic+dataset.csv) que vous devez télécharger (il vous faudra créer un compte (gratuit)).\n",
    "\n",
    "Ce fichier CSV contient presque 1300 données sur les voyageurs présents sur le Titanic. Pour chaque personne il y a: \n",
    " - le nom, la classe, la survie,  le genre, l'âge, le nombre de personnes (si voyage en famille), le prix du ticket et le type de cabine."
   ]
  },
  {
   "cell_type": "markdown",
   "metadata": {},
   "source": [
    "---\n",
    "Vous vous baserez sur les  solutions données à la création de réseaux de neurones.\n",
    "\n",
    "- Vous utiliserez les colonnes pclass, survived, gender, age, family, fare, embarked.\n",
    "  - la colonne survived étant la sortie.\n"
   ]
  },
  {
   "cell_type": "code",
   "execution_count": 2,
   "metadata": {},
   "outputs": [],
   "source": [
    "#quelques imports utiles\n",
    "import numpy as np\n",
    "import random as rnd"
   ]
  },
  {
   "cell_type": "markdown",
   "metadata": {},
   "source": [
    "----\n",
    "Vous utiliserez **la bibliothèque Pandas** pour récupérer les valeurs."
   ]
  },
  {
   "cell_type": "code",
   "execution_count": 3,
   "metadata": {},
   "outputs": [],
   "source": [
    "import pandas as pd\n",
    "\n",
    "#################\n",
    "#lire un fichier csv\n",
    "filename=\"The Titanic dataset.csv\"\n",
    "df = pd.read_csv(filename)\n",
    "\n",
    "#lire un fichier csv où les valeurs sont séparées par des tabulation sous un encodate ISO 8859-1\n",
    "#df = pd.read_csv(filename, sep='\\t', encoding='ISO-8859-1')\n"
   ]
  },
  {
   "cell_type": "markdown",
   "metadata": {},
   "source": [
    "----\n",
    "### Normalisation des données.\n",
    "\n",
    "Il faut donner en entrée du réseau de neurone un vecteur de réels entre  0 et 1.\n",
    "- Il faut donc normaliser les valeurs.\n",
    "- Ainsi l'exemple 1 :\n",
    "  - classe 3, homme, 42 ans, seul, tarif 7.55 £ (env 9000€ actuels)\n",
    "  - [3, male, 42, 0, 7.55] devient [1., 0., 0.0147, 0.525, 0. , 0.] (3/3 (val classe max), 0 (on fixe male=0, female=1), 7.55/512.3 (prix max), 42/80 (age max), 0/6(max accompagnants), embarked=0 (on fixe 0 si pas de cabine, 1 pour cabine S, 2 pour C, 3 pour Q))\n",
    "  - la sortie de l'exemple 1 est [0] (décès)"
   ]
  },
  {
   "cell_type": "code",
   "execution_count": 4,
   "metadata": {},
   "outputs": [],
   "source": [
    "#################\n",
    "#extraire les colonnes\n",
    "####### CLASSE\n",
    "col_classe = df['pclass'].copy()"
   ]
  },
  {
   "cell_type": "code",
   "execution_count": 5,
   "metadata": {},
   "outputs": [
    {
     "data": {
      "text/plain": [
       "0    3\n",
       "1    3\n",
       "2    3\n",
       "3    2\n",
       "4    3\n",
       "Name: pclass, dtype: int64"
      ]
     },
     "execution_count": 5,
     "metadata": {},
     "output_type": "execute_result"
    }
   ],
   "source": [
    "#petite verification \n",
    "col_classe[0:5]"
   ]
  },
  {
   "cell_type": "code",
   "execution_count": 6,
   "metadata": {},
   "outputs": [
    {
     "name": "stdout",
     "output_type": "stream",
     "text": [
      "3\n"
     ]
    }
   ],
   "source": [
    "#normalisation simple\n",
    "maxi_classe = col_classe.max()\n",
    "print(maxi_classe)\n",
    "col_classe = col_classe/maxi_classe"
   ]
  },
  {
   "cell_type": "code",
   "execution_count": 7,
   "metadata": {},
   "outputs": [
    {
     "data": {
      "text/plain": [
       "0    1.000000\n",
       "1    1.000000\n",
       "2    1.000000\n",
       "3    0.666667\n",
       "4    1.000000\n",
       "Name: pclass, dtype: float64"
      ]
     },
     "execution_count": 7,
     "metadata": {},
     "output_type": "execute_result"
    }
   ],
   "source": [
    "#petite verification \n",
    "col_classe[0:5]"
   ]
  },
  {
   "cell_type": "code",
   "execution_count": 8,
   "metadata": {},
   "outputs": [],
   "source": [
    "####### FAMILLE\n",
    "col_family = df['family'].copy()"
   ]
  },
  {
   "cell_type": "code",
   "execution_count": 31,
   "metadata": {},
   "outputs": [],
   "source": [
    "#traitement des éventuelles cases vides et normalisation\n",
    "maxi_family = col_family.max()\n",
    "\n",
    "for i in range(col_family.size):\n",
    "    if col_family[i] != col_family[i]: #si une valeur est nulle, choisir une valeur aléatoire parmi les valeurs de family\n",
    "        col_family[i] = float(rnd.randint(0,int(maxi_family)))\n",
    "\n",
    "col_family = col_family/maxi_family"
   ]
  },
  {
   "cell_type": "code",
   "execution_count": 9,
   "metadata": {},
   "outputs": [],
   "source": [
    "####### PRIX\n",
    "col_fare = df['fare'].copy()"
   ]
  },
  {
   "cell_type": "code",
   "execution_count": 10,
   "metadata": {},
   "outputs": [],
   "source": [
    "#traitement des éventuelles cases vides et normalisation\n",
    "maxi_fare = col_fare.max()\n",
    "col_fare = col_fare/maxi_fare\n",
    "for i in range(col_fare.size):\n",
    "    if col_fare[i] != col_fare[i]: col_fare[i] = 0 #pas de prix => 0£ (peut être membre d'equipage)"
   ]
  },
  {
   "cell_type": "code",
   "execution_count": 13,
   "metadata": {},
   "outputs": [],
   "source": [
    "####### AGE\n",
    "col_age = df['age'].copy()"
   ]
  },
  {
   "cell_type": "code",
   "execution_count": 14,
   "metadata": {},
   "outputs": [],
   "source": [
    "#verification qu'il y a bien des valeurs dans toutes les cases \n",
    "assert not np.any(np.isnan(col_age))"
   ]
  },
  {
   "cell_type": "code",
   "execution_count": 15,
   "metadata": {},
   "outputs": [],
   "source": [
    "#simple ,normalisation\n",
    "maxi_age = col_age.max()\n",
    "col_age = col_age/maxi_age"
   ]
  },
  {
   "cell_type": "code",
   "execution_count": 16,
   "metadata": {},
   "outputs": [],
   "source": [
    "####### GENRE\n",
    "col_genre = df['gender'].copy()"
   ]
  },
  {
   "cell_type": "code",
   "execution_count": 17,
   "metadata": {},
   "outputs": [],
   "source": [
    "tab_genre = np.zeros(col_genre.size, dtype=int)"
   ]
  },
  {
   "cell_type": "code",
   "execution_count": 18,
   "metadata": {},
   "outputs": [],
   "source": [
    "for i in range(col_genre.size):\n",
    "    if col_genre[i] == 'male':\n",
    "        tab_genre[i] = 0\n",
    "    elif col_genre[i] == 'female':\n",
    "        tab_genre[i] = 1\n",
    "    else:#s'il manque une valeur, choisir une valeur aléatoire\n",
    "        tab_genre[i] = rnd.randint(0,1)"
   ]
  },
  {
   "cell_type": "code",
   "execution_count": 21,
   "metadata": {},
   "outputs": [],
   "source": [
    "####### CABINE\n",
    "col_embarked = df['embarked'].copy()"
   ]
  },
  {
   "cell_type": "code",
   "execution_count": 22,
   "metadata": {},
   "outputs": [],
   "source": [
    "tab_embarked = np.zeros(col_embarked.size, dtype=int)"
   ]
  },
  {
   "cell_type": "code",
   "execution_count": 23,
   "metadata": {},
   "outputs": [],
   "source": [
    "for i in range(col_embarked.size):\n",
    "    if col_embarked[i] == 'S':\n",
    "        tab_embarked[i] = 1\n",
    "    elif col_embarked[i] == 'C':\n",
    "        tab_embarked[i] = 2\n",
    "    elif col_embarked[i] == 'Q':\n",
    "        tab_embarked[i] = 3\n",
    "    else:\n",
    "        tab_embarked[i] = 0\n",
    "\n",
    "maxi_embarked = tab_embarked.max()\n",
    "tab_embarked = tab_embarked / maxi_embarked"
   ]
  },
  {
   "cell_type": "code",
   "execution_count": 24,
   "metadata": {},
   "outputs": [
    {
     "data": {
      "text/plain": [
       "array([0.        , 0.        , 0.33333333, 0.33333333, 0.33333333])"
      ]
     },
     "execution_count": 24,
     "metadata": {},
     "output_type": "execute_result"
    }
   ],
   "source": [
    "tab_embarked[0:5]"
   ]
  },
  {
   "cell_type": "code",
   "execution_count": 25,
   "metadata": {},
   "outputs": [],
   "source": [
    "####### SURVIE\n",
    "col_survie = df['survived']"
   ]
  },
  {
   "cell_type": "code",
   "execution_count": 26,
   "metadata": {},
   "outputs": [],
   "source": [
    "#verification qu'il y a bien des valeurs dans toutes les cases \n",
    "assert not np.any(np.isnan(col_survie))"
   ]
  },
  {
   "cell_type": "code",
   "execution_count": 32,
   "metadata": {},
   "outputs": [],
   "source": [
    "#assembler le tout dans un tableau\n",
    "#il y a 6 champs : classe, genre, age, family, prix, cabine\n",
    "nb_features = 6 \n",
    "tab = np.array([col_classe, tab_genre, col_age, col_family, col_fare, tab_embarked, col_survie])\n",
    "tab = tab.transpose()\n"
   ]
  },
  {
   "cell_type": "code",
   "execution_count": 33,
   "metadata": {},
   "outputs": [
    {
     "name": "stdout",
     "output_type": "stream",
     "text": [
      "1301 exemples de 6 champs\n"
     ]
    }
   ],
   "source": [
    "nb_samples = len(tab) \n",
    "print(f\"{nb_samples} exemples de {nb_features} champs\")"
   ]
  },
  {
   "cell_type": "code",
   "execution_count": 35,
   "metadata": {},
   "outputs": [
    {
     "data": {
      "text/plain": [
       "array([[1.        , 0.        , 0.525     , 0.        , 0.01473662,\n",
       "        0.        ],\n",
       "       [1.        , 0.        , 0.525     , 0.        , 0.01473662,\n",
       "        0.        ],\n",
       "       [1.        , 0.        , 0.375     , 0.2       , 0.03952537,\n",
       "        0.33333333],\n",
       "       [0.66666667, 0.        , 0.375     , 0.2       , 0.        ,\n",
       "        0.33333333],\n",
       "       [1.        , 1.        , 0.4375    , 0.2       , 0.03952537,\n",
       "        0.33333333]])"
      ]
     },
     "execution_count": 35,
     "metadata": {},
     "output_type": "execute_result"
    }
   ],
   "source": [
    "#les exemples\n",
    "exemples = tab[:, 0:nb_features]\n",
    "exemples[0:5]"
   ]
  },
  {
   "cell_type": "code",
   "execution_count": 36,
   "metadata": {},
   "outputs": [],
   "source": [
    "#on verifie qu'il n'ya a pas de case vide\n",
    "assert not np.any(np.isnan(exemples))"
   ]
  },
  {
   "cell_type": "code",
   "execution_count": 37,
   "metadata": {},
   "outputs": [
    {
     "data": {
      "text/plain": [
       "array([[0.],\n",
       "       [0.],\n",
       "       [0.],\n",
       "       [0.],\n",
       "       [1.]])"
      ]
     },
     "execution_count": 37,
     "metadata": {},
     "output_type": "execute_result"
    }
   ],
   "source": [
    "#les sorties associees\n",
    "sorties = tab[:,nb_features:]\n",
    "sorties[0:5]"
   ]
  },
  {
   "cell_type": "markdown",
   "metadata": {},
   "source": [
    "---\n",
    "### Classification\n",
    "Créer le réseaux de neurones de votre choix.\n",
    "Garder 0.2% des exemples comme valeurs de tests.\n"
   ]
  },
  {
   "cell_type": "code",
   "execution_count": 38,
   "metadata": {},
   "outputs": [],
   "source": [
    "##import pour les réseaux de neurones : \n",
    "from tensorflow.keras.models import Sequential\n",
    "from tensorflow.keras.layers import Dense"
   ]
  },
  {
   "cell_type": "code",
   "execution_count": 76,
   "metadata": {},
   "outputs": [],
   "source": [
    "#  définir la structure du réseau\n",
    "model = Sequential()\n",
    "model.add(Dense(nb_features//2, activation='tanh')) \n",
    "model.add(Dense(1, use_bias=True,  activation='sigmoid'))\n",
    "# compile network \n",
    "model.compile(loss='mse', optimizer='lion',  metrics=['accuracy']) #hinge binary_crossentropy\n"
   ]
  },
  {
   "cell_type": "code",
   "execution_count": 77,
   "metadata": {},
   "outputs": [
    {
     "name": "stdout",
     "output_type": "stream",
     "text": [
      "Epoch 1/200\n",
      "33/33 - 1s - 18ms/step - accuracy: 0.4721 - loss: 0.2529 - val_accuracy: 0.4789 - val_loss: 0.2503\n",
      "Epoch 2/200\n",
      "33/33 - 0s - 2ms/step - accuracy: 0.5894 - loss: 0.2425 - val_accuracy: 0.5785 - val_loss: 0.2387\n",
      "Epoch 3/200\n",
      "33/33 - 0s - 2ms/step - accuracy: 0.6115 - loss: 0.2344 - val_accuracy: 0.5900 - val_loss: 0.2298\n",
      "Epoch 4/200\n",
      "33/33 - 0s - 2ms/step - accuracy: 0.6173 - loss: 0.2293 - val_accuracy: 0.6169 - val_loss: 0.2231\n",
      "Epoch 5/200\n",
      "33/33 - 0s - 2ms/step - accuracy: 0.6173 - loss: 0.2256 - val_accuracy: 0.6169 - val_loss: 0.2177\n",
      "Epoch 6/200\n",
      "33/33 - 0s - 2ms/step - accuracy: 0.6173 - loss: 0.2216 - val_accuracy: 0.6169 - val_loss: 0.2132\n",
      "Epoch 7/200\n",
      "33/33 - 0s - 2ms/step - accuracy: 0.6183 - loss: 0.2193 - val_accuracy: 0.6169 - val_loss: 0.2093\n",
      "Epoch 8/200\n",
      "33/33 - 0s - 2ms/step - accuracy: 0.6202 - loss: 0.2153 - val_accuracy: 0.6015 - val_loss: 0.2054\n",
      "Epoch 9/200\n",
      "33/33 - 0s - 2ms/step - accuracy: 0.6356 - loss: 0.2104 - val_accuracy: 0.6628 - val_loss: 0.2020\n",
      "Epoch 10/200\n",
      "33/33 - 0s - 2ms/step - accuracy: 0.6856 - loss: 0.2055 - val_accuracy: 0.7280 - val_loss: 0.1994\n",
      "Epoch 11/200\n",
      "33/33 - 0s - 2ms/step - accuracy: 0.7231 - loss: 0.2022 - val_accuracy: 0.7701 - val_loss: 0.1965\n",
      "Epoch 12/200\n",
      "33/33 - 0s - 2ms/step - accuracy: 0.7510 - loss: 0.1988 - val_accuracy: 0.7739 - val_loss: 0.1923\n",
      "Epoch 13/200\n",
      "33/33 - 0s - 2ms/step - accuracy: 0.7558 - loss: 0.1936 - val_accuracy: 0.7739 - val_loss: 0.1870\n",
      "Epoch 14/200\n",
      "33/33 - 0s - 2ms/step - accuracy: 0.7587 - loss: 0.1895 - val_accuracy: 0.7739 - val_loss: 0.1823\n",
      "Epoch 15/200\n",
      "33/33 - 0s - 2ms/step - accuracy: 0.7587 - loss: 0.1859 - val_accuracy: 0.7778 - val_loss: 0.1780\n",
      "Epoch 16/200\n",
      "33/33 - 0s - 2ms/step - accuracy: 0.7644 - loss: 0.1818 - val_accuracy: 0.7854 - val_loss: 0.1747\n",
      "Epoch 17/200\n",
      "33/33 - 0s - 2ms/step - accuracy: 0.7615 - loss: 0.1783 - val_accuracy: 0.7893 - val_loss: 0.1713\n",
      "Epoch 18/200\n",
      "33/33 - 0s - 2ms/step - accuracy: 0.7654 - loss: 0.1755 - val_accuracy: 0.7931 - val_loss: 0.1681\n",
      "Epoch 19/200\n",
      "33/33 - 0s - 2ms/step - accuracy: 0.7663 - loss: 0.1730 - val_accuracy: 0.7931 - val_loss: 0.1643\n",
      "Epoch 20/200\n",
      "33/33 - 0s - 2ms/step - accuracy: 0.7683 - loss: 0.1702 - val_accuracy: 0.7931 - val_loss: 0.1609\n",
      "Epoch 21/200\n",
      "33/33 - 0s - 2ms/step - accuracy: 0.7692 - loss: 0.1661 - val_accuracy: 0.7931 - val_loss: 0.1580\n",
      "Epoch 22/200\n",
      "33/33 - 0s - 2ms/step - accuracy: 0.7740 - loss: 0.1635 - val_accuracy: 0.8008 - val_loss: 0.1554\n",
      "Epoch 23/200\n",
      "33/33 - 0s - 2ms/step - accuracy: 0.7750 - loss: 0.1627 - val_accuracy: 0.8046 - val_loss: 0.1532\n",
      "Epoch 24/200\n",
      "33/33 - 0s - 2ms/step - accuracy: 0.7750 - loss: 0.1618 - val_accuracy: 0.8046 - val_loss: 0.1514\n",
      "Epoch 25/200\n",
      "33/33 - 0s - 2ms/step - accuracy: 0.7750 - loss: 0.1602 - val_accuracy: 0.8046 - val_loss: 0.1497\n",
      "Epoch 26/200\n",
      "33/33 - 0s - 2ms/step - accuracy: 0.7750 - loss: 0.1585 - val_accuracy: 0.8046 - val_loss: 0.1481\n",
      "Epoch 27/200\n",
      "33/33 - 0s - 2ms/step - accuracy: 0.7750 - loss: 0.1576 - val_accuracy: 0.8046 - val_loss: 0.1466\n",
      "Epoch 28/200\n",
      "33/33 - 0s - 2ms/step - accuracy: 0.7740 - loss: 0.1599 - val_accuracy: 0.8046 - val_loss: 0.1454\n",
      "Epoch 29/200\n",
      "33/33 - 0s - 2ms/step - accuracy: 0.7750 - loss: 0.1564 - val_accuracy: 0.8046 - val_loss: 0.1439\n",
      "Epoch 30/200\n",
      "33/33 - 0s - 2ms/step - accuracy: 0.7740 - loss: 0.1569 - val_accuracy: 0.8238 - val_loss: 0.1424\n",
      "Epoch 31/200\n",
      "33/33 - 0s - 2ms/step - accuracy: 0.7750 - loss: 0.1547 - val_accuracy: 0.8199 - val_loss: 0.1410\n",
      "Epoch 32/200\n",
      "33/33 - 0s - 2ms/step - accuracy: 0.7740 - loss: 0.1544 - val_accuracy: 0.8161 - val_loss: 0.1398\n",
      "Epoch 33/200\n",
      "33/33 - 0s - 2ms/step - accuracy: 0.7798 - loss: 0.1546 - val_accuracy: 0.8161 - val_loss: 0.1389\n",
      "Epoch 34/200\n",
      "33/33 - 0s - 2ms/step - accuracy: 0.7788 - loss: 0.1540 - val_accuracy: 0.8199 - val_loss: 0.1382\n",
      "Epoch 35/200\n",
      "33/33 - 0s - 2ms/step - accuracy: 0.7808 - loss: 0.1535 - val_accuracy: 0.8199 - val_loss: 0.1375\n",
      "Epoch 36/200\n",
      "33/33 - 0s - 2ms/step - accuracy: 0.7846 - loss: 0.1545 - val_accuracy: 0.8276 - val_loss: 0.1369\n",
      "Epoch 37/200\n",
      "33/33 - 0s - 2ms/step - accuracy: 0.7846 - loss: 0.1531 - val_accuracy: 0.8199 - val_loss: 0.1367\n",
      "Epoch 38/200\n",
      "33/33 - 0s - 2ms/step - accuracy: 0.7837 - loss: 0.1532 - val_accuracy: 0.8276 - val_loss: 0.1363\n",
      "Epoch 39/200\n",
      "33/33 - 0s - 2ms/step - accuracy: 0.7865 - loss: 0.1524 - val_accuracy: 0.8314 - val_loss: 0.1360\n",
      "Epoch 40/200\n",
      "33/33 - 0s - 2ms/step - accuracy: 0.7885 - loss: 0.1523 - val_accuracy: 0.8276 - val_loss: 0.1360\n",
      "Epoch 41/200\n",
      "33/33 - 0s - 2ms/step - accuracy: 0.7846 - loss: 0.1522 - val_accuracy: 0.8238 - val_loss: 0.1362\n",
      "Epoch 42/200\n",
      "33/33 - 0s - 2ms/step - accuracy: 0.7856 - loss: 0.1522 - val_accuracy: 0.8276 - val_loss: 0.1358\n",
      "Epoch 43/200\n",
      "33/33 - 0s - 2ms/step - accuracy: 0.7904 - loss: 0.1531 - val_accuracy: 0.8314 - val_loss: 0.1356\n",
      "Epoch 44/200\n",
      "33/33 - 0s - 2ms/step - accuracy: 0.7894 - loss: 0.1507 - val_accuracy: 0.8276 - val_loss: 0.1357\n",
      "Epoch 45/200\n",
      "33/33 - 0s - 2ms/step - accuracy: 0.7827 - loss: 0.1512 - val_accuracy: 0.8276 - val_loss: 0.1357\n",
      "Epoch 46/200\n",
      "33/33 - 0s - 2ms/step - accuracy: 0.7865 - loss: 0.1508 - val_accuracy: 0.8276 - val_loss: 0.1354\n",
      "Epoch 47/200\n",
      "33/33 - 0s - 2ms/step - accuracy: 0.7952 - loss: 0.1498 - val_accuracy: 0.8276 - val_loss: 0.1354\n",
      "Epoch 48/200\n",
      "33/33 - 0s - 2ms/step - accuracy: 0.7933 - loss: 0.1506 - val_accuracy: 0.8314 - val_loss: 0.1356\n",
      "Epoch 49/200\n",
      "33/33 - 0s - 2ms/step - accuracy: 0.7817 - loss: 0.1506 - val_accuracy: 0.8276 - val_loss: 0.1357\n",
      "Epoch 50/200\n",
      "33/33 - 0s - 2ms/step - accuracy: 0.7846 - loss: 0.1499 - val_accuracy: 0.8276 - val_loss: 0.1352\n",
      "Epoch 51/200\n",
      "33/33 - 0s - 2ms/step - accuracy: 0.7962 - loss: 0.1516 - val_accuracy: 0.8238 - val_loss: 0.1350\n",
      "Epoch 52/200\n",
      "33/33 - 0s - 2ms/step - accuracy: 0.7952 - loss: 0.1494 - val_accuracy: 0.8276 - val_loss: 0.1351\n",
      "Epoch 53/200\n",
      "33/33 - 0s - 2ms/step - accuracy: 0.7942 - loss: 0.1486 - val_accuracy: 0.8276 - val_loss: 0.1349\n",
      "Epoch 54/200\n",
      "33/33 - 0s - 2ms/step - accuracy: 0.7933 - loss: 0.1493 - val_accuracy: 0.8276 - val_loss: 0.1350\n",
      "Epoch 55/200\n",
      "33/33 - 0s - 2ms/step - accuracy: 0.7904 - loss: 0.1496 - val_accuracy: 0.8352 - val_loss: 0.1351\n",
      "Epoch 56/200\n",
      "33/33 - 0s - 2ms/step - accuracy: 0.7923 - loss: 0.1505 - val_accuracy: 0.8238 - val_loss: 0.1349\n",
      "Epoch 57/200\n",
      "33/33 - 0s - 2ms/step - accuracy: 0.7933 - loss: 0.1482 - val_accuracy: 0.8238 - val_loss: 0.1347\n",
      "Epoch 58/200\n",
      "33/33 - 0s - 2ms/step - accuracy: 0.7962 - loss: 0.1491 - val_accuracy: 0.8238 - val_loss: 0.1347\n",
      "Epoch 59/200\n",
      "33/33 - 0s - 2ms/step - accuracy: 0.7923 - loss: 0.1499 - val_accuracy: 0.8276 - val_loss: 0.1348\n",
      "Epoch 60/200\n",
      "33/33 - 0s - 2ms/step - accuracy: 0.7923 - loss: 0.1492 - val_accuracy: 0.8314 - val_loss: 0.1347\n",
      "Epoch 61/200\n",
      "33/33 - 0s - 2ms/step - accuracy: 0.7933 - loss: 0.1487 - val_accuracy: 0.8276 - val_loss: 0.1343\n",
      "Epoch 62/200\n",
      "33/33 - 0s - 2ms/step - accuracy: 0.7962 - loss: 0.1481 - val_accuracy: 0.8314 - val_loss: 0.1345\n",
      "Epoch 63/200\n",
      "33/33 - 0s - 2ms/step - accuracy: 0.7933 - loss: 0.1479 - val_accuracy: 0.8276 - val_loss: 0.1344\n",
      "Epoch 64/200\n",
      "33/33 - 0s - 2ms/step - accuracy: 0.7952 - loss: 0.1492 - val_accuracy: 0.8276 - val_loss: 0.1343\n",
      "Epoch 65/200\n",
      "33/33 - 0s - 2ms/step - accuracy: 0.7933 - loss: 0.1478 - val_accuracy: 0.8276 - val_loss: 0.1343\n",
      "Epoch 66/200\n",
      "33/33 - 0s - 2ms/step - accuracy: 0.7952 - loss: 0.1485 - val_accuracy: 0.8276 - val_loss: 0.1345\n",
      "Epoch 67/200\n",
      "33/33 - 0s - 2ms/step - accuracy: 0.7962 - loss: 0.1485 - val_accuracy: 0.8276 - val_loss: 0.1344\n",
      "Epoch 68/200\n",
      "33/33 - 0s - 2ms/step - accuracy: 0.7933 - loss: 0.1470 - val_accuracy: 0.8276 - val_loss: 0.1343\n",
      "Epoch 69/200\n",
      "33/33 - 0s - 2ms/step - accuracy: 0.7962 - loss: 0.1483 - val_accuracy: 0.8276 - val_loss: 0.1343\n",
      "Epoch 70/200\n",
      "33/33 - 0s - 2ms/step - accuracy: 0.7971 - loss: 0.1485 - val_accuracy: 0.8276 - val_loss: 0.1344\n",
      "Epoch 71/200\n",
      "33/33 - 0s - 2ms/step - accuracy: 0.7952 - loss: 0.1471 - val_accuracy: 0.8276 - val_loss: 0.1345\n",
      "Epoch 72/200\n",
      "33/33 - 0s - 2ms/step - accuracy: 0.7923 - loss: 0.1471 - val_accuracy: 0.8276 - val_loss: 0.1347\n",
      "Epoch 73/200\n",
      "33/33 - 0s - 2ms/step - accuracy: 0.7990 - loss: 0.1486 - val_accuracy: 0.8314 - val_loss: 0.1343\n",
      "Epoch 74/200\n",
      "33/33 - 0s - 2ms/step - accuracy: 0.7942 - loss: 0.1490 - val_accuracy: 0.8314 - val_loss: 0.1341\n",
      "Epoch 75/200\n",
      "33/33 - 0s - 2ms/step - accuracy: 0.7952 - loss: 0.1478 - val_accuracy: 0.8314 - val_loss: 0.1344\n",
      "Epoch 76/200\n",
      "33/33 - 0s - 2ms/step - accuracy: 0.7942 - loss: 0.1483 - val_accuracy: 0.8276 - val_loss: 0.1344\n",
      "Epoch 77/200\n",
      "33/33 - 0s - 2ms/step - accuracy: 0.7981 - loss: 0.1488 - val_accuracy: 0.8314 - val_loss: 0.1341\n",
      "Epoch 78/200\n",
      "33/33 - 0s - 2ms/step - accuracy: 0.7952 - loss: 0.1486 - val_accuracy: 0.8352 - val_loss: 0.1340\n",
      "Epoch 79/200\n",
      "33/33 - 0s - 2ms/step - accuracy: 0.7942 - loss: 0.1479 - val_accuracy: 0.8314 - val_loss: 0.1340\n",
      "Epoch 80/200\n",
      "33/33 - 0s - 2ms/step - accuracy: 0.7933 - loss: 0.1480 - val_accuracy: 0.8314 - val_loss: 0.1344\n",
      "Epoch 81/200\n",
      "33/33 - 0s - 2ms/step - accuracy: 0.7942 - loss: 0.1462 - val_accuracy: 0.8314 - val_loss: 0.1344\n",
      "Epoch 82/200\n",
      "33/33 - 0s - 2ms/step - accuracy: 0.7933 - loss: 0.1468 - val_accuracy: 0.8314 - val_loss: 0.1346\n",
      "Epoch 83/200\n",
      "33/33 - 0s - 2ms/step - accuracy: 0.7990 - loss: 0.1474 - val_accuracy: 0.8314 - val_loss: 0.1345\n",
      "Epoch 84/200\n",
      "33/33 - 0s - 2ms/step - accuracy: 0.7952 - loss: 0.1470 - val_accuracy: 0.8314 - val_loss: 0.1346\n",
      "Epoch 85/200\n",
      "33/33 - 0s - 2ms/step - accuracy: 0.7952 - loss: 0.1458 - val_accuracy: 0.8314 - val_loss: 0.1345\n",
      "Epoch 86/200\n",
      "33/33 - 0s - 2ms/step - accuracy: 0.7971 - loss: 0.1467 - val_accuracy: 0.8352 - val_loss: 0.1345\n",
      "Epoch 87/200\n",
      "33/33 - 0s - 2ms/step - accuracy: 0.7933 - loss: 0.1465 - val_accuracy: 0.8314 - val_loss: 0.1346\n",
      "Epoch 88/200\n",
      "33/33 - 0s - 2ms/step - accuracy: 0.7942 - loss: 0.1454 - val_accuracy: 0.8352 - val_loss: 0.1344\n",
      "Epoch 89/200\n",
      "33/33 - 0s - 2ms/step - accuracy: 0.7952 - loss: 0.1476 - val_accuracy: 0.8391 - val_loss: 0.1341\n",
      "Epoch 90/200\n",
      "33/33 - 0s - 2ms/step - accuracy: 0.7990 - loss: 0.1457 - val_accuracy: 0.8352 - val_loss: 0.1340\n",
      "Epoch 91/200\n",
      "33/33 - 0s - 2ms/step - accuracy: 0.7942 - loss: 0.1454 - val_accuracy: 0.8352 - val_loss: 0.1343\n",
      "Epoch 92/200\n",
      "33/33 - 0s - 2ms/step - accuracy: 0.7933 - loss: 0.1464 - val_accuracy: 0.8391 - val_loss: 0.1341\n",
      "Epoch 93/200\n",
      "33/33 - 0s - 2ms/step - accuracy: 0.7981 - loss: 0.1460 - val_accuracy: 0.8391 - val_loss: 0.1343\n",
      "Epoch 94/200\n",
      "33/33 - 0s - 2ms/step - accuracy: 0.7962 - loss: 0.1452 - val_accuracy: 0.8391 - val_loss: 0.1343\n",
      "Epoch 95/200\n",
      "33/33 - 0s - 2ms/step - accuracy: 0.7990 - loss: 0.1461 - val_accuracy: 0.8391 - val_loss: 0.1342\n",
      "Epoch 96/200\n",
      "33/33 - 0s - 2ms/step - accuracy: 0.7962 - loss: 0.1457 - val_accuracy: 0.8352 - val_loss: 0.1345\n",
      "Epoch 97/200\n",
      "33/33 - 0s - 2ms/step - accuracy: 0.7942 - loss: 0.1462 - val_accuracy: 0.8391 - val_loss: 0.1345\n",
      "Epoch 98/200\n",
      "33/33 - 0s - 2ms/step - accuracy: 0.7952 - loss: 0.1459 - val_accuracy: 0.8352 - val_loss: 0.1344\n",
      "Epoch 99/200\n",
      "33/33 - 0s - 2ms/step - accuracy: 0.7962 - loss: 0.1447 - val_accuracy: 0.8352 - val_loss: 0.1341\n",
      "Epoch 100/200\n",
      "33/33 - 0s - 2ms/step - accuracy: 0.7962 - loss: 0.1442 - val_accuracy: 0.8391 - val_loss: 0.1342\n",
      "Epoch 101/200\n",
      "33/33 - 0s - 2ms/step - accuracy: 0.8000 - loss: 0.1466 - val_accuracy: 0.8352 - val_loss: 0.1344\n",
      "Epoch 102/200\n",
      "33/33 - 0s - 2ms/step - accuracy: 0.8010 - loss: 0.1433 - val_accuracy: 0.8352 - val_loss: 0.1348\n",
      "Epoch 103/200\n",
      "33/33 - 0s - 2ms/step - accuracy: 0.7942 - loss: 0.1463 - val_accuracy: 0.8352 - val_loss: 0.1352\n",
      "Epoch 104/200\n",
      "33/33 - 0s - 2ms/step - accuracy: 0.8000 - loss: 0.1462 - val_accuracy: 0.8391 - val_loss: 0.1346\n",
      "Epoch 105/200\n",
      "33/33 - 0s - 2ms/step - accuracy: 0.7990 - loss: 0.1448 - val_accuracy: 0.8391 - val_loss: 0.1346\n",
      "Epoch 106/200\n",
      "33/33 - 0s - 2ms/step - accuracy: 0.7962 - loss: 0.1445 - val_accuracy: 0.8352 - val_loss: 0.1348\n",
      "Epoch 107/200\n",
      "33/33 - 0s - 2ms/step - accuracy: 0.7971 - loss: 0.1447 - val_accuracy: 0.8352 - val_loss: 0.1346\n",
      "Epoch 108/200\n",
      "33/33 - 0s - 2ms/step - accuracy: 0.7981 - loss: 0.1447 - val_accuracy: 0.8391 - val_loss: 0.1344\n",
      "Epoch 109/200\n",
      "33/33 - 0s - 2ms/step - accuracy: 0.7971 - loss: 0.1439 - val_accuracy: 0.8391 - val_loss: 0.1343\n",
      "Epoch 110/200\n",
      "33/33 - 0s - 2ms/step - accuracy: 0.7962 - loss: 0.1443 - val_accuracy: 0.8352 - val_loss: 0.1343\n",
      "Epoch 111/200\n",
      "33/33 - 0s - 2ms/step - accuracy: 0.8010 - loss: 0.1448 - val_accuracy: 0.8391 - val_loss: 0.1345\n",
      "Epoch 112/200\n",
      "33/33 - 0s - 2ms/step - accuracy: 0.7971 - loss: 0.1450 - val_accuracy: 0.8352 - val_loss: 0.1350\n",
      "Epoch 113/200\n",
      "33/33 - 0s - 2ms/step - accuracy: 0.7981 - loss: 0.1445 - val_accuracy: 0.8352 - val_loss: 0.1349\n",
      "Epoch 114/200\n",
      "33/33 - 0s - 2ms/step - accuracy: 0.7962 - loss: 0.1439 - val_accuracy: 0.8352 - val_loss: 0.1346\n",
      "Epoch 115/200\n",
      "33/33 - 0s - 2ms/step - accuracy: 0.8019 - loss: 0.1443 - val_accuracy: 0.8391 - val_loss: 0.1346\n",
      "Epoch 116/200\n",
      "33/33 - 0s - 2ms/step - accuracy: 0.7990 - loss: 0.1433 - val_accuracy: 0.8391 - val_loss: 0.1347\n",
      "Epoch 117/200\n",
      "33/33 - 0s - 2ms/step - accuracy: 0.7990 - loss: 0.1444 - val_accuracy: 0.8391 - val_loss: 0.1345\n",
      "Epoch 118/200\n",
      "33/33 - 0s - 2ms/step - accuracy: 0.7990 - loss: 0.1438 - val_accuracy: 0.8391 - val_loss: 0.1349\n",
      "Epoch 119/200\n",
      "33/33 - 0s - 2ms/step - accuracy: 0.8000 - loss: 0.1445 - val_accuracy: 0.8391 - val_loss: 0.1346\n",
      "Epoch 120/200\n",
      "33/33 - 0s - 2ms/step - accuracy: 0.7952 - loss: 0.1448 - val_accuracy: 0.8352 - val_loss: 0.1346\n",
      "Epoch 121/200\n",
      "33/33 - 0s - 2ms/step - accuracy: 0.7981 - loss: 0.1447 - val_accuracy: 0.8391 - val_loss: 0.1352\n",
      "Epoch 122/200\n",
      "33/33 - 0s - 2ms/step - accuracy: 0.7933 - loss: 0.1429 - val_accuracy: 0.8352 - val_loss: 0.1358\n",
      "Epoch 123/200\n",
      "33/33 - 0s - 2ms/step - accuracy: 0.7971 - loss: 0.1426 - val_accuracy: 0.8391 - val_loss: 0.1350\n",
      "Epoch 124/200\n",
      "33/33 - 0s - 2ms/step - accuracy: 0.7990 - loss: 0.1440 - val_accuracy: 0.8391 - val_loss: 0.1349\n",
      "Epoch 125/200\n",
      "33/33 - 0s - 2ms/step - accuracy: 0.7971 - loss: 0.1436 - val_accuracy: 0.8391 - val_loss: 0.1349\n",
      "Epoch 126/200\n",
      "33/33 - 0s - 2ms/step - accuracy: 0.7981 - loss: 0.1425 - val_accuracy: 0.8391 - val_loss: 0.1348\n",
      "Epoch 127/200\n",
      "33/33 - 0s - 2ms/step - accuracy: 0.7990 - loss: 0.1428 - val_accuracy: 0.8391 - val_loss: 0.1350\n",
      "Epoch 128/200\n",
      "33/33 - 0s - 2ms/step - accuracy: 0.7990 - loss: 0.1460 - val_accuracy: 0.8391 - val_loss: 0.1348\n",
      "Epoch 129/200\n",
      "33/33 - 0s - 2ms/step - accuracy: 0.7981 - loss: 0.1435 - val_accuracy: 0.8391 - val_loss: 0.1347\n",
      "Epoch 130/200\n",
      "33/33 - 0s - 2ms/step - accuracy: 0.7981 - loss: 0.1427 - val_accuracy: 0.8429 - val_loss: 0.1349\n",
      "Epoch 131/200\n",
      "33/33 - 0s - 2ms/step - accuracy: 0.7981 - loss: 0.1458 - val_accuracy: 0.8391 - val_loss: 0.1349\n",
      "Epoch 132/200\n",
      "33/33 - 0s - 2ms/step - accuracy: 0.7981 - loss: 0.1428 - val_accuracy: 0.8391 - val_loss: 0.1347\n",
      "Epoch 133/200\n",
      "33/33 - 0s - 2ms/step - accuracy: 0.8019 - loss: 0.1438 - val_accuracy: 0.8352 - val_loss: 0.1353\n",
      "Epoch 134/200\n",
      "33/33 - 0s - 2ms/step - accuracy: 0.7990 - loss: 0.1443 - val_accuracy: 0.8391 - val_loss: 0.1351\n",
      "Epoch 135/200\n",
      "33/33 - 0s - 2ms/step - accuracy: 0.8000 - loss: 0.1430 - val_accuracy: 0.8391 - val_loss: 0.1351\n",
      "Epoch 136/200\n",
      "33/33 - 0s - 2ms/step - accuracy: 0.7971 - loss: 0.1427 - val_accuracy: 0.8391 - val_loss: 0.1352\n",
      "Epoch 137/200\n",
      "33/33 - 0s - 2ms/step - accuracy: 0.7981 - loss: 0.1432 - val_accuracy: 0.8429 - val_loss: 0.1352\n",
      "Epoch 138/200\n",
      "33/33 - 0s - 2ms/step - accuracy: 0.7962 - loss: 0.1433 - val_accuracy: 0.8391 - val_loss: 0.1352\n",
      "Epoch 139/200\n",
      "33/33 - 0s - 2ms/step - accuracy: 0.8000 - loss: 0.1430 - val_accuracy: 0.8391 - val_loss: 0.1354\n",
      "Epoch 140/200\n",
      "33/33 - 0s - 2ms/step - accuracy: 0.7981 - loss: 0.1419 - val_accuracy: 0.8391 - val_loss: 0.1358\n",
      "Epoch 141/200\n",
      "33/33 - 0s - 2ms/step - accuracy: 0.8038 - loss: 0.1428 - val_accuracy: 0.8391 - val_loss: 0.1358\n",
      "Epoch 142/200\n",
      "33/33 - 0s - 2ms/step - accuracy: 0.8000 - loss: 0.1424 - val_accuracy: 0.8391 - val_loss: 0.1359\n",
      "Epoch 143/200\n",
      "33/33 - 0s - 2ms/step - accuracy: 0.8038 - loss: 0.1427 - val_accuracy: 0.8391 - val_loss: 0.1356\n",
      "Epoch 144/200\n",
      "33/33 - 0s - 2ms/step - accuracy: 0.8019 - loss: 0.1435 - val_accuracy: 0.8391 - val_loss: 0.1355\n",
      "Epoch 145/200\n",
      "33/33 - 0s - 2ms/step - accuracy: 0.8000 - loss: 0.1426 - val_accuracy: 0.8391 - val_loss: 0.1353\n",
      "Epoch 146/200\n",
      "33/33 - 0s - 2ms/step - accuracy: 0.8038 - loss: 0.1416 - val_accuracy: 0.8429 - val_loss: 0.1356\n",
      "Epoch 147/200\n",
      "33/33 - 0s - 2ms/step - accuracy: 0.8019 - loss: 0.1434 - val_accuracy: 0.8391 - val_loss: 0.1352\n",
      "Epoch 148/200\n",
      "33/33 - 0s - 2ms/step - accuracy: 0.8029 - loss: 0.1420 - val_accuracy: 0.8391 - val_loss: 0.1356\n",
      "Epoch 149/200\n",
      "33/33 - 0s - 2ms/step - accuracy: 0.8038 - loss: 0.1418 - val_accuracy: 0.8429 - val_loss: 0.1354\n",
      "Epoch 150/200\n",
      "33/33 - 0s - 2ms/step - accuracy: 0.8048 - loss: 0.1412 - val_accuracy: 0.8429 - val_loss: 0.1356\n",
      "Epoch 151/200\n",
      "33/33 - 0s - 2ms/step - accuracy: 0.8058 - loss: 0.1420 - val_accuracy: 0.8391 - val_loss: 0.1356\n",
      "Epoch 152/200\n",
      "33/33 - 0s - 2ms/step - accuracy: 0.8029 - loss: 0.1429 - val_accuracy: 0.8429 - val_loss: 0.1355\n",
      "Epoch 153/200\n",
      "33/33 - 0s - 2ms/step - accuracy: 0.8010 - loss: 0.1417 - val_accuracy: 0.8429 - val_loss: 0.1358\n",
      "Epoch 154/200\n",
      "33/33 - 0s - 2ms/step - accuracy: 0.8048 - loss: 0.1420 - val_accuracy: 0.8429 - val_loss: 0.1358\n",
      "Epoch 155/200\n",
      "33/33 - 0s - 2ms/step - accuracy: 0.8019 - loss: 0.1433 - val_accuracy: 0.8429 - val_loss: 0.1359\n",
      "Epoch 156/200\n",
      "33/33 - 0s - 2ms/step - accuracy: 0.8058 - loss: 0.1426 - val_accuracy: 0.8391 - val_loss: 0.1364\n",
      "Epoch 157/200\n",
      "33/33 - 0s - 2ms/step - accuracy: 0.8058 - loss: 0.1436 - val_accuracy: 0.8391 - val_loss: 0.1362\n",
      "Epoch 158/200\n",
      "33/33 - 0s - 2ms/step - accuracy: 0.8038 - loss: 0.1413 - val_accuracy: 0.8429 - val_loss: 0.1356\n",
      "Epoch 159/200\n",
      "33/33 - 0s - 2ms/step - accuracy: 0.8038 - loss: 0.1427 - val_accuracy: 0.8429 - val_loss: 0.1358\n",
      "Epoch 160/200\n",
      "33/33 - 0s - 2ms/step - accuracy: 0.8048 - loss: 0.1417 - val_accuracy: 0.8429 - val_loss: 0.1360\n",
      "Epoch 161/200\n",
      "33/33 - 0s - 2ms/step - accuracy: 0.8067 - loss: 0.1410 - val_accuracy: 0.8391 - val_loss: 0.1366\n",
      "Epoch 162/200\n",
      "33/33 - 0s - 2ms/step - accuracy: 0.8058 - loss: 0.1407 - val_accuracy: 0.8429 - val_loss: 0.1362\n",
      "Epoch 163/200\n",
      "33/33 - 0s - 2ms/step - accuracy: 0.8048 - loss: 0.1415 - val_accuracy: 0.8391 - val_loss: 0.1365\n",
      "Epoch 164/200\n",
      "33/33 - 0s - 2ms/step - accuracy: 0.8019 - loss: 0.1419 - val_accuracy: 0.8391 - val_loss: 0.1370\n",
      "Epoch 165/200\n",
      "33/33 - 0s - 2ms/step - accuracy: 0.8038 - loss: 0.1414 - val_accuracy: 0.8391 - val_loss: 0.1370\n",
      "Epoch 166/200\n",
      "33/33 - 0s - 2ms/step - accuracy: 0.8058 - loss: 0.1420 - val_accuracy: 0.8429 - val_loss: 0.1362\n",
      "Epoch 167/200\n",
      "33/33 - 0s - 2ms/step - accuracy: 0.8058 - loss: 0.1406 - val_accuracy: 0.8429 - val_loss: 0.1362\n",
      "Epoch 168/200\n",
      "33/33 - 0s - 2ms/step - accuracy: 0.8058 - loss: 0.1405 - val_accuracy: 0.8391 - val_loss: 0.1369\n",
      "Epoch 169/200\n",
      "33/33 - 0s - 2ms/step - accuracy: 0.8058 - loss: 0.1416 - val_accuracy: 0.8391 - val_loss: 0.1368\n",
      "Epoch 170/200\n",
      "33/33 - 0s - 2ms/step - accuracy: 0.8067 - loss: 0.1408 - val_accuracy: 0.8391 - val_loss: 0.1367\n",
      "Epoch 171/200\n",
      "33/33 - 0s - 2ms/step - accuracy: 0.8077 - loss: 0.1429 - val_accuracy: 0.8391 - val_loss: 0.1373\n",
      "Epoch 172/200\n",
      "33/33 - 0s - 2ms/step - accuracy: 0.8096 - loss: 0.1403 - val_accuracy: 0.8391 - val_loss: 0.1368\n",
      "Epoch 173/200\n",
      "33/33 - 0s - 2ms/step - accuracy: 0.8077 - loss: 0.1440 - val_accuracy: 0.8429 - val_loss: 0.1367\n",
      "Epoch 174/200\n",
      "33/33 - 0s - 2ms/step - accuracy: 0.8077 - loss: 0.1413 - val_accuracy: 0.8429 - val_loss: 0.1363\n",
      "Epoch 175/200\n",
      "33/33 - 0s - 2ms/step - accuracy: 0.8087 - loss: 0.1413 - val_accuracy: 0.8429 - val_loss: 0.1364\n",
      "Epoch 176/200\n",
      "33/33 - 0s - 2ms/step - accuracy: 0.8048 - loss: 0.1407 - val_accuracy: 0.8391 - val_loss: 0.1365\n",
      "Epoch 177/200\n",
      "33/33 - 0s - 2ms/step - accuracy: 0.8058 - loss: 0.1409 - val_accuracy: 0.8391 - val_loss: 0.1369\n",
      "Epoch 178/200\n",
      "33/33 - 0s - 2ms/step - accuracy: 0.8048 - loss: 0.1413 - val_accuracy: 0.8391 - val_loss: 0.1369\n",
      "Epoch 179/200\n",
      "33/33 - 0s - 2ms/step - accuracy: 0.8067 - loss: 0.1397 - val_accuracy: 0.8391 - val_loss: 0.1369\n",
      "Epoch 180/200\n",
      "33/33 - 0s - 2ms/step - accuracy: 0.8067 - loss: 0.1400 - val_accuracy: 0.8429 - val_loss: 0.1364\n",
      "Epoch 181/200\n",
      "33/33 - 0s - 2ms/step - accuracy: 0.8067 - loss: 0.1414 - val_accuracy: 0.8429 - val_loss: 0.1369\n",
      "Epoch 182/200\n",
      "33/33 - 0s - 2ms/step - accuracy: 0.8048 - loss: 0.1404 - val_accuracy: 0.8391 - val_loss: 0.1370\n",
      "Epoch 183/200\n",
      "33/33 - 0s - 2ms/step - accuracy: 0.8048 - loss: 0.1419 - val_accuracy: 0.8391 - val_loss: 0.1375\n",
      "Epoch 184/200\n",
      "33/33 - 0s - 2ms/step - accuracy: 0.8067 - loss: 0.1400 - val_accuracy: 0.8391 - val_loss: 0.1382\n",
      "Epoch 185/200\n",
      "33/33 - 0s - 2ms/step - accuracy: 0.8077 - loss: 0.1397 - val_accuracy: 0.8391 - val_loss: 0.1375\n",
      "Epoch 186/200\n",
      "33/33 - 0s - 2ms/step - accuracy: 0.8077 - loss: 0.1417 - val_accuracy: 0.8391 - val_loss: 0.1374\n",
      "Epoch 187/200\n",
      "33/33 - 0s - 2ms/step - accuracy: 0.8067 - loss: 0.1401 - val_accuracy: 0.8391 - val_loss: 0.1378\n",
      "Epoch 188/200\n",
      "33/33 - 0s - 2ms/step - accuracy: 0.8077 - loss: 0.1406 - val_accuracy: 0.8429 - val_loss: 0.1383\n",
      "Epoch 189/200\n",
      "33/33 - 0s - 2ms/step - accuracy: 0.8067 - loss: 0.1414 - val_accuracy: 0.8391 - val_loss: 0.1380\n",
      "Epoch 190/200\n",
      "33/33 - 0s - 2ms/step - accuracy: 0.8010 - loss: 0.1419 - val_accuracy: 0.8391 - val_loss: 0.1375\n",
      "Epoch 191/200\n",
      "33/33 - 0s - 2ms/step - accuracy: 0.8077 - loss: 0.1406 - val_accuracy: 0.8391 - val_loss: 0.1382\n",
      "Epoch 192/200\n",
      "33/33 - 0s - 2ms/step - accuracy: 0.8077 - loss: 0.1396 - val_accuracy: 0.8429 - val_loss: 0.1381\n",
      "Epoch 193/200\n",
      "33/33 - 0s - 2ms/step - accuracy: 0.8048 - loss: 0.1401 - val_accuracy: 0.8429 - val_loss: 0.1379\n",
      "Epoch 194/200\n",
      "33/33 - 0s - 2ms/step - accuracy: 0.8048 - loss: 0.1406 - val_accuracy: 0.8429 - val_loss: 0.1377\n",
      "Epoch 195/200\n",
      "33/33 - 0s - 2ms/step - accuracy: 0.8067 - loss: 0.1396 - val_accuracy: 0.8467 - val_loss: 0.1382\n",
      "Epoch 196/200\n",
      "33/33 - 0s - 2ms/step - accuracy: 0.8019 - loss: 0.1400 - val_accuracy: 0.8429 - val_loss: 0.1373\n",
      "Epoch 197/200\n",
      "33/33 - 0s - 2ms/step - accuracy: 0.8019 - loss: 0.1417 - val_accuracy: 0.8429 - val_loss: 0.1373\n",
      "Epoch 198/200\n",
      "33/33 - 0s - 2ms/step - accuracy: 0.8067 - loss: 0.1391 - val_accuracy: 0.8467 - val_loss: 0.1385\n",
      "Epoch 199/200\n",
      "33/33 - 0s - 2ms/step - accuracy: 0.8106 - loss: 0.1399 - val_accuracy: 0.8467 - val_loss: 0.1384\n",
      "Epoch 200/200\n",
      "33/33 - 0s - 2ms/step - accuracy: 0.8077 - loss: 0.1389 - val_accuracy: 0.8429 - val_loss: 0.1379\n"
     ]
    }
   ],
   "source": [
    "historique = model.fit(exemples, sorties, \n",
    "                    validation_split = 0.2,                    \n",
    "                    epochs=200, \n",
    "                    verbose=2)"
   ]
  },
  {
   "cell_type": "markdown",
   "metadata": {},
   "source": [
    "---\n",
    "\n",
    "## Dessiner l'évolution de l'erreur et de la pertinence\n"
   ]
  },
  {
   "cell_type": "code",
   "execution_count": 78,
   "metadata": {},
   "outputs": [
    {
     "name": "stdout",
     "output_type": "stream",
     "text": [
      "les ensembles de valeurs récupérées lors des tests sont \n",
      "['accuracy', 'loss', 'val_accuracy', 'val_loss']\n"
     ]
    }
   ],
   "source": [
    "history_dict = historique.history\n",
    "eval_tests = list(history_dict.keys())\n",
    "print(\"les ensembles de valeurs récupérées lors des tests sont \")\n",
    "print(eval_tests)"
   ]
  },
  {
   "cell_type": "markdown",
   "metadata": {},
   "source": [
    "#### Tracer l'erreur d'entrainement / l'erreur de validation\n",
    "- L'erreur d'entrainement et l'erreur de validation doivent suivre des courbes quasi parallèle.\n",
    "- L'erreur d'entrainement doit être plus faible que l'erreur de validation\n",
    "    - si les courbes divergent, si la courbe de validation s'éloigne de la courbe d'entrainement, il y a alors un sur-apprentissage (overfitting) trop adapté aux données d'entrainement, sans doute trop poussé (diminuer les epochs?).\n",
    "    - s'il y a une erreur d'entrainement trop grande, il y a sous-apprentissage"
   ]
  },
  {
   "cell_type": "code",
   "execution_count": 79,
   "metadata": {},
   "outputs": [
    {
     "data": {
      "image/png": "[encoded data removed]",
      "text/plain": [
       "<Figure size 640x480 with 1 Axes>"
      ]
     },
     "metadata": {},
     "output_type": "display_data"
    }
   ],
   "source": [
    "import matplotlib.pyplot as plt\n",
    "\n",
    "hist_learn = history_dict[eval_tests[0]]\n",
    "hist_val = history_dict[eval_tests[2]]\n",
    "\n",
    "epochs = range(1, len(hist_learn) + 1)\n",
    "\n",
    "# draw the loss evolution in blue\n",
    "plt.plot(epochs, hist_learn, 'b--', label=eval_tests[0] )\n",
    "# draw the accuracy evolution in blue\n",
    "plt.plot(epochs, hist_val,   'r--', label=eval_tests[2] )\n",
    "plt.title(eval_tests[0])\n",
    "plt.xlabel('Epochs')\n",
    "plt.ylabel(eval_tests[0])\n",
    "plt.legend()\n",
    "\n",
    "plt.show()"
   ]
  },
  {
   "cell_type": "code",
   "execution_count": 80,
   "metadata": {},
   "outputs": [
    {
     "data": {
      "image/png": "[encoded data removed]",
      "text/plain": [
       "<Figure size 640x480 with 1 Axes>"
      ]
     },
     "metadata": {},
     "output_type": "display_data"
    }
   ],
   "source": [
    "hist_learn = history_dict[eval_tests[1]]\n",
    "hist_val = history_dict[eval_tests[3]]\n",
    "\n",
    "epochs = range(1, len(hist_learn) + 1)\n",
    "\n",
    "# draw the loss evolution in blue\n",
    "plt.plot(epochs, hist_learn, 'b--', label=eval_tests[1] )\n",
    "# draw the accuracy evolution in blue\n",
    "plt.plot(epochs, hist_val, 'r--', label=eval_tests[3])\n",
    "plt.title(eval_tests[1])\n",
    "plt.xlabel('Epochs')\n",
    "plt.ylabel(eval_tests[1])\n",
    "plt.legend()\n",
    "\n",
    "plt.show()"
   ]
  },
  {
   "cell_type": "markdown",
   "metadata": {},
   "source": [
    "---\n",
    "## Utilisation du réseau\n",
    "Déterminez la probabilité de réussite :\n",
    " - Pour une femme de 25 ans, qui a acheté un billet à 100£ (115000€ actuels), en voyageant seule en cabine C, en classe 1, quelle est la chance de survie ?\n",
    "   - transformer en vecteur  [classe, genre, age, famille, prix, cabine]\n"
   ]
  },
  {
   "cell_type": "code",
   "execution_count": 81,
   "metadata": {},
   "outputs": [],
   "source": [
    "woman = np.array([1/maxi_classe, 1, 25/maxi_age, 0/maxi_family, 100/maxi_fare,  2/maxi_embarked])"
   ]
  },
  {
   "cell_type": "code",
   "execution_count": 82,
   "metadata": {},
   "outputs": [
    {
     "name": "stdout",
     "output_type": "stream",
     "text": [
      "\u001b[1m1/1\u001b[0m \u001b[32m━━━━━━━━━━━━━━━━━━━━\u001b[0m\u001b[37m\u001b[0m \u001b[1m0s\u001b[0m 25ms/step\n"
     ]
    }
   ],
   "source": [
    "woman_prediction_survie = model.predict(np.array([woman]))"
   ]
  },
  {
   "cell_type": "code",
   "execution_count": 83,
   "metadata": {},
   "outputs": [
    {
     "name": "stdout",
     "output_type": "stream",
     "text": [
      "[[0.99043006]]\n"
     ]
    }
   ],
   "source": [
    "print(woman_prediction_survie)"
   ]
  },
  {
   "cell_type": "markdown",
   "metadata": {},
   "source": [
    " - Pour un homme de 35 ans, qui a acheté un billet à 60£ (70 000€ actuels), en voyageant en en couple en cabine S, en classe 2, quelle est la chance de survie ?\n",
    "   - transformer en vecteur  [classe, genre, age, famille, prix, cabine]"
   ]
  },
  {
   "cell_type": "code",
   "execution_count": 84,
   "metadata": {},
   "outputs": [],
   "source": [
    "man = np.array([2/maxi_classe, 0, 35/maxi_age, 1/maxi_family, 60/maxi_fare,   1/maxi_embarked])"
   ]
  },
  {
   "cell_type": "code",
   "execution_count": 85,
   "metadata": {},
   "outputs": [
    {
     "name": "stdout",
     "output_type": "stream",
     "text": [
      "\u001b[1m1/1\u001b[0m \u001b[32m━━━━━━━━━━━━━━━━━━━━\u001b[0m\u001b[37m\u001b[0m \u001b[1m0s\u001b[0m 13ms/step\n"
     ]
    }
   ],
   "source": [
    "man_prediction_survie = model.predict(np.array([man]))"
   ]
  },
  {
   "cell_type": "code",
   "execution_count": 86,
   "metadata": {},
   "outputs": [
    {
     "name": "stdout",
     "output_type": "stream",
     "text": [
      "[[0.12933433]]\n"
     ]
    }
   ],
   "source": [
    "print(man_prediction_survie)"
   ]
  }
 ],
 "metadata": {
  "colab": {
   "collapsed_sections": [],
   "name": "Copie de TP_DeepLearningM1TNSI.ipynb",
   "provenance": [],
   "toc_visible": true,
   "version": "0.3.2"
  },
  "kernelspec": {
   "display_name": "Python 3 (ipykernel)",
   "language": "python",
   "name": "python3"
  },
  "language_info": {
   "codemirror_mode": {
    "name": "ipython",
    "version": 3
   },
   "file_extension": ".py",
   "mimetype": "text/x-python",
   "name": "python",
   "nbconvert_exporter": "python",
   "pygments_lexer": "ipython3",
   "version": "3.12.2"
  }
 },
 "nbformat": 4,
 "nbformat_minor": 4
}
