{
 "cells": [
  {
   "cell_type": "markdown",
   "metadata": {
    "colab_type": "text",
    "id": "QQ5vas82illV"
   },
   "source": [
    "<a href=\"https://colab.research.google.com/github/EmmanuelADAM/IntelligenceArtificiellePython/blob/master/TPClassificationLivres.ipynb\" target=\"_parent\"><img src=\"https://colab.research.google.com/assets/colab-badge.svg\" alt=\"Open In Colab\"/></a>\n",
    "---\n",
    "# Classification de commentaires de livres (en français)\n",
    "\n",
    "## Collection de données de critiques de films \n",
    "Le tp utilisera l'ensemble de données issues de \n",
    "[French Books Reviews](https://huggingface.co/datasets/Abirate/french_book_reviews) que vous devez télécharger. \n",
    "\n",
    "Ce fichier CSV contient presque 10000 commentaires sur des livres, leurs notes, et l'avis (positif, négatif ou neutre)."
   ]
  },
  {
   "cell_type": "markdown",
   "metadata": {},
   "source": [
    "---\n",
    "Vous vous baserez sur la solution à *[Détection de \"sentiments\"](https://github.com/EmmanuelADAM/IntelligenceArtificiellePython/blob/master/SolutionTPDetectionDeSentiments.ipynb)*.\n",
    "\n",
    "Vous adapterez le code présent pour traiter le texte en français.\n",
    "Simpement, les \"stopwords\" seront chargés ainsi : "
   ]
  },
  {
   "cell_type": "code",
   "execution_count": null,
   "metadata": {},
   "outputs": [],
   "source": [
    "stop_words = set(stopwords.words('french'))"
   ]
  },
  {
   "cell_type": "markdown",
   "metadata": {},
   "source": [
    "---\n",
    "A partir de la colonne 'reader_review' plusieurs classements sont possibles : \n",
    "- soit le classement de valeurs entre -1 et 1 (ce qui correspond à la colonne 'label')\n",
    "- soit le classement par une note entre . et 5 (ce qui correspond à la colonne 'rating')\n",
    "\n",
    "*N.B. la fonction d'activation sigmoid pren ses valeurs dans [0,1], l'activation en utilisant la tangente hyperboliquye 'tanh' prend ses valeus dans [-1, 1]*\n",
    "\n",
    "---"
   ]
  },
  {
   "cell_type": "markdown",
   "metadata": {},
   "source": [
    "## DEBUT DU TP\n",
    "Voici quelques elements de code pour démarrer"
   ]
  },
  {
   "cell_type": "markdown",
   "metadata": {},
   "source": [
    "### les bibliothèques"
   ]
  },
  {
   "cell_type": "code",
   "execution_count": null,
   "metadata": {},
   "outputs": [],
   "source": [
    "##import pour les fichiers et le traitement de données : \n",
    "from os import listdir\n",
    "import pandas as pd\n",
    "from tqdm import tqdm\n",
    "\n",
    "##import pour la creation de tokens\n",
    "import nltk\n",
    "from nltk.corpus import stopwords\n",
    "\n",
    "##import pour la gestion de ponctuation\n",
    "from string import punctuation\n",
    "\n",
    "##import pour une collection spécifique : counter\n",
    "from collections import Counter\n",
    "\n",
    "##import pour les réseaux de neurones : \n",
    "import tensorflow.keras as keras\n",
    "from tensorflow.keras.models import Sequential\n",
    "from tensorflow.keras.layers import Dense\n",
    "from tensorflow.keras import preprocessing\n",
    "\n",
    "##import classique pour les tableaux efficaces\n",
    "import numpy as np\n",
    "\n",
    "#quelques types, optionnels, juste pour un beau code\n",
    "Series = pd.core.series.Series\n",
    "DataFrame = pd.core.frame.DataFrame"
   ]
  },
  {
   "cell_type": "markdown",
   "metadata": {},
   "source": [
    "### Nettoyage des données\n",
    "On passe les textes dans un premier filtres pour ôter les mots qui sembles inutiles (stop words, ponctuation, etc)"
   ]
  },
  {
   "cell_type": "code",
   "execution_count": null,
   "metadata": {},
   "outputs": [],
   "source": [
    "# le code suivant charge l'ensemble des mots non importants (en français) dans la variable stop_words\n",
    "nltk.download(\"stopwords\")\n",
    "stop_words = set(stopwords.words('french'))\n",
    "print(stop_words)"
   ]
  },
  {
   "cell_type": "code",
   "execution_count": null,
   "metadata": {},
   "outputs": [],
   "source": [
    "# nettoie un document en supprimant les mots non importants et la ponctuation\n",
    "# retourne le texte nettoyé sous forme de liste de mots\n",
    "def clean_doc(doc:str)->list:\n",
    "    \"\"\"retourne la liste de mots clés inclus dans le texte doc \n",
    "    qui ne font pas parti des stop_words\"\"\"\n",
    "    tokens = []\n",
    "    if (type(doc)!=float):\n",
    "        # split into tokens by white space  \n",
    "        tokens = doc.split()\n",
    "        # remove punctuation from each token\n",
    "        table = str.maketrans(' ', ' ', punctuation)\n",
    "        tokens = [w.translate(table) for w in tokens]\n",
    "        # remove remaining tokens that are not alphabetic\n",
    "        tokens = [word.lower() for word in tokens if word.isalpha()]\n",
    "        # filter out stop words\n",
    "        tokens = [w for w in tokens if not w in stop_words]\n",
    "        # filter out short tokens\n",
    "        tokens = [word for word in tokens if len(word) > 2]\n",
    "    return tokens\n",
    " "
   ]
  },
  {
   "cell_type": "markdown",
   "metadata": {},
   "source": [
    "### Tests de la récupération de mots clés d'un fichier"
   ]
  },
  {
   "cell_type": "code",
   "execution_count": null,
   "metadata": {},
   "outputs": [],
   "source": [
    "rep = '/content/drive/My Drive/txt_sentoken'\n",
    "# ou sous windows rep:str = \"C:/VOTRE REPERTOIRE/\"\n",
    "# ou sous linux & mac os rep:str = \"/VOTRE REPERTOIRE/\"\n",
    "\n",
    "# recuperer les donnees du fichier grace a pandas\n",
    "filename:str = \"french_books_reviews.json\"\n",
    "datas:DataFrame = pd.read_json(rep+filename)\n",
    "\n",
    "# recuperer la colonne des reviews (cf. le nom des colonnes dans le json ou dans la page decrivant le dataset)\n",
    "reviews:Series = datas['reader_review']"
   ]
  },
  {
   "cell_type": "code",
   "execution_count": null,
   "metadata": {},
   "outputs": [],
   "source": [
    "# TEST DE LA FONCTION clean_doc sur le premier texte\n",
    "tokens:list = clean_doc(reviews[0])\n",
    "print('les 10 premiers mots cles de ', reviews[0])\n",
    "print(tokens[:10])"
   ]
  }
 ],
 "metadata": {
  "colab": {
   "collapsed_sections": [],
   "name": "Copie de TP_DeepLearningM1TNSI.ipynb",
   "provenance": [],
   "toc_visible": true,
   "version": "0.3.2"
  },
  "kernelspec": {
   "display_name": "Python 3 (ipykernel)",
   "language": "python",
   "name": "python3"
  },
  "language_info": {
   "codemirror_mode": {
    "name": "ipython",
    "version": 3
   },
   "file_extension": ".py",
   "mimetype": "text/x-python",
   "name": "python",
   "nbconvert_exporter": "python",
   "pygments_lexer": "ipython3",
   "version": "3.11.7"
  }
 },
 "nbformat": 4,
 "nbformat_minor": 4
}
