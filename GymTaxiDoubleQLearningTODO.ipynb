{
 "cells": [
  {
   "cell_type": "markdown",
   "metadata": {},
   "source": [
    "<a href=\"https://colab.research.google.com/github/EmmanuelADAM/IntelligenceArtificiellePython/blob/master/GymTaxiDoubleQLearningTODO.ipynb\" target=\"_parent\">Ouvrir sous colab</a>"
   ]
  },
  {
   "cell_type": "markdown",
   "metadata": {},
   "source": [
    "# Machine Learning\n",
    "## Appliqué à [Gym.OpenAI](https://gym.openai.com)"
   ]
  },
  {
   "cell_type": "markdown",
   "metadata": {},
   "source": [
    "---\n",
    "## Test de ML par Q-Learning pour atteindre des objectifs\n",
    "\n",
    "**Utilisation de l'environnement gymnasium**\n",
    " (voir la page d'introduction à [gymnasium](https://www.gymlibrary.dev/))."
   ]
  },
  {
   "cell_type": "markdown",
   "metadata": {},
   "source": [
    "#### Si besoin, importer gym"
   ]
  },
  {
   "cell_type": "code",
   "execution_count": 1,
   "metadata": {},
   "outputs": [],
   "source": [
    "#!pip install gymnasium "
   ]
  },
  {
   "cell_type": "markdown",
   "metadata": {
    "tags": []
   },
   "source": [
    "----\n",
    "#### L'environnement Taxi"
   ]
  },
  {
   "cell_type": "code",
   "execution_count": 1,
   "metadata": {},
   "outputs": [],
   "source": [
    "import gymnasium as gym"
   ]
  },
  {
   "cell_type": "markdown",
   "metadata": {},
   "source": [
    "---\n",
    "- Utiliser l'environnement `Taxi-v3`\n",
    "  - le taxi peut se trouver sur une grille 5x5\n",
    "  - le passager peut se trouver : dans le taxi, ou dans un des 4 points B(3),G(1),R(0),Y(2). \n",
    "  - il y a en tout $500$ états possibles : $25\\times 5 \\times 4$\n",
    "  - chaque état est representé par un ensemble: (rangee_taxi, colonne_taxi, position_passager, destination_passager)\n",
    "\n",
    "- les actions sont :\n",
    "  - 0: sud, 1: nord, 2: est, 3: ouest, 4: prendre un passager, 5: déposer un passager\n",
    "\n",
    "- les récompenses sont : \n",
    "    - dépôt d'un passager à destination : +20 points\n",
    "    - action prise en charge incongrue d'un passager : -10 points\n",
    "    - dans les autres cas, chaque état coûte 1 point\n",
    "\n",
    "- Chaque action coûte 1 point, l'arrivée n'en rapporte pas.\n",
    "\n"
   ]
  },
  {
   "cell_type": "markdown",
   "metadata": {},
   "source": [
    "---\n",
    "#### Etude de l'environnement"
   ]
  },
  {
   "cell_type": "code",
   "execution_count": 4,
   "metadata": {},
   "outputs": [
    {
     "name": "stdout",
     "output_type": "stream",
     "text": [
      "specification de l'environnement :  EnvSpec(id='Taxi-v3', entry_point='gymnasium.envs.toy_text.taxi:TaxiEnv', reward_threshold=8, nondeterministic=False, max_episode_steps=200, order_enforce=True, disable_env_checker=False, kwargs={'render_mode': 'ansi'}, namespace=None, name='Taxi', version=3, additional_wrappers=(), vector_entry_point=None)\n",
      "espace d'actions :  Discrete(6)\n",
      "espace d'etats :  Discrete(500)\n",
      "+---------+\n",
      "|\u001b[35mR\u001b[0m: | : :\u001b[43mG\u001b[0m|\n",
      "| : | : : |\n",
      "| : : : : |\n",
      "| | : | : |\n",
      "|Y| : |\u001b[34;1mB\u001b[0m: |\n",
      "+---------+\n",
      "\n",
      "\n",
      "********l'etat initial change à chaque reset***** ici s=  (92, {'prob': 1.0, 'action_mask': array([1, 0, 0, 1, 0, 0], dtype=int8)})\n",
      "--> cela correspond à un taxi en (0,4), un passager partant de B pour R\n",
      "Prendre une action au hasard.. \n",
      "action choisie= prendre un passager ; l'exécuter...\n",
      "nouvel état=92, recompense sur cet etat=-10, etat final (but)=False, etat feuille=False, info={'prob': 1.0, 'action_mask': array([1, 0, 0, 1, 0, 0], dtype=int8)}\n",
      "+---------+\n",
      "|\u001b[35mR\u001b[0m: | : :\u001b[43mG\u001b[0m|\n",
      "| : | : : |\n",
      "| : : : : |\n",
      "| | : | : |\n",
      "|Y| : |\u001b[34;1mB\u001b[0m: |\n",
      "+---------+\n",
      "  (Pickup)\n",
      "\n"
     ]
    }
   ],
   "source": [
    "env = gym.make('Taxi-v3', render_mode='ansi') \n",
    "print(\"specification de l'environnement : \", env.spec)\n",
    "print(\"espace d'actions : \", env.action_space ) # actions discrétisée\n",
    "print(\"espace d'etats : \", env.observation_space) # cellules possibles\n",
    "actions = { 0:'sud', 1:'nord', 2:'est', 3:'ouest', 4:'prendre un passager', 5: 'déposer un passager'}\n",
    "lieux = {0:'R', 1:'G', 2:'Y', 3:'B'}\n",
    "\n",
    "s = env.reset()\n",
    "print(env.render())\n",
    "\n",
    "print(\"********l'etat initial change à chaque reset***** ici s= \",s)\n",
    "x,y,passager_start, passager_end  = env.unwrapped.decode(s[0])\n",
    "print(f\"--> cela correspond à un taxi en ({x},{y}), un passager partant de {lieux[passager_start]} pour {lieux[passager_end]}\")\n",
    "\n",
    "print(\"Prendre une action au hasard.. \")\n",
    "a = env.action_space.sample()\n",
    "print(\"action choisie=\",actions[a],\"; l'exécuter...\")\n",
    "#on recupère des valeurs en retour\n",
    "new_s, reward, done, truncated, info = env.step(a)\n",
    "print(f\"nouvel état={new_s}, recompense sur cet etat={reward}, etat final (but)={done}, etat feuille={truncated}, info={info}\")\n",
    "#note sous python 3.10, la version de gym retourne 5 valeurs : \n",
    "#new_s, reward, done, goal, info = env.step(a)\n",
    "#print(f\"nouvel état={new_s}, recompense sur cet etat={reward}, etat final (but)={done},etat but={goal}, info={info}\")\n",
    "\n",
    "print(env.render())\n"
   ]
  },
  {
   "cell_type": "markdown",
   "metadata": {},
   "source": [
    "---\n",
    "#### Test des actions\n",
    "\n",
    "Sous Gym, `step` permet d'effectuer une action. \n",
    "En retour la fonction retourne une observation sur l'etat d'arrivee, sa recompense, son type (final ou non), et des informations.\n",
    "\n",
    "Avec la librairie gym installé sous python 3.9, step retourne : \n",
    "  - observation = position où se trouve l'agent,\n",
    "  - reward = recompense,\n",
    "  - done = vrai si état final atteint,\n",
    "  - info = probabilité de succès de l'action.\n",
    "  \n",
    "Avec la librairie gym installé sous python 3.10, step retourne : \n",
    "  - observation = position où se trouve l'agent,\n",
    "  - reward = recompense,\n",
    "  - done = vrai si état final atteint,\n",
    "  - goal = vrai si but atteint,\n",
    "  - info = probabilité de succès de l'action."
   ]
  },
  {
   "cell_type": "markdown",
   "metadata": {},
   "source": [
    "---\n",
    "### <font color=\"red\">Résolution</font>\n"
   ]
  },
  {
   "cell_type": "markdown",
   "metadata": {},
   "source": [
    "---\n",
    "## Exemple d'algorithme"
   ]
  },
  {
   "cell_type": "code",
   "execution_count": null,
   "metadata": {},
   "outputs": [],
   "source": [
    "import numpy as np\n",
    "import random as rnd\n",
    "from tqdm import tqdm\n",
    "\n",
    "env = gym.make('Taxi-v3', render_mode='ansi') \n",
    "actions = { 0:'sud', 1:'nord', 2:'est', 3:'ouest', 4:'prendre un passager', 5: 'déposer un passager'}\n",
    "lieux = {0:'R', 1:'G', 2:'Y', 3:'B'}\n"
   ]
  },
  {
   "cell_type": "code",
   "execution_count": null,
   "metadata": {},
   "outputs": [],
   "source": [
    "# initialiser la Q-Table\n",
    "# autant de cases que l'environnement en possède, \n",
    "# contenant autant de valeurs que d'actions possibles\n",
    "# donc ici une matrice 500 x 6\n",
    "QA = np.zeros([env.observation_space.n,env.action_space.n])\n",
    "QB = np.zeros([env.observation_space.n,env.action_space.n])"
   ]
  },
  {
   "cell_type": "markdown",
   "metadata": {},
   "source": [
    "### Mise en place des paramètres\n",
    "\n",
    "Pour rappel avec l'algo de Double Q Learning, on réalise, plus ou moins alternativement :\n",
    "  - $a^* \\gets  argmax_{a} QA(s', a)$,\n",
    "  - $Q_A(s,a) \\gets Q_A(s,a) + \\lambda \\times (r + \\gamma \\times Q_B(s', a^*))-  Q_A(s,a))$ <br>\n",
    "ou<br>\n",
    "  - $b^* \\gets  argmax_{a} Q_B(s', a)$\n",
    "  - $Q_B(s,a) \\gets Q_B(s,a) + \\lambda \\times (r + \\gamma \\times QA(s', b^*))-  Q_B(s,a))$<br>\n",
    "avec \n",
    "    - $\\lambda$ : coef d'apprentissage\n",
    "    - $\\gamma$ : coef de réduction \n",
    "    - $r$ : récompense\n",
    "\n",
    "Cette équation note la qualité de l'action *a* à partir de l'état *s* alternativement dans les tables $Q_A$ et $Q_B$.\n",
    "\n",
    "Initialement, les actions sont choisies aléatoirement et notées; puis au fil des tests les actions les plus valuées sont choisies. Pour cela, un tirage est effectuée, s'il est inférieur à un $\\epsilon$, le choix est aléatoire. Cet $\\epsilon$ décroit au fil des tests."
   ]
  },
  {
   "cell_type": "code",
   "execution_count": null,
   "metadata": {},
   "outputs": [],
   "source": [
    "lambda_learn = .2\n",
    "gamma = 0.99\n",
    "epsilon = 1.\n",
    "reduc_epsilon = 0.99"
   ]
  },
  {
   "cell_type": "markdown",
   "metadata": {},
   "source": [
    "#### Récupérer la meilleure action\n",
    "`argmax(tab)` retourne l'indice de la plus grande valeur du tableau.\n",
    "\n",
    "`argmax(Q[2])` retourne donc le no de l'action la plus intéressante à partir de l'état 2."
   ]
  },
  {
   "cell_type": "markdown",
   "metadata": {},
   "source": [
    "## L'algorithme de DoubleQ-Learning "
   ]
  },
  {
   "cell_type": "code",
   "execution_count": null,
   "metadata": {},
   "outputs": [
    {
     "data": {
      "text/plain": [
       "0.0"
      ]
     },
     "execution_count": 7,
     "metadata": {},
     "output_type": "execute_result"
    }
   ],
   "source": [
    "np.max(QA[0, :])"
   ]
  },
  {
   "cell_type": "code",
   "execution_count": null,
   "metadata": {},
   "outputs": [],
   "source": [
    "##algorithme de Q-Learning simple\n",
    "def double_q_learn(nb_actions=64):\n",
    "    \"\"\"\n",
    "    effectue un cycle d'apprentissage/recherche de solution' via le Q-Learning simple\n",
    "\n",
    "    Parameters\n",
    "    ----------\n",
    "    epoch : no de l'etape\n",
    "\n",
    "    Returns\n",
    "    -------\n",
    "    total_r : recompense totale\n",
    "    r : recompense du dernier etat rencontre\n",
    "    states_list : liste des etats traverses\n",
    "    actions_list : liste des actions effectuees\n",
    "    goal : but atteint\n",
    "\n",
    "    \"\"\"\n",
    "    s = env.reset()\n",
    "    #sous python 3.10, ajouter\n",
    "    s = s[0]\n",
    "    total_r = 0\n",
    "    done = False\n",
    "    step = 0\n",
    "    states_list = []\n",
    "    actions_list = []\n",
    "\n",
    "    # The Q-Table learning algorithm\n",
    "    while not done and step < nb_actions:\n",
    "        step += 1\n",
    "        # Choose an action by greedily (with noise) picking from Q table\n",
    "        actionsA = QA[s, :]\n",
    "        actionsB = QB[s, :]\n",
    "        actions = actionsA + actionsB\n",
    "        if rnd.random()<epsilon or np.max(actions)==0:\n",
    "            a = rnd.randint(0, env.action_space.n-1)\n",
    "        else:\n",
    "            a = np.argmax(actions)\n",
    "\n",
    "        # Get new state and reward from environment\n",
    "        new_state, r, done, _, _ = env.step(a)\n",
    "\n",
    "        # Q-Learning\n",
    "        if (rnd.random() < 0.5):\n",
    "            future_actions = QA[new_state, :]\n",
    "            #si aucune future action intéressante, en prendre une au hasard\n",
    "            if max(future_actions==0): future_actions = QB[new_state, :]\n",
    "            if max(future_actions==0): aeto = env.action_space.sample()\n",
    "            else: aeto= np.argmax(future_actions)\n",
    "            QA[s, a] = QA[s, a] + lambda_learn*(r + gamma * QA[new_state, aeto] - QA[s, a])\n",
    "        else:\n",
    "            future_actions = QB[new_state, :]\n",
    "            #si aucune future action intéressante, en prendre une au hasard\n",
    "            if max(future_actions==0): future_actions = QA[new_state, :]\n",
    "            if max(future_actions==0): beto = env.action_space.sample()\n",
    "            else: beto= np.argmax(future_actions)\n",
    "            QB[s, a] = QB[s, a] + lambda_learn*(r + gamma * QB[new_state, beto] - QB[s, a])\n",
    "\n",
    "        s = new_state\n",
    "        total_r = total_r + r\n",
    "        states_list.append(s)\n",
    "        actions_list.append(a)\n",
    "    return total_r, r, states_list, actions_list, done"
   ]
  },
  {
   "cell_type": "code",
   "execution_count": null,
   "metadata": {},
   "outputs": [],
   "source": [
    "def try_qlearn(nb_episodes = 4000, nb_actions = 64):\n",
    "    \"\"\"\n",
    "    lance nb_episodes fois un cycle de Q-Learning et memorise chaque solution trouvee\n",
    "\n",
    "    Returns\n",
    "    -------\n",
    "    solutions_list : liste des solutions (no, recompense totale, liste des etats, liste des actions)\n",
    "    \"\"\"\n",
    "    global epsilon\n",
    "    epsilon = 1.\n",
    "    states_list = []\n",
    "    actions_list = []\n",
    "    solutions_list = []\n",
    "    epsilon = 1\n",
    "    for i in tqdm(range(nb_episodes)):\n",
    "        # Reset environment and get first new observation\n",
    "        total_r, r, states_list, actions_list, done = double_q_learn(nb_actions)\n",
    "        epsilon = epsilon * reduc_epsilon\n",
    "        # memorize if a solution has been found\n",
    "        if done: solutions_list.append((i, total_r, states_list, actions_list))\n",
    "    if(len(solutions_list) == 0): print(\"aucune solution trouvee !!\")\n",
    "    return solutions_list"
   ]
  },
  {
   "cell_type": "markdown",
   "metadata": {},
   "source": [
    "## Affichage de du résultat\n",
    "Affichons maintenant la liste des actions via l'environnement Gymnasium"
   ]
  },
  {
   "cell_type": "code",
   "execution_count": null,
   "metadata": {},
   "outputs": [],
   "source": [
    "def exemple_resolution():\n",
    "    \"\"\" affiche un exemple de solution calculée à partir d'une des tables Q\"\"\"\n",
    "    s = env.reset()\n",
    "    s = s[0]\n",
    "    x,y,depart_passager, arrivee_passager = env.unwrapped.decode(s)\n",
    "    print(f\"à partir de ({x},{y}), prendre un client en {lieux[depart_passager]} pour l'amener en {lieux[arrivee_passager]}\")\n",
    "    goal = False\n",
    "    while not goal:\n",
    "        a = np.argmax(QA[s, :])\n",
    "        s,_,goal,_,_ = env.step(a)\n",
    "        x,y,pos_passager, but_passager = env.unwrapped.decode(s)\n",
    "        goal = pos_passager==but_passager\n",
    "        print(env.render())"
   ]
  },
  {
   "cell_type": "code",
   "execution_count": null,
   "metadata": {},
   "outputs": [],
   "source": [
    "def reset():\n",
    "    global epsilon, lambda_learn, gamma, reduc_epsilon\n",
    "    lambda_learn = .3\n",
    "    gamma = 0.99\n",
    "    epsilon = 1.\n",
    "    reduc_epsilon = 0.999\n",
    "    QA.fill(0)\n",
    "    QB.fill(0)"
   ]
  },
  {
   "cell_type": "code",
   "execution_count": null,
   "metadata": {},
   "outputs": [
    {
     "name": "stderr",
     "output_type": "stream",
     "text": [
      "100%|██████████| 15000/15000 [00:06<00:00, 2389.71it/s]\n"
     ]
    }
   ],
   "source": [
    "##ON LANCE LA RESOLUTION : \n",
    "reset()\n",
    "solutions = try_qlearn(15000, 50)\n",
    "if(len(solutions)==0):print(\"pas de solution...\")\n",
    "#relancer le bloc si pas de solution trouvee"
   ]
  },
  {
   "cell_type": "code",
   "execution_count": null,
   "metadata": {},
   "outputs": [
    {
     "name": "stdout",
     "output_type": "stream",
     "text": [
      "à partir de (4,2), prendre un client en G pour l'amener en R\n",
      "+---------+\n",
      "|\u001b[35mR\u001b[0m: | : :\u001b[34;1mG\u001b[0m|\n",
      "| : | : : |\n",
      "| : : : : |\n",
      "| | :\u001b[43m \u001b[0m| : |\n",
      "|Y| : |B: |\n",
      "+---------+\n",
      "  (North)\n",
      "\n",
      "+---------+\n",
      "|\u001b[35mR\u001b[0m: | : :\u001b[34;1mG\u001b[0m|\n",
      "| : | : : |\n",
      "| : :\u001b[43m \u001b[0m: : |\n",
      "| | : | : |\n",
      "|Y| : |B: |\n",
      "+---------+\n",
      "  (North)\n",
      "\n",
      "+---------+\n",
      "|\u001b[35mR\u001b[0m: | : :\u001b[34;1mG\u001b[0m|\n",
      "| : |\u001b[43m \u001b[0m: : |\n",
      "| : : : : |\n",
      "| | : | : |\n",
      "|Y| : |B: |\n",
      "+---------+\n",
      "  (North)\n",
      "\n",
      "+---------+\n",
      "|\u001b[35mR\u001b[0m: | : :\u001b[34;1mG\u001b[0m|\n",
      "| : | :\u001b[43m \u001b[0m: |\n",
      "| : : : : |\n",
      "| | : | : |\n",
      "|Y| : |B: |\n",
      "+---------+\n",
      "  (East)\n",
      "\n",
      "+---------+\n",
      "|\u001b[35mR\u001b[0m: | :\u001b[43m \u001b[0m:\u001b[34;1mG\u001b[0m|\n",
      "| : | : : |\n",
      "| : : : : |\n",
      "| | : | : |\n",
      "|Y| : |B: |\n",
      "+---------+\n",
      "  (North)\n",
      "\n",
      "+---------+\n",
      "|\u001b[35mR\u001b[0m: | : :\u001b[34;1m\u001b[43mG\u001b[0m\u001b[0m|\n",
      "| : | : : |\n",
      "| : : : : |\n",
      "| | : | : |\n",
      "|Y| : |B: |\n",
      "+---------+\n",
      "  (East)\n",
      "\n",
      "+---------+\n",
      "|\u001b[35mR\u001b[0m: | : :\u001b[42mG\u001b[0m|\n",
      "| : | : : |\n",
      "| : : : : |\n",
      "| | : | : |\n",
      "|Y| : |B: |\n",
      "+---------+\n",
      "  (Pickup)\n",
      "\n",
      "+---------+\n",
      "|\u001b[35mR\u001b[0m: | : :G|\n",
      "| : | : :\u001b[42m_\u001b[0m|\n",
      "| : : : : |\n",
      "| | : | : |\n",
      "|Y| : |B: |\n",
      "+---------+\n",
      "  (South)\n",
      "\n",
      "+---------+\n",
      "|\u001b[35mR\u001b[0m: | : :G|\n",
      "| : | :\u001b[42m_\u001b[0m: |\n",
      "| : : : : |\n",
      "| | : | : |\n",
      "|Y| : |B: |\n",
      "+---------+\n",
      "  (West)\n",
      "\n",
      "+---------+\n",
      "|\u001b[35mR\u001b[0m: | : :G|\n",
      "| : | : : |\n",
      "| : : :\u001b[42m_\u001b[0m: |\n",
      "| | : | : |\n",
      "|Y| : |B: |\n",
      "+---------+\n",
      "  (South)\n",
      "\n",
      "+---------+\n",
      "|\u001b[35mR\u001b[0m: | : :G|\n",
      "| : | : : |\n",
      "| : :\u001b[42m_\u001b[0m: : |\n",
      "| | : | : |\n",
      "|Y| : |B: |\n",
      "+---------+\n",
      "  (West)\n",
      "\n",
      "+---------+\n",
      "|\u001b[35mR\u001b[0m: | : :G|\n",
      "| : | : : |\n",
      "| :\u001b[42m_\u001b[0m: : : |\n",
      "| | : | : |\n",
      "|Y| : |B: |\n",
      "+---------+\n",
      "  (West)\n",
      "\n",
      "+---------+\n",
      "|\u001b[35mR\u001b[0m: | : :G|\n",
      "| :\u001b[42m_\u001b[0m| : : |\n",
      "| : : : : |\n",
      "| | : | : |\n",
      "|Y| : |B: |\n",
      "+---------+\n",
      "  (North)\n",
      "\n",
      "+---------+\n",
      "|\u001b[35mR\u001b[0m: | : :G|\n",
      "|\u001b[42m_\u001b[0m: | : : |\n",
      "| : : : : |\n",
      "| | : | : |\n",
      "|Y| : |B: |\n",
      "+---------+\n",
      "  (West)\n",
      "\n",
      "+---------+\n",
      "|\u001b[35m\u001b[42mR\u001b[0m\u001b[0m: | : :G|\n",
      "| : | : : |\n",
      "| : : : : |\n",
      "| | : | : |\n",
      "|Y| : |B: |\n",
      "+---------+\n",
      "  (North)\n",
      "\n",
      "+---------+\n",
      "|\u001b[35m\u001b[34;1m\u001b[43mR\u001b[0m\u001b[0m\u001b[0m: | : :G|\n",
      "| : | : : |\n",
      "| : : : : |\n",
      "| | : | : |\n",
      "|Y| : |B: |\n",
      "+---------+\n",
      "  (Dropoff)\n",
      "\n"
     ]
    }
   ],
   "source": [
    "##ON TESTE UNE RESOLUTION : \n",
    "if(len(solutions)>0):exemple_resolution()"
   ]
  },
  {
   "cell_type": "code",
   "execution_count": null,
   "metadata": {},
   "outputs": [],
   "source": [
    "import matplotlib.pyplot as plt\n",
    "def plot_frequence_sol(solutions_list):\n",
    "    \"\"\"\n",
    "    dessine la frequence de solution trouvees\n",
    "    Parameters\n",
    "    ----------\n",
    "    solutions : liste des solutions\n",
    "\n",
    "    Returns\n",
    "    -------\n",
    "    None.\n",
    "\n",
    "    \"\"\"\n",
    "    xs = [x[0] for x in solutions_list]\n",
    "    ys = [y[1] for y in solutions_list]\n",
    "    plt.figure(figsize=(10, 4))\n",
    "    plt.plot(xs, ys, '.')\n",
    "    plt.show()\n",
    "\n"
   ]
  },
  {
   "cell_type": "code",
   "execution_count": null,
   "metadata": {},
   "outputs": [
    {
     "data": {
      "image/png": "[encoded data removed]",
      "text/plain": [
       "<Figure size 1000x400 with 1 Axes>"
      ]
     },
     "metadata": {},
     "output_type": "display_data"
    }
   ],
   "source": [
    "plot_frequence_sol(solutions)"
   ]
  },
  {
   "cell_type": "markdown",
   "metadata": {},
   "source": [
    "np.round(QA, 3)"
   ]
  },
  {
   "cell_type": "markdown",
   "metadata": {},
   "source": [
    "Plus on relance les tests, plus on a de chance de trouver une solution peu coûteuse apparaît..."
   ]
  }
 ],
 "metadata": {
  "kernelspec": {
   "display_name": "Python 3",
   "language": "python",
   "name": "python3"
  },
  "language_info": {
   "codemirror_mode": {
    "name": "ipython",
    "version": 3
   },
   "file_extension": ".py",
   "mimetype": "text/x-python",
   "name": "python",
   "nbconvert_exporter": "python",
   "pygments_lexer": "ipython3",
   "version": "3.12.2"
  }
 },
 "nbformat": 4,
 "nbformat_minor": 4
}
